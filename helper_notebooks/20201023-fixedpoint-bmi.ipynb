{
 "cells": [
  {
   "cell_type": "code",
   "execution_count": 1,
   "metadata": {
    "colab": {
     "base_uri": "https://localhost:8080/"
    },
    "executionInfo": {
     "elapsed": 1771,
     "status": "ok",
     "timestamp": 1607560961363,
     "user": {
      "displayName": "Maneeshika Madduri",
      "photoUrl": "",
      "userId": "17480917105839477639"
     },
     "user_tz": 360
    },
    "id": "KQ8wbKlCsF8N",
    "outputId": "69ff5175-b279-4724-ca4d-227f991c1b0b"
   },
   "outputs": [
    {
     "name": "stdout",
     "output_type": "stream",
     "text": [
      "Automatic pdb calling has been turned OFF\n"
     ]
    }
   ],
   "source": [
    "# \"magic\" commands, prefaced with \"%\", changes settings in the notebook\n",
    "\n",
    "# this ensures plots are embedded in notebook web page\n",
    "%matplotlib inline\n",
    "\n",
    "# pdb = Python debugger, so this command turns the debugger OFF\n",
    "%pdb off\n",
    "\n",
    "# numpy = numerical Python, implements arrays (/ matrices)\n",
    "import numpy as np\n",
    "# limit number of decimal places printed for floating-point numbers\n",
    "np.set_printoptions(precision=3)\n",
    "\n",
    "# scipy = scientific Python, implements operations on arrays / matrices\n",
    "import scipy as sp\n",
    "# linalg = linear algebra, implements eigenvalues, matrix inverse, etc\n",
    "from scipy import linalg as la\n",
    "# optimize = optimization, root finding, etc\n",
    "from scipy import optimize as op\n",
    "\n",
    "# produce matlab-style plots\n",
    "import matplotlib as mpl\n",
    "# increase font size on plots\n",
    "mpl.rc('font',**{'size':18})\n",
    "# use LaTeX to render symbols\n",
    "mpl.rc('text',usetex=False)\n",
    "# animation\n",
    "from matplotlib import animation as ani\n",
    "# Matlab-style plotting\n",
    "import matplotlib.pyplot as plt\n",
    "\n",
    "# symbolic computation, i.e. computer algebra (like Mathematica, Wolfram Alpha)\n",
    "import sympy as sym\n",
    "from sympy import init_printing\n",
    "from sympy import symbols, diff, Matrix, solve"
   ]
  },
  {
   "cell_type": "code",
   "execution_count": 2,
   "metadata": {
    "colab": {
     "base_uri": "https://localhost:8080/"
    },
    "executionInfo": {
     "elapsed": 2844,
     "status": "ok",
     "timestamp": 1607560962454,
     "user": {
      "displayName": "Maneeshika Madduri",
      "photoUrl": "",
      "userId": "17480917105839477639"
     },
     "user_tz": 360
    },
    "id": "nRu__4Mdr3wC",
    "outputId": "e50b1e32-e58e-4fc1-cc5b-32398771dd75"
   },
   "outputs": [
    {
     "name": "stdout",
     "output_type": "stream",
     "text": [
      "Jupyter Notebook\n"
     ]
    }
   ],
   "source": [
    "# test whether this is a Colaboratory or Jupyter notebook\n",
    "try:\n",
    "  import google.colab\n",
    "  COLAB = True\n",
    "  print('Colaboratory Notebook')\n",
    "except:\n",
    "  COLAB = False\n",
    "  print('Jupyter Notebook')"
   ]
  },
  {
   "cell_type": "code",
   "execution_count": 3,
   "metadata": {},
   "outputs": [],
   "source": [
    "# Colab notebook\n",
    "if COLAB:  \n",
    "  # render SymPy equations nicely in Colaboratory Notebook\n",
    "  def colab_latex_printer(exp,**options):\n",
    "    from google.colab.output._publish import javascript\n",
    "    url = \"https://cdnjs.cloudflare.com/ajax/libs/mathjax/2.7.3/latest.js?config=default\"\n",
    "    javascript(url=url)\n",
    "    return sym.printing.latex(exp,**options)\n",
    "  \n",
    "  sym.init_printing(use_latex=\"mathjax\",latex_printer=colab_latex_printer)\n",
    "\n",
    "# Jupyter notebook\n",
    "else:\n",
    "  init_printing(use_latex='mathjax')"
   ]
  },
  {
   "cell_type": "code",
   "execution_count": 4,
   "metadata": {
    "colab": {
     "base_uri": "https://localhost:8080/",
     "height": 38
    },
    "executionInfo": {
     "elapsed": 2827,
     "status": "ok",
     "timestamp": 1607560962457,
     "user": {
      "displayName": "Maneeshika Madduri",
      "photoUrl": "",
      "userId": "17480917105839477639"
     },
     "user_tz": 360
    },
    "id": "QAAYneYnanf3",
    "outputId": "bdba1782-dc2c-4aaa-afb5-531f38ccb83d"
   },
   "outputs": [
    {
     "data": {
      "text/latex": [
       "$\\displaystyle \\left( k, \\  w, \\  \\tau, \\  \\gamma, \\  \\gamma_{k}, \\  \\gamma_{w}, \\  \\lambda_{k}, \\  \\lambda_{w}, \\  \\lambda, \\  \\alpha, \\  f, \\  a, \\  b\\right)$"
      ],
      "text/plain": [
       "(k, w, \\tau, \\gamma, \\gammaₖ, \\gamma_w, \\lambdaₖ, \\lambda_w, \\lambda, \\alpha, \n",
       "f, a, b)"
      ]
     },
     "execution_count": 4,
     "metadata": {},
     "output_type": "execute_result"
    }
   ],
   "source": [
    "k, w, tau, gam, gam_k, gam_w, lam_k, lam_w, lam, alpha, f, a, b = symbols(r'k w \\tau \\gamma \\gamma_k \\gamma_w \\lambda_k \\lambda_w \\lambda \\alpha f a b')\n",
    "k,w,tau,gam,gam_k,gam_w, lam_k, lam_w, lam, alpha, f, a, b"
   ]
  },
  {
   "cell_type": "code",
   "execution_count": 5,
   "metadata": {
    "id": "iNYm0HBY1PNf"
   },
   "outputs": [],
   "source": [
    "lam, lam_k, lam_w = sym.symbols(r'\\lambda \\lambda_k \\lambda_w',nonnegative=True)"
   ]
  },
  {
   "cell_type": "code",
   "execution_count": 6,
   "metadata": {
    "id": "bIBzMM43a9oL"
   },
   "outputs": [],
   "source": [
    "# e_scl =  (((tau**2)*(1 - k*w)**2) + (sig_w * w**2) + (sig_k*k**2)) / 2\n",
    "\n",
    "e_scl =   (tau - (k*(w*tau)))**2 + (lam_w * w**2) + (lam_k*k**2)\n",
    "# e_scl =   (tau - (k*(w*tau + b)))**2 + (sig_w * w**2) + (sig_k*k**2)\n",
    "# sig_w and sig_k are penalty parameters\n",
    "# 1/2 term added to make the derivative simpler "
   ]
  },
  {
   "cell_type": "code",
   "execution_count": 7,
   "metadata": {
    "colab": {
     "base_uri": "https://localhost:8080/",
     "height": 39
    },
    "executionInfo": {
     "elapsed": 2818,
     "status": "ok",
     "timestamp": 1607560962470,
     "user": {
      "displayName": "Maneeshika Madduri",
      "photoUrl": "",
      "userId": "17480917105839477639"
     },
     "user_tz": 360
    },
    "id": "e9UNx0w1tegK",
    "outputId": "8ed1e418-4b97-4593-cc4f-f90a8cfa30be"
   },
   "outputs": [
    {
     "data": {
      "text/latex": [
       "$\\displaystyle \\lambda_{k} k^{2} + \\lambda_{w} w^{2} + \\left(- \\tau k w + \\tau\\right)^{2}$"
      ],
      "text/plain": [
       "          2              2                     2\n",
       "\\lambdaₖ⋅k  + \\lambda_w⋅w  + (-\\tau⋅k⋅w + \\tau) "
      ]
     },
     "execution_count": 7,
     "metadata": {},
     "output_type": "execute_result"
    }
   ],
   "source": [
    "e_scl"
   ]
  },
  {
   "cell_type": "code",
   "execution_count": 8,
   "metadata": {
    "id": "DrRdJ9R4tlsD"
   },
   "outputs": [],
   "source": [
    "# First Derivative\n",
    "de_dk = diff(e_scl,k)\n",
    "de_dw = diff(e_scl, w)\n",
    "\n",
    "# Second Derivative\n",
    "de2_d2k = diff(de_dk, k)\n",
    "de2_dwdk = diff(de_dk, w)\n",
    "de2_d2w = diff(de_dw, w)\n",
    "de2_dkdw = diff(de_dw, k)"
   ]
  },
  {
   "cell_type": "code",
   "execution_count": 9,
   "metadata": {
    "colab": {
     "base_uri": "https://localhost:8080/",
     "height": 38
    },
    "executionInfo": {
     "elapsed": 3358,
     "status": "ok",
     "timestamp": 1607560963057,
     "user": {
      "displayName": "Maneeshika Madduri",
      "photoUrl": "",
      "userId": "17480917105839477639"
     },
     "user_tz": 360
    },
    "id": "I7umGb1qx1hR",
    "outputId": "c3b8e159-0a76-4605-c413-7cbb06ed032d"
   },
   "outputs": [
    {
     "data": {
      "text/latex": [
       "$\\displaystyle \\left[ \\left[ 2 \\lambda_{k} + 2 \\tau^{2} w^{2}, \\  2 \\tau^{2} k w - 2 \\tau \\left(- \\tau k w + \\tau\\right)\\right], \\  \\left[ 2 \\tau^{2} k w - 2 \\tau \\left(- \\tau k w + \\tau\\right), \\  2 \\lambda_{w} + 2 \\tau^{2} k^{2}\\right]\\right]$"
      ],
      "text/plain": [
       "⎡⎡                   2  2        2                                ⎤  ⎡      2 \n",
       "⎣⎣2⋅\\lambdaₖ + 2⋅\\tau ⋅w , 2⋅\\tau ⋅k⋅w - 2⋅\\tau⋅(-\\tau⋅k⋅w + \\tau)⎦, ⎣2⋅\\tau ⋅\n",
       "\n",
       "                                                     2  2⎤⎤\n",
       "k⋅w - 2⋅\\tau⋅(-\\tau⋅k⋅w + \\tau), 2⋅\\lambda_w + 2⋅\\tau ⋅k ⎦⎦"
      ]
     },
     "execution_count": 9,
     "metadata": {},
     "output_type": "execute_result"
    }
   ],
   "source": [
    "de2 = [[de2_d2k, de2_dwdk],[de2_dkdw, de2_d2w]]\n",
    "de2\n"
   ]
  },
  {
   "cell_type": "code",
   "execution_count": 10,
   "metadata": {
    "colab": {
     "base_uri": "https://localhost:8080/",
     "height": 38
    },
    "executionInfo": {
     "elapsed": 3328,
     "status": "ok",
     "timestamp": 1607560963058,
     "user": {
      "displayName": "Maneeshika Madduri",
      "photoUrl": "",
      "userId": "17480917105839477639"
     },
     "user_tz": 360
    },
    "id": "u5QZKiZsi9Ub",
    "outputId": "5030722f-706f-4518-8b53-c28578d1d392"
   },
   "outputs": [
    {
     "data": {
      "text/latex": [
       "$\\displaystyle \\left[ 2 \\lambda_{k} k - 2 \\tau w \\left(- \\tau k w + \\tau\\right), \\  2 \\lambda_{w} w - 2 \\tau k \\left(- \\tau k w + \\tau\\right)\\right]$"
      ],
      "text/plain": [
       "[2⋅\\lambdaₖ⋅k - 2⋅\\tau⋅w⋅(-\\tau⋅k⋅w + \\tau), 2⋅\\lambda_w⋅w - 2⋅\\tau⋅k⋅(-\\tau⋅k\n",
       "⋅w + \\tau)]"
      ]
     },
     "execution_count": 10,
     "metadata": {},
     "output_type": "execute_result"
    }
   ],
   "source": [
    "de = [de_dk, de_dw]\n",
    "de\n",
    "# non-linear dynamics -- b/c of w^2 and k^2 \n",
    "# w/k are evolving continuously in time based on gradient"
   ]
  },
  {
   "cell_type": "markdown",
   "metadata": {
    "id": "Zyq9N5F-630p"
   },
   "source": [
    "Continuous-time gradient descent has dynamics:\n",
    "\n",
    "$$ \\dot{x} = - Dp(x) = f(x), $$"
   ]
  },
  {
   "cell_type": "markdown",
   "metadata": {
    "id": "nET3YGRi7oOa"
   },
   "source": [
    "So the Jacobian of the dynamics is determined by the Hessian of error $e$:\n",
    "\n",
    "$$ Df(x) = - D^2 p(x). $$\n",
    "\n",
    "At a minimum $x_0$, the eigenvalues of $D^2 e(x_0)$ are positive, so the eigenvalues of $Df(x_0)$ are negative.\n",
    "\n",
    "Note: The Hessian matrix of a function f is the Jacobian matrix of the gradient of the function: H(f(x)) = J(∇f(x)). (https://en.wikipedia.org/wiki/Hessian_matrix)\n",
    "\n"
   ]
  },
  {
   "cell_type": "code",
   "execution_count": 11,
   "metadata": {
    "colab": {
     "base_uri": "https://localhost:8080/",
     "height": 58
    },
    "executionInfo": {
     "elapsed": 3304,
     "status": "ok",
     "timestamp": 1607560963059,
     "user": {
      "displayName": "Maneeshika Madduri",
      "photoUrl": "",
      "userId": "17480917105839477639"
     },
     "user_tz": 360
    },
    "id": "o2f4c-ykt4lW",
    "outputId": "ef0c0d7d-cef7-45e1-d120-eeab5aad5b94"
   },
   "outputs": [
    {
     "data": {
      "text/latex": [
       "$\\displaystyle \\left[\\begin{matrix}1 & 0\\\\0 & 1\\end{matrix}\\right]$"
      ],
      "text/plain": [
       "⎡1  0⎤\n",
       "⎢    ⎥\n",
       "⎣0  1⎦"
      ]
     },
     "execution_count": 11,
     "metadata": {},
     "output_type": "execute_result"
    }
   ],
   "source": [
    "Gamma = sym.Matrix.diag([1,1])\n",
    "Gamma"
   ]
  },
  {
   "cell_type": "code",
   "execution_count": 12,
   "metadata": {
    "colab": {
     "base_uri": "https://localhost:8080/",
     "height": 58
    },
    "executionInfo": {
     "elapsed": 3278,
     "status": "ok",
     "timestamp": 1607560963061,
     "user": {
      "displayName": "Maneeshika Madduri",
      "photoUrl": "",
      "userId": "17480917105839477639"
     },
     "user_tz": 360
    },
    "id": "-etitFI-7AwS",
    "outputId": "f282d9dc-87aa-435f-ea42-0c5a58d1789e"
   },
   "outputs": [
    {
     "data": {
      "text/latex": [
       "$\\displaystyle \\left[\\begin{matrix}- 2 \\lambda_{k} k + 2 \\tau w \\left(- \\tau k w + \\tau\\right)\\\\- 2 \\lambda_{w} w + 2 \\tau k \\left(- \\tau k w + \\tau\\right)\\end{matrix}\\right]$"
      ],
      "text/plain": [
       "⎡-2⋅\\lambdaₖ⋅k + 2⋅\\tau⋅w⋅(-\\tau⋅k⋅w + \\tau) ⎤\n",
       "⎢                                            ⎥\n",
       "⎣-2⋅\\lambda_w⋅w + 2⋅\\tau⋅k⋅(-\\tau⋅k⋅w + \\tau)⎦"
      ]
     },
     "execution_count": 12,
     "metadata": {},
     "output_type": "execute_result"
    }
   ],
   "source": [
    "# sets f(x) = -De(x)\n",
    "f = -Gamma*sym.Matrix(de)\n",
    "f"
   ]
  },
  {
   "cell_type": "code",
   "execution_count": 13,
   "metadata": {
    "id": "m7tTudAJ0jF6"
   },
   "outputs": [],
   "source": [
    "# substitutes tau = 1, k_sig = w_sig = sig\n",
    "\n",
    "subs = {lam_k:lam, lam_w:lam}"
   ]
  },
  {
   "cell_type": "markdown",
   "metadata": {
    "id": "wSk_PkSnkmJl"
   },
   "source": [
    "Step 1: Solving for fixed points ($\\bar{x}$ such that $\\frac{d}{dt}$ evaluated at $\\bar{x}$ = 0, or x so that the first derivative of $\\frac{df(x)}{dt}$ = 0)"
   ]
  },
  {
   "cell_type": "code",
   "execution_count": 14,
   "metadata": {
    "colab": {
     "base_uri": "https://localhost:8080/",
     "height": 99
    },
    "executionInfo": {
     "elapsed": 3718,
     "status": "ok",
     "timestamp": 1607560963529,
     "user": {
      "displayName": "Maneeshika Madduri",
      "photoUrl": "",
      "userId": "17480917105839477639"
     },
     "user_tz": 360
    },
    "id": "1IHUE0x-xy5r",
    "outputId": "74d39bd2-77a3-4533-824a-b521a9fdd975"
   },
   "outputs": [
    {
     "data": {
      "text/latex": [
       "$\\displaystyle \\left[ \\left( 0, \\  0\\right), \\  \\left( - \\frac{\\lambda_{w} \\left(\\lambda_{k} + \\tau^{2} \\left(- \\frac{\\sqrt{\\lambda_{k}}}{\\sqrt{\\lambda_{w}}} - \\frac{\\lambda_{k}}{\\tau^{2}}\\right)\\right) \\sqrt{- \\frac{\\sqrt{\\lambda_{k}}}{\\sqrt{\\lambda_{w}}} - \\frac{\\lambda_{k}}{\\tau^{2}}}}{\\lambda_{k} \\tau^{2}}, \\  - \\sqrt{- \\frac{\\sqrt{\\lambda_{k}}}{\\sqrt{\\lambda_{w}}} - \\frac{\\lambda_{k}}{\\tau^{2}}}\\right), \\  \\left( \\frac{\\lambda_{w} \\left(\\lambda_{k} + \\tau^{2} \\left(- \\frac{\\sqrt{\\lambda_{k}}}{\\sqrt{\\lambda_{w}}} - \\frac{\\lambda_{k}}{\\tau^{2}}\\right)\\right) \\sqrt{- \\frac{\\sqrt{\\lambda_{k}}}{\\sqrt{\\lambda_{w}}} - \\frac{\\lambda_{k}}{\\tau^{2}}}}{\\lambda_{k} \\tau^{2}}, \\  \\sqrt{- \\frac{\\sqrt{\\lambda_{k}}}{\\sqrt{\\lambda_{w}}} - \\frac{\\lambda_{k}}{\\tau^{2}}}\\right), \\  \\left( - \\frac{\\lambda_{w} \\left(\\lambda_{k} + \\tau^{2} \\left(\\frac{\\sqrt{\\lambda_{k}}}{\\sqrt{\\lambda_{w}}} - \\frac{\\lambda_{k}}{\\tau^{2}}\\right)\\right) \\sqrt{\\frac{\\sqrt{\\lambda_{k}}}{\\sqrt{\\lambda_{w}}} - \\frac{\\lambda_{k}}{\\tau^{2}}}}{\\lambda_{k} \\tau^{2}}, \\  - \\sqrt{\\frac{\\sqrt{\\lambda_{k}}}{\\sqrt{\\lambda_{w}}} - \\frac{\\lambda_{k}}{\\tau^{2}}}\\right), \\  \\left( \\frac{\\lambda_{w} \\left(\\lambda_{k} + \\tau^{2} \\left(\\frac{\\sqrt{\\lambda_{k}}}{\\sqrt{\\lambda_{w}}} - \\frac{\\lambda_{k}}{\\tau^{2}}\\right)\\right) \\sqrt{\\frac{\\sqrt{\\lambda_{k}}}{\\sqrt{\\lambda_{w}}} - \\frac{\\lambda_{k}}{\\tau^{2}}}}{\\lambda_{k} \\tau^{2}}, \\  \\sqrt{\\frac{\\sqrt{\\lambda_{k}}}{\\sqrt{\\lambda_{w}}} - \\frac{\\lambda_{k}}{\\tau^{2}}}\\right)\\right]$"
      ],
      "text/plain": [
       "⎡        ⎛                                                                 ___\n",
       "⎢        ⎜           ⎛                 ⎛     __________           ⎞⎞      ╱   \n",
       "⎢        ⎜           ⎜               2 ⎜   ╲╱ \\lambdaₖ    \\lambdaₖ⎟⎟     ╱    \n",
       "⎢        ⎜-\\lambda_w⋅⎜\\lambdaₖ + \\tau ⋅⎜- ───────────── - ────────⎟⎟⋅   ╱   - \n",
       "⎢        ⎜           ⎜                 ⎜    ___________        2  ⎟⎟   ╱      \n",
       "⎢        ⎜           ⎝                 ⎝  ╲╱ \\lambda_w     \\tau   ⎠⎠ ╲╱       \n",
       "⎢(0, 0), ⎜────────────────────────────────────────────────────────────────────\n",
       "⎢        ⎜                                                     2              \n",
       "⎣        ⎝                                        \\lambdaₖ⋅\\tau               \n",
       "\n",
       "_________________________                                      ⎞  ⎛           \n",
       "   __________                                                  ⎟  ⎜          ⎛\n",
       " ╲╱ \\lambdaₖ    \\lambdaₖ                                       ⎟  ⎜          ⎜\n",
       "───────────── - ────────           ____________________________⎟  ⎜\\lambda_w⋅⎜\n",
       "  ___________        2            ╱      __________            ⎟  ⎜          ⎜\n",
       "╲╱ \\lambda_w     \\tau            ╱     ╲╱ \\lambdaₖ    \\lambdaₖ ⎟  ⎜          ⎝\n",
       "──────────────────────────, -   ╱   - ───────────── - ──────── ⎟, ⎜───────────\n",
       "                               ╱        ___________        2   ⎟  ⎜           \n",
       "                             ╲╱       ╲╱ \\lambda_w     \\tau    ⎠  ⎝           \n",
       "\n",
       "                                                     _________________________\n",
       "                 ⎛     __________           ⎞⎞      ╱      __________         \n",
       "               2 ⎜   ╲╱ \\lambdaₖ    \\lambdaₖ⎟⎟     ╱     ╲╱ \\lambdaₖ    \\lambd\n",
       "\\lambdaₖ + \\tau ⋅⎜- ───────────── - ────────⎟⎟⋅   ╱   - ───────────── - ──────\n",
       "                 ⎜    ___________        2  ⎟⎟   ╱        ___________        2\n",
       "                 ⎝  ╲╱ \\lambda_w     \\tau   ⎠⎠ ╲╱       ╲╱ \\lambda_w     \\tau \n",
       "──────────────────────────────────────────────────────────────────────────────\n",
       "                                         2                                    \n",
       "                            \\lambdaₖ⋅\\tau                                     \n",
       "\n",
       "___                                    ⎞  ⎛                                   \n",
       "                                       ⎟  ⎜           ⎛                 ⎛   __\n",
       "aₖ                                     ⎟  ⎜           ⎜               2 ⎜ ╲╱ \\\n",
       "──         ____________________________⎟  ⎜-\\lambda_w⋅⎜\\lambdaₖ + \\tau ⋅⎜─────\n",
       "          ╱      __________            ⎟  ⎜           ⎜                 ⎜  ___\n",
       "         ╱     ╲╱ \\lambdaₖ    \\lambdaₖ ⎟  ⎜           ⎝                 ⎝╲╱ \\l\n",
       "───,    ╱   - ───────────── - ──────── ⎟, ⎜───────────────────────────────────\n",
       "       ╱        ___________        2   ⎟  ⎜                                   \n",
       "     ╲╱       ╲╱ \\lambda_w     \\tau    ⎠  ⎝                                   \n",
       "\n",
       "                            __________________________                        \n",
       "________           ⎞⎞      ╱    __________                                    \n",
       "lambdaₖ    \\lambdaₖ⎟⎟     ╱   ╲╱ \\lambdaₖ    \\lambdaₖ                         \n",
       "──────── - ────────⎟⎟⋅   ╱   ───────────── - ────────           ______________\n",
       "________        2  ⎟⎟   ╱      ___________        2            ╱    __________\n",
       "ambda_w     \\tau   ⎠⎠ ╲╱     ╲╱ \\lambda_w     \\tau            ╱   ╲╱ \\lambdaₖ \n",
       "───────────────────────────────────────────────────────, -   ╱   ─────────────\n",
       "                2                                           ╱      ___________\n",
       "   \\lambdaₖ⋅\\tau                                          ╲╱     ╲╱ \\lambda_w \n",
       "\n",
       "            ⎞  ⎛                                                              \n",
       "            ⎟  ⎜          ⎛                 ⎛   __________           ⎞⎞      ╱\n",
       "            ⎟  ⎜          ⎜               2 ⎜ ╲╱ \\lambdaₖ    \\lambdaₖ⎟⎟     ╱ \n",
       "____________⎟  ⎜\\lambda_w⋅⎜\\lambdaₖ + \\tau ⋅⎜───────────── - ────────⎟⎟⋅   ╱  \n",
       "            ⎟  ⎜          ⎜                 ⎜  ___________        2  ⎟⎟   ╱   \n",
       "   \\lambdaₖ ⎟  ⎜          ⎝                 ⎝╲╱ \\lambda_w     \\tau   ⎠⎠ ╲╱    \n",
       " - ──────── ⎟, ⎜──────────────────────────────────────────────────────────────\n",
       "        2   ⎟  ⎜                                                  2           \n",
       "    \\tau    ⎠  ⎝                                     \\lambdaₖ⋅\\tau            \n",
       "\n",
       "__________________________                                  ⎞⎤\n",
       "    __________                                              ⎟⎥\n",
       "  ╲╱ \\lambdaₖ    \\lambdaₖ                                   ⎟⎥\n",
       " ───────────── - ────────         __________________________⎟⎥\n",
       "   ___________        2          ╱    __________            ⎟⎥\n",
       " ╲╱ \\lambda_w     \\tau          ╱   ╲╱ \\lambdaₖ    \\lambdaₖ ⎟⎥\n",
       "──────────────────────────,    ╱   ───────────── - ──────── ⎟⎥\n",
       "                              ╱      ___________        2   ⎟⎥\n",
       "                            ╲╱     ╲╱ \\lambda_w     \\tau    ⎠⎦"
      ]
     },
     "execution_count": 14,
     "metadata": {},
     "output_type": "execute_result"
    }
   ],
   "source": [
    "# stationary points \n",
    "# these stationary points lead to points where e(k_0, w_0) is a minimum, maximum or saddle point\n",
    "# Note: without the penalty terms in the cost function, (0,0) becomes a saddle point as a stationary point\n",
    "sol = solve(de,[k,w]) # <-- find [k_0,w_0] that makes de(k_0,w_0) == [0,0]\n",
    "sol"
   ]
  },
  {
   "cell_type": "markdown",
   "metadata": {
    "id": "8TyJcsPolLgd"
   },
   "source": [
    "\n",
    "Here we're just looking at particular substitutions of the fixed point\n"
   ]
  },
  {
   "cell_type": "code",
   "execution_count": 15,
   "metadata": {
    "colab": {
     "base_uri": "https://localhost:8080/",
     "height": 79
    },
    "executionInfo": {
     "elapsed": 3691,
     "status": "ok",
     "timestamp": 1607560963531,
     "user": {
      "displayName": "Maneeshika Madduri",
      "photoUrl": "",
      "userId": "17480917105839477639"
     },
     "user_tz": 360
    },
    "id": "Mq1QJmI90-Ow",
    "outputId": "a8deb227-7f26-4fa5-c667-70ade8ce30fa"
   },
   "outputs": [
    {
     "data": {
      "text/latex": [
       "$\\displaystyle \\left[ \\left[\\begin{matrix}0\\\\0\\end{matrix}\\right], \\  \\left[\\begin{matrix}\\sqrt{- \\frac{\\lambda}{\\tau^{2}} - 1}\\\\- \\sqrt{- \\frac{\\lambda}{\\tau^{2}} - 1}\\end{matrix}\\right], \\  \\left[\\begin{matrix}- \\sqrt{- \\frac{\\lambda}{\\tau^{2}} - 1}\\\\\\sqrt{- \\frac{\\lambda}{\\tau^{2}} - 1}\\end{matrix}\\right], \\  \\left[\\begin{matrix}- \\sqrt{- \\frac{\\lambda}{\\tau^{2}} + 1}\\\\- \\sqrt{- \\frac{\\lambda}{\\tau^{2}} + 1}\\end{matrix}\\right], \\  \\left[\\begin{matrix}\\sqrt{- \\frac{\\lambda}{\\tau^{2}} + 1}\\\\\\sqrt{- \\frac{\\lambda}{\\tau^{2}} + 1}\\end{matrix}\\right]\\right]$"
      ],
      "text/plain": [
       "⎡     ⎡     _______________ ⎤  ⎡      _______________⎤  ⎡      _______________\n",
       "⎢     ⎢    ╱   \\lambda      ⎥  ⎢     ╱   \\lambda     ⎥  ⎢     ╱   \\lambda     \n",
       "⎢     ⎢   ╱  - ─────── - 1  ⎥  ⎢-   ╱  - ─────── - 1 ⎥  ⎢-   ╱  - ─────── + 1 \n",
       "⎢     ⎢  ╱          2       ⎥  ⎢   ╱          2      ⎥  ⎢   ╱          2      \n",
       "⎢⎡0⎤  ⎢╲╱       \\tau        ⎥  ⎢ ╲╱       \\tau       ⎥  ⎢ ╲╱       \\tau       \n",
       "⎢⎢ ⎥, ⎢                     ⎥, ⎢                     ⎥, ⎢                     \n",
       "⎢⎣0⎦  ⎢      _______________⎥  ⎢     _______________ ⎥  ⎢      _______________\n",
       "⎢     ⎢     ╱   \\lambda     ⎥  ⎢    ╱   \\lambda      ⎥  ⎢     ╱   \\lambda     \n",
       "⎢     ⎢-   ╱  - ─────── - 1 ⎥  ⎢   ╱  - ─────── - 1  ⎥  ⎢-   ╱  - ─────── + 1 \n",
       "⎢     ⎢   ╱          2      ⎥  ⎢  ╱          2       ⎥  ⎢   ╱          2      \n",
       "⎣     ⎣ ╲╱       \\tau       ⎦  ⎣╲╱       \\tau        ⎦  ⎣ ╲╱       \\tau       \n",
       "\n",
       "⎤  ⎡     _______________⎤⎤\n",
       "⎥  ⎢    ╱   \\lambda     ⎥⎥\n",
       "⎥  ⎢   ╱  - ─────── + 1 ⎥⎥\n",
       "⎥  ⎢  ╱          2      ⎥⎥\n",
       "⎥  ⎢╲╱       \\tau       ⎥⎥\n",
       "⎥, ⎢                    ⎥⎥\n",
       "⎥  ⎢     _______________⎥⎥\n",
       "⎥  ⎢    ╱   \\lambda     ⎥⎥\n",
       "⎥  ⎢   ╱  - ─────── + 1 ⎥⎥\n",
       "⎥  ⎢  ╱          2      ⎥⎥\n",
       "⎦  ⎣╲╱       \\tau       ⎦⎦"
      ]
     },
     "execution_count": 15,
     "metadata": {},
     "output_type": "execute_result"
    }
   ],
   "source": [
    "# substitutes subs for the fixed points\n",
    "# 2 are imaginary -- ignored\n",
    "# other 2 are real if the sigma < 1 -- sigma can't be too large\n",
    "# if sigma is too large, going back to (0, 0)\n",
    "[sym.simplify(sym.Matrix(_).subs(subs)) for _ in sol]"
   ]
  },
  {
   "cell_type": "code",
   "execution_count": 16,
   "metadata": {
    "colab": {
     "base_uri": "https://localhost:8080/",
     "height": 68
    },
    "executionInfo": {
     "elapsed": 3666,
     "status": "ok",
     "timestamp": 1607560963533,
     "user": {
      "displayName": "Maneeshika Madduri",
      "photoUrl": "",
      "userId": "17480917105839477639"
     },
     "user_tz": 360
    },
    "id": "_k025s8mHkDi",
    "outputId": "b6e903b9-696a-4255-81bd-7ebb608ec38e"
   },
   "outputs": [
    {
     "data": {
      "text/latex": [
       "$\\displaystyle \\left[ \\left[\\begin{matrix}0\\\\0\\end{matrix}\\right], \\  \\left[\\begin{matrix}\\frac{\\sqrt{6} i}{2}\\\\- \\frac{\\sqrt{6} i}{2}\\end{matrix}\\right], \\  \\left[\\begin{matrix}- \\frac{\\sqrt{6} i}{2}\\\\\\frac{\\sqrt{6} i}{2}\\end{matrix}\\right], \\  \\left[\\begin{matrix}- \\frac{\\sqrt{2}}{2}\\\\- \\frac{\\sqrt{2}}{2}\\end{matrix}\\right], \\  \\left[\\begin{matrix}\\frac{\\sqrt{2}}{2}\\\\\\frac{\\sqrt{2}}{2}\\end{matrix}\\right]\\right]$"
      ],
      "text/plain": [
       "⎡     ⎡ √6⋅ⅈ ⎤  ⎡-√6⋅ⅈ ⎤  ⎡-√2 ⎤  ⎡√2⎤⎤\n",
       "⎢     ⎢ ──── ⎥  ⎢──────⎥  ⎢────⎥  ⎢──⎥⎥\n",
       "⎢⎡0⎤  ⎢  2   ⎥  ⎢  2   ⎥  ⎢ 2  ⎥  ⎢2 ⎥⎥\n",
       "⎢⎢ ⎥, ⎢      ⎥, ⎢      ⎥, ⎢    ⎥, ⎢  ⎥⎥\n",
       "⎢⎣0⎦  ⎢-√6⋅ⅈ ⎥  ⎢ √6⋅ⅈ ⎥  ⎢-√2 ⎥  ⎢√2⎥⎥\n",
       "⎢     ⎢──────⎥  ⎢ ──── ⎥  ⎢────⎥  ⎢──⎥⎥\n",
       "⎣     ⎣  2   ⎦  ⎣  2   ⎦  ⎣ 2  ⎦  ⎣2 ⎦⎦"
      ]
     },
     "execution_count": 16,
     "metadata": {},
     "output_type": "execute_result"
    }
   ],
   "source": [
    "subs_sim = {lam:sym.Rational(1,2), tau:1, a: 0}\n",
    "[sym.simplify(sym.Matrix(_).subs(subs).subs(subs_sim)) for _ in sol]"
   ]
  },
  {
   "cell_type": "code",
   "execution_count": 17,
   "metadata": {
    "colab": {
     "base_uri": "https://localhost:8080/",
     "height": 59
    },
    "executionInfo": {
     "elapsed": 3629,
     "status": "ok",
     "timestamp": 1607560963534,
     "user": {
      "displayName": "Maneeshika Madduri",
      "photoUrl": "",
      "userId": "17480917105839477639"
     },
     "user_tz": 360
    },
    "id": "CzxtPWovGoi3",
    "outputId": "1af2e07f-b6dd-4a24-e078-50a1dbaef62d"
   },
   "outputs": [
    {
     "data": {
      "text/latex": [
       "$\\displaystyle \\left[ \\left[\\begin{matrix}0\\\\0\\end{matrix}\\right], \\  \\left[\\begin{matrix}\\sqrt{- \\lambda - 1}\\\\- i \\sqrt{\\lambda + 1}\\end{matrix}\\right], \\  \\left[\\begin{matrix}- i \\sqrt{\\lambda + 1}\\\\\\sqrt{- \\lambda - 1}\\end{matrix}\\right], \\  \\left[\\begin{matrix}- \\sqrt{1 - \\lambda}\\\\- \\sqrt{1 - \\lambda}\\end{matrix}\\right], \\  \\left[\\begin{matrix}\\sqrt{1 - \\lambda}\\\\\\sqrt{1 - \\lambda}\\end{matrix}\\right]\\right]$"
      ],
      "text/plain": [
       "⎡     ⎡   ______________ ⎤  ⎡     _____________⎤  ⎡   _____________⎤  ⎡  _____\n",
       "⎢⎡0⎤  ⎢ ╲╱ -\\lambda - 1  ⎥  ⎢-ⅈ⋅╲╱ \\lambda + 1 ⎥  ⎢-╲╱ 1 - \\lambda ⎥  ⎢╲╱ 1 - \n",
       "⎢⎢ ⎥, ⎢                  ⎥, ⎢                  ⎥, ⎢                ⎥, ⎢       \n",
       "⎢⎣0⎦  ⎢     _____________⎥  ⎢   ______________ ⎥  ⎢   _____________⎥  ⎢  _____\n",
       "⎣     ⎣-ⅈ⋅╲╱ \\lambda + 1 ⎦  ⎣ ╲╱ -\\lambda - 1  ⎦  ⎣-╲╱ 1 - \\lambda ⎦  ⎣╲╱ 1 - \n",
       "\n",
       "________⎤⎤\n",
       "\\lambda ⎥⎥\n",
       "        ⎥⎥\n",
       "________⎥⎥\n",
       "\\lambda ⎦⎦"
      ]
     },
     "execution_count": 17,
     "metadata": {},
     "output_type": "execute_result"
    }
   ],
   "source": [
    "# Separating the substitutions -- this is if tau = 1 only \n",
    "[sym.simplify(sym.expand(sym.simplify(sym.Matrix(_).subs({tau:1, lam_k:lam, lam_w:lam})))) for _ in sol]"
   ]
  },
  {
   "cell_type": "code",
   "execution_count": 18,
   "metadata": {
    "colab": {
     "base_uri": "https://localhost:8080/",
     "height": 58
    },
    "executionInfo": {
     "elapsed": 3979,
     "status": "ok",
     "timestamp": 1607560963902,
     "user": {
      "displayName": "Maneeshika Madduri",
      "photoUrl": "",
      "userId": "17480917105839477639"
     },
     "user_tz": 360
    },
    "id": "dFMai8jR2jr3",
    "outputId": "62b11c57-0b0c-4a22-99e2-a9fe7b836ac8"
   },
   "outputs": [
    {
     "data": {
      "text/latex": [
       "$\\displaystyle \\left[\\begin{matrix}2 \\lambda k + 2 \\tau^{2} k w^{2} - 2 \\tau^{2} w\\\\2 \\lambda w + 2 \\tau^{2} k^{2} w - 2 \\tau^{2} k\\end{matrix}\\right]$"
      ],
      "text/plain": [
       "⎡                    2    2         2  ⎤\n",
       "⎢2⋅\\lambda⋅k + 2⋅\\tau ⋅k⋅w  - 2⋅\\tau ⋅w⎥\n",
       "⎢                                      ⎥\n",
       "⎢                    2  2           2  ⎥\n",
       "⎣2⋅\\lambda⋅w + 2⋅\\tau ⋅k ⋅w - 2⋅\\tau ⋅k⎦"
      ]
     },
     "execution_count": 18,
     "metadata": {},
     "output_type": "execute_result"
    }
   ],
   "source": [
    "# expands de with the substitutions above\n",
    "sym.expand(sym.simplify(sym.Matrix(de).subs(subs)))"
   ]
  },
  {
   "cell_type": "code",
   "execution_count": 19,
   "metadata": {
    "colab": {
     "base_uri": "https://localhost:8080/",
     "height": 58
    },
    "executionInfo": {
     "elapsed": 3943,
     "status": "ok",
     "timestamp": 1607560963904,
     "user": {
      "displayName": "Maneeshika Madduri",
      "photoUrl": "",
      "userId": "17480917105839477639"
     },
     "user_tz": 360
    },
    "id": "PH6usmxrZ1sH",
    "outputId": "f072452e-1a85-473f-aa21-fbd2c8e2ba9d"
   },
   "outputs": [
    {
     "data": {
      "text/latex": [
       "$\\displaystyle \\left\\{ k : \\frac{\\sqrt[4]{\\lambda_{w}} \\sqrt{\\sqrt{\\lambda_{k}} - \\frac{\\lambda_{k} \\sqrt{\\lambda_{w}}}{\\tau^{2}}}}{\\sqrt{\\lambda_{k}}}, \\  w : \\sqrt{\\frac{\\sqrt{\\lambda_{k}}}{\\sqrt{\\lambda_{w}}} - \\frac{\\lambda_{k}}{\\tau^{2}}}\\right\\}$"
      ],
      "text/plain": [
       "⎧                       _______________________________________               \n",
       "⎪                      ╱                           ___________                \n",
       "⎪   4 ___________     ╱    __________   \\lambdaₖ⋅╲╱ \\lambda_w                 \n",
       "⎪   ╲╱ \\lambda_w ⋅   ╱   ╲╱ \\lambdaₖ  - ──────────────────────            ____\n",
       "⎨                   ╱                               2                    ╱    \n",
       "⎪                 ╲╱                            \\tau                    ╱   ╲╱\n",
       "⎪k: ───────────────────────────────────────────────────────────, w:    ╱   ───\n",
       "⎪                             __________                              ╱      _\n",
       "⎩                           ╲╱ \\lambdaₖ                             ╲╱     ╲╱ \n",
       "\n",
       "                      ⎫\n",
       "                      ⎪\n",
       "                      ⎪\n",
       "______________________⎪\n",
       "__________            ⎬\n",
       " \\lambdaₖ    \\lambdaₖ ⎪\n",
       "────────── - ──────── ⎪\n",
       "__________        2   ⎪\n",
       "\\lambda_w     \\tau    ⎭"
      ]
     },
     "execution_count": 19,
     "metadata": {},
     "output_type": "execute_result"
    }
   ],
   "source": [
    "k0,w0 = sym.simplify(sym.Matrix(sol[4]))\n",
    "x0 = {k:k0,w:w0}\n",
    "x0"
   ]
  },
  {
   "cell_type": "code",
   "execution_count": 20,
   "metadata": {
    "colab": {
     "base_uri": "https://localhost:8080/",
     "height": 58
    },
    "executionInfo": {
     "elapsed": 3914,
     "status": "ok",
     "timestamp": 1607560963905,
     "user": {
      "displayName": "Maneeshika Madduri",
      "photoUrl": "",
      "userId": "17480917105839477639"
     },
     "user_tz": 360
    },
    "id": "DVgjGehZ4WQJ",
    "outputId": "c9ca5aa7-7106-4ebb-ef82-8446040d03e2"
   },
   "outputs": [
    {
     "data": {
      "text/latex": [
       "$\\displaystyle \\left\\{ k : \\sqrt{- \\frac{\\lambda}{\\tau^{2}} + 1}, \\  w : \\sqrt{- \\frac{\\lambda}{\\tau^{2}} + 1}\\right\\}$"
      ],
      "text/plain": [
       "⎧        _______________          _______________⎫\n",
       "⎪       ╱   \\lambda              ╱   \\lambda     ⎪\n",
       "⎨k:    ╱  - ─────── + 1 , w:    ╱  - ─────── + 1 ⎬\n",
       "⎪     ╱          2             ╱          2      ⎪\n",
       "⎩   ╲╱       \\tau            ╲╱       \\tau       ⎭"
      ]
     },
     "execution_count": 20,
     "metadata": {},
     "output_type": "execute_result"
    }
   ],
   "source": [
    "# Looking at one of the solved fixed points\n",
    "k0,w0 = sym.simplify(sym.Matrix(sol[4]).subs(subs).subs({a:0}))\n",
    "x0 = {k:k0,w:w0}\n",
    "x0\n",
    "# as sigma --> tau^s, goes to 0\n",
    "# as sigma --> tau^2, all 3 equilibria coincide"
   ]
  },
  {
   "cell_type": "code",
   "execution_count": 21,
   "metadata": {
    "colab": {
     "base_uri": "https://localhost:8080/",
     "height": 47
    },
    "executionInfo": {
     "elapsed": 3885,
     "status": "ok",
     "timestamp": 1607560963906,
     "user": {
      "displayName": "Maneeshika Madduri",
      "photoUrl": "",
      "userId": "17480917105839477639"
     },
     "user_tz": 360
    },
    "id": "BIhYIxcGwMSe",
    "outputId": "c4ace559-0539-4e15-d9ed-522c635f3d21"
   },
   "outputs": [
    {
     "data": {
      "text/latex": [
       "$\\displaystyle \\left\\{ k : \\frac{\\sqrt{2}}{2}, \\  w : \\frac{\\sqrt{2}}{2}\\right\\}$"
      ],
      "text/plain": [
       "⎧   √2     √2⎫\n",
       "⎨k: ──, w: ──⎬\n",
       "⎩   2      2 ⎭"
      ]
     },
     "execution_count": 21,
     "metadata": {},
     "output_type": "execute_result"
    }
   ],
   "source": [
    "k0_s,w0_s = sym.simplify(sym.Matrix(sol[4]).subs(subs).subs({lam:sym.Rational(1,2), tau:sym.Rational(1), a: 0}))\n",
    "x0_s = {k:k0_s,w:w0_s}\n",
    "x0_s"
   ]
  },
  {
   "cell_type": "markdown",
   "metadata": {
    "id": "eNQWr5RNsE9t"
   },
   "source": [
    "Step 2: Find the Jacobian evaluated at the fixed points\n"
   ]
  },
  {
   "cell_type": "code",
   "execution_count": 22,
   "metadata": {
    "id": "Zgqi46iw7MZl"
   },
   "outputs": [],
   "source": [
    "H = sym.Matrix(de).jacobian([k,w])\n",
    "J = f.jacobian([k,w])"
   ]
  },
  {
   "cell_type": "code",
   "execution_count": 23,
   "metadata": {
    "colab": {
     "base_uri": "https://localhost:8080/",
     "height": 58
    },
    "executionInfo": {
     "elapsed": 3850,
     "status": "ok",
     "timestamp": 1607560963908,
     "user": {
      "displayName": "Maneeshika Madduri",
      "photoUrl": "",
      "userId": "17480917105839477639"
     },
     "user_tz": 360
    },
    "id": "XXJWVndtdYPl",
    "outputId": "87a3e849-7d3c-4bcf-d108-21f25a44b108"
   },
   "outputs": [
    {
     "data": {
      "text/latex": [
       "$\\displaystyle \\left[\\begin{matrix}- 2 \\lambda_{k} k + 2 \\tau w \\left(- \\tau k w + \\tau\\right)\\\\- 2 \\lambda_{w} w + 2 \\tau k \\left(- \\tau k w + \\tau\\right)\\end{matrix}\\right]$"
      ],
      "text/plain": [
       "⎡-2⋅\\lambdaₖ⋅k + 2⋅\\tau⋅w⋅(-\\tau⋅k⋅w + \\tau) ⎤\n",
       "⎢                                            ⎥\n",
       "⎣-2⋅\\lambda_w⋅w + 2⋅\\tau⋅k⋅(-\\tau⋅k⋅w + \\tau)⎦"
      ]
     },
     "execution_count": 23,
     "metadata": {},
     "output_type": "execute_result"
    }
   ],
   "source": [
    "f"
   ]
  },
  {
   "cell_type": "code",
   "execution_count": 24,
   "metadata": {
    "colab": {
     "base_uri": "https://localhost:8080/",
     "height": 58
    },
    "executionInfo": {
     "elapsed": 3821,
     "status": "ok",
     "timestamp": 1607560963909,
     "user": {
      "displayName": "Maneeshika Madduri",
      "photoUrl": "",
      "userId": "17480917105839477639"
     },
     "user_tz": 360
    },
    "id": "QRn3uK4Hui4v",
    "outputId": "2bcab8a1-1c4b-4b6b-dd95-54b454da58fd"
   },
   "outputs": [
    {
     "data": {
      "text/latex": [
       "$\\displaystyle \\left[\\begin{matrix}- 2 \\lambda_{k} - 2 \\tau^{2} w^{2} & - 2 \\tau^{2} k w + 2 \\tau \\left(- \\tau k w + \\tau\\right)\\\\- 2 \\tau^{2} k w + 2 \\tau \\left(- \\tau k w + \\tau\\right) & - 2 \\lambda_{w} - 2 \\tau^{2} k^{2}\\end{matrix}\\right]$"
      ],
      "text/plain": [
       "⎡                            2  2                   2                         \n",
       "⎢        -2⋅\\lambdaₖ - 2⋅\\tau ⋅w            - 2⋅\\tau ⋅k⋅w + 2⋅\\tau⋅(-\\tau⋅k⋅w \n",
       "⎢                                                                             \n",
       "⎢        2                                                               2  2 \n",
       "⎣- 2⋅\\tau ⋅k⋅w + 2⋅\\tau⋅(-\\tau⋅k⋅w + \\tau)          -2⋅\\lambda_w - 2⋅\\tau ⋅k  \n",
       "\n",
       "       ⎤\n",
       "+ \\tau)⎥\n",
       "       ⎥\n",
       "       ⎥\n",
       "       ⎦"
      ]
     },
     "execution_count": 24,
     "metadata": {},
     "output_type": "execute_result"
    }
   ],
   "source": [
    "J"
   ]
  },
  {
   "cell_type": "code",
   "execution_count": 25,
   "metadata": {
    "colab": {
     "base_uri": "https://localhost:8080/",
     "height": 39
    },
    "executionInfo": {
     "elapsed": 3800,
     "status": "ok",
     "timestamp": 1607560963911,
     "user": {
      "displayName": "Maneeshika Madduri",
      "photoUrl": "",
      "userId": "17480917105839477639"
     },
     "user_tz": 360
    },
    "id": "v-21GuoQyRbD",
    "outputId": "ba8628bc-b757-4fba-e9fe-7366f5d987fa"
   },
   "outputs": [
    {
     "data": {
      "text/latex": [
       "$\\displaystyle \\left[ \\left[ 2 \\lambda_{k} + 2 \\tau^{2} w^{2}, \\  2 \\tau^{2} k w - 2 \\tau \\left(- \\tau k w + \\tau\\right)\\right], \\  \\left[ 2 \\tau^{2} k w - 2 \\tau \\left(- \\tau k w + \\tau\\right), \\  2 \\lambda_{w} + 2 \\tau^{2} k^{2}\\right]\\right]$"
      ],
      "text/plain": [
       "⎡⎡                   2  2        2                                ⎤  ⎡      2 \n",
       "⎣⎣2⋅\\lambdaₖ + 2⋅\\tau ⋅w , 2⋅\\tau ⋅k⋅w - 2⋅\\tau⋅(-\\tau⋅k⋅w + \\tau)⎦, ⎣2⋅\\tau ⋅\n",
       "\n",
       "                                                     2  2⎤⎤\n",
       "k⋅w - 2⋅\\tau⋅(-\\tau⋅k⋅w + \\tau), 2⋅\\lambda_w + 2⋅\\tau ⋅k ⎦⎦"
      ]
     },
     "execution_count": 25,
     "metadata": {},
     "output_type": "execute_result"
    }
   ],
   "source": [
    "de2"
   ]
  },
  {
   "cell_type": "code",
   "execution_count": 26,
   "metadata": {
    "colab": {
     "base_uri": "https://localhost:8080/",
     "height": 58
    },
    "executionInfo": {
     "elapsed": 3788,
     "status": "ok",
     "timestamp": 1607560963913,
     "user": {
      "displayName": "Maneeshika Madduri",
      "photoUrl": "",
      "userId": "17480917105839477639"
     },
     "user_tz": 360
    },
    "id": "LGZXHV9gglLe",
    "outputId": "7dfdb6e5-a40c-456d-f155-61dee32651b9"
   },
   "outputs": [
    {
     "data": {
      "text/latex": [
       "$\\displaystyle \\left[\\begin{matrix}- 2 \\lambda_{k} - 2 \\tau^{2} w^{2} & - 2 \\tau^{2} k w + 2 \\tau \\left(- \\tau k w + \\tau\\right)\\\\- 2 \\tau^{2} k w + 2 \\tau \\left(- \\tau k w + \\tau\\right) & - 2 \\lambda_{w} - 2 \\tau^{2} k^{2}\\end{matrix}\\right]$"
      ],
      "text/plain": [
       "⎡                            2  2                   2                         \n",
       "⎢        -2⋅\\lambdaₖ - 2⋅\\tau ⋅w            - 2⋅\\tau ⋅k⋅w + 2⋅\\tau⋅(-\\tau⋅k⋅w \n",
       "⎢                                                                             \n",
       "⎢        2                                                               2  2 \n",
       "⎣- 2⋅\\tau ⋅k⋅w + 2⋅\\tau⋅(-\\tau⋅k⋅w + \\tau)          -2⋅\\lambda_w - 2⋅\\tau ⋅k  \n",
       "\n",
       "       ⎤\n",
       "+ \\tau)⎥\n",
       "       ⎥\n",
       "       ⎥\n",
       "       ⎦"
      ]
     },
     "execution_count": 26,
     "metadata": {},
     "output_type": "execute_result"
    }
   ],
   "source": [
    "J.T"
   ]
  },
  {
   "cell_type": "code",
   "execution_count": 27,
   "metadata": {
    "colab": {
     "base_uri": "https://localhost:8080/",
     "height": 58
    },
    "executionInfo": {
     "elapsed": 3856,
     "status": "ok",
     "timestamp": 1607560964011,
     "user": {
      "displayName": "Maneeshika Madduri",
      "photoUrl": "",
      "userId": "17480917105839477639"
     },
     "user_tz": 360
    },
    "id": "BCxBilMQulPx",
    "outputId": "41cc9288-6671-48c7-fec1-1854e716bf86"
   },
   "outputs": [
    {
     "data": {
      "text/latex": [
       "$\\displaystyle \\left[\\begin{matrix}0 & 0\\\\0 & 0\\end{matrix}\\right]$"
      ],
      "text/plain": [
       "⎡0  0⎤\n",
       "⎢    ⎥\n",
       "⎣0  0⎦"
      ]
     },
     "execution_count": 27,
     "metadata": {},
     "output_type": "execute_result"
    }
   ],
   "source": [
    "# Is this symmetric? \n",
    "# Symmetric = potential game\n",
    "# symmetric part of J: closely related to stability properties \n",
    "J.T - J"
   ]
  },
  {
   "cell_type": "code",
   "execution_count": 28,
   "metadata": {
    "colab": {
     "base_uri": "https://localhost:8080/",
     "height": 67
    },
    "executionInfo": {
     "elapsed": 4561,
     "status": "ok",
     "timestamp": 1607560964737,
     "user": {
      "displayName": "Maneeshika Madduri",
      "photoUrl": "",
      "userId": "17480917105839477639"
     },
     "user_tz": 360
    },
    "id": "YlipQmVCsPpU",
    "outputId": "6f13a55b-a906-4aa9-8be8-06b42da32143"
   },
   "outputs": [
    {
     "data": {
      "text/latex": [
       "$\\displaystyle \\left\\{ - \\lambda_{k} - \\lambda_{w} - \\tau^{2} k^{2} - \\tau^{2} w^{2} - \\sqrt{\\lambda_{k}^{2} - 2 \\lambda_{k} \\lambda_{w} - 2 \\lambda_{k} \\tau^{2} k^{2} + 2 \\lambda_{k} \\tau^{2} w^{2} + \\lambda_{w}^{2} + 2 \\lambda_{w} \\tau^{2} k^{2} - 2 \\lambda_{w} \\tau^{2} w^{2} + \\tau^{4} k^{4} + 14 \\tau^{4} k^{2} w^{2} - 16 \\tau^{4} k w + \\tau^{4} w^{4} + 4 \\tau^{4}} : 1, \\  - \\lambda_{k} - \\lambda_{w} - \\tau^{2} k^{2} - \\tau^{2} w^{2} + \\sqrt{\\lambda_{k}^{2} - 2 \\lambda_{k} \\lambda_{w} - 2 \\lambda_{k} \\tau^{2} k^{2} + 2 \\lambda_{k} \\tau^{2} w^{2} + \\lambda_{w}^{2} + 2 \\lambda_{w} \\tau^{2} k^{2} - 2 \\lambda_{w} \\tau^{2} w^{2} + \\tau^{4} k^{4} + 14 \\tau^{4} k^{2} w^{2} - 16 \\tau^{4} k w + \\tau^{4} w^{4} + 4 \\tau^{4}} : 1\\right\\}$"
      ],
      "text/plain": [
       "⎧                                                 ____________________________\n",
       "⎨                            2  2       2  2     ╱         2                  \n",
       "⎩-\\lambdaₖ - \\lambda_w - \\tau ⋅k  - \\tau ⋅w  - ╲╱  \\lambdaₖ  - 2⋅\\lambdaₖ⋅\\lam\n",
       "\n",
       "______________________________________________________________________________\n",
       "                       2  2                  2  2            2                \n",
       "bda_w - 2⋅\\lambdaₖ⋅\\tau ⋅k  + 2⋅\\lambdaₖ⋅\\tau ⋅w  + \\lambda_w  + 2⋅\\lambda_w⋅\\\n",
       "\n",
       "______________________________________________________________________________\n",
       "   2  2                   2  2       4  4          4  2  2          4         \n",
       "tau ⋅k  - 2⋅\\lambda_w⋅\\tau ⋅w  + \\tau ⋅k  + 14⋅\\tau ⋅k ⋅w  - 16⋅\\tau ⋅k⋅w + \\t\n",
       "\n",
       "_________________                                                      _______\n",
       "  4  4         4                                  2  2       2  2     ╱       \n",
       "au ⋅w  + 4⋅\\tau  : 1, -\\lambdaₖ - \\lambda_w - \\tau ⋅k  - \\tau ⋅w  + ╲╱  \\lambd\n",
       "\n",
       "______________________________________________________________________________\n",
       "  2                                         2  2                  2  2        \n",
       "aₖ  - 2⋅\\lambdaₖ⋅\\lambda_w - 2⋅\\lambdaₖ⋅\\tau ⋅k  + 2⋅\\lambdaₖ⋅\\tau ⋅w  + \\lamb\n",
       "\n",
       "______________________________________________________________________________\n",
       "    2                   2  2                   2  2       4  4          4  2  \n",
       "da_w  + 2⋅\\lambda_w⋅\\tau ⋅k  - 2⋅\\lambda_w⋅\\tau ⋅w  + \\tau ⋅k  + 14⋅\\tau ⋅k ⋅w\n",
       "\n",
       "______________________________________   ⎫\n",
       "2          4           4  4         4    ⎬\n",
       "  - 16⋅\\tau ⋅k⋅w + \\tau ⋅w  + 4⋅\\tau  : 1⎭"
      ]
     },
     "execution_count": 28,
     "metadata": {},
     "output_type": "execute_result"
    }
   ],
   "source": [
    "# all eigenvals have to have a real component for linearization, no eigenvals can be purely imaginary\n",
    "# Hartmann-Gromann theorem\n",
    "J.eigenvals()"
   ]
  },
  {
   "cell_type": "code",
   "execution_count": 29,
   "metadata": {
    "id": "oJY_GYlz4sZC"
   },
   "outputs": [],
   "source": [
    "# linearizing around fixed-point\n",
    "H0 = H.subs(subs).subs(x0)\n",
    "J0 = J.subs(subs).subs(x0)"
   ]
  },
  {
   "cell_type": "code",
   "execution_count": 30,
   "metadata": {
    "colab": {
     "base_uri": "https://localhost:8080/",
     "height": 59
    },
    "executionInfo": {
     "elapsed": 4533,
     "status": "ok",
     "timestamp": 1607560964739,
     "user": {
      "displayName": "Maneeshika Madduri",
      "photoUrl": "",
      "userId": "17480917105839477639"
     },
     "user_tz": 360
    },
    "id": "tueqXzoLKWDy",
    "outputId": "50bfde31-096a-45a6-9b2b-c265d7d34b2b"
   },
   "outputs": [
    {
     "data": {
      "text/latex": [
       "$\\displaystyle \\left[\\begin{matrix}- 2 \\lambda - 2 \\tau^{2} \\left(- \\frac{\\lambda}{\\tau^{2}} + 1\\right) & - 2 \\tau^{2} \\left(- \\frac{\\lambda}{\\tau^{2}} + 1\\right) + 2 \\tau \\left(- \\tau \\left(- \\frac{\\lambda}{\\tau^{2}} + 1\\right) + \\tau\\right)\\\\- 2 \\tau^{2} \\left(- \\frac{\\lambda}{\\tau^{2}} + 1\\right) + 2 \\tau \\left(- \\tau \\left(- \\frac{\\lambda}{\\tau^{2}} + 1\\right) + \\tau\\right) & - 2 \\lambda - 2 \\tau^{2} \\left(- \\frac{\\lambda}{\\tau^{2}} + 1\\right)\\end{matrix}\\right]$"
      ],
      "text/plain": [
       "⎡                                  2 ⎛  \\lambda    ⎞                         2\n",
       "⎢               -2⋅\\lambda - 2⋅\\tau ⋅⎜- ─────── + 1⎟                 - 2⋅\\tau \n",
       "⎢                                    ⎜       2     ⎟                          \n",
       "⎢                                    ⎝   \\tau      ⎠                          \n",
       "⎢                                                                             \n",
       "⎢        2 ⎛  \\lambda    ⎞          ⎛       ⎛  \\lambda    ⎞       ⎞           \n",
       "⎢- 2⋅\\tau ⋅⎜- ─────── + 1⎟ + 2⋅\\tau⋅⎜- \\tau⋅⎜- ─────── + 1⎟ + \\tau⎟           \n",
       "⎢          ⎜       2     ⎟          ⎜       ⎜       2     ⎟       ⎟           \n",
       "⎣          ⎝   \\tau      ⎠          ⎝       ⎝   \\tau      ⎠       ⎠           \n",
       "\n",
       " ⎛  \\lambda    ⎞          ⎛       ⎛  \\lambda    ⎞       ⎞⎤\n",
       "⋅⎜- ─────── + 1⎟ + 2⋅\\tau⋅⎜- \\tau⋅⎜- ─────── + 1⎟ + \\tau⎟⎥\n",
       " ⎜       2     ⎟          ⎜       ⎜       2     ⎟       ⎟⎥\n",
       " ⎝   \\tau      ⎠          ⎝       ⎝   \\tau      ⎠       ⎠⎥\n",
       "                                                         ⎥\n",
       "                         2 ⎛  \\lambda    ⎞               ⎥\n",
       "      -2⋅\\lambda - 2⋅\\tau ⋅⎜- ─────── + 1⎟               ⎥\n",
       "                           ⎜       2     ⎟               ⎥\n",
       "                           ⎝   \\tau      ⎠               ⎦"
      ]
     },
     "execution_count": 30,
     "metadata": {},
     "output_type": "execute_result"
    }
   ],
   "source": [
    "J0"
   ]
  },
  {
   "cell_type": "code",
   "execution_count": 31,
   "metadata": {
    "colab": {
     "base_uri": "https://localhost:8080/",
     "height": 39
    },
    "executionInfo": {
     "elapsed": 4515,
     "status": "ok",
     "timestamp": 1607560964740,
     "user": {
      "displayName": "Maneeshika Madduri",
      "photoUrl": "",
      "userId": "17480917105839477639"
     },
     "user_tz": 360
    },
    "id": "TmmkP5z6VudK",
    "outputId": "f8c4e5c2-a04c-498b-cd84-3ef676de79e8"
   },
   "outputs": [
    {
     "data": {
      "text/latex": [
       "$\\displaystyle \\left\\{ - 4 \\lambda : 1, \\  4 \\lambda - 4 \\tau^{2} : 1\\right\\}$"
      ],
      "text/plain": [
       "⎧                                 2   ⎫\n",
       "⎨-4⋅\\lambda: 1, 4⋅\\lambda - 4⋅\\tau : 1⎬\n",
       "⎩                                     ⎭"
      ]
     },
     "execution_count": 31,
     "metadata": {},
     "output_type": "execute_result"
    }
   ],
   "source": [
    "J0.subs({a:0}).eigenvals()\n",
    "# both in eigenvalues and fixed points -- underscore that this is also in stationary points\n",
    "# only meaningful for sigma < tau^2\n",
    "# for sigma > tau^2 --> linearize around 0, 0\n",
    "# would have a different expression for 0, 0\n",
    "# bifurcation -- when the stationary points approach the 0, 0 point --> pitchfork bifurcation"
   ]
  },
  {
   "cell_type": "code",
   "execution_count": 32,
   "metadata": {
    "id": "1OniKkKMxCbR"
   },
   "outputs": [],
   "source": [
    "# J0.subs({sig:sym.Rational(1,2)}).eigenvals()"
   ]
  },
  {
   "cell_type": "code",
   "execution_count": 33,
   "metadata": {
    "colab": {
     "base_uri": "https://localhost:8080/",
     "height": 39
    },
    "executionInfo": {
     "elapsed": 4478,
     "status": "ok",
     "timestamp": 1607560964741,
     "user": {
      "displayName": "Maneeshika Madduri",
      "photoUrl": "",
      "userId": "17480917105839477639"
     },
     "user_tz": 360
    },
    "id": "knZBnDQu8l8i",
    "outputId": "17e0ac15-795c-4ee3-9685-31d83af56b6d"
   },
   "outputs": [
    {
     "data": {
      "text/latex": [
       "$\\displaystyle \\left\\{ 4 \\lambda : 1, \\  - 4 \\lambda + 4 \\tau^{2} : 1\\right\\}$"
      ],
      "text/plain": [
       "⎧                                 2   ⎫\n",
       "⎨4⋅\\lambda: 1, -4⋅\\lambda + 4⋅\\tau : 1⎬\n",
       "⎩                                     ⎭"
      ]
     },
     "execution_count": 33,
     "metadata": {},
     "output_type": "execute_result"
    }
   ],
   "source": [
    "# gives us the bounds of sigma \n",
    "# possibly: big tau makes the game easier (larger reaching task is easier)\n",
    "\n",
    "#lambda_bar = max eigenvalue, upper bound rate of convergence in the neighborhood of fixed point\n",
    "\n",
    "H0.eigenvals()"
   ]
  },
  {
   "cell_type": "markdown",
   "metadata": {
    "id": "72HTS0-jA4wY"
   },
   "source": [
    "When it comes to $J = Df(x_0)$, we care about whether **all eigenvalues have negative real part**,\n",
    "\n",
    "$$ \\forall \\lambda \\in \\operatorname{spec} Df(x_0) : \\operatorname{Real}\\lambda < 0, $$\n",
    "\n",
    "because we have the bound \n",
    "\n",
    "$$ \\| x(t) - x_0 \\| \\leq e^{\\overline{\\lambda} t} \\| x(0) - x_0 \\| $$\n",
    "\n",
    "where \n",
    "\n",
    "$$ \\overline{\\lambda} = \\max\\{\\operatorname{Real}\\lambda : \\lambda\\in \\operatorname{spec} Df(x_0)\\}. $$"
   ]
  },
  {
   "cell_type": "markdown",
   "metadata": {
    "id": "X5QdhY0z_QqA"
   },
   "source": [
    "Continuous-time gradient descent has dynamics:\n",
    "\n",
    "$$ \\dot{x} = - De(x) = f(x), $$"
   ]
  },
  {
   "cell_type": "markdown",
   "metadata": {
    "id": "dS3bL7Jk_dQr"
   },
   "source": [
    "So on time horizon $\\Delta > 0$, we have approximately\n",
    "\n",
    "$$ x(t + \\Delta) - x(t) \\approx \\Delta f(x(t)). $$"
   ]
  },
  {
   "cell_type": "markdown",
   "metadata": {
    "id": "lGq5Rb1x_Bob"
   },
   "source": [
    "Discrete-time gradient descent has dynamics:\n",
    "\n",
    "$$ x^+ = x - \\Gamma De(x) = x + \\Gamma f(x) = F(x), $$"
   ]
  },
  {
   "cell_type": "markdown",
   "metadata": {
    "id": "smUdWy3MAHMp"
   },
   "source": [
    "Note that if $x_0$ is stationary:\n",
    "\n",
    "$$ De(x_0) = 0 \\implies f(x_0) = 0 \\implies \\dot{x}_0 = 0 $$\n",
    "\n",
    "$$ De(x_0) = 0 \\implies F(x_0) = x_0 $$"
   ]
  },
  {
   "cell_type": "code",
   "execution_count": 34,
   "metadata": {
    "colab": {
     "base_uri": "https://localhost:8080/",
     "height": 58
    },
    "executionInfo": {
     "elapsed": 4449,
     "status": "ok",
     "timestamp": 1607560964742,
     "user": {
      "displayName": "Maneeshika Madduri",
      "photoUrl": "",
      "userId": "17480917105839477639"
     },
     "user_tz": 360
    },
    "id": "h95QAJyz9MAb",
    "outputId": "91689e50-fc30-418a-bf85-717b1d11db00"
   },
   "outputs": [
    {
     "data": {
      "text/latex": [
       "$\\displaystyle \\left[\\begin{matrix}\\gamma_{k} & 0\\\\0 & \\gamma_{w}\\end{matrix}\\right]$"
      ],
      "text/plain": [
       "⎡\\gammaₖ     0    ⎤\n",
       "⎢                 ⎥\n",
       "⎣   0     \\gamma_w⎦"
      ]
     },
     "execution_count": 34,
     "metadata": {},
     "output_type": "execute_result"
    }
   ],
   "source": [
    "Gamma = sym.Matrix.diag([gam_k,gam_w])\n",
    "Gamma"
   ]
  },
  {
   "cell_type": "code",
   "execution_count": 35,
   "metadata": {
    "colab": {
     "base_uri": "https://localhost:8080/",
     "height": 58
    },
    "executionInfo": {
     "elapsed": 4424,
     "status": "ok",
     "timestamp": 1607560964743,
     "user": {
      "displayName": "Maneeshika Madduri",
      "photoUrl": "",
      "userId": "17480917105839477639"
     },
     "user_tz": 360
    },
    "id": "vGM-usqGkBtO",
    "outputId": "63a46b9e-77f1-469a-e60a-d92f0f6e16ec"
   },
   "outputs": [
    {
     "data": {
      "text/latex": [
       "$\\displaystyle \\left[\\begin{matrix}- 2 \\lambda_{k} k + 2 \\tau w \\left(- \\tau k w + \\tau\\right)\\\\- 2 \\lambda_{w} w + 2 \\tau k \\left(- \\tau k w + \\tau\\right)\\end{matrix}\\right]$"
      ],
      "text/plain": [
       "⎡-2⋅\\lambdaₖ⋅k + 2⋅\\tau⋅w⋅(-\\tau⋅k⋅w + \\tau) ⎤\n",
       "⎢                                            ⎥\n",
       "⎣-2⋅\\lambda_w⋅w + 2⋅\\tau⋅k⋅(-\\tau⋅k⋅w + \\tau)⎦"
      ]
     },
     "execution_count": 35,
     "metadata": {},
     "output_type": "execute_result"
    }
   ],
   "source": [
    "# Recall: f = -1*de = -1*[de_dk, de_dw]\n",
    "f"
   ]
  },
  {
   "cell_type": "code",
   "execution_count": 36,
   "metadata": {
    "colab": {
     "base_uri": "https://localhost:8080/",
     "height": 58
    },
    "executionInfo": {
     "elapsed": 4407,
     "status": "ok",
     "timestamp": 1607560964744,
     "user": {
      "displayName": "Maneeshika Madduri",
      "photoUrl": "",
      "userId": "17480917105839477639"
     },
     "user_tz": 360
    },
    "id": "0pYI-npfy8gv",
    "outputId": "600bab93-e3d8-451c-c54c-19f43f56ea2d"
   },
   "outputs": [
    {
     "data": {
      "text/latex": [
       "$\\displaystyle \\left[\\begin{matrix}\\gamma_{k} \\left(- 2 \\lambda_{k} k + 2 \\tau w \\left(- \\tau k w + \\tau\\right)\\right) + k\\\\\\gamma_{w} \\left(- 2 \\lambda_{w} w + 2 \\tau k \\left(- \\tau k w + \\tau\\right)\\right) + w\\end{matrix}\\right]$"
      ],
      "text/plain": [
       "⎡ \\gammaₖ⋅(-2⋅\\lambdaₖ⋅k + 2⋅\\tau⋅w⋅(-\\tau⋅k⋅w + \\tau)) + k ⎤\n",
       "⎢                                                           ⎥\n",
       "⎣\\gamma_w⋅(-2⋅\\lambda_w⋅w + 2⋅\\tau⋅k⋅(-\\tau⋅k⋅w + \\tau)) + w⎦"
      ]
     },
     "execution_count": 36,
     "metadata": {},
     "output_type": "execute_result"
    }
   ],
   "source": [
    "# Set F as the matrix to describe the update to k+, w+\n",
    "F = sym.Matrix([k,w]) + Gamma * f\n",
    "F"
   ]
  },
  {
   "cell_type": "code",
   "execution_count": 37,
   "metadata": {
    "id": "Ify4LHNdyQkj"
   },
   "outputs": [],
   "source": [
    "# # Set F as the matrix to describe the update to k+, w+\n",
    "# F = sym.Matrix([k,w]) + Gamma * f.subs(subs)\n",
    "# F"
   ]
  },
  {
   "cell_type": "code",
   "execution_count": 38,
   "metadata": {
    "colab": {
     "base_uri": "https://localhost:8080/",
     "height": 58
    },
    "executionInfo": {
     "elapsed": 4351,
     "status": "ok",
     "timestamp": 1607560964745,
     "user": {
      "displayName": "Maneeshika Madduri",
      "photoUrl": "",
      "userId": "17480917105839477639"
     },
     "user_tz": 360
    },
    "id": "RUHpscoy-Jv5",
    "outputId": "935c8f61-bd04-4923-ac76-0f46c3e4b937"
   },
   "outputs": [
    {
     "data": {
      "text/latex": [
       "$\\displaystyle \\left[\\begin{matrix}\\gamma_{k} \\left(- 2 \\lambda_{k} - 2 \\tau^{2} w^{2}\\right) + 1 & \\gamma_{k} \\left(- 2 \\tau^{2} k w + 2 \\tau \\left(- \\tau k w + \\tau\\right)\\right)\\\\\\gamma_{w} \\left(- 2 \\tau^{2} k w + 2 \\tau \\left(- \\tau k w + \\tau\\right)\\right) & \\gamma_{w} \\left(- 2 \\lambda_{w} - 2 \\tau^{2} k^{2}\\right) + 1\\end{matrix}\\right]$"
      ],
      "text/plain": [
       "⎡               ⎛                    2  2⎞                     ⎛        2     \n",
       "⎢       \\gammaₖ⋅⎝-2⋅\\lambdaₖ - 2⋅\\tau ⋅w ⎠ + 1         \\gammaₖ⋅⎝- 2⋅\\tau ⋅k⋅w \n",
       "⎢                                                                             \n",
       "⎢         ⎛        2                                ⎞                ⎛        \n",
       "⎣\\gamma_w⋅⎝- 2⋅\\tau ⋅k⋅w + 2⋅\\tau⋅(-\\tau⋅k⋅w + \\tau)⎠       \\gamma_w⋅⎝-2⋅\\lamb\n",
       "\n",
       "                           ⎞⎤\n",
       "+ 2⋅\\tau⋅(-\\tau⋅k⋅w + \\tau)⎠⎥\n",
       "                            ⎥\n",
       "             2  2⎞          ⎥\n",
       "da_w - 2⋅\\tau ⋅k ⎠ + 1      ⎦"
      ]
     },
     "execution_count": 38,
     "metadata": {},
     "output_type": "execute_result"
    }
   ],
   "source": [
    "# Discrete time, derivative of F\n",
    "DF = F.jacobian([k,w])\n",
    "DF"
   ]
  },
  {
   "cell_type": "code",
   "execution_count": 39,
   "metadata": {
    "colab": {
     "base_uri": "https://localhost:8080/",
     "height": 59
    },
    "executionInfo": {
     "elapsed": 4722,
     "status": "ok",
     "timestamp": 1607560965138,
     "user": {
      "displayName": "Maneeshika Madduri",
      "photoUrl": "",
      "userId": "17480917105839477639"
     },
     "user_tz": 360
    },
    "id": "dBf_O49Xz4ps",
    "outputId": "4c28c58f-e670-47ce-e856-4acfcccbb5c9"
   },
   "outputs": [
    {
     "data": {
      "text/latex": [
       "$\\displaystyle \\left[\\begin{matrix}\\gamma_{k} \\left(- 2 \\lambda - 2 \\tau^{2} \\left(- \\frac{\\lambda}{\\tau^{2}} + 1\\right)\\right) + 1 & \\gamma_{k} \\left(- 2 \\tau^{2} \\left(- \\frac{\\lambda}{\\tau^{2}} + 1\\right) + 2 \\tau \\left(- \\tau \\left(- \\frac{\\lambda}{\\tau^{2}} + 1\\right) + \\tau\\right)\\right)\\\\\\gamma_{w} \\left(- 2 \\tau^{2} \\left(- \\frac{\\lambda}{\\tau^{2}} + 1\\right) + 2 \\tau \\left(- \\tau \\left(- \\frac{\\lambda}{\\tau^{2}} + 1\\right) + \\tau\\right)\\right) & \\gamma_{w} \\left(- 2 \\lambda - 2 \\tau^{2} \\left(- \\frac{\\lambda}{\\tau^{2}} + 1\\right)\\right) + 1\\end{matrix}\\right]$"
      ],
      "text/plain": [
       "⎡                     ⎛                   2 ⎛  \\lambda    ⎞⎞                  \n",
       "⎢             \\gammaₖ⋅⎜-2⋅\\lambda - 2⋅\\tau ⋅⎜- ─────── + 1⎟⎟ + 1              \n",
       "⎢                     ⎜                     ⎜       2     ⎟⎟                  \n",
       "⎢                     ⎝                     ⎝   \\tau      ⎠⎠                  \n",
       "⎢                                                                             \n",
       "⎢         ⎛        2 ⎛  \\lambda    ⎞          ⎛       ⎛  \\lambda    ⎞       ⎞⎞\n",
       "⎢\\gamma_w⋅⎜- 2⋅\\tau ⋅⎜- ─────── + 1⎟ + 2⋅\\tau⋅⎜- \\tau⋅⎜- ─────── + 1⎟ + \\tau⎟⎟\n",
       "⎢         ⎜          ⎜       2     ⎟          ⎜       ⎜       2     ⎟       ⎟⎟\n",
       "⎣         ⎝          ⎝   \\tau      ⎠          ⎝       ⎝   \\tau      ⎠       ⎠⎠\n",
       "\n",
       "          ⎛        2 ⎛  \\lambda    ⎞          ⎛       ⎛  \\lambda    ⎞       ⎞⎞\n",
       "  \\gammaₖ⋅⎜- 2⋅\\tau ⋅⎜- ─────── + 1⎟ + 2⋅\\tau⋅⎜- \\tau⋅⎜- ─────── + 1⎟ + \\tau⎟⎟\n",
       "          ⎜          ⎜       2     ⎟          ⎜       ⎜       2     ⎟       ⎟⎟\n",
       "          ⎝          ⎝   \\tau      ⎠          ⎝       ⎝   \\tau      ⎠       ⎠⎠\n",
       "                                                                              \n",
       "                       ⎛                   2 ⎛  \\lambda    ⎞⎞                 \n",
       "              \\gamma_w⋅⎜-2⋅\\lambda - 2⋅\\tau ⋅⎜- ─────── + 1⎟⎟ + 1             \n",
       "                       ⎜                     ⎜       2     ⎟⎟                 \n",
       "                       ⎝                     ⎝   \\tau      ⎠⎠                 \n",
       "\n",
       "⎤\n",
       "⎥\n",
       "⎥\n",
       "⎥\n",
       "⎥\n",
       "⎥\n",
       "⎥\n",
       "⎥\n",
       "⎦"
      ]
     },
     "execution_count": 39,
     "metadata": {},
     "output_type": "execute_result"
    }
   ],
   "source": [
    "# x0 = {k:k0,w:w0}\n",
    "DF.subs(x0).subs({lam_k:lam, lam_w:lam})"
   ]
  },
  {
   "cell_type": "code",
   "execution_count": 40,
   "metadata": {
    "colab": {
     "base_uri": "https://localhost:8080/",
     "height": 67
    },
    "executionInfo": {
     "elapsed": 4699,
     "status": "ok",
     "timestamp": 1607560965140,
     "user": {
      "displayName": "Maneeshika Madduri",
      "photoUrl": "",
      "userId": "17480917105839477639"
     },
     "user_tz": 360
    },
    "id": "WEAjrrwP-sAj",
    "outputId": "a370d8ed-4945-4ba4-d722-b5500ea21348"
   },
   "outputs": [
    {
     "data": {
      "text/latex": [
       "$\\displaystyle \\left\\{ - \\gamma_{k} \\lambda_{k} - \\gamma_{k} \\tau^{2} w^{2} - \\gamma_{w} \\lambda_{w} - \\gamma_{w} \\tau^{2} k^{2} - \\sqrt{\\gamma_{k}^{2} \\lambda_{k}^{2} + 2 \\gamma_{k}^{2} \\lambda_{k} \\tau^{2} w^{2} + \\gamma_{k}^{2} \\tau^{4} w^{4} - 2 \\gamma_{k} \\gamma_{w} \\lambda_{k} \\lambda_{w} - 2 \\gamma_{k} \\gamma_{w} \\lambda_{k} \\tau^{2} k^{2} - 2 \\gamma_{k} \\gamma_{w} \\lambda_{w} \\tau^{2} w^{2} + 14 \\gamma_{k} \\gamma_{w} \\tau^{4} k^{2} w^{2} - 16 \\gamma_{k} \\gamma_{w} \\tau^{4} k w + 4 \\gamma_{k} \\gamma_{w} \\tau^{4} + \\gamma_{w}^{2} \\lambda_{w}^{2} + 2 \\gamma_{w}^{2} \\lambda_{w} \\tau^{2} k^{2} + \\gamma_{w}^{2} \\tau^{4} k^{4}} + 1 : 1, \\  - \\gamma_{k} \\lambda_{k} - \\gamma_{k} \\tau^{2} w^{2} - \\gamma_{w} \\lambda_{w} - \\gamma_{w} \\tau^{2} k^{2} + \\sqrt{\\gamma_{k}^{2} \\lambda_{k}^{2} + 2 \\gamma_{k}^{2} \\lambda_{k} \\tau^{2} w^{2} + \\gamma_{k}^{2} \\tau^{4} w^{4} - 2 \\gamma_{k} \\gamma_{w} \\lambda_{k} \\lambda_{w} - 2 \\gamma_{k} \\gamma_{w} \\lambda_{k} \\tau^{2} k^{2} - 2 \\gamma_{k} \\gamma_{w} \\lambda_{w} \\tau^{2} w^{2} + 14 \\gamma_{k} \\gamma_{w} \\tau^{4} k^{2} w^{2} - 16 \\gamma_{k} \\gamma_{w} \\tau^{4} k w + 4 \\gamma_{k} \\gamma_{w} \\tau^{4} + \\gamma_{w}^{2} \\lambda_{w}^{2} + 2 \\gamma_{w}^{2} \\lambda_{w} \\tau^{2} k^{2} + \\gamma_{w}^{2} \\tau^{4} k^{4}} + 1 : 1\\right\\}$"
      ],
      "text/plain": [
       "⎧                                                                             \n",
       "⎨                                2  2                                     2  2\n",
       "⎩-\\gammaₖ⋅\\lambdaₖ - \\gammaₖ⋅\\tau ⋅w  - \\gamma_w⋅\\lambda_w - \\gamma_w⋅\\tau ⋅k \n",
       "\n",
       "      ________________________________________________________________________\n",
       "     ╱        2         2            2              2  2          2     4  4  \n",
       " - ╲╱  \\gammaₖ ⋅\\lambdaₖ  + 2⋅\\gammaₖ ⋅\\lambdaₖ⋅\\tau ⋅w  + \\gammaₖ ⋅\\tau ⋅w  -\n",
       "\n",
       "______________________________________________________________________________\n",
       "                                                                         2  2 \n",
       " 2⋅\\gammaₖ⋅\\gamma_w⋅\\lambdaₖ⋅\\lambda_w - 2⋅\\gammaₖ⋅\\gamma_w⋅\\lambdaₖ⋅\\tau ⋅k  \n",
       "\n",
       "______________________________________________________________________________\n",
       "                                   2  2                           4  2  2     \n",
       "- 2⋅\\gammaₖ⋅\\gamma_w⋅\\lambda_w⋅\\tau ⋅w  + 14⋅\\gammaₖ⋅\\gamma_w⋅\\tau ⋅k ⋅w  - 16\n",
       "\n",
       "______________________________________________________________________________\n",
       "                      4                              4           2          2 \n",
       "⋅\\gammaₖ⋅\\gamma_w⋅\\tau ⋅k⋅w + 4⋅\\gammaₖ⋅\\gamma_w⋅\\tau  + \\gamma_w ⋅\\lambda_w  \n",
       "\n",
       "______________________________________________________                        \n",
       "            2               2  2           2     4  4                         \n",
       "+ 2⋅\\gamma_w ⋅\\lambda_w⋅\\tau ⋅k  + \\gamma_w ⋅\\tau ⋅k   + 1: 1, -\\gammaₖ⋅\\lambd\n",
       "\n",
       "                                                                    __________\n",
       "                 2  2                                     2  2     ╱        2 \n",
       "aₖ - \\gammaₖ⋅\\tau ⋅w  - \\gamma_w⋅\\lambda_w - \\gamma_w⋅\\tau ⋅k  + ╲╱  \\gammaₖ ⋅\n",
       "\n",
       "______________________________________________________________________________\n",
       "        2            2              2  2          2     4  4                  \n",
       "\\lambdaₖ  + 2⋅\\gammaₖ ⋅\\lambdaₖ⋅\\tau ⋅w  + \\gammaₖ ⋅\\tau ⋅w  - 2⋅\\gammaₖ⋅\\gamm\n",
       "\n",
       "______________________________________________________________________________\n",
       "                                                         2  2                 \n",
       "a_w⋅\\lambdaₖ⋅\\lambda_w - 2⋅\\gammaₖ⋅\\gamma_w⋅\\lambdaₖ⋅\\tau ⋅k  - 2⋅\\gammaₖ⋅\\gam\n",
       "\n",
       "______________________________________________________________________________\n",
       "                   2  2                           4  2  2                     \n",
       "ma_w⋅\\lambda_w⋅\\tau ⋅w  + 14⋅\\gammaₖ⋅\\gamma_w⋅\\tau ⋅k ⋅w  - 16⋅\\gammaₖ⋅\\gamma_\n",
       "\n",
       "______________________________________________________________________________\n",
       "      4                              4           2          2             2   \n",
       "w⋅\\tau ⋅k⋅w + 4⋅\\gammaₖ⋅\\gamma_w⋅\\tau  + \\gamma_w ⋅\\lambda_w  + 2⋅\\gamma_w ⋅\\l\n",
       "\n",
       "______________________________________       ⎫\n",
       "            2  2           2     4  4        ⎬\n",
       "ambda_w⋅\\tau ⋅k  + \\gamma_w ⋅\\tau ⋅k   + 1: 1⎭"
      ]
     },
     "execution_count": 40,
     "metadata": {},
     "output_type": "execute_result"
    }
   ],
   "source": [
    "# Sub in the stationary point for the eignenvalues\n",
    "# Take Jacobian of F, find eigenvalues and evaluate at the fixed point\n",
    "DF.eigenvals()"
   ]
  },
  {
   "cell_type": "code",
   "execution_count": 41,
   "metadata": {
    "colab": {
     "base_uri": "https://localhost:8080/",
     "height": 67
    },
    "executionInfo": {
     "elapsed": 4675,
     "status": "ok",
     "timestamp": 1607560965143,
     "user": {
      "displayName": "Maneeshika Madduri",
      "photoUrl": "",
      "userId": "17480917105839477639"
     },
     "user_tz": 360
    },
    "id": "hIW4MGGP0OfR",
    "outputId": "b017edb3-7287-4059-8d41-3332df1ce1c7"
   },
   "outputs": [
    {
     "data": {
      "text/latex": [
       "$\\displaystyle \\left\\{ - \\gamma_{k} \\tau^{2} - \\gamma_{w} \\tau^{2} - \\sqrt{\\gamma_{k}^{2} \\tau^{4} + 16 \\gamma_{k} \\gamma_{w} \\lambda^{2} - 16 \\gamma_{k} \\gamma_{w} \\lambda \\tau^{2} + 2 \\gamma_{k} \\gamma_{w} \\tau^{4} + \\gamma_{w}^{2} \\tau^{4}} + 1 : 1, \\  - \\gamma_{k} \\tau^{2} - \\gamma_{w} \\tau^{2} + \\sqrt{\\gamma_{k}^{2} \\tau^{4} + 16 \\gamma_{k} \\gamma_{w} \\lambda^{2} - 16 \\gamma_{k} \\gamma_{w} \\lambda \\tau^{2} + 2 \\gamma_{k} \\gamma_{w} \\tau^{4} + \\gamma_{w}^{2} \\tau^{4}} + 1 : 1\\right\\}$"
      ],
      "text/plain": [
       "⎧                                      _______________________________________\n",
       "⎨              2                2     ╱        2     4                        \n",
       "⎩- \\gammaₖ⋅\\tau  - \\gamma_w⋅\\tau  - ╲╱  \\gammaₖ ⋅\\tau  + 16⋅\\gammaₖ⋅\\gamma_w⋅\\\n",
       "\n",
       "______________________________________________________________________________\n",
       "      2                                   2                          4        \n",
       "lambda  - 16⋅\\gammaₖ⋅\\gamma_w⋅\\lambda⋅\\tau  + 2⋅\\gammaₖ⋅\\gamma_w⋅\\tau  + \\gamm\n",
       "\n",
       "___________                                               ____________________\n",
       "   2     4                        2                2     ╱        2     4     \n",
       "a_w ⋅\\tau   + 1: 1, - \\gammaₖ⋅\\tau  - \\gamma_w⋅\\tau  + ╲╱  \\gammaₖ ⋅\\tau  + 16\n",
       "\n",
       "______________________________________________________________________________\n",
       "                         2                                   2                \n",
       "⋅\\gammaₖ⋅\\gamma_w⋅\\lambda  - 16⋅\\gammaₖ⋅\\gamma_w⋅\\lambda⋅\\tau  + 2⋅\\gammaₖ⋅\\ga\n",
       "\n",
       "______________________________       ⎫\n",
       "          4           2     4        ⎬\n",
       "mma_w⋅\\tau  + \\gamma_w ⋅\\tau   + 1: 1⎭"
      ]
     },
     "execution_count": 41,
     "metadata": {},
     "output_type": "execute_result"
    }
   ],
   "source": [
    "DF.subs(x0).subs({lam_k:lam, lam_w:lam}).eigenvals()"
   ]
  },
  {
   "cell_type": "code",
   "execution_count": 42,
   "metadata": {
    "colab": {
     "base_uri": "https://localhost:8080/",
     "height": 47
    },
    "executionInfo": {
     "elapsed": 5048,
     "status": "ok",
     "timestamp": 1607560965534,
     "user": {
      "displayName": "Maneeshika Madduri",
      "photoUrl": "",
      "userId": "17480917105839477639"
     },
     "user_tz": 360
    },
    "id": "6BKIppSW6_Kw",
    "outputId": "736cfeb0-62cb-41f4-b249-5c090f75ad69"
   },
   "outputs": [
    {
     "data": {
      "text/latex": [
       "$\\displaystyle \\left\\{ - \\gamma_{k} - \\gamma_{w} - \\sqrt{\\gamma_{k}^{2} + 16 \\gamma_{k} \\gamma_{w} \\lambda^{2} - 16 \\gamma_{k} \\gamma_{w} \\lambda + 2 \\gamma_{k} \\gamma_{w} + \\gamma_{w}^{2}} + 1 : 1, \\  - \\gamma_{k} - \\gamma_{w} + \\sqrt{\\gamma_{k}^{2} + 16 \\gamma_{k} \\gamma_{w} \\lambda^{2} - 16 \\gamma_{k} \\gamma_{w} \\lambda + 2 \\gamma_{k} \\gamma_{w} + \\gamma_{w}^{2}} + 1 : 1\\right\\}$"
      ],
      "text/plain": [
       "⎧                         ____________________________________________________\n",
       "⎨                        ╱        2                              2            \n",
       "⎩-\\gammaₖ - \\gamma_w - ╲╱  \\gammaₖ  + 16⋅\\gammaₖ⋅\\gamma_w⋅\\lambda  - 16⋅\\gamma\n",
       "\n",
       "____________________________________________________                          \n",
       "                                                  2                           \n",
       "ₖ⋅\\gamma_w⋅\\lambda + 2⋅\\gammaₖ⋅\\gamma_w + \\gamma_w   + 1: 1, -\\gammaₖ - \\gamma\n",
       "\n",
       "        ______________________________________________________________________\n",
       "       ╱        2                              2                              \n",
       "_w + ╲╱  \\gammaₖ  + 16⋅\\gammaₖ⋅\\gamma_w⋅\\lambda  - 16⋅\\gammaₖ⋅\\gamma_w⋅\\lambda\n",
       "\n",
       "__________________________________       ⎫\n",
       "                                2        ⎬\n",
       " + 2⋅\\gammaₖ⋅\\gamma_w + \\gamma_w   + 1: 1⎭"
      ]
     },
     "execution_count": 42,
     "metadata": {},
     "output_type": "execute_result"
    }
   ],
   "source": [
    "DF.subs(x0).subs({lam_k:lam, lam_w:lam}).subs({tau:1}).eigenvals()"
   ]
  },
  {
   "cell_type": "code",
   "execution_count": 43,
   "metadata": {
    "colab": {
     "base_uri": "https://localhost:8080/",
     "height": 38
    },
    "executionInfo": {
     "elapsed": 5022,
     "status": "ok",
     "timestamp": 1607560965535,
     "user": {
      "displayName": "Maneeshika Madduri",
      "photoUrl": "",
      "userId": "17480917105839477639"
     },
     "user_tz": 360
    },
    "id": "TgCS8WYo7Gb9",
    "outputId": "5a31ea59-ff4d-445e-cb2a-9a1e05056df5"
   },
   "outputs": [
    {
     "data": {
      "text/latex": [
       "$\\displaystyle \\left\\{ 1 - 2 \\gamma_{k} : 1, \\  1 - 2 \\gamma_{w} : 1\\right\\}$"
      ],
      "text/plain": [
       "{1 - 2⋅\\gammaₖ: 1, 1 - 2⋅\\gamma_w: 1}"
      ]
     },
     "execution_count": 43,
     "metadata": {},
     "output_type": "execute_result"
    }
   ],
   "source": [
    "DF.subs(x0).subs({lam_k:lam, lam_w:lam}).subs({tau:1}).subs({lam:sym.Rational(1,2)}).eigenvals()"
   ]
  },
  {
   "cell_type": "markdown",
   "metadata": {
    "id": "HSj5chveArGE"
   },
   "source": [
    "When it comes to $DF(x_0)$, we care about whether **all** eigenvalues have magnitude smaller than $1$,\n",
    "\n",
    "$$ \\forall \\lambda \\in \\operatorname{spec} DF(x_0) : |\\lambda| < 1, $$\n",
    "\n",
    "because we have the bound \n",
    "\n",
    "$$ \\| x(k) - x_0 \\| \\leq \\widetilde{\\lambda}^k \\| x(0) - x_0 \\| $$\n",
    "\n",
    "where \n",
    "\n",
    "$$ \\widetilde{\\lambda} = \\max\\{|\\lambda| : \\lambda\\in \\operatorname{spec} DF(x_0)\\}. $$"
   ]
  },
  {
   "cell_type": "code",
   "execution_count": 44,
   "metadata": {
    "colab": {
     "base_uri": "https://localhost:8080/",
     "height": 67
    },
    "executionInfo": {
     "elapsed": 4995,
     "status": "ok",
     "timestamp": 1607560965536,
     "user": {
      "displayName": "Maneeshika Madduri",
      "photoUrl": "",
      "userId": "17480917105839477639"
     },
     "user_tz": 360
    },
    "id": "rdsFWJKG0U8h",
    "outputId": "16213bb9-caef-4986-a569-0439524f4c68"
   },
   "outputs": [
    {
     "data": {
      "text/latex": [
       "$\\displaystyle \\left\\{ - \\gamma_{k} \\lambda - \\gamma_{k} w^{2} - \\gamma_{w} \\lambda - \\gamma_{w} k^{2} - \\sqrt{\\gamma_{k}^{2} \\lambda^{2} + 2 \\gamma_{k}^{2} \\lambda w^{2} + \\gamma_{k}^{2} w^{4} - 2 \\gamma_{k} \\gamma_{w} \\lambda^{2} - 2 \\gamma_{k} \\gamma_{w} \\lambda k^{2} - 2 \\gamma_{k} \\gamma_{w} \\lambda w^{2} + 14 \\gamma_{k} \\gamma_{w} k^{2} w^{2} - 16 \\gamma_{k} \\gamma_{w} k w + 4 \\gamma_{k} \\gamma_{w} + \\gamma_{w}^{2} \\lambda^{2} + 2 \\gamma_{w}^{2} \\lambda k^{2} + \\gamma_{w}^{2} k^{4}} + 1 : 1, \\  - \\gamma_{k} \\lambda - \\gamma_{k} w^{2} - \\gamma_{w} \\lambda - \\gamma_{w} k^{2} + \\sqrt{\\gamma_{k}^{2} \\lambda^{2} + 2 \\gamma_{k}^{2} \\lambda w^{2} + \\gamma_{k}^{2} w^{4} - 2 \\gamma_{k} \\gamma_{w} \\lambda^{2} - 2 \\gamma_{k} \\gamma_{w} \\lambda k^{2} - 2 \\gamma_{k} \\gamma_{w} \\lambda w^{2} + 14 \\gamma_{k} \\gamma_{w} k^{2} w^{2} - 16 \\gamma_{k} \\gamma_{w} k w + 4 \\gamma_{k} \\gamma_{w} + \\gamma_{w}^{2} \\lambda^{2} + 2 \\gamma_{w}^{2} \\lambda k^{2} + \\gamma_{w}^{2} k^{4}} + 1 : 1\\right\\}$"
      ],
      "text/plain": [
       "⎧                                                                    _________\n",
       "⎨                            2                                2     ╱        2\n",
       "⎩-\\gammaₖ⋅\\lambda - \\gammaₖ⋅w  - \\gamma_w⋅\\lambda - \\gamma_w⋅k  - ╲╱  \\gammaₖ \n",
       "\n",
       "______________________________________________________________________________\n",
       "        2            2          2          2  4                             2 \n",
       "⋅\\lambda  + 2⋅\\gammaₖ ⋅\\lambda⋅w  + \\gammaₖ ⋅w  - 2⋅\\gammaₖ⋅\\gamma_w⋅\\lambda  \n",
       "\n",
       "______________________________________________________________________________\n",
       "                              2                               2               \n",
       "- 2⋅\\gammaₖ⋅\\gamma_w⋅\\lambda⋅k  - 2⋅\\gammaₖ⋅\\gamma_w⋅\\lambda⋅w  + 14⋅\\gammaₖ⋅\\\n",
       "\n",
       "______________________________________________________________________________\n",
       "         2  2                                                          2      \n",
       "gamma_w⋅k ⋅w  - 16⋅\\gammaₖ⋅\\gamma_w⋅k⋅w + 4⋅\\gammaₖ⋅\\gamma_w + \\gamma_w ⋅\\lamb\n",
       "\n",
       "____________________________________________                                  \n",
       "  2             2          2           2  4                                   \n",
       "da  + 2⋅\\gamma_w ⋅\\lambda⋅k  + \\gamma_w ⋅k   + 1: 1, -\\gammaₖ⋅\\lambda - \\gamma\n",
       "\n",
       "                                           ___________________________________\n",
       "   2                                2     ╱        2        2            2    \n",
       "ₖ⋅w  - \\gamma_w⋅\\lambda - \\gamma_w⋅k  + ╲╱  \\gammaₖ ⋅\\lambda  + 2⋅\\gammaₖ ⋅\\la\n",
       "\n",
       "______________________________________________________________________________\n",
       "      2          2  4                             2                           \n",
       "mbda⋅w  + \\gammaₖ ⋅w  - 2⋅\\gammaₖ⋅\\gamma_w⋅\\lambda  - 2⋅\\gammaₖ⋅\\gamma_w⋅\\lamb\n",
       "\n",
       "______________________________________________________________________________\n",
       "    2                               2                        2  2             \n",
       "da⋅k  - 2⋅\\gammaₖ⋅\\gamma_w⋅\\lambda⋅w  + 14⋅\\gammaₖ⋅\\gamma_w⋅k ⋅w  - 16⋅\\gammaₖ\n",
       "\n",
       "______________________________________________________________________________\n",
       "                                             2        2             2         \n",
       "⋅\\gamma_w⋅k⋅w + 4⋅\\gammaₖ⋅\\gamma_w + \\gamma_w ⋅\\lambda  + 2⋅\\gamma_w ⋅\\lambda⋅\n",
       "\n",
       "__________________       ⎫\n",
       " 2           2  4        ⎬\n",
       "k  + \\gamma_w ⋅k   + 1: 1⎭"
      ]
     },
     "execution_count": 44,
     "metadata": {},
     "output_type": "execute_result"
    }
   ],
   "source": [
    "#x0 = k0, w0\n",
    "DF.subs({lam_k:lam, lam_w:lam}).subs({a:0, tau:1}).eigenvals()"
   ]
  },
  {
   "cell_type": "code",
   "execution_count": 45,
   "metadata": {
    "colab": {
     "base_uri": "https://localhost:8080/",
     "height": 47
    },
    "executionInfo": {
     "elapsed": 5920,
     "status": "ok",
     "timestamp": 1607560966481,
     "user": {
      "displayName": "Maneeshika Madduri",
      "photoUrl": "",
      "userId": "17480917105839477639"
     },
     "user_tz": 360
    },
    "id": "LFVheObN95ij",
    "outputId": "b4b337e7-7bd9-4fc7-836f-5bf8cd37c824"
   },
   "outputs": [
    {
     "data": {
      "text/latex": [
       "$\\displaystyle \\left\\{ - \\gamma_{k} - \\gamma_{w} - \\sqrt{\\gamma_{k}^{2} + 16 \\gamma_{k} \\gamma_{w} \\lambda^{2} - 16 \\gamma_{k} \\gamma_{w} \\lambda + 2 \\gamma_{k} \\gamma_{w} + \\gamma_{w}^{2}} + 1 : 1, \\  - \\gamma_{k} - \\gamma_{w} + \\sqrt{\\gamma_{k}^{2} + 16 \\gamma_{k} \\gamma_{w} \\lambda^{2} - 16 \\gamma_{k} \\gamma_{w} \\lambda + 2 \\gamma_{k} \\gamma_{w} + \\gamma_{w}^{2}} + 1 : 1\\right\\}$"
      ],
      "text/plain": [
       "⎧                         ____________________________________________________\n",
       "⎨                        ╱        2                              2            \n",
       "⎩-\\gammaₖ - \\gamma_w - ╲╱  \\gammaₖ  + 16⋅\\gammaₖ⋅\\gamma_w⋅\\lambda  - 16⋅\\gamma\n",
       "\n",
       "____________________________________________________                          \n",
       "                                                  2                           \n",
       "ₖ⋅\\gamma_w⋅\\lambda + 2⋅\\gammaₖ⋅\\gamma_w + \\gamma_w   + 1: 1, -\\gammaₖ - \\gamma\n",
       "\n",
       "        ______________________________________________________________________\n",
       "       ╱        2                              2                              \n",
       "_w + ╲╱  \\gammaₖ  + 16⋅\\gammaₖ⋅\\gamma_w⋅\\lambda  - 16⋅\\gammaₖ⋅\\gamma_w⋅\\lambda\n",
       "\n",
       "__________________________________       ⎫\n",
       "                                2        ⎬\n",
       " + 2⋅\\gammaₖ⋅\\gamma_w + \\gamma_w   + 1: 1⎭"
      ]
     },
     "execution_count": 45,
     "metadata": {},
     "output_type": "execute_result"
    }
   ],
   "source": [
    "# iterative gradient descent converges?\n",
    "# Two-Learner paper connection: learning rates can't be too large or small\n",
    "# DF.subs(x0).subs({a:0, tau:1, lam:sym.Rational(1,2)}).eigenvals()\n",
    "DF.subs(x0).subs({a:0, tau:1, lam_k:lam, lam_w:lam}).eigenvals()"
   ]
  },
  {
   "cell_type": "code",
   "execution_count": 46,
   "metadata": {
    "colab": {
     "base_uri": "https://localhost:8080/",
     "height": 38
    },
    "executionInfo": {
     "elapsed": 5910,
     "status": "ok",
     "timestamp": 1607560966486,
     "user": {
      "displayName": "Maneeshika Madduri",
      "photoUrl": "",
      "userId": "17480917105839477639"
     },
     "user_tz": 360
    },
    "id": "5Q9R6T2myFgb",
    "outputId": "22e8ee5f-cb54-4f87-8fdb-ef00be645ac7"
   },
   "outputs": [
    {
     "data": {
      "text/latex": [
       "$\\displaystyle \\left\\{ 1 - 2 \\gamma_{k} : 1, \\  1 - 2 \\gamma_{w} : 1\\right\\}$"
      ],
      "text/plain": [
       "{1 - 2⋅\\gammaₖ: 1, 1 - 2⋅\\gamma_w: 1}"
      ]
     },
     "execution_count": 46,
     "metadata": {},
     "output_type": "execute_result"
    }
   ],
   "source": [
    "# # substitution of sigma = 1/2\n",
    "\n",
    "# DF.subs({a:0, tau:1, lam_k:lam, lam_w:lam, lam:sym.Rational(1,2)}).eigenvals()\n",
    "DF.subs(x0).subs({a:0, tau:1, lam_k: lam, lam_w:lam}). subs({lam:sym.Rational(1,2)}).eigenvals()"
   ]
  },
  {
   "cell_type": "code",
   "execution_count": 47,
   "metadata": {
    "colab": {
     "base_uri": "https://localhost:8080/",
     "height": 39
    },
    "executionInfo": {
     "elapsed": 5889,
     "status": "ok",
     "timestamp": 1607560966490,
     "user": {
      "displayName": "Maneeshika Madduri",
      "photoUrl": "",
      "userId": "17480917105839477639"
     },
     "user_tz": 360
    },
    "id": "phXjT1o_LkhQ",
    "outputId": "a9236f45-afa4-4961-e002-74a78202af73"
   },
   "outputs": [
    {
     "data": {
      "text/latex": [
       "$\\displaystyle \\left\\{ \\frac{497}{500} - \\frac{3 \\lambda_{k}}{250} : 1, \\  \\frac{497}{500} - \\frac{3 \\lambda_{w}}{250} : 1\\right\\}$"
      ],
      "text/plain": [
       "⎧497   3⋅\\lambdaₖ     497   3⋅\\lambda_w   ⎫\n",
       "⎨─── - ──────────: 1, ─── - ───────────: 1⎬\n",
       "⎩500      250         500       250       ⎭"
      ]
     },
     "execution_count": 47,
     "metadata": {},
     "output_type": "execute_result"
    }
   ],
   "source": [
    "DF.subs(x0).subs({lam:sym.Rational(1,2), gam_k:sym.Rational(6,1000), gam_w:sym.Rational(6,1000), tau:1, a:0}).eigenvals()\n"
   ]
  },
  {
   "cell_type": "code",
   "execution_count": 48,
   "metadata": {
    "colab": {
     "base_uri": "https://localhost:8080/",
     "height": 67
    },
    "executionInfo": {
     "elapsed": 6331,
     "status": "ok",
     "timestamp": 1607560966945,
     "user": {
      "displayName": "Maneeshika Madduri",
      "photoUrl": "",
      "userId": "17480917105839477639"
     },
     "user_tz": 360
    },
    "id": "NQcnFxuvo2d1",
    "outputId": "adabb620-2a42-4ec8-8e2e-f27fe45ed56b"
   },
   "outputs": [
    {
     "data": {
      "text/latex": [
       "$\\displaystyle \\left\\{ \\gamma_{k} \\lambda - \\gamma_{k} \\lambda_{k} - \\gamma_{k} + \\gamma_{w} \\lambda - \\gamma_{w} \\lambda_{w} - \\gamma_{w} - \\sqrt{\\gamma_{k}^{2} \\lambda^{2} - 2 \\gamma_{k}^{2} \\lambda \\lambda_{k} - 2 \\gamma_{k}^{2} \\lambda + \\gamma_{k}^{2} \\lambda_{k}^{2} + 2 \\gamma_{k}^{2} \\lambda_{k} + \\gamma_{k}^{2} + 14 \\gamma_{k} \\gamma_{w} \\lambda^{2} + 2 \\gamma_{k} \\gamma_{w} \\lambda \\lambda_{k} + 2 \\gamma_{k} \\gamma_{w} \\lambda \\lambda_{w} - 12 \\gamma_{k} \\gamma_{w} \\lambda - 2 \\gamma_{k} \\gamma_{w} \\lambda_{k} \\lambda_{w} - 2 \\gamma_{k} \\gamma_{w} \\lambda_{k} - 2 \\gamma_{k} \\gamma_{w} \\lambda_{w} + 2 \\gamma_{k} \\gamma_{w} + \\gamma_{w}^{2} \\lambda^{2} - 2 \\gamma_{w}^{2} \\lambda \\lambda_{w} - 2 \\gamma_{w}^{2} \\lambda + \\gamma_{w}^{2} \\lambda_{w}^{2} + 2 \\gamma_{w}^{2} \\lambda_{w} + \\gamma_{w}^{2}} + 1 : 1, \\  \\gamma_{k} \\lambda - \\gamma_{k} \\lambda_{k} - \\gamma_{k} + \\gamma_{w} \\lambda - \\gamma_{w} \\lambda_{w} - \\gamma_{w} + \\sqrt{\\gamma_{k}^{2} \\lambda^{2} - 2 \\gamma_{k}^{2} \\lambda \\lambda_{k} - 2 \\gamma_{k}^{2} \\lambda + \\gamma_{k}^{2} \\lambda_{k}^{2} + 2 \\gamma_{k}^{2} \\lambda_{k} + \\gamma_{k}^{2} + 14 \\gamma_{k} \\gamma_{w} \\lambda^{2} + 2 \\gamma_{k} \\gamma_{w} \\lambda \\lambda_{k} + 2 \\gamma_{k} \\gamma_{w} \\lambda \\lambda_{w} - 12 \\gamma_{k} \\gamma_{w} \\lambda - 2 \\gamma_{k} \\gamma_{w} \\lambda_{k} \\lambda_{w} - 2 \\gamma_{k} \\gamma_{w} \\lambda_{k} - 2 \\gamma_{k} \\gamma_{w} \\lambda_{w} + 2 \\gamma_{k} \\gamma_{w} + \\gamma_{w}^{2} \\lambda^{2} - 2 \\gamma_{w}^{2} \\lambda \\lambda_{w} - 2 \\gamma_{w}^{2} \\lambda + \\gamma_{w}^{2} \\lambda_{w}^{2} + 2 \\gamma_{w}^{2} \\lambda_{w} + \\gamma_{w}^{2}} + 1 : 1\\right\\}$"
      ],
      "text/plain": [
       "⎧                                                                             \n",
       "⎨                                                                             \n",
       "⎩\\gammaₖ⋅\\lambda - \\gammaₖ⋅\\lambdaₖ - \\gammaₖ + \\gamma_w⋅\\lambda - \\gamma_w⋅\\l\n",
       "\n",
       "                        ______________________________________________________\n",
       "                       ╱        2        2            2                       \n",
       "ambda_w - \\gamma_w - ╲╱  \\gammaₖ ⋅\\lambda  - 2⋅\\gammaₖ ⋅\\lambda⋅\\lambdaₖ - 2⋅\\\n",
       "\n",
       "______________________________________________________________________________\n",
       "      2                  2         2            2                   2         \n",
       "gammaₖ ⋅\\lambda + \\gammaₖ ⋅\\lambdaₖ  + 2⋅\\gammaₖ ⋅\\lambdaₖ + \\gammaₖ  + 14⋅\\ga\n",
       "\n",
       "______________________________________________________________________________\n",
       "                     2                                                        \n",
       "mmaₖ⋅\\gamma_w⋅\\lambda  + 2⋅\\gammaₖ⋅\\gamma_w⋅\\lambda⋅\\lambdaₖ + 2⋅\\gammaₖ⋅\\gamm\n",
       "\n",
       "______________________________________________________________________________\n",
       "                                                                              \n",
       "a_w⋅\\lambda⋅\\lambda_w - 12⋅\\gammaₖ⋅\\gamma_w⋅\\lambda - 2⋅\\gammaₖ⋅\\gamma_w⋅\\lamb\n",
       "\n",
       "______________________________________________________________________________\n",
       "                                                                              \n",
       "daₖ⋅\\lambda_w - 2⋅\\gammaₖ⋅\\gamma_w⋅\\lambdaₖ - 2⋅\\gammaₖ⋅\\gamma_w⋅\\lambda_w + 2\n",
       "\n",
       "______________________________________________________________________________\n",
       "                            2        2             2                          \n",
       "⋅\\gammaₖ⋅\\gamma_w + \\gamma_w ⋅\\lambda  - 2⋅\\gamma_w ⋅\\lambda⋅\\lambda_w - 2⋅\\ga\n",
       "\n",
       "__________________________________________________________________________    \n",
       "     2                   2          2             2                     2     \n",
       "mma_w ⋅\\lambda + \\gamma_w ⋅\\lambda_w  + 2⋅\\gamma_w ⋅\\lambda_w + \\gamma_w   + 1\n",
       "\n",
       "                                                                              \n",
       "                                                                              \n",
       ": 1, \\gammaₖ⋅\\lambda - \\gammaₖ⋅\\lambdaₖ - \\gammaₖ + \\gamma_w⋅\\lambda - \\gamma_\n",
       "\n",
       "                            __________________________________________________\n",
       "                           ╱        2        2            2                   \n",
       "w⋅\\lambda_w - \\gamma_w + ╲╱  \\gammaₖ ⋅\\lambda  - 2⋅\\gammaₖ ⋅\\lambda⋅\\lambdaₖ -\n",
       "\n",
       "______________________________________________________________________________\n",
       "          2                  2         2            2                   2     \n",
       " 2⋅\\gammaₖ ⋅\\lambda + \\gammaₖ ⋅\\lambdaₖ  + 2⋅\\gammaₖ ⋅\\lambdaₖ + \\gammaₖ  + 14\n",
       "\n",
       "______________________________________________________________________________\n",
       "                         2                                                    \n",
       "⋅\\gammaₖ⋅\\gamma_w⋅\\lambda  + 2⋅\\gammaₖ⋅\\gamma_w⋅\\lambda⋅\\lambdaₖ + 2⋅\\gammaₖ⋅\\\n",
       "\n",
       "______________________________________________________________________________\n",
       "                                                                              \n",
       "gamma_w⋅\\lambda⋅\\lambda_w - 12⋅\\gammaₖ⋅\\gamma_w⋅\\lambda - 2⋅\\gammaₖ⋅\\gamma_w⋅\\\n",
       "\n",
       "______________________________________________________________________________\n",
       "                                                                              \n",
       "lambdaₖ⋅\\lambda_w - 2⋅\\gammaₖ⋅\\gamma_w⋅\\lambdaₖ - 2⋅\\gammaₖ⋅\\gamma_w⋅\\lambda_w\n",
       "\n",
       "______________________________________________________________________________\n",
       "                                2        2             2                      \n",
       " + 2⋅\\gammaₖ⋅\\gamma_w + \\gamma_w ⋅\\lambda  - 2⋅\\gamma_w ⋅\\lambda⋅\\lambda_w - 2\n",
       "\n",
       "______________________________________________________________________________\n",
       "         2                   2          2             2                     2 \n",
       "⋅\\gamma_w ⋅\\lambda + \\gamma_w ⋅\\lambda_w  + 2⋅\\gamma_w ⋅\\lambda_w + \\gamma_w  \n",
       "\n",
       "       ⎫\n",
       "       ⎬\n",
       " + 1: 1⎭"
      ]
     },
     "execution_count": 48,
     "metadata": {},
     "output_type": "execute_result"
    }
   ],
   "source": [
    "DF.subs(x0).subs({a:0, tau:1}).eigenvals()"
   ]
  },
  {
   "cell_type": "code",
   "execution_count": 49,
   "metadata": {
    "colab": {
     "base_uri": "https://localhost:8080/",
     "height": 67
    },
    "executionInfo": {
     "elapsed": 6314,
     "status": "ok",
     "timestamp": 1607560966949,
     "user": {
      "displayName": "Maneeshika Madduri",
      "photoUrl": "",
      "userId": "17480917105839477639"
     },
     "user_tz": 360
    },
    "id": "Qmvt8WCow0rX",
    "outputId": "0923b2ad-e57e-429b-c60d-755fde270f2e"
   },
   "outputs": [
    {
     "data": {
      "text/latex": [
       "$\\displaystyle \\left\\{ \\gamma_{k} \\lambda - \\gamma_{k} \\lambda_{k} - \\gamma_{k} \\tau^{2} + \\gamma_{w} \\lambda - \\gamma_{w} \\lambda_{w} - \\gamma_{w} \\tau^{2} - \\sqrt{\\gamma_{k}^{2} \\lambda^{2} - 2 \\gamma_{k}^{2} \\lambda \\lambda_{k} - 2 \\gamma_{k}^{2} \\lambda \\tau^{2} + \\gamma_{k}^{2} \\lambda_{k}^{2} + 2 \\gamma_{k}^{2} \\lambda_{k} \\tau^{2} + \\gamma_{k}^{2} \\tau^{4} + 14 \\gamma_{k} \\gamma_{w} \\lambda^{2} + 2 \\gamma_{k} \\gamma_{w} \\lambda \\lambda_{k} + 2 \\gamma_{k} \\gamma_{w} \\lambda \\lambda_{w} - 12 \\gamma_{k} \\gamma_{w} \\lambda \\tau^{2} - 2 \\gamma_{k} \\gamma_{w} \\lambda_{k} \\lambda_{w} - 2 \\gamma_{k} \\gamma_{w} \\lambda_{k} \\tau^{2} - 2 \\gamma_{k} \\gamma_{w} \\lambda_{w} \\tau^{2} + 2 \\gamma_{k} \\gamma_{w} \\tau^{4} + \\gamma_{w}^{2} \\lambda^{2} - 2 \\gamma_{w}^{2} \\lambda \\lambda_{w} - 2 \\gamma_{w}^{2} \\lambda \\tau^{2} + \\gamma_{w}^{2} \\lambda_{w}^{2} + 2 \\gamma_{w}^{2} \\lambda_{w} \\tau^{2} + \\gamma_{w}^{2} \\tau^{4}} + 1 : 1, \\  \\gamma_{k} \\lambda - \\gamma_{k} \\lambda_{k} - \\gamma_{k} \\tau^{2} + \\gamma_{w} \\lambda - \\gamma_{w} \\lambda_{w} - \\gamma_{w} \\tau^{2} + \\sqrt{\\gamma_{k}^{2} \\lambda^{2} - 2 \\gamma_{k}^{2} \\lambda \\lambda_{k} - 2 \\gamma_{k}^{2} \\lambda \\tau^{2} + \\gamma_{k}^{2} \\lambda_{k}^{2} + 2 \\gamma_{k}^{2} \\lambda_{k} \\tau^{2} + \\gamma_{k}^{2} \\tau^{4} + 14 \\gamma_{k} \\gamma_{w} \\lambda^{2} + 2 \\gamma_{k} \\gamma_{w} \\lambda \\lambda_{k} + 2 \\gamma_{k} \\gamma_{w} \\lambda \\lambda_{w} - 12 \\gamma_{k} \\gamma_{w} \\lambda \\tau^{2} - 2 \\gamma_{k} \\gamma_{w} \\lambda_{k} \\lambda_{w} - 2 \\gamma_{k} \\gamma_{w} \\lambda_{k} \\tau^{2} - 2 \\gamma_{k} \\gamma_{w} \\lambda_{w} \\tau^{2} + 2 \\gamma_{k} \\gamma_{w} \\tau^{4} + \\gamma_{w}^{2} \\lambda^{2} - 2 \\gamma_{w}^{2} \\lambda \\lambda_{w} - 2 \\gamma_{w}^{2} \\lambda \\tau^{2} + \\gamma_{w}^{2} \\lambda_{w}^{2} + 2 \\gamma_{w}^{2} \\lambda_{w} \\tau^{2} + \\gamma_{w}^{2} \\tau^{4}} + 1 : 1\\right\\}$"
      ],
      "text/plain": [
       "⎧                                                                             \n",
       "⎨                                                 2                           \n",
       "⎩\\gammaₖ⋅\\lambda - \\gammaₖ⋅\\lambdaₖ - \\gammaₖ⋅\\tau  + \\gamma_w⋅\\lambda - \\gamm\n",
       "\n",
       "                                    __________________________________________\n",
       "                             2     ╱        2        2            2           \n",
       "a_w⋅\\lambda_w - \\gamma_w⋅\\tau  - ╲╱  \\gammaₖ ⋅\\lambda  - 2⋅\\gammaₖ ⋅\\lambda⋅\\l\n",
       "\n",
       "______________________________________________________________________________\n",
       "                  2             2          2         2            2           \n",
       "ambdaₖ - 2⋅\\gammaₖ ⋅\\lambda⋅\\tau  + \\gammaₖ ⋅\\lambdaₖ  + 2⋅\\gammaₖ ⋅\\lambdaₖ⋅\\\n",
       "\n",
       "______________________________________________________________________________\n",
       "   2          2     4                              2                          \n",
       "tau  + \\gammaₖ ⋅\\tau  + 14⋅\\gammaₖ⋅\\gamma_w⋅\\lambda  + 2⋅\\gammaₖ⋅\\gamma_w⋅\\lam\n",
       "\n",
       "______________________________________________________________________________\n",
       "                                                                              \n",
       "bda⋅\\lambdaₖ + 2⋅\\gammaₖ⋅\\gamma_w⋅\\lambda⋅\\lambda_w - 12⋅\\gammaₖ⋅\\gamma_w⋅\\lam\n",
       "\n",
       "______________________________________________________________________________\n",
       "        2                                                                     \n",
       "bda⋅\\tau  - 2⋅\\gammaₖ⋅\\gamma_w⋅\\lambdaₖ⋅\\lambda_w - 2⋅\\gammaₖ⋅\\gamma_w⋅\\lambda\n",
       "\n",
       "______________________________________________________________________________\n",
       "      2                                    2                          4       \n",
       "ₖ⋅\\tau  - 2⋅\\gammaₖ⋅\\gamma_w⋅\\lambda_w⋅\\tau  + 2⋅\\gammaₖ⋅\\gamma_w⋅\\tau  + \\gam\n",
       "\n",
       "______________________________________________________________________________\n",
       "    2        2             2                               2             2    \n",
       "ma_w ⋅\\lambda  - 2⋅\\gamma_w ⋅\\lambda⋅\\lambda_w - 2⋅\\gamma_w ⋅\\lambda⋅\\tau  + \\\n",
       "\n",
       "____________________________________________________________________          \n",
       "       2          2             2               2           2     4           \n",
       "gamma_w ⋅\\lambda_w  + 2⋅\\gamma_w ⋅\\lambda_w⋅\\tau  + \\gamma_w ⋅\\tau   + 1: 1, \\\n",
       "\n",
       "                                                                              \n",
       "                                                2                             \n",
       "gammaₖ⋅\\lambda - \\gammaₖ⋅\\lambdaₖ - \\gammaₖ⋅\\tau  + \\gamma_w⋅\\lambda - \\gamma_\n",
       "\n",
       "                                  ____________________________________________\n",
       "                           2     ╱        2        2            2             \n",
       "w⋅\\lambda_w - \\gamma_w⋅\\tau  + ╲╱  \\gammaₖ ⋅\\lambda  - 2⋅\\gammaₖ ⋅\\lambda⋅\\lam\n",
       "\n",
       "______________________________________________________________________________\n",
       "                2             2          2         2            2             \n",
       "bdaₖ - 2⋅\\gammaₖ ⋅\\lambda⋅\\tau  + \\gammaₖ ⋅\\lambdaₖ  + 2⋅\\gammaₖ ⋅\\lambdaₖ⋅\\ta\n",
       "\n",
       "______________________________________________________________________________\n",
       " 2          2     4                              2                            \n",
       "u  + \\gammaₖ ⋅\\tau  + 14⋅\\gammaₖ⋅\\gamma_w⋅\\lambda  + 2⋅\\gammaₖ⋅\\gamma_w⋅\\lambd\n",
       "\n",
       "______________________________________________________________________________\n",
       "                                                                              \n",
       "a⋅\\lambdaₖ + 2⋅\\gammaₖ⋅\\gamma_w⋅\\lambda⋅\\lambda_w - 12⋅\\gammaₖ⋅\\gamma_w⋅\\lambd\n",
       "\n",
       "______________________________________________________________________________\n",
       "      2                                                                       \n",
       "a⋅\\tau  - 2⋅\\gammaₖ⋅\\gamma_w⋅\\lambdaₖ⋅\\lambda_w - 2⋅\\gammaₖ⋅\\gamma_w⋅\\lambdaₖ⋅\n",
       "\n",
       "______________________________________________________________________________\n",
       "    2                                    2                          4         \n",
       "\\tau  - 2⋅\\gammaₖ⋅\\gamma_w⋅\\lambda_w⋅\\tau  + 2⋅\\gammaₖ⋅\\gamma_w⋅\\tau  + \\gamma\n",
       "\n",
       "______________________________________________________________________________\n",
       "  2        2             2                               2             2      \n",
       "_w ⋅\\lambda  - 2⋅\\gamma_w ⋅\\lambda⋅\\lambda_w - 2⋅\\gamma_w ⋅\\lambda⋅\\tau  + \\ga\n",
       "\n",
       "__________________________________________________________________       ⎫\n",
       "     2          2             2               2           2     4        ⎬\n",
       "mma_w ⋅\\lambda_w  + 2⋅\\gamma_w ⋅\\lambda_w⋅\\tau  + \\gamma_w ⋅\\tau   + 1: 1⎭"
      ]
     },
     "execution_count": 49,
     "metadata": {},
     "output_type": "execute_result"
    }
   ],
   "source": [
    "DF.subs(x0).subs({a:0}).eigenvals()"
   ]
  },
  {
   "cell_type": "code",
   "execution_count": 50,
   "metadata": {
    "colab": {
     "base_uri": "https://localhost:8080/",
     "height": 38
    },
    "executionInfo": {
     "elapsed": 6284,
     "status": "ok",
     "timestamp": 1607560966953,
     "user": {
      "displayName": "Maneeshika Madduri",
      "photoUrl": "",
      "userId": "17480917105839477639"
     },
     "user_tz": 360
    },
    "id": "6eCs3WaUlLLs",
    "outputId": "570f49f2-cb7d-44bb-b4c8-228da5759851"
   },
   "outputs": [
    {
     "data": {
      "text/latex": [
       "$\\displaystyle \\left\\{ \\gamma_{k} \\left(- 2 \\lambda_{k} - 1\\right) + 1 : 1, \\  \\gamma_{w} \\left(- 2 \\lambda_{w} - 1\\right) + 1 : 1\\right\\}$"
      ],
      "text/plain": [
       "{\\gammaₖ⋅(-2⋅\\lambdaₖ - 1) + 1: 1, \\gamma_w⋅(-2⋅\\lambda_w - 1) + 1: 1}"
      ]
     },
     "execution_count": 50,
     "metadata": {},
     "output_type": "execute_result"
    }
   ],
   "source": [
    "# As in the block of text above, the eigenvalue that has the larger value is the one to pay attention to\n",
    "# Take the log of ||KW - K_oW_o|| closer to the stationary point \n",
    "# Compare that with the t*log(eigenvalue) to get the convergence rate\n",
    "DF.subs(x0).subs({lam:sym.Rational(1,2), tau:1}).eigenvals()\n",
    "\n",
    "# eigenvalues have to be within the unit circle when sigma = 1/2"
   ]
  },
  {
   "cell_type": "code",
   "execution_count": 51,
   "metadata": {
    "id": "8T1FR9YNwzUG"
   },
   "outputs": [],
   "source": [
    "# F_num = sym.lambdify([k,w],F.subs({sig:sym.Rational(1,2),gam_k:2.001,gam_w:.9}))\n",
    "# x = [np.random.randn(2)]\n",
    "# for i in range(100):\n",
    "#   x.append(F_num(*x[-1]).flatten())\n",
    "# x = np.asarray(x)\n",
    "# plt.plot(x)"
   ]
  },
  {
   "cell_type": "markdown",
   "metadata": {
    "id": "0LmVYdAx4ntp"
   },
   "source": [
    "# ^^^ Sam messed this up"
   ]
  },
  {
   "cell_type": "markdown",
   "metadata": {
    "id": "JEHtDDCErGY8"
   },
   "source": [
    "###Trying above as a vector"
   ]
  },
  {
   "cell_type": "code",
   "execution_count": 52,
   "metadata": {
    "id": "mjJfqNPOrKiC"
   },
   "outputs": [],
   "source": [
    "from sympy import Identity,MatrixSymbol\n",
    "from sympy.abc import i, j, k, l, N, t\n",
    "from sympy.solvers.solvers import solve_linear\n",
    "W = MatrixSymbol(\"W\", N, 1)\n",
    "K = MatrixSymbol(\"K\", N, 1)\n",
    "I1 = Identity(1)"
   ]
  },
  {
   "cell_type": "code",
   "execution_count": 53,
   "metadata": {
    "colab": {
     "base_uri": "https://localhost:8080/",
     "height": 181
    },
    "executionInfo": {
     "elapsed": 6890,
     "status": "error",
     "timestamp": 1607560967593,
     "user": {
      "displayName": "Maneeshika Madduri",
      "photoUrl": "",
      "userId": "17480917105839477639"
     },
     "user_tz": 360
    },
    "id": "Mi23gVmZ9Kew",
    "outputId": "211096cf-2952-4fe3-f748-d33bcf05e44d"
   },
   "outputs": [
    {
     "ename": "NameError",
     "evalue": "name 'sig_k' is not defined",
     "output_type": "error",
     "traceback": [
      "\u001b[0;31m---------------------------------------------------------------------------\u001b[0m",
      "\u001b[0;31mNameError\u001b[0m                                 Traceback (most recent call last)",
      "\u001b[0;32m<ipython-input-53-83fc51c1b73b>\u001b[0m in \u001b[0;36m<module>\u001b[0;34m\u001b[0m\n\u001b[0;32m----> 1\u001b[0;31m \u001b[0mcv\u001b[0m \u001b[0;34m=\u001b[0m \u001b[0;34m(\u001b[0m\u001b[0mtau\u001b[0m\u001b[0;34m*\u001b[0m\u001b[0mI1\u001b[0m \u001b[0;34m-\u001b[0m \u001b[0mK\u001b[0m\u001b[0;34m.\u001b[0m\u001b[0mT\u001b[0m\u001b[0;34m*\u001b[0m\u001b[0mW\u001b[0m\u001b[0;34m*\u001b[0m\u001b[0mtau\u001b[0m\u001b[0;34m)\u001b[0m\u001b[0;34m**\u001b[0m\u001b[0;36m2\u001b[0m \u001b[0;34m+\u001b[0m \u001b[0msig_k\u001b[0m\u001b[0;34m*\u001b[0m\u001b[0mK\u001b[0m\u001b[0;34m.\u001b[0m\u001b[0mT\u001b[0m\u001b[0;34m*\u001b[0m\u001b[0mK\u001b[0m \u001b[0;34m+\u001b[0m \u001b[0msig_w\u001b[0m\u001b[0;34m*\u001b[0m\u001b[0mW\u001b[0m\u001b[0;34m.\u001b[0m\u001b[0mT\u001b[0m\u001b[0;34m*\u001b[0m\u001b[0mW\u001b[0m\u001b[0;34m\u001b[0m\u001b[0;34m\u001b[0m\u001b[0m\n\u001b[0m\u001b[1;32m      2\u001b[0m \u001b[0mcv\u001b[0m\u001b[0;34m\u001b[0m\u001b[0;34m\u001b[0m\u001b[0m\n",
      "\u001b[0;31mNameError\u001b[0m: name 'sig_k' is not defined"
     ]
    }
   ],
   "source": [
    "cv = (tau*I1 - K.T*W*tau)**2 + sig_k*K.T*K + sig_w*W.T*W\n",
    "cv"
   ]
  },
  {
   "cell_type": "code",
   "execution_count": null,
   "metadata": {
    "id": "TzZqj0g99zG5"
   },
   "outputs": [],
   "source": [
    "dcv_dK = -2*(tau**2)*(I1 - K.T*W)*W.T + 2*sig_k*K.T\n",
    "dcv_dW = -2*(tau**2)*(I1 - K.T*W)*K.T + 2*sig_w*W.T"
   ]
  },
  {
   "cell_type": "code",
   "execution_count": null,
   "metadata": {
    "id": "aOoB0zajHujE"
   },
   "outputs": [],
   "source": []
  },
  {
   "cell_type": "code",
   "execution_count": null,
   "metadata": {
    "id": "Qaavjmkj_VAG"
   },
   "outputs": [],
   "source": [
    "dcv = [dcv_dK, dcv_dW]\n",
    "dcv"
   ]
  },
  {
   "cell_type": "code",
   "execution_count": null,
   "metadata": {
    "id": "12JXBfH7_8DD"
   },
   "outputs": [],
   "source": [
    "sol_v = solve(dcv, [K,W]) # <-- find [k_0,w_0] that makes de(k_0,w_0) == [0,0]\n",
    "sol_v"
   ]
  },
  {
   "cell_type": "code",
   "execution_count": null,
   "metadata": {
    "id": "eGE0jixbMkub"
   },
   "outputs": [],
   "source": [
    "subs = {sig_k:sig,sig_w:sig}\n"
   ]
  },
  {
   "cell_type": "code",
   "execution_count": null,
   "metadata": {
    "id": "OHE35EI2-Ywr"
   },
   "outputs": [],
   "source": [
    "# dcv_dK = dcv_dK.subs(subs)\n",
    "# dcv_dW = dcv_dW.subs(subs)"
   ]
  },
  {
   "cell_type": "code",
   "execution_count": null,
   "metadata": {
    "id": "7HgExrjh-ggq"
   },
   "outputs": [],
   "source": [
    "dcv.subs(subs)"
   ]
  },
  {
   "cell_type": "code",
   "execution_count": null,
   "metadata": {
    "id": "YjJzJ1Yd_Wrw"
   },
   "outputs": [],
   "source": [
    "sol = solve(dcv_dK,[k,w]) # <-- find [k_0,w_0] that makes de(k_0,w_0) == [0,0]\n",
    "sol"
   ]
  },
  {
   "cell_type": "markdown",
   "metadata": {
    "id": "C6jl7OTXMu72"
   },
   "source": [
    "can tell that K and W are co-linear at the stationary points, so can say W = alpha*K and can assume that sigma_k = sigma_w"
   ]
  },
  {
   "cell_type": "code",
   "execution_count": null,
   "metadata": {
    "id": "_a9O2w0O-7_N"
   },
   "outputs": [],
   "source": [
    "subs2 = {W:alpha*K}\n",
    "dcv_dK = dcv_dK.subs(subs).subs(subs2)\n",
    "dcv_dW = dcv_dW.subs(subs).subs(subs2)"
   ]
  },
  {
   "cell_type": "code",
   "execution_count": null,
   "metadata": {
    "id": "7BIEDJyhDf_c"
   },
   "outputs": [],
   "source": [
    "[dcv_dK, dcv_dW]"
   ]
  },
  {
   "cell_type": "markdown",
   "metadata": {
    "id": "gycvd5IREQKS"
   },
   "source": [
    "Setting both derivatives to 0 to find stationary points"
   ]
  },
  {
   "cell_type": "code",
   "execution_count": null,
   "metadata": {
    "id": "-k0DsIwsEOEB"
   },
   "outputs": [],
   "source": [
    "dcv_dK \n",
    "sym.solve(dcv_dK, alpha)"
   ]
  },
  {
   "cell_type": "markdown",
   "metadata": {
    "id": "XmCiWP_BrSyq"
   },
   "source": [
    "### Scratch Work"
   ]
  },
  {
   "cell_type": "code",
   "execution_count": null,
   "metadata": {
    "id": "43f4PyaTvfK5"
   },
   "outputs": [],
   "source": [
    "[[de2_d2k, de2_dwdk], [de2_dkdw, de2_d2w]]"
   ]
  },
  {
   "cell_type": "code",
   "execution_count": null,
   "metadata": {
    "id": "sI5MJycVxsYu"
   },
   "outputs": [],
   "source": []
  },
  {
   "cell_type": "code",
   "execution_count": null,
   "metadata": {
    "id": "o6KToE-2sNxX"
   },
   "outputs": [],
   "source": [
    "# Jacobian Matrix\n",
    "Jcb_e_scl = Matrix([de_dk, de_dw]).jacobian([k,w])\n",
    "Jcb_e_scl"
   ]
  },
  {
   "cell_type": "code",
   "execution_count": null,
   "metadata": {
    "id": "aP0zceKKu0jc"
   },
   "outputs": [],
   "source": [
    "# Evals of jacobian\n",
    "Jcb_e_scl.eigenvals()"
   ]
  },
  {
   "cell_type": "code",
   "execution_count": null,
   "metadata": {
    "id": "GJYrvnGT8msR"
   },
   "outputs": [],
   "source": [
    "Jcb_e_scl.eigenvals().keys()"
   ]
  },
  {
   "cell_type": "code",
   "execution_count": null,
   "metadata": {
    "id": "4kPTboTGsnSX"
   },
   "outputs": [],
   "source": [
    "sym.solve(diff(e_scl,k),k)"
   ]
  },
  {
   "cell_type": "markdown",
   "metadata": {
    "id": "vQUpldYGu2zZ"
   },
   "source": []
  },
  {
   "cell_type": "code",
   "execution_count": null,
   "metadata": {
    "id": "PNGMdddCa-oa"
   },
   "outputs": [],
   "source": [
    "Matrix([[k, w],[-w, k]]).eigenvals()\n",
    "Matrix([[0, 1],[-2, 3]]).eigenvals()"
   ]
  },
  {
   "cell_type": "code",
   "execution_count": null,
   "metadata": {
    "id": "yVlVSqd_qctK"
   },
   "outputs": [],
   "source": []
  },
  {
   "cell_type": "code",
   "execution_count": null,
   "metadata": {
    "id": "tnrsWfDSszqo"
   },
   "outputs": [],
   "source": [
    "sol = sym.solve([diff(e_scl,k),diff(e_scl,w)],[k,w])\n",
    "sol"
   ]
  },
  {
   "cell_type": "code",
   "execution_count": null,
   "metadata": {
    "id": "x-aopJE8t5n9"
   },
   "outputs": [],
   "source": [
    "sol[k]"
   ]
  },
  {
   "cell_type": "code",
   "execution_count": null,
   "metadata": {
    "id": "KkgwCxswt1qw"
   },
   "outputs": [],
   "source": [
    "e_scl.subs(sol)"
   ]
  },
  {
   "cell_type": "code",
   "execution_count": null,
   "metadata": {
    "id": "LL9f_MX0uY5i"
   },
   "outputs": [],
   "source": [
    "e_scl.subs({k:sol[k]})"
   ]
  },
  {
   "cell_type": "code",
   "execution_count": null,
   "metadata": {
    "id": "GxeZlHubucch"
   },
   "outputs": [],
   "source": [
    "e_scl.subs({sig_k:sig,sig_w:sig,tau:1})"
   ]
  },
  {
   "cell_type": "code",
   "execution_count": null,
   "metadata": {
    "id": "IS6D0Drku5tG"
   },
   "outputs": [],
   "source": [
    "sym.diff?"
   ]
  },
  {
   "cell_type": "code",
   "execution_count": null,
   "metadata": {
    "id": "ShWT9vTCbXzg"
   },
   "outputs": [],
   "source": [
    "import numpy as np\n",
    "import matplotlib.pyplot as plt\n",
    "\n",
    "def g_w(w,k):\n",
    "  return w - 0.001*w - 0.1*w*k\n",
    "def g_k(w,k):\n",
    "  return k - 0.01*k +0.1*w*k\n",
    "\n",
    "w0 = 1.\n",
    "k0 = .5\n",
    "max_iter = int(1E3)\n",
    "\n",
    "w_ = np.zeros(max_iter) \n",
    "k_ = np.zeros(max_iter) \n",
    "w_[0] = w0\n",
    "k_[0] = k0\n",
    "for t in range(max_iter-1):\n",
    "  k_[t+1] = g_k(w_[t],k_[t])\n",
    "  w_[t+1] = g_w(w_[t],k_[t])\n",
    "\n",
    "plt.plot(w_)\n",
    "plt.plot(k_)\n"
   ]
  }
 ],
 "metadata": {
  "colab": {
   "collapsed_sections": [],
   "name": "20201023-fixedpoint-bmi",
   "provenance": []
  },
  "kernelspec": {
   "display_name": "Python 3",
   "language": "python",
   "name": "python3"
  },
  "language_info": {
   "codemirror_mode": {
    "name": "ipython",
    "version": 3
   },
   "file_extension": ".py",
   "mimetype": "text/x-python",
   "name": "python",
   "nbconvert_exporter": "python",
   "pygments_lexer": "ipython3",
   "version": "3.8.5"
  }
 },
 "nbformat": 4,
 "nbformat_minor": 1
}
