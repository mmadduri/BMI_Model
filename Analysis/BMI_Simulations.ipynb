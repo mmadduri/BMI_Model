{
 "cells": [
  {
   "cell_type": "code",
   "execution_count": null,
   "metadata": {},
   "outputs": [],
   "source": [
    "import sys\n",
    "import os\n",
    "\n",
    "import numpy as np\n",
    "# needed for some matrix manipulations\n",
    "from numpy import linalg, matlib\n",
    "# save, import and load data\n",
    "from numpy import asarray, save, load\n",
    "\n",
    "import matplotlib.pyplot as plt\n",
    "# for plots\n",
    "import seaborn\n",
    "#using scipy.stats:\n",
    "from scipy import stats\n",
    "# # to get date for saving data\n",
    "from datetime import date    \n",
    "\n",
    "\n",
    "# set up seaborn for the plots\n",
    "seaborn.set()\n"
   ]
  },
  {
   "cell_type": "code",
   "execution_count": null,
   "metadata": {},
   "outputs": [],
   "source": [
    "import matplotlib.pylab as pylab\n",
    "params = {'legend.fontsize': 'x-large',\n",
    "          'figure.figsize': (20, 8),\n",
    "         'axes.labelsize': 'x-large',\n",
    "         'axes.titlesize':'x-large',\n",
    "         'xtick.labelsize':'x-large',\n",
    "         'ytick.labelsize':'x-large'}\n",
    "pylab.rcParams.update(params)"
   ]
  },
  {
   "cell_type": "code",
   "execution_count": null,
   "metadata": {},
   "outputs": [],
   "source": [
    "# change directory to specified path\n",
    "# FILENAMES TO CHANGE\n",
    "path = '/Users/mmadduri/Documents/PhD/ResearchMaterials/Code/BMI_Model/data/2020-12-10'\n",
    "date = '2020-12-10'\n",
    "param_file = date + '_BRAIN_ADAPT_True_BRAIN_RATE_0.01_DEC_ADAPT_True_K_RATE_0.01_A_RATE_0.01_SIGMA_B_0.9_SIGMA_K_0.9_Parameters.npz'\n",
    "NUM_DIM = 1\n",
    "NUM_NEURONS = 1\n",
    "\n",
    "sig_b_list = [0.5, 0.6, 0.7, 0.8, 0.9]\n",
    "sig_d_list = sig_b_list\n",
    "NUM_SIG_B = len(sig_b_list)\n",
    "\n",
    "os.chdir(path)\n",
    "os.getcwd()"
   ]
  },
  {
   "cell_type": "code",
   "execution_count": null,
   "metadata": {},
   "outputs": [],
   "source": [
    "cost_start_path = '_Trial_cost_start_data.npy'\n",
    "targ_path = '_Trial_target_data.npy'\n",
    "cursor_st_path = '_Trial_cursor_start_data.npy'\n",
    "k_path = '_Decoder_K_data.npy'\n",
    "lambda_path = '_Brain_lambda_data.npy'"
   ]
  },
  {
   "cell_type": "code",
   "execution_count": null,
   "metadata": {},
   "outputs": [],
   "source": [
    "# any paramters file is fine\n",
    "\n",
    "parameters=np.load(param_file)\n",
    "NUM_TRIALS = parameters['num_trials']\n",
    "NUM_SESSIONS = parameters['num_sessions']\n",
    "DEC_ADAPT = parameters['decoder_adapt']\n",
    "BRAIN_ADAPT = parameters['brain_adapt']\n",
    "NUM_B_RATES = parameters['num_b_rate']\n",
    "B_RATE_LIST = parameters['b_rate_list']\n",
    "NUM_D_RATES = parameters['num_d_rate']\n",
    "D_RATE_LIST = parameters['d_rate_list']\n",
    "NUM_LAMBDA = NUM_DIM + 1\n",
    "\n",
    "# np.savez(filename + '_Parameters.npz', num_trials=NUM_TRIALS, num_sessions=NUM_SESSIONS, \n",
    "#          decoder_adapt=DECODER_ADAPT, brain_adapt=BRAIN_ADAPT, brain_rate=lambda_rate, \n",
    "#          k_rate=K_RATE, a_rate=A_RATE, num_b_rate=NUM_B_RATE, num_d_rate=NUM_D_RATE, b_rate_list=rate_list, d_rate_list=dec_rate_list)\n",
    "\n",
    "print(\"Number of Trials = \" + str(NUM_TRIALS))\n",
    "print(\"Number of Sessions = \" + str(NUM_SESSIONS))\n",
    "print(\"\")\n",
    "print(\"Number of Brain Rates = \" + str(NUM_B_RATES))\n",
    "print(\"Brain Rates = \" + str(B_RATE_LIST))\n",
    "print(\"\")\n",
    "print(\"Number of Decoder Rates = \" + str(NUM_D_RATES))\n",
    "print(\"Decoder Rates = \" + str(D_RATE_LIST))"
   ]
  },
  {
   "cell_type": "code",
   "execution_count": null,
   "metadata": {},
   "outputs": [],
   "source": [
    "path_B = np.empty(NUM_B_RATES, dtype='<U256')\n",
    "path_D = np.empty(NUM_D_RATES, dtype='<U256')\n",
    "path_sig_b = np.empty(NUM_SIG_B, dtype='<U256')\n",
    "\n",
    "# rate_B = np.empty(NUM_B_RATES)\n",
    "# rate_D = np.empty(NUM_D_RATES)\n",
    "\n",
    "path = np.empty([NUM_B_RATES, NUM_D_RATES, NUM_SIG_B], dtype='<U256')\n",
    "# rates = np.empty([NUM_B_RATES, NUM_D_RATES, 2])\n",
    "\n",
    "cost_start = np.empty([NUM_B_RATES, NUM_D_RATES, NUM_SIG_B, NUM_TRIALS, NUM_SESSIONS])\n",
    "mean_cost = np.empty([NUM_B_RATES, NUM_D_RATES, NUM_SIG_B])\n",
    "mean_cost_last = np.empty([NUM_B_RATES, NUM_D_RATES, NUM_SIG_B])\n",
    "targ = np.empty([NUM_B_RATES, NUM_D_RATES, NUM_SIG_B, NUM_DIM, 1, NUM_TRIALS, NUM_SESSIONS])\n",
    "cursor_st = np.empty([NUM_B_RATES, NUM_D_RATES, NUM_SIG_B, NUM_DIM, 1, NUM_TRIALS, NUM_SESSIONS])\n",
    "k_data = np.empty([NUM_B_RATES, NUM_D_RATES, NUM_SIG_B, NUM_DIM, NUM_NEURONS, NUM_TRIALS, NUM_SESSIONS])\n",
    "lambda_data = np.empty([NUM_B_RATES, NUM_D_RATES, NUM_SIG_B, NUM_NEURONS, NUM_LAMBDA, NUM_TRIALS, NUM_SESSIONS])\n",
    "\n",
    "## From BMIModel_AdaptiveDecoder Code:\n",
    "# cursor_start = np.zeros( (NUM_DIM, 1, NUM_TRIALS, NUM_SESSIONS) )\n",
    "# cursor_end = np.zeros( (NUM_DIM, 1, NUM_TRIALS, NUM_SESSIONS) )\n",
    "# # Note to self: last NUM_TRIALS element of target_trial is not run\n",
    "# target_trial = np.zeros( (NUM_DIM, 1, NUM_TRIALS, NUM_SESSIONS) )\n",
    "# lambda_trial = np.zeros( (NUM_NEURONS, NUM_LAMBDA, NUM_TRIALS, NUM_SESSIONS) )\n",
    "# fr_trial = np.zeros( (NUM_NEURONS, 1, NUM_TRIALS) )\n",
    "# a_trial = np.zeros( (NUM_DIM, NUM_TRIALS, NUM_SESSIONS) )\n",
    "# k_trial = np.zeros( (NUM_DIM, NUM_NEURONS, NUM_TRIALS, NUM_SESSIONS) )\n",
    "# re_startT = np.zeros( (NUM_TRIALS, NUM_SESSIONS) )\n",
    "# re_endT = np.zeros( (NUM_TRIALS, NUM_SESSIONS) )"
   ]
  },
  {
   "cell_type": "code",
   "execution_count": null,
   "metadata": {},
   "outputs": [],
   "source": [
    "# Need to list out the paths, there's probably a more clever way\n",
    "# rate list: [3.16227766e-04 1.00000000e-04 3.16227766e-05 1.00000000e-05 3.16227766e-06 1.00000000e-06]\n",
    "\n",
    "# 2020-09-28_BRAIN_ADAPT_True_BRAIN_RATE_3_DEC_ADAPT_True_K_RATE_3_A_RATE_3_SIGMA_B_0.75_SIGMA_K_0.75_Trial_cursor_start_data\n",
    "for iB in range(NUM_B_RATES):\n",
    "    path_B[iB] = '_BRAIN_ADAPT_' + str(BRAIN_ADAPT) + '_BRAIN_RATE_' + str(B_RATE_LIST[iB])\n",
    "    \n",
    "for iD in range(NUM_D_RATES):\n",
    "    path_D[iD] = '_DEC_ADAPT_' + str(DEC_ADAPT) + '_K_RATE_' + str(D_RATE_LIST[iD]) + '_A_RATE_' + str(D_RATE_LIST[iD])\n",
    "    \n",
    "for iS in range(NUM_SIG_B):\n",
    "    path_sig_b[iS] = '_SIGMA_B_' + str(sig_b_list[iS]) + '_SIGMA_K_' + str(sig_b_list[iS])\n",
    "    \n",
    "    \n",
    "for iB in range(NUM_B_RATES):\n",
    "    for iD in range(NUM_D_RATES):\n",
    "        for iS in range(NUM_SIG_B):\n",
    "            path[iB, iD, iS] = '' + date + path_B[iB] + path_D[iD] + path_sig_b[iS]\n"
   ]
  },
  {
   "cell_type": "code",
   "execution_count": null,
   "metadata": {},
   "outputs": [],
   "source": [
    "lastNum = 300\n",
    "\n",
    "for iB in range(NUM_B_RATES):\n",
    "    for iD in range(NUM_D_RATES):\n",
    "        for iS in range(NUM_SIG_B):\n",
    "            cost_start[iB, iD, iS] = np.load(path[iB, iD, iS] + cost_start_path)\n",
    "            mean_cost[iB, iD, iS] = np.mean(cost_start[iB, iD, iS])\n",
    "            mean_cost_last[iB, iD, iS] = np.mean(cost_start[iB, iD, iS, NUM_TRIALS-lastNum-1: NUM_TRIALS-1, :])\n",
    "            targ[iB, iD, iS, :, :, :, :] = np.load(path[iB, iD, iS] + targ_path)\n",
    "            cursor_st[iB, iD, iS, :, :, :, :] = np.load(path[iB, iD, iS] + cursor_st_path)\n",
    "            k_data[iB, iD, iS, :, :, :, :] = np.load(path[iB,iD, iS] + k_path)\n",
    "            lambda_data[iB, iD, iS, :, :, :, :] = np.load(path[iB, iD, iS] + lambda_path)"
   ]
  },
  {
   "cell_type": "code",
   "execution_count": null,
   "metadata": {},
   "outputs": [],
   "source": [
    "print(np.shape(cursor_st))"
   ]
  },
  {
   "cell_type": "code",
   "execution_count": null,
   "metadata": {},
   "outputs": [],
   "source": [
    "cur_mean = np.mean( np.squeeze(cursor_st), 2 )\n",
    "print(np.shape(cur_mean))\n"
   ]
  },
  {
   "cell_type": "code",
   "execution_count": null,
   "metadata": {},
   "outputs": [],
   "source": [
    "uB_idx = 0\n",
    "uD_idx = 1\n",
    "\n",
    "plt.plot(cur_mean[0,1:])"
   ]
  },
  {
   "cell_type": "code",
   "execution_count": null,
   "metadata": {
    "scrolled": false
   },
   "outputs": [],
   "source": [
    "uB_idx = 0\n",
    "uD_idx = 1\n",
    "\n",
    "for iB in range(NUM_B_RATES):\n",
    "    for iD in range(NUM_D_RATES):\n",
    "        for iS in range(NUM_SIG_B):\n",
    "            plt.plot(cost_start[iB, iD, iS, :-1], label = 'sig_b = ' + str(sig_b_list[iS]))\n",
    "        plt.title('Cost Function across trials, u_B = ' + str(B_RATE_LIST[iB]) + \", u_D = \" + str(D_RATE_LIST[iD]))\n",
    "#         plt.legend()\n",
    "        plt.show()\n",
    "            \n",
    "for iB in range(NUM_B_RATES):\n",
    "    for iD in range(NUM_D_RATES):\n",
    "        for iS in range(NUM_SIG_B):\n",
    "            print(\"Mean: \" + str(mean_cost[iB, iD, iS]))\n",
    "            print(\"Last \" + str(lastNum) + \" Trials: \" + str(mean_cost_last[iB, iD, iS]))\n",
    "            print(\"\")\n",
    "            # plots with log scaling on the y-axis -- so this plots x vs log_10(y)\n",
    "            plt.semilogy(cost_start[iB, iD, iS, :-1])\n",
    "            plt.title('Log-Lin RE across trials, u_B = ' + str(B_RATE_LIST[iB]) + \", u_D = \" + str(D_RATE_LIST[iD]))\n",
    "        plt.show()\n",
    "        \n"
   ]
  },
  {
   "cell_type": "code",
   "execution_count": null,
   "metadata": {},
   "outputs": [],
   "source": []
  },
  {
   "cell_type": "code",
   "execution_count": null,
   "metadata": {},
   "outputs": [],
   "source": [
    "# print(mean_cost_last)\n",
    "\n",
    "# ax = seaborn.heatmap(mean_cost_last, annot=True, fmt='.2g', xticklabels=D_RATE_LIST, yticklabels=B_RATE_LIST)\n",
    "# ax.set(xlabel=\"uD\", ylabel = \"uB\")\n",
    "# # y = uB, x = uD\n",
    "\n",
    "print(np.shape(cost_start))"
   ]
  },
  {
   "cell_type": "code",
   "execution_count": null,
   "metadata": {},
   "outputs": [],
   "source": [
    "# Same plots as above, but looking at the linear portion of the log curve only\n",
    "uB_idx = 0\n",
    "uD_idx = 1\n",
    "\n",
    "for iB in range(NUM_B_RATES):\n",
    "    for iD in range(NUM_D_RATES):\n",
    "        for iS in range(NUM_SIG_B):\n",
    "            plt.semilogy(cost_start[iB, iD, iS,:, :], '.')\n",
    "        \n",
    "        plt.title('Log-Lin RE across trials, u_B = ' + str(B_RATE_LIST[iB]) + \", u_D = \" + str(D_RATE_LIST[iD]))\n",
    "        plt.show()"
   ]
  },
  {
   "cell_type": "raw",
   "metadata": {},
   "source": [
    "### NOTES ON DIFFERENT REGRESSIONS USED\n",
    "\n",
    "## SEMILOGY\n",
    "x_lin = np.arange(0, 12, 1)\n",
    "plt.semilogy(re_start[5, 0, 0:12, :], '.')\n",
    "\n",
    "## SEMILOGY VS LOG10\n",
    "y_log = np.log10(re_start[5, 0, 0:12, :])\n",
    "\n",
    "## POLYFIT\n",
    "fit = np.polyfit(x_lin, np.log10(re_start[5, 0, 0:12, 1]), 1)\n",
    "y_fit = (fit[0])*x_lin + (fit[1])\n",
    "\n",
    "## SEABORN REGPLOT\n",
    "seaborn.regplot(x_axis, np.log10(np.mean(re_start[5, 0, 0:x_limit, :], 1)))\n",
    "\n",
    "## STATS FITS\n",
    "slope, intercept, r_value, p_value, std_err = stats.linregress(x_axis, y_plot)\n",
    "# std_err = np.std(y)/np.mean(y) = standard deviation/mean\n",
    "# confidence interval = 1.96 * std_err\n",
    "\n",
    "#some example data\n",
    "x= np.linspace(0.1, 9.9, 20)\n",
    "y = 3.0 * x\n",
    "#some confidence interval\n",
    "ci = 1.96 * np.std(y)/np.mean(y)\n",
    "\n",
    "fig, ax = plt.subplots()\n",
    "ax.plot(x,y)\n",
    "ax.fill_between(x, (y-ci), (y+ci), color='b', alpha=.1)"
   ]
  },
  {
   "cell_type": "code",
   "execution_count": null,
   "metadata": {},
   "outputs": [],
   "source": [
    "# from: http://bagrow.info/dsv/LEC10_notes_2014-02-13.html\n",
    "def linregress_CIs(xd,yd,conf=0.95):\n",
    "    \"\"\"Linear regression CIs FTW!\"\"\"\n",
    "    alpha=1.-conf   # significance\n",
    "    n = xd.size   # data sample size\n",
    "    x = np.linspace(xd.min(),xd.max(),100)\n",
    "        \n",
    "    # Predicted values from fitted model:\n",
    "    a, b, r, p, err = stats.linregress(xd,yd)\n",
    "    y = a*x+b\n",
    "    \n",
    "    sd = 1./(n-2.)*np.sum((yd-a*xd-b)**2)\n",
    "    sd = np.sqrt(sd)\n",
    "    sxd = np.sum((xd-xd.mean())**2)\n",
    "    sx  = (x-xd.mean())**2\n",
    "    \n",
    "    # quantile of student's t distribution for p=1-alpha/2\n",
    "    q = stats.t.ppf(1.-alpha/2, n-2)\n",
    "    \n",
    "    # get the upper and lower CI:\n",
    "    dy = q*sd*np.sqrt( 1./n + sx/sxd )\n",
    "    yl = y-dy\n",
    "    yu = y+dy\n",
    "    \n",
    "    return yl,yu,x"
   ]
  },
  {
   "cell_type": "code",
   "execution_count": null,
   "metadata": {
    "scrolled": false
   },
   "outputs": [],
   "source": [
    "x_limit = 40\n",
    "x_axis = np.arange(0, x_limit , 1)\n",
    "slope = np.zeros([NUM_B_RATES, NUM_D_RATES, NUM_SIG_B])\n",
    "\n",
    "for iB in range(NUM_B_RATES):\n",
    "    for iD in range(NUM_D_RATES):\n",
    "        for iS in range(NUM_SIG_B):\n",
    "            y_plot = np.log10(np.mean(cost_start[iB, iD, iS, 0:x_limit, :], 1))\n",
    "            plt.plot(x_axis, y_plot, '.')\n",
    "            slope[iB, iD, iS], intercept, r_value, p_value, std_err = stats.linregress(x_axis, y_plot)\n",
    "            y_fit = slope[iB, iD, iS]*x_axis + intercept\n",
    "            plt.plot(x_axis, y_fit)\n",
    "            ci = 1.96 * std_err\n",
    "            yl,yu,xd = linregress_CIs(x_axis, y_plot)\n",
    "            plt.fill_between(xd, yl, yu, alpha=0.2, facecolor='gray',edgecolor='none')\n",
    "            print(\"========================================================\")\n",
    "            print(\"u_B = \" + str(B_RATE_LIST[iB]) + \", u_D = \" + str(D_RATE_LIST[iD]) \n",
    "                  + \", sigma_b = \" + str(sig_b_list[iS]) + \", sigma_k = \" + str(sig_b_list[iS]))\n",
    "            print(\"distribution: \")\n",
    "            print(\"slope = \" + str(slope[iB, iD, iS]))\n",
    "            print(\"intercept = \" + str(intercept))\n",
    "            print(\"r-squared = \" + str(r_value**2))\n",
    "            print(\"p-value = \" + str(p_value))\n",
    "            print(\"std error = \" + str(std_err))\n",
    "            print(\"========================================================\")\n",
    "\n",
    "        plt.title('Log-Lin RE Across First ' + str(x_limit) + ' Trials, u_B = ' + str(B_RATE_LIST[iB]) + \", u_D = \" + str(D_RATE_LIST[iD]))\n",
    "        plt.xlabel(\"Number of Trials (Lin)\")\n",
    "        plt.ylabel(\"Reach Error (Log)\")\n",
    "        plt.show()\n",
    "#         seaborn.regplot(x_axis, y_plot, 1)\n",
    "#         plt.show()        \n",
    "    \n",
    "\n",
    "        "
   ]
  },
  {
   "cell_type": "code",
   "execution_count": null,
   "metadata": {},
   "outputs": [],
   "source": [
    "for iB in range(NUM_B_RATES):\n",
    "    for iD in range(NUM_D_RATES):\n",
    "        print( \"u_B = \" + str(B_RATE_LIST[iB]) + \", u_D = \" + str(D_RATE_LIST[iD]) + '| Slope = ' + str(slope[iB, iD]) )"
   ]
  },
  {
   "cell_type": "code",
   "execution_count": null,
   "metadata": {},
   "outputs": [],
   "source": [
    "print(slope)\n",
    "# print(\"\")\n",
    "# print(B_RATE_LIST)\n",
    "# print(\"\")\n",
    "# print(np.log10(B_RATE_LIST))\n",
    "\n",
    "# plt.plot(np.log10(B_RATE_LIST[1:10]), slope[1:10], '.')"
   ]
  },
  {
   "cell_type": "code",
   "execution_count": null,
   "metadata": {},
   "outputs": [],
   "source": [
    "# x_limit = 100\n",
    "# x_axis = np.arange(0, x_limit , 1)\n",
    "\n",
    "# for iB in range(NUM_B_RATES):\n",
    "#     for iD in range(NUM_D_RATES):\n",
    "#         y_plot = np.log10(np.mean(cost_start[iB, iD, 0:x_limit, :], 1))\n",
    "#         plt.plot(x_axis, y_plot, '.')\n",
    "#         slope, intercept, r_value, p_value, std_err = stats.linregress(x_axis, y_plot)\n",
    "#         y_fit = slope*x_axis + intercept\n",
    "#         plt.plot(x_axis, y_fit)\n",
    "#         ci = 1.96 * std_err\n",
    "#         yl,yu,xd = linregress_CIs(x_axis, y_plot)\n",
    "#         plt.fill_between(xd, yl, yu, alpha=0.2, facecolor='gray',edgecolor='none')\n",
    "#         plt.title('Log-Lin RE Across Trials, u_B = ' + str(B_RATE_LIST[iB]) + \", u_D = \" + str(D_RATE_LIST[iD]))\n",
    "#         plt.xlabel(\"Number of Trials (Lin)\")\n",
    "#         plt.ylabel(\"Reach Error (Log)\")\n",
    "#         plt.show()\n",
    "# #         seaborn.regplot(x_axis, y_plot, 1)\n",
    "# #         plt.show()        \n",
    "#         print(\"slope = \" + str(slope))\n",
    "#         print(\"intercept = \" + str(intercept))\n",
    "#         print(\"r-squared = \" + str(r_value**2))\n",
    "#         print(\"p-value = \" + str(p_value))\n",
    "#         print(\"std error = \" + str(std_err))\n",
    "#         print(\"========================================================\")\n"
   ]
  },
  {
   "cell_type": "markdown",
   "metadata": {},
   "source": [
    "# Stationary Points of K/W"
   ]
  },
  {
   "cell_type": "code",
   "execution_count": null,
   "metadata": {},
   "outputs": [],
   "source": [
    "def calcTaskError(sig, tau):\n",
    "    k = np.sqrt(1 - sig/(tau**2))\n",
    "    w = np.sqrt(1 - sig/(tau**2))\n",
    "    return (tau - k*w*tau)**2\n",
    "\n",
    "def calcBrainCost(sig, tau):\n",
    "    k = np.sqrt(1 - sig/(tau**2))\n",
    "    w = np.sqrt(1 - sig/(tau**2))\n",
    "    return calcTaskError(sig,tau) + sig*(w**2)\n",
    "\n",
    "def calcDecCost(sig, tau):\n",
    "    k = np.sqrt(1 - sig/(tau**2))\n",
    "    w = np.sqrt(1 - sig/(tau**2))\n",
    "    return calcTaskError(sig,tau) + sig*(k**2)\n",
    "    \n",
    "for iS in sig_b_list:\n",
    "    print(\"sig_b = \" + str(iS) \n",
    "          + \" | \" + str(calcTaskError(iS, 1)) \n",
    "          + \" | \" + str(calcBrainCost(iS, 1))\n",
    "          + \" | \" + str(calcDecCost(iS, 1)))"
   ]
  },
  {
   "cell_type": "code",
   "execution_count": null,
   "metadata": {},
   "outputs": [],
   "source": []
  }
 ],
 "metadata": {
  "kernelspec": {
   "display_name": "Python 3",
   "language": "python",
   "name": "python3"
  },
  "language_info": {
   "codemirror_mode": {
    "name": "ipython",
    "version": 3
   },
   "file_extension": ".py",
   "mimetype": "text/x-python",
   "name": "python",
   "nbconvert_exporter": "python",
   "pygments_lexer": "ipython3",
   "version": "3.8.5"
  }
 },
 "nbformat": 4,
 "nbformat_minor": 4
}
