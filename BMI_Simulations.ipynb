{
 "cells": [
  {
   "cell_type": "code",
   "execution_count": 1,
   "metadata": {},
   "outputs": [],
   "source": [
    "import numpy as np\n",
    "import sys\n",
    "import os\n",
    "from numpy import linalg, matlib\n",
    "# save, import and load data\n",
    "from numpy import asarray, save, load\n",
    "# needed for some matrix manipulations\n",
    "import matplotlib.pyplot as plt\n",
    "# for plots\n",
    "import seaborn\n",
    "#using scipy.stats:\n",
    "from scipy import stats\n",
    "# # to get date for saving data\n",
    "from datetime import date    \n",
    "\n",
    "\n",
    "# set up seaborn for the plots\n",
    "seaborn.set()\n"
   ]
  },
  {
   "cell_type": "code",
   "execution_count": 2,
   "metadata": {},
   "outputs": [],
   "source": [
    "# semilog, y\n",
    "# Resource about semilogy: http://www.cs.utsa.edu/~cs1173/lessons/LogScaleQuestions/LogScaleQuestions.html\n",
    "\n",
    "# log cost, squared error\n",
    "        \n",
    "# look at final \"steady-state\" reach error, average over the last 5-10 (1-10% of the last duration)\n",
    "# keep magnitude constant -- error will be proportional with target magnitude\n",
    "# normalize the target magnitudes so that they are along a unit circle\n",
    "# firing rate plots -- make sure they are staying consistent with physical expectations"
   ]
  },
  {
   "cell_type": "code",
   "execution_count": 3,
   "metadata": {},
   "outputs": [
    {
     "data": {
      "text/plain": [
       "'/Users/mmadduri/Documents/PhD/ResearchMaterials/Code/BMI_Model/data/2020-08-29_target1'"
      ]
     },
     "execution_count": 3,
     "metadata": {},
     "output_type": "execute_result"
    }
   ],
   "source": [
    "# change directory to specified path\n",
    "# FILENAMES TO CHANGE\n",
    "path = '/Users/mmadduri/Documents/PhD/ResearchMaterials/Code/BMI_Model/data/2020-08-29_target1'\n",
    "date = '2020-08-29'\n",
    "param_file = '2020-08-29_BRAIN_ADAPT_True_BRAIN_RATE_0.0001_DEC_ADAPT_True_K_RATE_0.0001_A_RATE_0.0001_Parameters.npz'\n",
    "os.chdir(path)\n",
    "os.getcwd()"
   ]
  },
  {
   "cell_type": "code",
   "execution_count": 4,
   "metadata": {},
   "outputs": [],
   "source": [
    "re_start_path = '_Trial_reacherror_start_data.npy'\n",
    "targ_path = '_Trial_target_data.npy'\n",
    "cursor_st_path = '_Trial_cursor_start_data.npy'\n",
    "k_path = '_Decoder_K_data.npy'\n",
    "lambda_path = '_Brain_lambda_data.npy'"
   ]
  },
  {
   "cell_type": "code",
   "execution_count": 5,
   "metadata": {},
   "outputs": [
    {
     "name": "stdout",
     "output_type": "stream",
     "text": [
      "Number of Trials = 100\n",
      "Number of Sessions = 5\n",
      "\n",
      "Number of Brain Rates = 1\n",
      "Brain Rates = [0.0001]\n",
      "\n",
      "Number of Decoder Rates = 1\n",
      "Decoder Rates = [0.0001]\n"
     ]
    }
   ],
   "source": [
    "# any paramters file is fine\n",
    "\n",
    "parameters=np.load(param_file)\n",
    "NUM_TRIALS = parameters['num_trials']\n",
    "NUM_SESSIONS = parameters['num_sessions']\n",
    "DEC_ADAPT = parameters['decoder_adapt']\n",
    "BRAIN_ADAPT = parameters['brain_adapt']\n",
    "NUM_B_RATES = parameters['num_b_rate']\n",
    "B_RATE_LIST = parameters['b_rate_list']\n",
    "NUM_D_RATES = parameters['num_d_rate']\n",
    "D_RATE_LIST = parameters['d_rate_list']\n",
    "NUM_DIM = 2\n",
    "NUM_NEURONS = 10\n",
    "NUM_LAMBDA = NUM_DIM + 1\n",
    "\n",
    "# np.savez(filename + '_Parameters.npz', num_trials=NUM_TRIALS, num_sessions=NUM_SESSIONS, \n",
    "#          decoder_adapt=DECODER_ADAPT, brain_adapt=BRAIN_ADAPT, brain_rate=lambda_rate, \n",
    "#          k_rate=K_RATE, a_rate=A_RATE, num_b_rate=NUM_B_RATE, num_d_rate=NUM_D_RATE, b_rate_list=rate_list, d_rate_list=dec_rate_list)\n",
    "\n",
    "print(\"Number of Trials = \" + str(NUM_TRIALS))\n",
    "print(\"Number of Sessions = \" + str(NUM_SESSIONS))\n",
    "print(\"\")\n",
    "print(\"Number of Brain Rates = \" + str(NUM_B_RATES))\n",
    "print(\"Brain Rates = \" + str(B_RATE_LIST))\n",
    "print(\"\")\n",
    "print(\"Number of Decoder Rates = \" + str(NUM_D_RATES))\n",
    "print(\"Decoder Rates = \" + str(D_RATE_LIST))"
   ]
  },
  {
   "cell_type": "code",
   "execution_count": 6,
   "metadata": {},
   "outputs": [],
   "source": [
    "path_B = np.empty(NUM_B_RATES, dtype='<U256')\n",
    "path_D = np.empty(NUM_D_RATES, dtype='<U256')\n",
    "# rate_B = np.empty(NUM_B_RATES)\n",
    "# rate_D = np.empty(NUM_D_RATES)\n",
    "\n",
    "path = np.empty([NUM_B_RATES, NUM_D_RATES], dtype='<U256')\n",
    "# rates = np.empty([NUM_B_RATES, NUM_D_RATES, 2])\n",
    "\n",
    "re_start = np.empty([NUM_B_RATES, NUM_D_RATES, NUM_TRIALS, NUM_SESSIONS])\n",
    "mean_re = np.empty([NUM_B_RATES, NUM_D_RATES])\n",
    "mean_re_last = np.empty([NUM_B_RATES, NUM_D_RATES])\n",
    "targ = np.empty([NUM_B_RATES, NUM_D_RATES, NUM_DIM, 1, NUM_TRIALS, NUM_SESSIONS])\n",
    "cursor_st = np.empty([NUM_B_RATES, NUM_D_RATES, NUM_DIM, 1, NUM_TRIALS, NUM_SESSIONS])\n",
    "k_data = np.empty([NUM_B_RATES, NUM_D_RATES, NUM_DIM, NUM_NEURONS, NUM_TRIALS, NUM_SESSIONS])\n",
    "lambda_data = np.empty([NUM_B_RATES, NUM_D_RATES, NUM_NEURONS, NUM_LAMBDA, NUM_TRIALS, NUM_SESSIONS])\n",
    "\n",
    "## From BMIModel_AdaptiveDecoder Code:\n",
    "# cursor_start = np.zeros( (NUM_DIM, 1, NUM_TRIALS, NUM_SESSIONS) )\n",
    "# cursor_end = np.zeros( (NUM_DIM, 1, NUM_TRIALS, NUM_SESSIONS) )\n",
    "# # Note to self: last NUM_TRIALS element of target_trial is not run\n",
    "# target_trial = np.zeros( (NUM_DIM, 1, NUM_TRIALS, NUM_SESSIONS) )\n",
    "# lambda_trial = np.zeros( (NUM_NEURONS, NUM_LAMBDA, NUM_TRIALS, NUM_SESSIONS) )\n",
    "# fr_trial = np.zeros( (NUM_NEURONS, 1, NUM_TRIALS) )\n",
    "# a_trial = np.zeros( (NUM_DIM, NUM_TRIALS, NUM_SESSIONS) )\n",
    "# k_trial = np.zeros( (NUM_DIM, NUM_NEURONS, NUM_TRIALS, NUM_SESSIONS) )\n",
    "# re_startT = np.zeros( (NUM_TRIALS, NUM_SESSIONS) )\n",
    "# re_endT = np.zeros( (NUM_TRIALS, NUM_SESSIONS) )"
   ]
  },
  {
   "cell_type": "code",
   "execution_count": 7,
   "metadata": {},
   "outputs": [],
   "source": [
    "# Need to list out the paths, there's probably a more clever way\n",
    "# rate list: [3.16227766e-04 1.00000000e-04 3.16227766e-05 1.00000000e-05 3.16227766e-06 1.00000000e-06]\n",
    "\n",
    "\n",
    "for iB in range(NUM_B_RATES):\n",
    "    path_B[iB] = '_BRAIN_ADAPT_' + str(BRAIN_ADAPT) + '_BRAIN_RATE_' + str(B_RATE_LIST[iB])\n",
    "    \n",
    "for iD in range(NUM_D_RATES):\n",
    "    path_D[iD] = '_DEC_ADAPT_' + str(DEC_ADAPT) + '_K_RATE_' + str(D_RATE_LIST[iD]) + '_A_RATE_' + str(D_RATE_LIST[iD])\n",
    "\n",
    "for iB in range(NUM_B_RATES):\n",
    "    for iD in range(NUM_D_RATES):\n",
    "        path[iB, iD] = '' + date + path_B[iB] + path_D[iD]\n"
   ]
  },
  {
   "cell_type": "code",
   "execution_count": 8,
   "metadata": {},
   "outputs": [
    {
     "ename": "ValueError",
     "evalue": "could not broadcast input array from shape (1,2,100,5) into shape (10,3,100,5)",
     "output_type": "error",
     "traceback": [
      "\u001b[0;31m---------------------------------------------------------------------------\u001b[0m",
      "\u001b[0;31mValueError\u001b[0m                                Traceback (most recent call last)",
      "\u001b[0;32m<ipython-input-8-1a8c32b1a8c1>\u001b[0m in \u001b[0;36m<module>\u001b[0;34m\u001b[0m\n\u001b[1;32m      9\u001b[0m         \u001b[0mcursor_st\u001b[0m\u001b[0;34m[\u001b[0m\u001b[0miB\u001b[0m\u001b[0;34m,\u001b[0m \u001b[0miD\u001b[0m\u001b[0;34m,\u001b[0m \u001b[0;34m:\u001b[0m\u001b[0;34m,\u001b[0m \u001b[0;34m:\u001b[0m\u001b[0;34m,\u001b[0m \u001b[0;34m:\u001b[0m\u001b[0;34m,\u001b[0m \u001b[0;34m:\u001b[0m\u001b[0;34m]\u001b[0m \u001b[0;34m=\u001b[0m \u001b[0mnp\u001b[0m\u001b[0;34m.\u001b[0m\u001b[0mload\u001b[0m\u001b[0;34m(\u001b[0m\u001b[0mpath\u001b[0m\u001b[0;34m[\u001b[0m\u001b[0miB\u001b[0m\u001b[0;34m,\u001b[0m \u001b[0miD\u001b[0m\u001b[0;34m]\u001b[0m \u001b[0;34m+\u001b[0m \u001b[0mcursor_st_path\u001b[0m\u001b[0;34m)\u001b[0m\u001b[0;34m\u001b[0m\u001b[0;34m\u001b[0m\u001b[0m\n\u001b[1;32m     10\u001b[0m         \u001b[0mk_data\u001b[0m\u001b[0;34m[\u001b[0m\u001b[0miB\u001b[0m\u001b[0;34m,\u001b[0m \u001b[0miD\u001b[0m\u001b[0;34m,\u001b[0m \u001b[0;34m:\u001b[0m\u001b[0;34m,\u001b[0m \u001b[0;34m:\u001b[0m\u001b[0;34m,\u001b[0m \u001b[0;34m:\u001b[0m\u001b[0;34m,\u001b[0m \u001b[0;34m:\u001b[0m\u001b[0;34m]\u001b[0m \u001b[0;34m=\u001b[0m \u001b[0mnp\u001b[0m\u001b[0;34m.\u001b[0m\u001b[0mload\u001b[0m\u001b[0;34m(\u001b[0m\u001b[0mpath\u001b[0m\u001b[0;34m[\u001b[0m\u001b[0miB\u001b[0m\u001b[0;34m,\u001b[0m\u001b[0miD\u001b[0m\u001b[0;34m]\u001b[0m \u001b[0;34m+\u001b[0m \u001b[0mk_path\u001b[0m\u001b[0;34m)\u001b[0m\u001b[0;34m\u001b[0m\u001b[0;34m\u001b[0m\u001b[0m\n\u001b[0;32m---> 11\u001b[0;31m         \u001b[0mlambda_data\u001b[0m\u001b[0;34m[\u001b[0m\u001b[0miB\u001b[0m\u001b[0;34m,\u001b[0m \u001b[0miD\u001b[0m\u001b[0;34m,\u001b[0m \u001b[0;34m:\u001b[0m\u001b[0;34m,\u001b[0m \u001b[0;34m:\u001b[0m\u001b[0;34m,\u001b[0m \u001b[0;34m:\u001b[0m\u001b[0;34m,\u001b[0m \u001b[0;34m:\u001b[0m\u001b[0;34m]\u001b[0m \u001b[0;34m=\u001b[0m \u001b[0mnp\u001b[0m\u001b[0;34m.\u001b[0m\u001b[0mload\u001b[0m\u001b[0;34m(\u001b[0m\u001b[0mpath\u001b[0m\u001b[0;34m[\u001b[0m\u001b[0miB\u001b[0m\u001b[0;34m,\u001b[0m \u001b[0miD\u001b[0m\u001b[0;34m]\u001b[0m \u001b[0;34m+\u001b[0m \u001b[0mlambda_path\u001b[0m\u001b[0;34m)\u001b[0m\u001b[0;34m\u001b[0m\u001b[0;34m\u001b[0m\u001b[0m\n\u001b[0m",
      "\u001b[0;31mValueError\u001b[0m: could not broadcast input array from shape (1,2,100,5) into shape (10,3,100,5)"
     ]
    }
   ],
   "source": [
    "lastNum = 5\n",
    "\n",
    "for iB in range(NUM_B_RATES):\n",
    "    for iD in range(NUM_D_RATES):\n",
    "        re_start[iB, iD] = np.load(path[iB, iD] + re_start_path)\n",
    "        mean_re[iB, iD] = np.mean(re_start[iB, iD])\n",
    "        mean_re_last[iB, iD] = np.mean(re_start[iB, iD, NUM_TRIALS-lastNum-1: NUM_TRIALS-1, :])\n",
    "        targ[iB, iD, :, :, :, :] = np.load(path[iB, iD] + targ_path)\n",
    "        cursor_st[iB, iD, :, :, :, :] = np.load(path[iB, iD] + cursor_st_path)\n",
    "        k_data[iB, iD, :, :, :, :] = np.load(path[iB,iD] + k_path)\n",
    "        lambda_data[iB, iD, :, :, :, :] = np.load(path[iB, iD] + lambda_path)"
   ]
  },
  {
   "cell_type": "code",
   "execution_count": null,
   "metadata": {},
   "outputs": [],
   "source": [
    "print(mean_re_last)"
   ]
  },
  {
   "cell_type": "code",
   "execution_count": null,
   "metadata": {
    "scrolled": false
   },
   "outputs": [],
   "source": [
    "uB_idx = 0\n",
    "uD_idx = 1\n",
    "\n",
    "for iB in range(NUM_B_RATES):\n",
    "    for iD in range(NUM_D_RATES):\n",
    "        plt.plot(re_start[iB, iD])\n",
    "        plt.title('RE across trials, u_B = ' + str(B_RATE_LIST[iB]) + \", u_D = \" + str(D_RATE_LIST[iD]))\n",
    "        plt.show()\n",
    "        print(\"Mean: \" + str(mean_re[iB, iD]))\n",
    "        print(\"Last 5 Trials: \" + str(mean_re_last[iB, iD]))\n",
    "        print(\"\")\n",
    "        # plots with log scaling on the y-axis -- so this plots x vs log_10(y)\n",
    "        plt.semilogy(re_start[iB, iD])\n",
    "        plt.title('Log-Lin RE across trials, u_B = ' + str(B_RATE_LIST[iB]) + \", u_D = \" + str(D_RATE_LIST[iD]))\n",
    "        plt.show()\n",
    "        \n"
   ]
  },
  {
   "cell_type": "code",
   "execution_count": null,
   "metadata": {},
   "outputs": [],
   "source": [
    "print(mean_re_last)\n",
    "\n",
    "ax = seaborn.heatmap(mean_re_last, annot=True, fmt='.2g', xticklabels=D_RATE_LIST, yticklabels=B_RATE_LIST)\n",
    "ax.set(xlabel=\"uD\", ylabel = \"uB\")\n",
    "# y = uB, x = uD\n"
   ]
  },
  {
   "cell_type": "code",
   "execution_count": null,
   "metadata": {},
   "outputs": [],
   "source": [
    "# Same plots as above, but looking at the linear portion of the log curve only\n",
    "uB_idx = 0\n",
    "uD_idx = 1\n",
    "\n",
    "for iB in range(NUM_B_RATES):\n",
    "    for iD in range(NUM_D_RATES):\n",
    "#         plt.plot(re_start[iB, iD,0:50])\n",
    "#         plt.title('RE across trials, u_B = ' + str(B_RATE_LIST[iB]) + \", u_D = \" + str(D_RATE_LIST[iD]))\n",
    "#         plt.show()\n",
    "#         print(\"Mean: \" + str(mean_re[iB, iD]))\n",
    "#         print(\"Last 5 Trials: \" + str(mean_re_last[iB, iD]))\n",
    "#         print(\"\")\n",
    "        # plots with log scaling on the y-axis\n",
    "        plt.semilogy(re_start[iB, iD, :, :], '.')\n",
    "        \n",
    "        plt.title('Log-Lin RE across trials, u_B = ' + str(B_RATE_LIST[iB]) + \", u_D = \" + str(D_RATE_LIST[iD]))\n",
    "        plt.show()"
   ]
  },
  {
   "cell_type": "raw",
   "metadata": {},
   "source": [
    "### NOTES ON DIFFERENT REGRESSIONS USED\n",
    "\n",
    "## SEMILOGY\n",
    "x_lin = np.arange(0, 12, 1)\n",
    "plt.semilogy(re_start[5, 0, 0:12, :], '.')\n",
    "\n",
    "## SEMILOGY VS LOG10\n",
    "y_log = np.log10(re_start[5, 0, 0:12, :])\n",
    "\n",
    "## POLYFIT\n",
    "fit = np.polyfit(x_lin, np.log10(re_start[5, 0, 0:12, 1]), 1)\n",
    "y_fit = (fit[0])*x_lin + (fit[1])\n",
    "\n",
    "## SEABORN REGPLOT\n",
    "seaborn.regplot(x_axis, np.log10(np.mean(re_start[5, 0, 0:x_limit, :], 1)))\n",
    "\n",
    "## STATS FITS\n",
    "slope, intercept, r_value, p_value, std_err = stats.linregress(x_axis, y_plot)\n",
    "# std_err = np.std(y)/np.mean(y) = standard deviation/mean\n",
    "# confidence interval = 1.96 * std_err\n",
    "\n",
    "#some example data\n",
    "x= np.linspace(0.1, 9.9, 20)\n",
    "y = 3.0 * x\n",
    "#some confidence interval\n",
    "ci = 1.96 * np.std(y)/np.mean(y)\n",
    "\n",
    "fig, ax = plt.subplots()\n",
    "ax.plot(x,y)\n",
    "ax.fill_between(x, (y-ci), (y+ci), color='b', alpha=.1)"
   ]
  },
  {
   "cell_type": "code",
   "execution_count": null,
   "metadata": {},
   "outputs": [],
   "source": [
    "# from: http://bagrow.info/dsv/LEC10_notes_2014-02-13.html\n",
    "def linregress_CIs(xd,yd,conf=0.95):\n",
    "    \"\"\"Linear regression CIs FTW!\"\"\"\n",
    "    alpha=1.-conf   # significance\n",
    "    n = xd.size   # data sample size\n",
    "    x = np.linspace(xd.min(),xd.max(),100)\n",
    "        \n",
    "    # Predicted values from fitted model:\n",
    "    a, b, r, p, err = stats.linregress(xd,yd)\n",
    "    y = a*x+b\n",
    "    \n",
    "    sd = 1./(n-2.)*np.sum((yd-a*xd-b)**2)\n",
    "    sd = np.sqrt(sd)\n",
    "    sxd = np.sum((xd-xd.mean())**2)\n",
    "    sx  = (x-xd.mean())**2\n",
    "    \n",
    "    # quantile of student's t distribution for p=1-alpha/2\n",
    "    q = stats.t.ppf(1.-alpha/2, n-2)\n",
    "    \n",
    "    # get the upper and lower CI:\n",
    "    dy = q*sd*np.sqrt( 1./n + sx/sxd )\n",
    "    yl = y-dy\n",
    "    yu = y+dy\n",
    "    \n",
    "    return yl,yu,x"
   ]
  },
  {
   "cell_type": "code",
   "execution_count": null,
   "metadata": {
    "scrolled": false
   },
   "outputs": [],
   "source": [
    "x_limit = NUM_TRIALS-1\n",
    "x_axis = np.arange(0, x_limit , 1)\n",
    "slope = np.zeros([NUM_B_RATES, NUM_D_RATES])\n",
    "\n",
    "for iB in range(NUM_B_RATES):\n",
    "    for iD in range(NUM_D_RATES):\n",
    "        y_plot = np.log10(np.mean(re_start[iB, iD, 0:x_limit, :], 1))\n",
    "        plt.plot(x_axis, y_plot, '.')\n",
    "        slope[iB, iD], intercept, r_value, p_value, std_err = stats.linregress(x_axis, y_plot)\n",
    "        y_fit = slope[iB, iD]*x_axis + intercept\n",
    "        plt.plot(x_axis, y_fit)\n",
    "        ci = 1.96 * std_err\n",
    "        yl,yu,xd = linregress_CIs(x_axis, y_plot)\n",
    "        plt.fill_between(xd, yl, yu, alpha=0.2, facecolor='gray',edgecolor='none')\n",
    "        plt.title('Log-Lin RE Across Trials, u_B = ' + str(B_RATE_LIST[iB]) + \", u_D = \" + str(D_RATE_LIST[iD]))\n",
    "        plt.xlabel(\"Number of Trials (Lin)\")\n",
    "        plt.ylabel(\"Reach Error (Log)\")\n",
    "        plt.show()\n",
    "#         seaborn.regplot(x_axis, y_plot, 1)\n",
    "#         plt.show()        \n",
    "        print(\"slope = \" + str(slope[iB, iD]))\n",
    "        print(\"intercept = \" + str(intercept))\n",
    "        print(\"r-squared = \" + str(r_value**2))\n",
    "        print(\"p-value = \" + str(p_value))\n",
    "        print(\"std error = \" + str(std_err))\n",
    "        print(\"========================================================\")\n",
    "\n"
   ]
  },
  {
   "cell_type": "code",
   "execution_count": null,
   "metadata": {},
   "outputs": [],
   "source": [
    "print(slope)\n",
    "print(\"\")\n",
    "print(B_RATE_LIST)\n",
    "print(\"\")\n",
    "print(np.log10(B_RATE_LIST))\n",
    "\n",
    "plt.plot(np.log10(B_RATE_LIST[1:10]), slope[1:10], '.')"
   ]
  },
  {
   "cell_type": "code",
   "execution_count": null,
   "metadata": {},
   "outputs": [],
   "source": [
    "x_limit = 20\n",
    "x_axis = np.arange(0, x_limit , 1)\n",
    "\n",
    "for iB in range(NUM_B_RATES):\n",
    "    for iD in range(NUM_D_RATES):\n",
    "        y_plot = np.log10(np.mean(re_start[iB, iD, 0:x_limit, :], 1))\n",
    "        plt.plot(x_axis, y_plot, '.')\n",
    "        slope, intercept, r_value, p_value, std_err = stats.linregress(x_axis, y_plot)\n",
    "        y_fit = slope*x_axis + intercept\n",
    "        plt.plot(x_axis, y_fit)\n",
    "        ci = 1.96 * std_err\n",
    "        yl,yu,xd = linregress_CIs(x_axis, y_plot)\n",
    "        plt.fill_between(xd, yl, yu, alpha=0.2, facecolor='gray',edgecolor='none')\n",
    "        plt.title('Log-Lin RE Across Trials, u_B = ' + str(B_RATE_LIST[iB]) + \", u_D = \" + str(D_RATE_LIST[iD]))\n",
    "        plt.xlabel(\"Number of Trials (Lin)\")\n",
    "        plt.ylabel(\"Reach Error (Log)\")\n",
    "        plt.show()\n",
    "#         seaborn.regplot(x_axis, y_plot, 1)\n",
    "#         plt.show()        \n",
    "        print(\"slope = \" + str(slope))\n",
    "        print(\"intercept = \" + str(intercept))\n",
    "        print(\"r-squared = \" + str(r_value**2))\n",
    "        print(\"p-value = \" + str(p_value))\n",
    "        print(\"std error = \" + str(std_err))\n",
    "        print(\"========================================================\")\n"
   ]
  },
  {
   "cell_type": "code",
   "execution_count": null,
   "metadata": {},
   "outputs": [],
   "source": [
    "# k_test = np.load('2020-07-31_BRAIN_ADAPT_False_BRAIN_RATE_0.0001_DEC_ADAPT_True_K_RATE_3.9810717055349695e-05_A_RATE_3.9810717055349695e-05_Decoder_K_data.npy')"
   ]
  },
  {
   "cell_type": "code",
   "execution_count": null,
   "metadata": {},
   "outputs": [],
   "source": [
    "# np.shape(k_data)\n",
    "# N_DIM, N_NEURONS, N_TRIALS, N_SESSIONS"
   ]
  },
  {
   "cell_type": "code",
   "execution_count": null,
   "metadata": {},
   "outputs": [],
   "source": [
    "# x_limit = NUM_TRIALS\n",
    "# x_axis = np.arange(0, x_limit , 1)\n",
    "# slope = np.zeros([NUM_B_RATES, NUM_D_RATES])\n",
    "\n",
    "# for iB in range(NUM_B_RATES):\n",
    "#     for iD in range(NUM_D_RATES):\n",
    "#         for iN in range(NUM_NEURONS):\n",
    "#             y_0 = np.log10(np.mean(k_data[iB, iD, 0, iN, :, :], 1))\n",
    "#             plt.plot(y_0, '.')\n",
    "#             slope[iB, iD], intercept, r_value, p_value, std_err = stats.linregress(x_axis, y_0)\n",
    "#             y_fit = slope[iB, iD]*x_axis + intercept\n",
    "#             plt.plot(x_axis, y_fit)\n",
    "#             ci = 1.96 * std_err\n",
    "#             yl,yu,xd = linregress_CIs(x_axis, y_0)\n",
    "#             plt.fill_between(xd, yl, yu, alpha=0.2, facecolor='gray',edgecolor='none')\n",
    "#             plt.title('Log-Lin of K Matrix Across Trials (Dim = 1, N = ' + str(iN+1) + '), u_B =  ' + str(B_RATE_LIST[iB]) + \", u_D = \" + str(D_RATE_LIST[iD]))\n",
    "#             plt.xlabel(\"Number of Trials (Lin)\")\n",
    "#             plt.ylabel(\"K Matrix (Log)\")\n",
    "#             plt.show()\n",
    "#             print(\"slope = \" + str(slope[iB, iD]))\n",
    "#             print(\"intercept = \" + str(intercept))\n",
    "#             print(\"r-squared = \" + str(r_value**2))\n",
    "#             print(\"p-value = \" + str(p_value))\n",
    "#             print(\"std error = \" + str(std_err))\n",
    "#             print(\"========================================================\")\n",
    "            \n",
    "# #             # DIM 2\n",
    "#             y_1 = np.log10(np.mean(k_data[iB, iD, 1, iN, :, :], 1))\n",
    "#             plt.plot(y_1, '.')\n",
    "#             slope[iB, iD], intercept, r_value, p_value, std_err = stats.linregress(x_axis, y_1)\n",
    "#             y_fit = slope[iB, iD]*x_axis + intercept\n",
    "#             plt.plot(x_axis, y_fit)\n",
    "#             ci = 1.96 * std_err\n",
    "#             yl,yu,xd = linregress_CIs(x_axis, y_1)\n",
    "#             plt.fill_between(xd, yl, yu, alpha=0.2, facecolor='gray',edgecolor='none')\n",
    "#             plt.title('Log-Lin of K Matrix Across Trials (Dim = 2, N = ' + str(iN+1) + '), u_B =  ' + str(B_RATE_LIST[iB]) + \", u_D = \" + str(D_RATE_LIST[iD]))\n",
    "#             plt.xlabel(\"Number of Trials (Lin)\")\n",
    "#             plt.ylabel(\"K Matrix (Log)\")\n",
    "#             plt.show()\n",
    "#             print(\"slope = \" + str(slope[iB, iD]))\n",
    "#             print(\"intercept = \" + str(intercept))\n",
    "#             print(\"r-squared = \" + str(r_value**2))\n",
    "#             print(\"p-value = \" + str(p_value))\n",
    "#             print(\"std error = \" + str(std_err))\n",
    "#             print(\"========================================================\")\n",
    "\n"
   ]
  },
  {
   "cell_type": "code",
   "execution_count": null,
   "metadata": {},
   "outputs": [],
   "source": [
    "# x_limit = NUM_TRIALS\n",
    "# x_axis = np.arange(0, x_limit , 1)\n",
    "# slope = np.zeros([NUM_B_RATES, NUM_D_RATES])\n",
    "\n",
    "\n",
    "# # lambda_trial = np.zeros( (NUM_NEURONS, NUM_LAMBDA, NUM_TRIALS, NUM_SESSIONS) )\n",
    "\n",
    "# for iB in range(NUM_B_RATES):\n",
    "#     for iD in range(NUM_D_RATES):\n",
    "#         for iN in range(NUM_NEURONS):\n",
    "#             # DIM 1\n",
    "#             w_0 = (np.mean(lambda_data[iB, iD, iN, 1, :, :], 1))\n",
    "#             plt.plot(w_0, '.')\n",
    "# #             slope[iB, iD], intercept, r_value, p_value, std_err = stats.linregress(x_axis, w_0)\n",
    "# #             y_fit = slope[iB, iD]*x_axis + intercept\n",
    "# #             plt.plot(x_axis, y_fit)\n",
    "# #             ci = 1.96 * std_err\n",
    "# #             yl,yu,xd = linregress_CIs(x_axis, w_0)\n",
    "# #             plt.fill_between(xd, yl, yu, alpha=0.2, facecolor='gray',edgecolor='none')\n",
    "#             plt.title('W Matrix Across Trials (Dim = 1, N = ' + str(iN+1) + '), u_B =  ' + str(B_RATE_LIST[iB]) + \", u_D = \" + str(D_RATE_LIST[iD]))\n",
    "#             plt.xlabel(\"Number of Trials (Lin)\")\n",
    "#             plt.ylabel(\"W Matrix (Lin)\")\n",
    "#             plt.show()\n",
    "# #             print(\"slope = \" + str(slope[iB, iD]))\n",
    "# #             print(\"intercept = \" + str(intercept))\n",
    "# #             print(\"r-squared = \" + str(r_value**2))\n",
    "# #             print(\"p-value = \" + str(p_value))\n",
    "# #             print(\"std error = \" + str(std_err))\n",
    "# #             print(\"========================================================\")\n",
    "            \n",
    "#             # DIM 2\n",
    "#             w_1 = (np.mean(lambda_data[iB, iD, iN, 1, :, :], 1))\n",
    "#             plt.plot(w_1, '.')\n",
    "# #             slope[iB, iD], intercept, r_value, p_value, std_err = stats.linregress(x_axis, w_1)\n",
    "# #             y_fit = slope[iB, iD]*x_axis + intercept\n",
    "# #             plt.plot(x_axis, y_fit)\n",
    "# #             ci = 1.96 * std_err\n",
    "# #             yl,yu,xd = linregress_CIs(x_axis, y_1)\n",
    "# #             plt.fill_between(xd, yl, yu, alpha=0.2, facecolor='gray',edgecolor='none')\n",
    "#             plt.title('W Matrix Across Trials (Dim = 2, N = ' + str(iN+1) + '), u_B =  ' + str(B_RATE_LIST[iB]) + \", u_D = \" + str(D_RATE_LIST[iD]))\n",
    "#             plt.xlabel(\"Number of Trials (Lin)\")\n",
    "#             plt.ylabel(\"W Matrix (Lin)\")\n",
    "#             plt.show()\n",
    "# #             print(\"slope = \" + str(slope[iB, iD]))\n",
    "# #             print(\"intercept = \" + str(intercept))\n",
    "# #             print(\"r-squared = \" + str(r_value**2))\n",
    "# #             print(\"p-value = \" + str(p_value))\n",
    "# #             print(\"std error = \" + str(std_err))\n",
    "# #             print(\"========================================================\")\n",
    "\n"
   ]
  },
  {
   "cell_type": "code",
   "execution_count": null,
   "metadata": {},
   "outputs": [],
   "source": [
    "# np.shape(k_data[0, 0, 0, 1, :, :])"
   ]
  },
  {
   "cell_type": "code",
   "execution_count": null,
   "metadata": {},
   "outputs": [],
   "source": []
  }
 ],
 "metadata": {
  "kernelspec": {
   "display_name": "Python 3",
   "language": "python",
   "name": "python3"
  },
  "language_info": {
   "codemirror_mode": {
    "name": "ipython",
    "version": 3
   },
   "file_extension": ".py",
   "mimetype": "text/x-python",
   "name": "python",
   "nbconvert_exporter": "python",
   "pygments_lexer": "ipython3",
   "version": "3.8.2"
  }
 },
 "nbformat": 4,
 "nbformat_minor": 4
}
