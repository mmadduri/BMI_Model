{
  "nbformat": 4,
  "nbformat_minor": 0,
  "metadata": {
    "colab": {
      "name": "Winter2020 Work",
      "provenance": [],
      "collapsed_sections": [],
      "authorship_tag": "ABX9TyOnV7MOs3BaCqX6dUi9Drdz",
      "include_colab_link": true
    },
    "kernelspec": {
      "name": "python3",
      "display_name": "Python 3"
    }
  },
  "cells": [
    {
      "cell_type": "markdown",
      "metadata": {
        "id": "view-in-github",
        "colab_type": "text"
      },
      "source": [
        "<a href=\"https://colab.research.google.com/github/mmadduri/BMI_Model/blob/brainAdaptOnly/Winter2020_Work.ipynb\" target=\"_parent\"><img src=\"https://colab.research.google.com/assets/colab-badge.svg\" alt=\"Open In Colab\"/></a>"
      ]
    },
    {
      "cell_type": "markdown",
      "metadata": {
        "id": "5gNWDsMuz1Ok",
        "colab_type": "text"
      },
      "source": [
        "**Start with this:**\n",
        "\n",
        "Run the (***simple random search***) iteration\n",
        "\n",
        "$$ u^+ = u - \\frac{\\gamma}{N} \\sum_{n = 1}^N ( c(u + u_n) - c(u) ) \\cdot u_n,\\ u_n \\sim \\mathcal{N}(u,\\sigma^2) $$\n",
        "\n",
        "In our case, the cost function is just the reach error -- calculated by the reach error between the previous lamdba values and the current one. \n",
        "\n",
        "\n",
        "Error is defined as reach error: $ error = ||t-y||^2 $ and the perturbation term $ p_{2k+1} $ can be thought of a normal distribution.\n",
        "\n",
        "$$ \\lambda^+ = \\lambda - \\frac{\\nu}{N\\delta} \\sum_{n = 1}^N ( error(\\lambda + \\delta p) - error(\\lambda) ) \\cdot  p, p \\sim \\mathcal{N}(\\lambda,\\sigma^2) $$"
      ]
    },
    {
      "cell_type": "code",
      "metadata": {
        "id": "gLJIMvmjztBi",
        "colab_type": "code",
        "outputId": "50bf0cb4-e3d6-41bb-c113-1045c823b34d",
        "colab": {
          "base_uri": "https://localhost:8080/",
          "height": 597
        }
      },
      "source": [
        "import numpy as np\n",
        "import matplotlib.pyplot as plt\n",
        "\n",
        "TARGET_NUM = 2\n",
        "TARGET_VECTOR = [2, 2]\n",
        "\n",
        "# Function that generates the adaptation\n",
        "\n",
        "\n",
        "# ######\n",
        "# define reach error\n",
        "# y_x, y_y = matrix of predicted cursor position\n",
        "# t_x, t_y = matrix of target position\n",
        "def calcReachError(y_vect, t_vect):\n",
        "  norm_vect = np.array(y_vect) - np.array(t_vect)\n",
        "  return (np.linalg.norm(norm_vect, 2)**2)\n",
        "\n",
        "####################\n",
        "# Decoder Model \n",
        "# K_matx = num neurons x num target \n",
        "# K_matx = np.array([[0.5, 0.3, 0.2, 0.1], [0.1, 0.2, 0.3, 0.1]])\n",
        "K_matx = np.array([[0.5, 0.2]])\n",
        "\n",
        "# keyword arguments--like a static variable (add states to function)\n",
        "# make it's optional argument (kwargs)\n",
        "# might have to make neurons_num global\n",
        "# firing rate --> a + Kf --> y\n",
        "def decoder_findY(firing_rate, adaptK):\n",
        "  global K_matx\n",
        "  # D(f) = a + Kf = y\n",
        "  # Start with affine decoder\n",
        "  a_vect = np.ones(TARGET_NUM)\n",
        "\n",
        "  if (adaptK == True):\n",
        "    # Create K_adj matrix \n",
        "    K_matx = K_matx\n",
        "\n",
        "  nextPred_vect = a_vect + np.dot(K_matx, np.squeeze(np.asarray(firing_rate)))\n",
        "  return (nextPred_vect)\n",
        "\n",
        "# Note to self: this function is returning a + Kf = y accurately\n",
        "\n",
        "\n",
        "def reachError_FR(firing_rate):\n",
        "  y_vect = decoder_findY(firing_rate, False)\n",
        "  t_vect = TARGET_VECTOR\n",
        "  return calcReachError(y_vect, t_vect)  \n",
        "\n",
        "# find next g\n",
        "# define random search\n",
        "\n",
        "# this is only 1 iteration of SGD\n",
        "# takes in a vector lambda \n",
        "# start with scalar case\n",
        "def stochUpdate(input, sigma, delta):\n",
        "  N_sum = 0\n",
        "  N_neurons = np.size(input)\n",
        "  N_samp = 100\n",
        "  perturb_rand = np.random.normal(0, sigma, N_samp) + input\n",
        "\n",
        "  for iN in range(N_samp):\n",
        "    N_sum = N_sum + (reachError_FR(input + delta*perturb_rand[iN]) - reachError_FR(input))*perturb_rand[iN]\n",
        "\n",
        "  avgUpdate = N_sum/(N_samp*delta)\n",
        "  # print(avgUpdate)\n",
        "  return avgUpdate\n",
        "\n",
        "# param vect = what to update \n",
        "def gradDesc(input_init, learn_rate, numIter):\n",
        "  input_vect = np.array(input_init)\n",
        "  # param_vect_next = np.array(param_vect)\n",
        "\n",
        "  err_next = reachError_FR(input_vect[-1])\n",
        "  err_vect = np.array(err_next)\n",
        "\n",
        "  delta_vect = np.array(err_next)\n",
        "  sigma = 1\n",
        "  delta = 1e-3\n",
        "\n",
        "  for iT in range(1, numIter, 1):\n",
        "    # delta_perturb = \\Delta_feedback term due to perturbation\n",
        "    delta_perturb = stochUpdate(input_vect[-1], sigma, delta)\n",
        "    # lambda+ = lambda - learn_rate*delta_perturb\n",
        "    # param_vect_next = np.vstack()\n",
        "    input_vect_next = np.array(input_vect[-1] - learn_rate*delta_perturb)\n",
        "\n",
        "    err_next = np.array(reachError_FR(input_vect_next))  \n",
        "\n",
        "    # update vectors \n",
        "    input_vect = np.vstack( (input_vect, input_vect_next) )\n",
        "    err_vect = np.vstack( (err_vect, err_next) )  \n",
        "    delta_vect = np.vstack( (delta_vect, delta_perturb))\n",
        "\n",
        "  it_idx = np.linspace(0, numIter, numIter, endpoint=False) \n",
        "  plt.figure()\n",
        "  fig, ax = plt.subplots()\n",
        "\n",
        "  ax.plot(it_idx, err_vect, label = 'RE')\n",
        "  ax.plot(it_idx, input_vect, label = 'FR') \n",
        "  leg = ax.legend();\n",
        "  plt.grid()\n",
        "  plt.title('stoch update')\n",
        "\n",
        "\n",
        "#### Code\n",
        "\n",
        "##### TESTING ONLY\n",
        "# define c, D1_c, D2_c\n",
        "def cost(u):\n",
        "  return ((u**6)/6) - (7/5 * u**5) + (17/4 * u**4) - (17/3 * u**3) + (3 * u**2)\n",
        "def D1_c(u):\n",
        "  return ((u**5) - (7 * u**4) + (17 * u**3) - (17 * u**2) + (6 * u**1))\n",
        "def D2_c(u):\n",
        "  return ((5 * u**4) - (7*4 * u** 3) + (17*3 * u**2) - (17*2 * u) + (6))\n",
        "\n",
        "#define gradient descent \n",
        "def gradDesc_cont(rate, it_num, u_init):\n",
        "  u_new = [u_init]\n",
        "  c_new = [cost(u_new[-1])]\n",
        "  for it in range(1,it_num,1):\n",
        "    u_new.append(u_new[-1] - rate*D1_c(u_new[-1]))\n",
        "    c_new.append(cost(u_new[-1]))\n",
        "  it_idx = np.linspace(0,it_num, it_num, endpoint=False) \n",
        "  plt.figure()\n",
        "  plt.plot(it_idx, c_new)\n",
        "  plt.plot(it_idx, u_new)\n",
        "\n",
        "# # Set initial conditions\n",
        "\n",
        "# #######\n",
        "# Set initial conditions\n",
        "learn_rate = 0.1\n",
        "numIter = 50\n",
        "fr_init = [0.5]\n",
        "gradDesc(fr_init, learn_rate, numIter)\n",
        "\n",
        "\n",
        "rate = 0.1\n",
        "u_init = 0.5\n",
        "gradDesc_cont(rate, numIter, u_init)\n",
        "plt.legend({'c', 'u'})\n",
        "plt.grid()\n",
        "\n",
        "e1 = decoder_findY(u_init, False)\n",
        "print(e1)\n",
        "print(reachError_FR(u_init))\n",
        "print(np.linalg.norm(e1, 2)**2)"
      ],
      "execution_count": 0,
      "outputs": [
        {
          "output_type": "stream",
          "text": [
            "[[1.25 1.1 ]]\n",
            "1.3725\n",
            "2.7725000000000004\n"
          ],
          "name": "stdout"
        },
        {
          "output_type": "display_data",
          "data": {
            "text/plain": [
              "<Figure size 432x288 with 0 Axes>"
            ]
          },
          "metadata": {
            "tags": []
          }
        },
        {
          "output_type": "display_data",
          "data": {
            "image/png": "[encoded data removed]",
            "text/plain": [
              "<Figure size 432x288 with 1 Axes>"
            ]
          },
          "metadata": {
            "tags": []
          }
        },
        {
          "output_type": "display_data",
          "data": {
            "image/png": "[encoded data removed]",
            "text/plain": [
              "<Figure size 432x288 with 1 Axes>"
            ]
          },
          "metadata": {
            "tags": []
          }
        }
      ]
    }
  ]
}