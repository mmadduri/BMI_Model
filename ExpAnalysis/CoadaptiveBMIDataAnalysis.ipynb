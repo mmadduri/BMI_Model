{
 "cells": [
  {
   "cell_type": "markdown",
   "metadata": {},
   "source": [
    "# Experimental Data Analysis\n",
    "\n",
    "Using Amy's Neuron 2014 data for analysis\n"
   ]
  },
  {
   "cell_type": "code",
   "execution_count": 44,
   "metadata": {},
   "outputs": [],
   "source": [
    "# to use cd, etc\n",
    "import sys\n",
    "import os\n",
    "\n",
    "import numpy as np\n",
    "from numpy import linalg, matlib\n",
    "# save, import and load data\n",
    "from numpy import asarray, save, load\n",
    "# needed for some matrix manipulations\n",
    "\n",
    "import math \n",
    "\n",
    "from scipy.io import loadmat  # this is the SciPy module that loads mat-files\n",
    "from datetime import datetime, date, time\n",
    "import pandas as pd\n",
    "\n",
    "import mat73\n",
    "\n",
    "import matplotlib.pyplot as plt\n",
    "# for plots\n",
    "import seaborn\n",
    "# set up seaborn for the plots\n",
    "seaborn.set()"
   ]
  },
  {
   "cell_type": "code",
   "execution_count": 2,
   "metadata": {},
   "outputs": [],
   "source": [
    "# select data - fill in\n",
    "\n",
    "# change directory to specified path\n",
    "pathDir = '/Volumes/GoogleDrive/Shared drives/aoLab/Data/bmiLearning_jeev'\n",
    "\n",
    "# example: Location: '.../Shared drives/aoLab/Data/bmiLearning_jeev/jeev080412/jeev080412a/tr_6/jeev080412a_tr_kin.mat\n",
    "dataSubj = 'jeev'\n",
    "dataStartDate = '050212'\n",
    "dataEndData = '050412'"
   ]
  },
  {
   "cell_type": "markdown",
   "metadata": {},
   "source": [
    "### Decoder Parameters"
   ]
  },
  {
   "cell_type": "code",
   "execution_count": 3,
   "metadata": {},
   "outputs": [],
   "source": [
    "# decoderParams = 'decoderParams_'\n",
    "# trKinData = '/jeev080412a/tr_6/jeev080412a_tr_kin.mat'\n",
    "\n",
    "# # pathData = pathDir + \"/\" + dataSubj + dataStartDate \n",
    "\n",
    "# # ex: /Volumes/GoogleDrive/Shared drives/aoLab/Data/bmiLearning_jeev/jeev050212_050412\n",
    "# pathExpData = pathData + dataSubj + dataStartDate + '_' + dataEndData\n",
    "# pathDataFile = pathData + pathExpData\n",
    "\n",
    "# os.chdir(pathData)\n",
    "# os.getcwd()"
   ]
  },
  {
   "cell_type": "markdown",
   "metadata": {},
   "source": [
    "## Just for quick work"
   ]
  },
  {
   "cell_type": "code",
   "execution_count": 4,
   "metadata": {},
   "outputs": [
    {
     "data": {
      "text/plain": [
       "'/Volumes/GoogleDrive/Shared drives/aoLab/Data/bmiLearning_jeev/jeev050212_050412'"
      ]
     },
     "execution_count": 4,
     "metadata": {},
     "output_type": "execute_result"
    }
   ],
   "source": [
    "decDir = 'decoderParams_jeev050212_050412.mat'\n",
    "# nDir is trial-aligned to the go cue and uses all the trial data\n",
    "nDir = 'catNeuralDat_jeev050212_050412_trE7_B100.mat'\n",
    "# nDir = 'avgFRts_bestDir_bmi_jeev050212_050412_trE7_B100_TR-100_200_allTr.mat'\n",
    "pathDir = '/Volumes/GoogleDrive/Shared drives/aoLab/Data/bmiLearning_jeev/jeev050212_050412'\n",
    "os.chdir(pathDir)\n",
    "os.getcwd()"
   ]
  },
  {
   "cell_type": "code",
   "execution_count": 5,
   "metadata": {},
   "outputs": [],
   "source": [
    "# dec_data = '/Volumes/GoogleDrive/Shared drives/aoLab/Data/bmiLearning_jeev/jeev050212_050412/decoderParams_jeev050212_050412.mat'\n",
    "dec_path = pathDir + '/' + decDir\n",
    "n_path = pathDir + '/' + nDir"
   ]
  },
  {
   "cell_type": "code",
   "execution_count": 6,
   "metadata": {},
   "outputs": [
    {
     "data": {
      "text/plain": [
       "dict_keys(['H_MDp', 'H_MDv', 'H_PDp', 'H_PDv', 'Hs', 'K_MDp', 'K_MDv', 'K_PDp', 'K_PDv', 'Ks', 'Qs', 'bmiDay', 'bmiDecoderInd', 'bmiUnitInds', 'bmiUnitInds_all', 'bmiUnits', 'bmiUnits_all', 'sb', 'usedUnit_day', 'usedUnit_day_clean', 'usedUnit_decoder'])"
      ]
     },
     "execution_count": 6,
     "metadata": {},
     "output_type": "execute_result"
    }
   ],
   "source": [
    "dec_dict = mat73.loadmat(dec_path,use_attrdict=True)\n",
    "dec_dict.keys()"
   ]
  },
  {
   "cell_type": "code",
   "execution_count": 7,
   "metadata": {},
   "outputs": [
    {
     "name": "stderr",
     "output_type": "stream",
     "text": [
      "/Users/mmadduri/.pyenv/versions/3.8.5/lib/python3.8/site-packages/pandas/core/internals/construction.py:305: VisibleDeprecationWarning: Creating an ndarray from ragged nested sequences (which is a list-or-tuple of lists-or-tuples-or ndarrays with different lengths or shapes) is deprecated. If you meant to do this, you must specify 'dtype=object' when creating the ndarray\n",
      "  values = np.array([convert(v) for v in values])\n"
     ]
    },
    {
     "data": {
      "text/html": [
       "<div>\n",
       "<style scoped>\n",
       "    .dataframe tbody tr th:only-of-type {\n",
       "        vertical-align: middle;\n",
       "    }\n",
       "\n",
       "    .dataframe tbody tr th {\n",
       "        vertical-align: top;\n",
       "    }\n",
       "\n",
       "    .dataframe thead th {\n",
       "        text-align: right;\n",
       "    }\n",
       "</style>\n",
       "<table border=\"1\" class=\"dataframe\">\n",
       "  <thead>\n",
       "    <tr style=\"text-align: right;\">\n",
       "      <th></th>\n",
       "      <th>H_MDp</th>\n",
       "      <th>H_MDv</th>\n",
       "      <th>H_PDp</th>\n",
       "      <th>H_PDv</th>\n",
       "      <th>Hs</th>\n",
       "      <th>K_MDp</th>\n",
       "      <th>K_MDv</th>\n",
       "      <th>K_PDp</th>\n",
       "      <th>K_PDv</th>\n",
       "      <th>Ks</th>\n",
       "      <th>...</th>\n",
       "      <th>bmiDay</th>\n",
       "      <th>bmiDecoderInd</th>\n",
       "      <th>bmiUnitInds</th>\n",
       "      <th>bmiUnitInds_all</th>\n",
       "      <th>bmiUnits</th>\n",
       "      <th>bmiUnits_all</th>\n",
       "      <th>sb</th>\n",
       "      <th>usedUnit_day</th>\n",
       "      <th>usedUnit_day_clean</th>\n",
       "      <th>usedUnit_decoder</th>\n",
       "    </tr>\n",
       "  </thead>\n",
       "  <tbody>\n",
       "    <tr>\n",
       "      <th>0</th>\n",
       "      <td>[[7.8579177962359, 1.8277026707046538, 7.67211...</td>\n",
       "      <td>[[0.7419855692112131, 0.3429436503935509, 3.49...</td>\n",
       "      <td>[[-1.3202397961889738, 1.9858131343089587, 1.2...</td>\n",
       "      <td>[[0.09599155790757895, -3.106857335946555, -2....</td>\n",
       "      <td>[[[1.9483168934334552, 4.628344535483583, 4.62...</td>\n",
       "      <td>[[0.006666953037920375, 0.008168629248716086, ...</td>\n",
       "      <td>[[0.003893029676447543, 0.003830093718059134, ...</td>\n",
       "      <td>[[-1.007531743652326, 2.5969388581326696, 0.91...</td>\n",
       "      <td>[[-0.7487052839958073, 2.615153993394279, 2.83...</td>\n",
       "      <td>[[[0.003559814889089684, 0.0019726465403377543...</td>\n",
       "      <td>...</td>\n",
       "      <td>[1.0, 1.0, 1.0, 1.0, 2.0, 2.0, 3.0, 3.0, 3.0, ...</td>\n",
       "      <td>[1.0, 2.0, 2.0, 2.0, 2.0, 2.0, 2.0, 2.0, 2.0, ...</td>\n",
       "      <td>[16.0, 106.0, 196.0, 211.0, 216.0, 266.0, 301....</td>\n",
       "      <td>[16.0, 106.0, 196.0, 211.0, 216.0, 266.0, 301....</td>\n",
       "      <td>[sig004a, sig022a, sig040a, sig043a, sig044a, ...</td>\n",
       "      <td>[sig004a, sig022a, sig040a, sig043a, sig044a, ...</td>\n",
       "      <td>[1.0, 0.0, 0.0, 0.0, 0.0, 0.0, 0.0, 0.0, 1.0, ...</td>\n",
       "      <td>[[True, True, True, True, True, True, True, Tr...</td>\n",
       "      <td>[[True, True, True, True, True, True, True, Tr...</td>\n",
       "      <td>[[True, True, True, True, True, True, True, Tr...</td>\n",
       "    </tr>\n",
       "  </tbody>\n",
       "</table>\n",
       "<p>1 rows × 21 columns</p>\n",
       "</div>"
      ],
      "text/plain": [
       "                                               H_MDp  \\\n",
       "0  [[7.8579177962359, 1.8277026707046538, 7.67211...   \n",
       "\n",
       "                                               H_MDv  \\\n",
       "0  [[0.7419855692112131, 0.3429436503935509, 3.49...   \n",
       "\n",
       "                                               H_PDp  \\\n",
       "0  [[-1.3202397961889738, 1.9858131343089587, 1.2...   \n",
       "\n",
       "                                               H_PDv  \\\n",
       "0  [[0.09599155790757895, -3.106857335946555, -2....   \n",
       "\n",
       "                                                  Hs  \\\n",
       "0  [[[1.9483168934334552, 4.628344535483583, 4.62...   \n",
       "\n",
       "                                               K_MDp  \\\n",
       "0  [[0.006666953037920375, 0.008168629248716086, ...   \n",
       "\n",
       "                                               K_MDv  \\\n",
       "0  [[0.003893029676447543, 0.003830093718059134, ...   \n",
       "\n",
       "                                               K_PDp  \\\n",
       "0  [[-1.007531743652326, 2.5969388581326696, 0.91...   \n",
       "\n",
       "                                               K_PDv  \\\n",
       "0  [[-0.7487052839958073, 2.615153993394279, 2.83...   \n",
       "\n",
       "                                                  Ks  ...  \\\n",
       "0  [[[0.003559814889089684, 0.0019726465403377543...  ...   \n",
       "\n",
       "                                              bmiDay  \\\n",
       "0  [1.0, 1.0, 1.0, 1.0, 2.0, 2.0, 3.0, 3.0, 3.0, ...   \n",
       "\n",
       "                                       bmiDecoderInd  \\\n",
       "0  [1.0, 2.0, 2.0, 2.0, 2.0, 2.0, 2.0, 2.0, 2.0, ...   \n",
       "\n",
       "                                         bmiUnitInds  \\\n",
       "0  [16.0, 106.0, 196.0, 211.0, 216.0, 266.0, 301....   \n",
       "\n",
       "                                     bmiUnitInds_all  \\\n",
       "0  [16.0, 106.0, 196.0, 211.0, 216.0, 266.0, 301....   \n",
       "\n",
       "                                            bmiUnits  \\\n",
       "0  [sig004a, sig022a, sig040a, sig043a, sig044a, ...   \n",
       "\n",
       "                                        bmiUnits_all  \\\n",
       "0  [sig004a, sig022a, sig040a, sig043a, sig044a, ...   \n",
       "\n",
       "                                                  sb  \\\n",
       "0  [1.0, 0.0, 0.0, 0.0, 0.0, 0.0, 0.0, 0.0, 1.0, ...   \n",
       "\n",
       "                                        usedUnit_day  \\\n",
       "0  [[True, True, True, True, True, True, True, Tr...   \n",
       "\n",
       "                                  usedUnit_day_clean  \\\n",
       "0  [[True, True, True, True, True, True, True, Tr...   \n",
       "\n",
       "                                    usedUnit_decoder  \n",
       "0  [[True, True, True, True, True, True, True, Tr...  \n",
       "\n",
       "[1 rows x 21 columns]"
      ]
     },
     "execution_count": 7,
     "metadata": {},
     "output_type": "execute_result"
    }
   ],
   "source": [
    "dec_df = pd.DataFrame.from_dict(dec_dict, orient='index').transpose()\n",
    "dec_df"
   ]
  },
  {
   "cell_type": "code",
   "execution_count": 8,
   "metadata": {},
   "outputs": [
    {
     "data": {
      "text/plain": [
       "array([[ 7.8579178 ,  1.82770267,  7.67211973,  0.26852021,  0.97892791,\n",
       "         2.05582724,  0.5171872 ,  0.11814513,  2.80917049,  0.85877255,\n",
       "         0.70973353,  0.98993813,  0.97208705,  4.80693122,  0.58667153,\n",
       "         5.69909901],\n",
       "       [10.63502369,  1.03348026,  8.42664476,  0.45516832,  1.18850953,\n",
       "         6.97719184,  1.13404771,  1.28523512,  1.18502774,  2.35840804,\n",
       "         1.79600854,  3.84481105,  0.8781774 ,  3.74290556,  4.69234509,\n",
       "        19.87103131],\n",
       "       [10.63502369,  1.03348026,  8.42664476,  0.45516832,  1.18850953,\n",
       "         6.97719184,  1.13404771,  1.28523512,  1.18502774,  2.35840804,\n",
       "         1.79600854,  3.84481105,  0.8781774 ,  3.74290556,  4.69234509,\n",
       "        19.87103131],\n",
       "       [        nan,         nan,         nan,         nan,         nan,\n",
       "                nan,         nan,         nan,         nan,         nan,\n",
       "                nan,         nan,         nan,         nan,         nan,\n",
       "                nan]])"
      ]
     },
     "execution_count": 8,
     "metadata": {},
     "output_type": "execute_result"
    }
   ],
   "source": [
    "dec_df['H_MDp'][0]"
   ]
  },
  {
   "cell_type": "code",
   "execution_count": 9,
   "metadata": {},
   "outputs": [
    {
     "data": {
      "text/plain": [
       "array([10.63502369,  1.03348026,  8.42664476,  0.45516832,  1.18850953,\n",
       "        6.97719184,  1.13404771,  1.28523512,  1.18502774,  2.35840804,\n",
       "        1.79600854,  3.84481105,  0.8781774 ,  3.74290556,  4.69234509,\n",
       "       19.87103131])"
      ]
     },
     "execution_count": 9,
     "metadata": {},
     "output_type": "execute_result"
    }
   ],
   "source": [
    "# how to access elements in the data frame\n",
    "dec_day = 2\n",
    "dec_df['H_MDp'][0][dec_day]"
   ]
  },
  {
   "cell_type": "markdown",
   "metadata": {},
   "source": [
    "   ### Neural Data"
   ]
  },
  {
   "cell_type": "code",
   "execution_count": 10,
   "metadata": {},
   "outputs": [
    {
     "data": {
      "text/plain": [
       "dict_keys(['N_bmi', 'N_mc', 'N_norm_bmi', 'N_vfb', 'binvector', 'bmiDay', 'bmiDecoderInd', 'bmiDecoders', 'bmiSessions', 'bmiUnitInds', 'bmiUnitInds_all', 'bmiUnits', 'bmiUnits_all', 'day', 'days', 'mFRs', 'mcDay', 'mcSessions', 'params', 'sdFRs', 'sessID_bmi', 'sessID_mc', 'sessID_vfb', 'sessions', 'trEs_bmi', 'trEs_mc', 'trEs_vfb', 'trTs_bmi', 'trTs_mc', 'trTs_vfb', 'vfbDay', 'vfbSessions'])"
      ]
     },
     "execution_count": 10,
     "metadata": {},
     "output_type": "execute_result"
    }
   ],
   "source": [
    "n_dict = mat73.loadmat(n_path,use_attrdict=True)\n",
    "n_dict.keys()"
   ]
  },
  {
   "cell_type": "code",
   "execution_count": 11,
   "metadata": {},
   "outputs": [
    {
     "data": {
      "text/plain": [
       "mat73.AttrDict"
      ]
     },
     "execution_count": 11,
     "metadata": {},
     "output_type": "execute_result"
    }
   ],
   "source": [
    "type(n_dict)"
   ]
  },
  {
   "cell_type": "code",
   "execution_count": 12,
   "metadata": {},
   "outputs": [],
   "source": [
    "def findBmiUnitsOnly(neuronData_dict):\n",
    "    # divide by .1 to get firing rates not spike counts (spike counts binned in 100 ms)\n",
    "    n_bmi = neuronData_dict['N_bmi']/.1; \n",
    "    # n_bmi = num time bins x num neurons total x trials (total)\n",
    "\n",
    "    # off by one, python to matlab\n",
    "   \n",
    "\n",
    "    # find the units that I care about (bmiUnitsInds_all)\n",
    "    n_units = neuronData_dict['bmiUnitInds_all'] - 1\n",
    "    n_units = n_units.astype('int')\n",
    "#     print(n_units)\n",
    "    print(\"Units that we care about:\", n_units)\n",
    "\n",
    "    # should be the same as the number of units in bmiUnitsInds_all\n",
    "    n_bmiUnits = n_bmi[:, n_units, : ];\n",
    "\n",
    "    n_shape = n_bmiUnits.shape\n",
    "    print(\"shape of n_bmiUnits:\", n_shape)\n",
    "    if n_shape[1] != neuronData_dict['bmiUnitInds_all'].size:\n",
    "        print(\"error in converting n_bmiUnits\")\n",
    "        return 0\n",
    "    else:\n",
    "        return n_bmiUnits\n"
   ]
  },
  {
   "cell_type": "code",
   "execution_count": 13,
   "metadata": {},
   "outputs": [
    {
     "name": "stdout",
     "output_type": "stream",
     "text": [
      "Units that we care about: [ 15 105 195 210 215 265 300 320 360 440 480 550 590 595 615 635]\n",
      "shape of n_bmiUnits: (30, 16, 1626)\n"
     ]
    }
   ],
   "source": [
    "n_bmiUnits = findBmiUnitsOnly(n_dict)"
   ]
  },
  {
   "cell_type": "code",
   "execution_count": 14,
   "metadata": {},
   "outputs": [
    {
     "data": {
      "text/plain": [
       "30"
      ]
     },
     "execution_count": 14,
     "metadata": {},
     "output_type": "execute_result"
    }
   ],
   "source": [
    "len(n_dict['binvector'])"
   ]
  },
  {
   "cell_type": "code",
   "execution_count": 15,
   "metadata": {},
   "outputs": [],
   "source": [
    "def timebinNeuralTrialData(neuralData_timeUnitsTrials):\n",
    "    alignInd = np.where(n_dict['binvector'] == 0)[0][0]\n",
    "\n",
    "    # getting the times that we care about\n",
    "    # 5 = 5 times bins before align time (so 500 ms)\n",
    "    # 2 = 2 time bins before align time (so 100 ms)\n",
    "    startOff = 5\n",
    "    endOff = 2\n",
    "    startInd = alignInd - startOff\n",
    "    if startInd < 0:\n",
    "        print(\"Error: Starting Index in timebinNeuralTrialData < 0\")\n",
    "    endInd = alignInd + endOff\n",
    "    if endInd > len(n_dict['binvector']):\n",
    "        print(\"Error: End Index in timebinNeuralTrialData too big\")\n",
    "    neuralData_time = neuralData_timeUnitsTrials[startInd:endInd, :, :]\n",
    "    print(\"Before Time Avg, binning size\", neuralData_time.shape)\n",
    "    if neuralData_time.shape[0] != (startOff + endOff):\n",
    "        print(\"Error: Shape error in timebinNeuralTrialData\")\n",
    "    neuralData_timeAvg = np.mean(neuralData_time, axis=0)\n",
    "    return neuralData_timeAvg\n",
    "\n"
   ]
  },
  {
   "cell_type": "code",
   "execution_count": 16,
   "metadata": {},
   "outputs": [
    {
     "name": "stdout",
     "output_type": "stream",
     "text": [
      "Before Time Avg, binning size (7, 16, 1626)\n",
      "(16, 1626)\n"
     ]
    }
   ],
   "source": [
    "n_bmiUnitsTimeAvg = timebinNeuralTrialData(n_bmiUnits)\n",
    "print(n_bmiUnitsTimeAvg.shape)\n",
    "# these are all the trials -- need to look at trEs to determine successful trials"
   ]
  },
  {
   "cell_type": "code",
   "execution_count": 17,
   "metadata": {},
   "outputs": [
    {
     "data": {
      "text/plain": [
       "2"
      ]
     },
     "execution_count": 17,
     "metadata": {},
     "output_type": "execute_result"
    }
   ],
   "source": [
    "n_bmiUnitsTimeAvg.ndim"
   ]
  },
  {
   "cell_type": "code",
   "execution_count": 18,
   "metadata": {},
   "outputs": [
    {
     "data": {
      "text/plain": [
       "dict_keys(['N_bmi', 'N_mc', 'N_norm_bmi', 'N_vfb', 'binvector', 'bmiDay', 'bmiDecoderInd', 'bmiDecoders', 'bmiSessions', 'bmiUnitInds', 'bmiUnitInds_all', 'bmiUnits', 'bmiUnits_all', 'day', 'days', 'mFRs', 'mcDay', 'mcSessions', 'params', 'sdFRs', 'sessID_bmi', 'sessID_mc', 'sessID_vfb', 'sessions', 'trEs_bmi', 'trEs_mc', 'trEs_vfb', 'trTs_bmi', 'trTs_mc', 'trTs_vfb', 'vfbDay', 'vfbSessions'])"
      ]
     },
     "execution_count": 18,
     "metadata": {},
     "output_type": "execute_result"
    }
   ],
   "source": [
    "n_dict.keys()"
   ]
  },
  {
   "cell_type": "markdown",
   "metadata": {},
   "source": [
    "### Separate by Target"
   ]
  },
  {
   "cell_type": "code",
   "execution_count": 19,
   "metadata": {},
   "outputs": [
    {
     "name": "stdout",
     "output_type": "stream",
     "text": [
      "Len of targVect 1626\n",
      "non-targets: [  16  208 1102 1211 1327 1336]\n",
      "non-targets: [  34 1292]\n",
      "Number of non-targets: 8\n",
      "Num of Trials to Expect: 1618\n",
      "1\n",
      "Target 1 :  197.0\n",
      "2\n",
      "Target 2 :  199.0\n",
      "3\n",
      "Target 3 :  197.0\n",
      "4\n",
      "Target 4 :  194.0\n",
      "5\n",
      "Target 5 :  204.0\n",
      "6\n",
      "Target 6 :  201.0\n",
      "7\n",
      "Target 7 :  229.0\n",
      "8\n",
      "Target 8 :  197.0\n"
     ]
    },
    {
     "data": {
      "text/plain": [
       "1618.0"
      ]
     },
     "execution_count": 19,
     "metadata": {},
     "output_type": "execute_result"
    }
   ],
   "source": [
    "# get the targVector\n",
    "targVect = n_dict['trEs_bmi'][:,0] - 63\n",
    "print(\"Len of targVect\", len(targVect))\n",
    "if (np.any(targVect > 8) or np.any(targVect < 1)):\n",
    "    print(\"non-targets:\", np.where(targVect > 8)[0])\n",
    "    print(\"non-targets:\", np.where(targVect < 1)[0])\n",
    "    print(\"Number of non-targets:\", len(np.where(targVect > 8)[0]) + len(np.where(targVect < 1)[0]))\n",
    "    print(\"Num of Trials to Expect:\", len(targVect)- (len(np.where(targVect > 8)[0]) + len(np.where(targVect < 1)[0])))\n",
    "    \n",
    "targNum = np.zeros(8) \n",
    "for iT in range(1, 9, 1):\n",
    "    print(iT)\n",
    "    targNum[iT-1] = len(np.where(targVect == iT)[0])\n",
    "    print(\"Target\", iT, \": \", targNum[iT-1])\n",
    "sum(targNum)"
   ]
  },
  {
   "cell_type": "code",
   "execution_count": 20,
   "metadata": {},
   "outputs": [
    {
     "name": "stdout",
     "output_type": "stream",
     "text": [
      "(16, 1626)\n"
     ]
    },
    {
     "data": {
      "text/plain": [
       "2"
      ]
     },
     "execution_count": 20,
     "metadata": {},
     "output_type": "execute_result"
    }
   ],
   "source": [
    "print(n_bmiUnitsTimeAvg.shape)\n",
    "test = n_bmiUnitsTimeAvg[:, np.where(targVect == 1)]\n",
    "test.shape\n",
    "n_bmiUnitsTimeAvg.ndim"
   ]
  },
  {
   "cell_type": "code",
   "execution_count": 84,
   "metadata": {},
   "outputs": [],
   "source": [
    "def TargPositionVector(neuralData_timeUnitsTrials, targetsVector):\n",
    "    print(\"Starting nData dims\", neuralData_timeUnitsTrials.ndim)\n",
    "#     if neuralData_timeUnitsTrials.ndim != 3:\n",
    "#         # assume it's been time-binned\n",
    "#         neuralData_timeUnitsTrials = np.expand_dims(neuralData_timeUnitsTrials, axis = 0)\n",
    "#     print(\"nData shape\", neuralData_timeUnitsTrials.shape)\n",
    "    numTrials = neuralData_timeUnitsTrials.shape[-1]\n",
    "    targPositionVector = np.zeros((3, numTrials))\n",
    "    \n",
    "    for iT in range(8):\n",
    "        print(\"target:\", iT + 1)\n",
    "        print(\"x:\",  np.cos(np.pi/4 * iT))\n",
    "        print(\"y:\",  np.sin(np.pi/4 * iT))\n",
    "        \n",
    "        targPositionVector[0, np.where(targetsVector == (iT + 1))[0]] = iT + 1\n",
    "        targPositionVector[1, np.where(targetsVector == (iT + 1))[0]] = np.cos(np.pi/4 * iT)\n",
    "        targPositionVector[2, np.where(targetsVector == (iT + 1))[0]] = np.sin(np.pi/4 * iT)\n",
    "   \n",
    "    return targPositionVector"
   ]
  },
  {
   "cell_type": "code",
   "execution_count": 85,
   "metadata": {},
   "outputs": [
    {
     "name": "stdout",
     "output_type": "stream",
     "text": [
      "Starting nData dims 2\n",
      "target: 1\n",
      "x: 1.0\n",
      "y: 0.0\n",
      "target: 2\n",
      "x: 0.7071067811865476\n",
      "y: 0.7071067811865475\n",
      "target: 3\n",
      "x: 6.123233995736766e-17\n",
      "y: 1.0\n",
      "target: 4\n",
      "x: -0.7071067811865475\n",
      "y: 0.7071067811865476\n",
      "target: 5\n",
      "x: -1.0\n",
      "y: 1.2246467991473532e-16\n",
      "target: 6\n",
      "x: -0.7071067811865477\n",
      "y: -0.7071067811865475\n",
      "target: 7\n",
      "x: -1.8369701987210297e-16\n",
      "y: -1.0\n",
      "target: 8\n",
      "x: 0.7071067811865475\n",
      "y: -0.7071067811865477\n"
     ]
    }
   ],
   "source": [
    "trialTargVector = TargPositionVector(n_bmiUnitsTimeAvg, targVect)"
   ]
  },
  {
   "cell_type": "code",
   "execution_count": 86,
   "metadata": {},
   "outputs": [
    {
     "name": "stdout",
     "output_type": "stream",
     "text": [
      "[2.         0.70710678 0.70710678]\n",
      "2.0\n"
     ]
    }
   ],
   "source": [
    "trialTargVector.shape\n",
    "check = 500\n",
    "print(trialTargVector[:, check])\n",
    "print(targVect[check])"
   ]
  },
  {
   "cell_type": "code",
   "execution_count": 21,
   "metadata": {},
   "outputs": [],
   "source": [
    "# assume input = time x units x trials (total)\n",
    "def sortTargetNeuralData(neuralData_timeUnitsTrials, targetsVector):\n",
    "    print(\"Starting nData dims\", neuralData_timeUnitsTrials.ndim)\n",
    "    if neuralData_timeUnitsTrials.ndim != 3:\n",
    "        # assume it's been time-binned\n",
    "#         print(\"here\")\n",
    "        neuralData_timeUnitsTrials = np.expand_dims(neuralData_timeUnitsTrials, axis = 0)\n",
    "    print(\"nData shape\", neuralData_timeUnitsTrials.shape)    \n",
    "    \n",
    "    # TODO: maybe more efficient way to do this?\n",
    "    targ1 = neuralData_timeUnitsTrials[:, :, np.where(targetsVector == 1)[0]]    \n",
    "    targ2 = neuralData_timeUnitsTrials[:, :, np.where(targetsVector == 2)[0]]\n",
    "    targ3 = neuralData_timeUnitsTrials[:, :, np.where(targetsVector == 3)[0]]\n",
    "    targ4 = neuralData_timeUnitsTrials[:, :, np.where(targetsVector == 4)[0]]\n",
    "    targ5 = neuralData_timeUnitsTrials[:, :, np.where(targetsVector == 5)[0]]\n",
    "    targ6 = neuralData_timeUnitsTrials[:, :, np.where(targetsVector == 6)[0]]    \n",
    "    targ7 = neuralData_timeUnitsTrials[:, :, np.where(targetsVector == 7)[0]]\n",
    "    targ8 = neuralData_timeUnitsTrials[:, :, np.where(targetsVector == 8)[0]]\n",
    "    \n",
    "    return (targ1, targ2, targ3, targ4, targ5, targ6, targ7, targ8)"
   ]
  },
  {
   "cell_type": "code",
   "execution_count": 22,
   "metadata": {},
   "outputs": [
    {
     "name": "stdout",
     "output_type": "stream",
     "text": [
      "Starting nData dims 2\n",
      "nData shape (1, 16, 1626)\n"
     ]
    }
   ],
   "source": [
    "(n_bmiUnitsT1, n_bmiUnitsT2, n_bmiUnitsT3, n_bmiUnitsT4, n_bmiUnitsT5, n_bmiUnitsT6, n_bmiUnitsT7, n_bmiUnitsT8) = sortTargetNeuralData(n_bmiUnitsTimeAvg, targVect)\n",
    "\n",
    "# check to see these match\n",
    "if (n_bmiUnitsT1.shape[-1] != targNum[0]):\n",
    "    print(\"error in targ 1\")\n",
    "if (n_bmiUnitsT2.shape[-1] != targNum[1]):\n",
    "    print(\"error in targ 2\")\n",
    "if (n_bmiUnitsT3.shape[-1] != targNum[2]):\n",
    "    print(\"error in targ 3\")\n",
    "if (n_bmiUnitsT4.shape[-1] != targNum[3]):\n",
    "    print(\"error in targ 4\")\n",
    "if (n_bmiUnitsT5.shape[-1] != targNum[4]):\n",
    "    print(\"error in targ 5\")\n",
    "if (n_bmiUnitsT6.shape[-1] != targNum[5]):\n",
    "    print(\"error in targ 6\")\n",
    "if (n_bmiUnitsT7.shape[-1] != targNum[6]):\n",
    "    print(\"error in targ 7\")\n",
    "if (n_bmiUnitsT8.shape[-1] != targNum[7]):\n",
    "    print(\"error in targ 8\")\n",
    "    \n",
    "# print(n_bmiUnitsT1.shape)\n",
    "# print(n_bmiUnitsT2.shape)\n",
    "# print(n_bmiUnitsT3.shape)\n",
    "# print(n_bmiUnitsT4.shape)\n",
    "# print(n_bmiUnitsT5.shape)\n",
    "# print(n_bmiUnitsT6.shape)\n",
    "# print(n_bmiUnitsT7.shape)\n",
    "# print(n_bmiUnitsT8.shape)\n",
    "\n",
    "# for iT in range(1, 9, 1):\n",
    "#     targNum[iT-1] = len(np.where(targVect == iT)[0])\n",
    "#     print(\"Target\", iT, \": \", targNum[iT-1])\n",
    "# sum(targNum)\n"
   ]
  },
  {
   "cell_type": "code",
   "execution_count": 23,
   "metadata": {},
   "outputs": [
    {
     "data": {
      "text/plain": [
       "(1, 16, 197)"
      ]
     },
     "execution_count": 23,
     "metadata": {},
     "output_type": "execute_result"
    }
   ],
   "source": []
  },
  {
   "cell_type": "code",
   "execution_count": null,
   "metadata": {},
   "outputs": [],
   "source": []
  },
  {
   "cell_type": "markdown",
   "metadata": {},
   "source": [
    "### Separate By Decoder"
   ]
  },
  {
   "cell_type": "code",
   "execution_count": 24,
   "metadata": {
    "scrolled": false
   },
   "outputs": [],
   "source": [
    "def getTrialsByDecoder(n_dict):\n",
    "    # separate into decoders\n",
    "    sessID_bmi = n_dict['sessID_bmi'] \n",
    "    bmiDecInd = n_dict['bmiDecoderInd']\n",
    "    numTrials = n_bmiUnitsTimeAvg.shape[-1]\n",
    "    print(sessID_bmi)\n",
    "    print(sessID_bmi.shape)\n",
    "    print(bmiDecInd)\n",
    "    print(bmiDecInd.shape)\n",
    "    numberSession = int(max(sessID_bmi))\n",
    "    print(\"Number of Sessions:\", numberSession)\n",
    "    numberDecoders = int(max(bmiDecInd))\n",
    "    print(\"Number of Decoders:\", numberDecoders)\n",
    "    bmiDecTrial = np.zeros(numTrials)\n",
    "    # take value of sessID_bmi --> val_sessID\n",
    "    # replace with the value of bmiDecInd at index of (val_sessID)\n",
    "\n",
    "    sessID_bmiOff = sessID_bmi - 1\n",
    "    bmiDecTrial = bmiDecInd[sessID_bmiOff.astype(int)]\n",
    "\n",
    "    # print number of trials in each session\n",
    "    trialsBySession = np.zeros(numberSession)\n",
    "    trialsByDecoder = np.zeros(numberDecoders)\n",
    "    for iT in range(numberSession):\n",
    "        print(\"Session ID:\", iT + 1) # off by one for matlab\n",
    "        print(\"Decoder Used: \", int(bmiDecInd[iT]))\n",
    "    #     print(np.where(sessID_bmiOff == iT)) # also off by one in matlab\n",
    "        print(\"Total Number of Trials in Sessions: \", sum(sessID_bmiOff == iT))\n",
    "        trialsBySession[iT] = sum(sessID_bmiOff == iT)\n",
    "    #     print(int(bmiDecInd[iT]))\n",
    "        trialsByDecoder[int(bmiDecInd[iT]) - 1] = trialsByDecoder[int(bmiDecInd[iT]) - 1] + sum(sessID_bmiOff == iT)\n",
    "\n",
    "    print(trialsByDecoder)\n",
    "\n",
    "    # bmiDecTrial is a trial num x 1 vector that assigs each trial to a decoder\n",
    "    plt.plot(bmiDecTrial, '.')\n",
    "    plt.title(\"Trials by Decoder Visualization\")\n",
    "    plt.xlabel(\"Trial Number\")\n",
    "    \n",
    "    return (bmiDecTrial, trialsByDecoder, trialsBySession)\n"
   ]
  },
  {
   "cell_type": "code",
   "execution_count": 25,
   "metadata": {},
   "outputs": [
    {
     "name": "stdout",
     "output_type": "stream",
     "text": [
      "[ 1.  1.  1. ... 10. 10. 10.]\n",
      "(1626,)\n",
      "[1. 2. 2. 2. 2. 2. 2. 2. 2. 3.]\n",
      "(10,)\n",
      "Number of Sessions: 10\n",
      "Number of Decoders: 3\n",
      "Session ID: 1\n",
      "Decoder Used:  1\n",
      "Total Number of Trials in Sessions:  37\n",
      "Session ID: 2\n",
      "Decoder Used:  2\n",
      "Total Number of Trials in Sessions:  171\n",
      "Session ID: 3\n",
      "Decoder Used:  2\n",
      "Total Number of Trials in Sessions:  147\n",
      "Session ID: 4\n",
      "Decoder Used:  2\n",
      "Total Number of Trials in Sessions:  145\n",
      "Session ID: 5\n",
      "Decoder Used:  2\n",
      "Total Number of Trials in Sessions:  240\n",
      "Session ID: 6\n",
      "Decoder Used:  2\n",
      "Total Number of Trials in Sessions:  362\n",
      "Session ID: 7\n",
      "Decoder Used:  2\n",
      "Total Number of Trials in Sessions:  109\n",
      "Session ID: 8\n",
      "Decoder Used:  2\n",
      "Total Number of Trials in Sessions:  77\n",
      "Session ID: 9\n",
      "Decoder Used:  2\n",
      "Total Number of Trials in Sessions:  48\n",
      "Session ID: 10\n",
      "Decoder Used:  3\n",
      "Total Number of Trials in Sessions:  290\n",
      "[  37. 1299.  290.]\n"
     ]
    },
    {
     "data": {
      "image/png": "[encoded data removed]",
      "text/plain": [
       "<Figure size 432x288 with 1 Axes>"
      ]
     },
     "metadata": {},
     "output_type": "display_data"
    }
   ],
   "source": [
    "n_bmiUnitsDec, bmiTrialsPerDecoder, bmiTrialsPerSession = getTrialsByDecoder(n_dict)"
   ]
  },
  {
   "cell_type": "code",
   "execution_count": 27,
   "metadata": {},
   "outputs": [],
   "source": [
    "# takes in the neural data that's time x neurons x trials and separates outs by decoder\n",
    "# def SeparateNeuralDataBeDecoder(neuralData, decTrialVector):\n",
    "    "
   ]
  },
  {
   "cell_type": "code",
   "execution_count": 28,
   "metadata": {},
   "outputs": [
    {
     "data": {
      "text/plain": [
       "array([[214.28571429, 142.85714286,  71.42857143, ...,  71.42857143,\n",
       "         42.85714286, 171.42857143],\n",
       "       [ 42.85714286,  71.42857143,  14.28571429, ...,  57.14285714,\n",
       "         42.85714286,  14.28571429],\n",
       "       [200.        , 200.        ,  71.42857143, ...,  42.85714286,\n",
       "        214.28571429, 228.57142857],\n",
       "       ...,\n",
       "       [257.14285714, 371.42857143, 300.        , ..., 157.14285714,\n",
       "        414.28571429, 371.42857143],\n",
       "       [ 14.28571429,  71.42857143,   0.        , ..., 100.        ,\n",
       "         42.85714286,  71.42857143],\n",
       "       [214.28571429, 214.28571429, 242.85714286, ..., 314.28571429,\n",
       "        271.42857143,  85.71428571]])"
      ]
     },
     "execution_count": 28,
     "metadata": {},
     "output_type": "execute_result"
    }
   ],
   "source": [
    "# this is time-binned neurons x all trials\n",
    "n_bmiUnitsTimeAvg"
   ]
  },
  {
   "cell_type": "code",
   "execution_count": 34,
   "metadata": {},
   "outputs": [
    {
     "name": "stdout",
     "output_type": "stream",
     "text": [
      "(16, 1626)\n",
      "(1626,)\n",
      "(10,)\n"
     ]
    }
   ],
   "source": [
    "print(n_bmiUnitsTimeAvg.shape)\n",
    "print(targVect.shape)\n",
    "print(bmiTrialsPerSession.shape)"
   ]
  },
  {
   "cell_type": "markdown",
   "metadata": {},
   "source": [
    "for now, let's just focus on reaches to target 1"
   ]
  },
  {
   "cell_type": "code",
   "execution_count": 87,
   "metadata": {},
   "outputs": [
    {
     "data": {
      "text/plain": [
       "(1626,)"
      ]
     },
     "execution_count": 87,
     "metadata": {},
     "output_type": "execute_result"
    }
   ],
   "source": [
    "n_bmiUnitsDec.shape"
   ]
  },
  {
   "cell_type": "code",
   "execution_count": null,
   "metadata": {},
   "outputs": [],
   "source": [
    "n_bmiUnitsT1_"
   ]
  }
 ],
 "metadata": {
  "kernelspec": {
   "display_name": "Python 3",
   "language": "python",
   "name": "python3"
  },
  "language_info": {
   "codemirror_mode": {
    "name": "ipython",
    "version": 3
   },
   "file_extension": ".py",
   "mimetype": "text/x-python",
   "name": "python",
   "nbconvert_exporter": "python",
   "pygments_lexer": "ipython3",
   "version": "3.8.5"
  }
 },
 "nbformat": 4,
 "nbformat_minor": 4
}
