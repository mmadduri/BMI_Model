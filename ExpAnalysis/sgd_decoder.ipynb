{
 "cells": [
  {
   "cell_type": "code",
   "execution_count": 1,
   "metadata": {},
   "outputs": [],
   "source": [
    "# to use cd, etc\n",
    "import sys\n",
    "import os\n",
    "\n",
    "import numpy as np\n",
    "# for math work\n",
    "from numpy import linalg, matlib\n",
    "# save, import and load data\n",
    "from numpy import asarray, save, load\n",
    "\n",
    "# needed for some matrix manipulations\n",
    "import cvxpy as cp\n",
    "# import math \n",
    "\n",
    "import scipy\n",
    "# for curve fitting\n",
    "from scipy import optimize\n",
    "from scipy.io import loadmat  # this is the SciPy module that loads mat-files\n",
    "\n",
    "from sklearn.metrics import r2_score, mean_squared_error\n",
    "\n",
    "import mat73\n",
    "import pandas as pd\n",
    "\n",
    "import matplotlib.pyplot as plt\n",
    "# for plots\n",
    "import seaborn\n",
    "# set up seaborn for the plots\n",
    "seaborn.set()\n",
    "\n",
    "# suppress deprecation warnings\n",
    "import warnings\n",
    "import matplotlib.cbook\n",
    "warnings.filterwarnings(\"ignore\",category=matplotlib.cbook.mplDeprecation)\n",
    "\n",
    "# # to save data plots\n",
    "from matplotlib.backends.backend_pdf import PdfPages\n",
    "\n",
    "import pickle"
   ]
  },
  {
   "cell_type": "code",
   "execution_count": 2,
   "metadata": {},
   "outputs": [],
   "source": [
    "path = '/Users/mmadduri/Documents/PhD/ResearchMaterials/Code/BMI_Model/'\n",
    "file = '2021Jul19data.pkl'\n",
    "\n",
    "with open(path + file , 'rb') as infile:\n",
    "    y_, ypred, K_, targs, ylast = pickle.load(infile)"
   ]
  },
  {
   "cell_type": "code",
   "execution_count": 3,
   "metadata": {},
   "outputs": [],
   "source": [
    "def sg(c,u,N,D):\n",
    "  \"\"\"\n",
    "  stochastic gradient\n",
    "  Dc ~= (1/N) * sum( [(c(u+d[n]) - c(u-d[n])) * d[n] / |d[n]|] for n in range(N) )\n",
    "\n",
    "  inputs:\n",
    "    c : U -> R\n",
    "    u in U - decision variable in vector space U\n",
    "    N - int - number of samples\n",
    "    D > 0 - size of displacement\n",
    "\n",
    "  outputs:\n",
    "    Dc in N x U - approximations of gradient\n",
    "  \"\"\"\n",
    "  # create displacements\n",
    "  d = np.random.randn(N,u.size)\n",
    "  #d /= np.linalg.norm(d,axis=1)[:,np.newaxis]\n",
    "  d *= D\n",
    "  d.reshape(tuple([N]+list(u.shape)))\n",
    "  # compute stochastic gradient\n",
    "  Dc = np.zeros_like(d)\n",
    "  for n in range(N):\n",
    "    Dc[n] = (c(u+d[n]) - c(u-d[n])) * d[n] \n",
    "  Dc /= 2*D**2\n",
    "  return Dc\n",
    "\n",
    "def gd(c,u0,Dc,g,I):\n",
    "  \"\"\"\n",
    "  gradient descent\n",
    "  for i in I:\n",
    "    u -= g(u)*Dc(u)\n",
    "\n",
    "  inputs:\n",
    "    c : U -> R\n",
    "    u0 in U - decision variable in vector space U\n",
    "    g(u,i) > 0 - step size\n",
    "    I - int - number of iterations\n",
    "\n",
    "  outputs:\n",
    "    U in I x U\n",
    "  \"\"\"\n",
    "  U = np.nan*np.zeros((I,u0.size))\n",
    "  U.reshape(tuple([I]+list(u0.shape)))\n",
    "  U[0] = u0\n",
    "  for i in range(I-1):\n",
    "    U[i+1] = U[i] - g(U[i],i) * Dc(U[i])\n",
    "  return U\n",
    "\n",
    "def PSD(n,sqrt=False):\n",
    "  \"\"\"\n",
    "  compute random positive semidefinite matrix\n",
    "\n",
    "  input:\n",
    "    n - int - dimension of matrix\n",
    "    (optional)\n",
    "    sqrt - bool - whether to return S such that Q = np.dot( S.T, S)\n",
    "\n",
    "  output:\n",
    "    Q - n x n - Q = Q^T,  spec Q \\subset [0,oo)\n",
    "  \"\"\"\n",
    "  H = np.random.randn( n, n )\n",
    "  d,u = np.linalg.eig( H + H.T )\n",
    "  d *= np.sqrt(np.arange(d.size)+.1)\n",
    "  S = np.dot( u, np.dot( np.diag( np.sqrt( d*np.sign( d ) ) ), u.T ) )\n",
    "  Q = np.dot( S.T, S )\n",
    "  if sqrt:\n",
    "    return Q, S\n",
    "  else:\n",
    "    return Q"
   ]
  },
  {
   "cell_type": "code",
   "execution_count": 34,
   "metadata": {},
   "outputs": [],
   "source": [
    "N = 100\n",
    "D = 1e-1\n",
    "lamba_k = .001\n",
    "\n",
    "# u is each K\n",
    "c = lambda e, u : np.linalg.norm(e, 2)**2 + lamba_k*np.linalg.norm(u, 2)**2 "
   ]
  },
  {
   "cell_type": "code",
   "execution_count": 53,
   "metadata": {},
   "outputs": [],
   "source": [
    "Dc = lambda u : sg(c,u,N,D).mean(axis=0)\n",
    "g = lambda u,i : 1e-1#/(i+1)\n",
    "I = 20\n",
    "\n",
    "U_ = []\n",
    "cU_ = []\n",
    "\n",
    "g_g = lambda u,i : .5\n",
    "ck_ = lambda u: ck(ylast[0]-targs[0], u)\n",
    "Dck = lambda u: sg(ck_,u,N,D).mean() # derivative\n",
    "\n",
    "Knext = []\n",
    "mse = []\n",
    "\n",
    "for ii in range(5000, 5500, 1):\n",
    "    Ksolve = gd(ck_,np.ndarray.flatten(K_[:,:, ii]),Dck,g_g, 2)[-1] # -1 becuase it comes out as a [2, xx] array and you need the last step\n",
    "#     print(np.array(Ksolve).shape)\n",
    "    Knext.append(Ksolve)   \n",
    "    mse.append(mean_squared_error(Ksolve, np.ndarray.flatten(K_[:, :, ii+1])))\n",
    "#     print(mse[-1])"
   ]
  },
  {
   "cell_type": "code",
   "execution_count": 47,
   "metadata": {},
   "outputs": [
    {
     "data": {
      "image/png": "[encoded data removed]",
      "text/plain": [
       "<Figure size 432x288 with 1 Axes>"
      ]
     },
     "metadata": {},
     "output_type": "display_data"
    }
   ],
   "source": [
    "plt.scatter(range(100), mse)\n",
    "plt.show()"
   ]
  },
  {
   "cell_type": "code",
   "execution_count": 48,
   "metadata": {},
   "outputs": [
    {
     "data": {
      "text/plain": [
       "(100, 76)"
      ]
     },
     "execution_count": 48,
     "metadata": {},
     "output_type": "execute_result"
    }
   ],
   "source": [
    "np.array(Knext).shape"
   ]
  },
  {
   "cell_type": "code",
   "execution_count": 50,
   "metadata": {},
   "outputs": [
    {
     "data": {
      "text/plain": [
       "0.0019500047588805688"
      ]
     },
     "execution_count": 50,
     "metadata": {},
     "output_type": "execute_result"
    }
   ],
   "source": [
    "np.mean(Knext)"
   ]
  },
  {
   "cell_type": "code",
   "execution_count": 49,
   "metadata": {},
   "outputs": [
    {
     "name": "stdout",
     "output_type": "stream",
     "text": [
      "0.002356307471087511 0.0019446802732504668 0.0023484082232278175 0.8378095758198467 0.011510853473438868\n"
     ]
    }
   ],
   "source": [
    "slope, intercept, r, p, se = scipy.stats.linregress(np.ndarray.flatten(K_[:,:, 1:101]), np.ndarray.flatten(np.array(Knext)))\n",
    "print(slope, intercept, r, p, se)\n",
    "# def plot_r2(xdata, ydata,label):\n",
    "#     plt.scatter(xdata, ydata)\n",
    "#     slope, intercept, r, p, se = scipy.stats.linregress(np.ndarray.flatten(xdata), np.ndarray.flatten(ydata))\n",
    "    \n",
    "#     plt.plot(np.linspace(min(np.sort(np.ndarray.flatten(xdata))),max(np.sort(np.ndarray.flatten(xdata))),10),np.linspace(min(np.sort(np.ndarray.flatten(xdata))),max(np.sort(np.ndarray.flatten(xdata))),10)*slope+ intercept,'r')\n",
    "#     plt.xlabel(\"cursor \" + str(label))\n",
    "#     plt.ylabel(\"prediction: cursor \" + str(label))\n",
    "#     plt.title(\"pred of \"+ str(label) + \"| r-squared = \" + str(r))\n",
    "#     plt.show()\n",
    "\n",
    "# plot_r2(y_[0], ypred[0], \"x pos\")\n",
    "# plot_r2(y_[1], ypred[1], \"y pos\")\n",
    "# plot_r2(y_[2], ypred[2], \"x vel\")\n",
    "# plot_r2(y_[3], ypred[3], \"y vel\")"
   ]
  },
  {
   "cell_type": "code",
   "execution_count": 51,
   "metadata": {},
   "outputs": [
    {
     "data": {
      "text/plain": [
       "<matplotlib.collections.PathCollection at 0x126120700>"
      ]
     },
     "execution_count": 51,
     "metadata": {},
     "output_type": "execute_result"
    },
    {
     "data": {
      "image/png": "[encoded data removed]",
      "text/plain": [
       "<Figure size 432x288 with 1 Axes>"
      ]
     },
     "metadata": {},
     "output_type": "display_data"
    }
   ],
   "source": [
    "plt.scatter(np.ndarray.flatten(K_[:,:, 1:101]), np.ndarray.flatten(np.array(Knext)))"
   ]
  },
  {
   "cell_type": "code",
   "execution_count": null,
   "metadata": {},
   "outputs": [],
   "source": []
  }
 ],
 "metadata": {
  "kernelspec": {
   "display_name": "Python 3",
   "language": "python",
   "name": "python3"
  },
  "language_info": {
   "codemirror_mode": {
    "name": "ipython",
    "version": 3
   },
   "file_extension": ".py",
   "mimetype": "text/x-python",
   "name": "python",
   "nbconvert_exporter": "python",
   "pygments_lexer": "ipython3",
   "version": "3.8.5"
  }
 },
 "nbformat": 4,
 "nbformat_minor": 4
}
