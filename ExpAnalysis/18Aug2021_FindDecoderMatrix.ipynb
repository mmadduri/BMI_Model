{
 "cells": [
  {
   "cell_type": "code",
   "execution_count": null,
   "metadata": {},
   "outputs": [],
   "source": [
    "# to use cd, etc\n",
    "import sys\n",
    "import os\n",
    "\n",
    "import numpy as np\n",
    "# for math work\n",
    "from numpy import linalg, matlib\n",
    "# save, import and load data\n",
    "from numpy import asarray, save, load\n",
    "\n",
    "# needed for some matrix manipulations\n",
    "import cvxpy as cp\n",
    "# import math \n",
    "\n",
    "import scipy\n",
    "# for curve fitting\n",
    "from scipy import optimize\n",
    "from scipy.io import loadmat  # this is the SciPy module that loads mat-files\n",
    "\n",
    "from sklearn.metrics import r2_score, mean_squared_error\n",
    "\n",
    "# import mat73\n",
    "import pandas as pd\n",
    "\n",
    "import matplotlib.pyplot as plt\n",
    "# for plots\n",
    "import seaborn\n",
    "# set up seaborn for the plots\n",
    "seaborn.set()\n",
    "\n",
    "# suppress deprecation warnings\n",
    "import warnings\n",
    "import matplotlib.cbook\n",
    "warnings.filterwarnings(\"ignore\",category=matplotlib.cbook.mplDeprecation)\n",
    "\n",
    "# # # to save data plots\n",
    "# from matplotlib.backends.backend_pdf import PdfPages\n",
    "\n",
    "# from datetime import datetime\n",
    "import pickle"
   ]
  },
  {
   "cell_type": "code",
   "execution_count": null,
   "metadata": {},
   "outputs": [],
   "source": []
  },
  {
   "cell_type": "code",
   "execution_count": null,
   "metadata": {},
   "outputs": [],
   "source": [
    "sessStart = '072312'\n",
    "sessEnd = '080412'\n",
    "savepath = '/Users/mmadduri/Documents/PhD/ResearchMaterials/Code/BMI_Model/data/' + 'jeev' + sessStart + '_' + sessEnd + '/'"
   ]
  },
  {
   "cell_type": "code",
   "execution_count": null,
   "metadata": {},
   "outputs": [],
   "source": [
    "with open(savepath + \"cursorData.pkl\", 'rb') as infile:\n",
    "     kinList = pickle.load(infile)\n",
    "kinData = np.asarray(kinList)[0]"
   ]
  },
  {
   "cell_type": "code",
   "execution_count": null,
   "metadata": {},
   "outputs": [],
   "source": [
    "with open(savepath + \"decoder_2_neuralData.pkl\", 'rb') as infile:\n",
    "     decNum, usedUnits, succIdx, nData_succ = pickle.load(infile)"
   ]
  },
  {
   "cell_type": "markdown",
   "metadata": {},
   "source": []
  },
  {
   "cell_type": "code",
   "execution_count": null,
   "metadata": {},
   "outputs": [],
   "source": [
    "nB = nData_succ.shape[0]\n",
    "nN = nData_succ.shape[1]\n",
    "nT = nData_succ.shape[2]"
   ]
  },
  {
   "cell_type": "code",
   "execution_count": null,
   "metadata": {
    "scrolled": true
   },
   "outputs": [],
   "source": [
    "usedUnits"
   ]
  },
  {
   "cell_type": "code",
   "execution_count": null,
   "metadata": {},
   "outputs": [],
   "source": [
    "decNum"
   ]
  },
  {
   "cell_type": "code",
   "execution_count": null,
   "metadata": {},
   "outputs": [],
   "source": [
    "succIdx"
   ]
  },
  {
   "cell_type": "code",
   "execution_count": null,
   "metadata": {},
   "outputs": [],
   "source": [
    "kinSucc = kinData[succIdx]"
   ]
  },
  {
   "cell_type": "code",
   "execution_count": null,
   "metadata": {},
   "outputs": [],
   "source": [
    "len(kinData[0])"
   ]
  },
  {
   "cell_type": "code",
   "execution_count": null,
   "metadata": {},
   "outputs": [],
   "source": [
    "trLen = 20\n",
    "\n",
    "kinLen = np.zeros(len(kinSucc))\n",
    "overcount = 0\n",
    "for iK in range(len(kinSucc)):\n",
    "    kinLen[iK] = len(kinSucc[iK])    \n",
    "    if (len(kinSucc[iK]) >= trLen):\n",
    "        overcount = overcount + 1"
   ]
  },
  {
   "cell_type": "code",
   "execution_count": null,
   "metadata": {},
   "outputs": [],
   "source": [
    "overcount"
   ]
  },
  {
   "cell_type": "code",
   "execution_count": null,
   "metadata": {},
   "outputs": [],
   "source": [
    "for iK in range(100):\n",
    "    plt.plot(kinSucc[iK][:trLen, 0], kinSucc[iK][:trLen, 1]);\n",
    "plt.show()"
   ]
  },
  {
   "cell_type": "code",
   "execution_count": null,
   "metadata": {},
   "outputs": [],
   "source": [
    "for iK in range(10):\n",
    "    plt.plot(kinSucc[iK][:trLen, 0], kinSucc[iK][:trLen, 1]);\n",
    "plt.show()"
   ]
  },
  {
   "cell_type": "code",
   "execution_count": null,
   "metadata": {},
   "outputs": [],
   "source": [
    "(kinSucc[0]).flatten()"
   ]
  },
  {
   "cell_type": "code",
   "execution_count": null,
   "metadata": {},
   "outputs": [],
   "source": [
    "#rescale to mean 0\n",
    "def standardizeArray(array_in):\n",
    "    return (array_in - np.mean(array_in))/ (np.max(array_in) - np.min(array_in))"
   ]
  },
  {
   "cell_type": "code",
   "execution_count": null,
   "metadata": {},
   "outputs": [],
   "source": [
    "k_flat = []\n",
    "nd_flat = []\n",
    "tr = []\n",
    "for iK in range(len(kinSucc)):\n",
    "    if (len(kinSucc[iK]) >= trLen):\n",
    "        tr.append(iK)\n",
    "        # make the cursor matrix\n",
    "        k_iter = kinSucc[iK][0:trLen, :]\n",
    "        k_flat.append(k_iter.flatten())\n",
    "        \n",
    "        # make the neural activity matrix\n",
    "        k0 = kinSucc[iK][0, :]\n",
    "        nd_tr = nData_succ[0:trLen, :, iK].flatten()\n",
    "#         np.concatenate((k0, nd_tr))\n",
    "        nd_flat.append(np.concatenate((k0, nd_tr)))\n",
    "        \n",
    "        \n",
    "k_flat = np.array(k_flat, dtype=float).T\n",
    "nd_flat = np.array(nd_flat, dtype=float).T"
   ]
  },
  {
   "cell_type": "code",
   "execution_count": null,
   "metadata": {},
   "outputs": [],
   "source": [
    "k_flat.shape"
   ]
  },
  {
   "cell_type": "code",
   "execution_count": null,
   "metadata": {},
   "outputs": [],
   "source": [
    "nd_flat.shape"
   ]
  },
  {
   "cell_type": "code",
   "execution_count": null,
   "metadata": {},
   "outputs": [],
   "source": [
    "dec_calc = k_flat@np.linalg.pinv(nd_flat)\n",
    "dec_calc.shape"
   ]
  },
  {
   "cell_type": "code",
   "execution_count": null,
   "metadata": {},
   "outputs": [],
   "source": [
    "np.linalg.pinv(nd_flat).shape"
   ]
  },
  {
   "cell_type": "code",
   "execution_count": null,
   "metadata": {},
   "outputs": [],
   "source": [
    "def plot_r2(xdata, ydata):\n",
    "    plt.scatter(xdata, ydata)\n",
    "    slope, intercept, r, p, se = scipy.stats.linregress(np.ndarray.flatten(xdata), np.ndarray.flatten(ydata))\n",
    "    \n",
    "    plt.plot(np.linspace(min(np.sort(np.ndarray.flatten(xdata))),max(np.sort(np.ndarray.flatten(xdata))),10),np.linspace(min(np.sort(np.ndarray.flatten(xdata))),max(np.sort(np.ndarray.flatten(xdata))),10)*slope+ intercept,'r')\n",
    "#     plt.xlabel(\"cursor \" + str(label))\n",
    "#     plt.ylabel(\"prediction: cursor \" + str(label))\n",
    "    plt.title(\"r-squared = \" + str(r))\n",
    "    plt.show()"
   ]
  },
  {
   "cell_type": "code",
   "execution_count": null,
   "metadata": {},
   "outputs": [],
   "source": [
    "kin_calc = np.zeros((k_flat.shape[0] , len(tr)))\n",
    "for iT_idx, iT_val in enumerate(tr):\n",
    "    kin_calc[:, iT_idx] = dec_calc@nd_flat[:, iT_idx]"
   ]
  },
  {
   "cell_type": "code",
   "execution_count": null,
   "metadata": {},
   "outputs": [],
   "source": [
    "plt.xlabel(\"Actual\")\n",
    "plt.ylabel(\"Calculated\")\n",
    "plot_r2(k_flat.flatten(),kin_calc.flatten())"
   ]
  },
  {
   "cell_type": "code",
   "execution_count": null,
   "metadata": {},
   "outputs": [],
   "source": [
    "dec_calc.shape"
   ]
  },
  {
   "cell_type": "code",
   "execution_count": null,
   "metadata": {},
   "outputs": [],
   "source": [
    "nd_flat[:,0].shape"
   ]
  },
  {
   "cell_type": "code",
   "execution_count": null,
   "metadata": {},
   "outputs": [],
   "source": []
  },
  {
   "cell_type": "code",
   "execution_count": null,
   "metadata": {},
   "outputs": [],
   "source": []
  },
  {
   "cell_type": "code",
   "execution_count": null,
   "metadata": {},
   "outputs": [],
   "source": []
  },
  {
   "cell_type": "code",
   "execution_count": null,
   "metadata": {},
   "outputs": [],
   "source": []
  }
 ],
 "metadata": {
  "kernelspec": {
   "display_name": "Python 3",
   "language": "python",
   "name": "python3"
  },
  "language_info": {
   "codemirror_mode": {
    "name": "ipython",
    "version": 3
   },
   "file_extension": ".py",
   "mimetype": "text/x-python",
   "name": "python",
   "nbconvert_exporter": "python",
   "pygments_lexer": "ipython3",
   "version": "3.8.5"
  }
 },
 "nbformat": 4,
 "nbformat_minor": 4
}
