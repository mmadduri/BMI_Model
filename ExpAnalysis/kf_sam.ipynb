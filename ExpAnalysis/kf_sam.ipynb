{
 "cells": [
  {
   "cell_type": "code",
   "execution_count": 8,
   "metadata": {},
   "outputs": [],
   "source": [
    "import numpy as np\n",
    "import scipy.io as io\n",
    "import scipy.linalg as la\n",
    "import pylab as plt"
   ]
  },
  {
   "cell_type": "code",
   "execution_count": 9,
   "metadata": {},
   "outputs": [],
   "source": [
    "np.printoptions(precision=2);"
   ]
  },
  {
   "cell_type": "code",
   "execution_count": 19,
   "metadata": {},
   "outputs": [
    {
     "data": {
      "text/plain": [
       "'1.7.1'"
      ]
     },
     "execution_count": 19,
     "metadata": {},
     "output_type": "execute_result"
    }
   ],
   "source": [
    "import scipy\n",
    "scipy.__version__"
   ]
  },
  {
   "cell_type": "code",
   "execution_count": 4,
   "metadata": {},
   "outputs": [],
   "source": [
    "f = io.loadmat('/Users/mmadduri/Documents/PhD/ResearchMaterials/Code/BMI_Model/data/neuraldata.mat')['n_data']\n",
    "d = io.loadmat('/Users/mmadduri/Documents/PhD/ResearchMaterials/Code/BMI_Model/data/decoder.mat')\n",
    "A = d['dec_A']\n",
    "C = d['dec_H']\n",
    "Q = d['dec_W'] # process noise covariance\n",
    "R = d['dec_Q'] # measurement noise covariance"
   ]
  },
  {
   "cell_type": "code",
   "execution_count": 24,
   "metadata": {},
   "outputs": [
    {
     "data": {
      "text/plain": [
       "(20, 16, 2056)"
      ]
     },
     "execution_count": 24,
     "metadata": {},
     "output_type": "execute_result"
    }
   ],
   "source": [
    "f.shape"
   ]
  },
  {
   "cell_type": "markdown",
   "metadata": {},
   "source": [
    "Assuming process model \n",
    "$$ x^+ = A x + v,\\ f = C x + w,\\ v\\sim\\mathcal{N}(0,Q),\\ w\\sim\\mathcal{N}(0,R), $$\n",
    "the Kalman filter is\n",
    "$$ \\widehat{x}^+ = A \\widehat{x} + L (f - \\widehat{f}) = (A - L C) \\widehat{x} + L f,\\ \\widehat{f} = C \\widehat{x}, $$\n",
    "where $L$ is obtained by solving the discrete algebraic Riccati equation (DARE)\n",
    "$$ A P A^\\top - P - (A P C^\\top ) (R + C P C^\\top)^{-1} (C P A^\\top) + Q = 0  $$\n",
    "for $P = P > 0$ and setting\n",
    "$$ L = P C^\\top (C P C^\\top + R)^{-1}. $$\n",
    "\n",
    "(If the `control` package is available, $L$ can be obtained via `L = control.lqr(A.T,C.T,Q,R).T`.)"
   ]
  },
  {
   "cell_type": "code",
   "execution_count": 16,
   "metadata": {},
   "outputs": [
    {
     "ename": "LinAlgError",
     "evalue": "The associated symplectic pencil has eigenvaluestoo close to the unit circle",
     "output_type": "error",
     "traceback": [
      "\u001b[0;31m---------------------------------------------------------------------------\u001b[0m",
      "\u001b[0;31mLinAlgError\u001b[0m                               Traceback (most recent call last)",
      "\u001b[0;32m<ipython-input-16-cc6cd1033f03>\u001b[0m in \u001b[0;36m<module>\u001b[0;34m\u001b[0m\n\u001b[0;32m----> 1\u001b[0;31m \u001b[0mP\u001b[0m \u001b[0;34m=\u001b[0m \u001b[0mla\u001b[0m\u001b[0;34m.\u001b[0m\u001b[0msolve_discrete_are\u001b[0m\u001b[0;34m(\u001b[0m\u001b[0mA\u001b[0m\u001b[0;34m.\u001b[0m\u001b[0mT\u001b[0m\u001b[0;34m,\u001b[0m\u001b[0mC\u001b[0m\u001b[0;34m.\u001b[0m\u001b[0mT\u001b[0m\u001b[0;34m,\u001b[0m\u001b[0mQ\u001b[0m\u001b[0;34m,\u001b[0m\u001b[0mR\u001b[0m\u001b[0;34m)\u001b[0m\u001b[0;34m\u001b[0m\u001b[0;34m\u001b[0m\u001b[0m\n\u001b[0m\u001b[1;32m      2\u001b[0m \u001b[0;32massert\u001b[0m \u001b[0mnp\u001b[0m\u001b[0;34m.\u001b[0m\u001b[0mallclose\u001b[0m\u001b[0;34m(\u001b[0m \u001b[0;36m0\u001b[0m\u001b[0;34m,\u001b[0m \u001b[0mA\u001b[0m \u001b[0;34m@\u001b[0m \u001b[0mP\u001b[0m \u001b[0;34m@\u001b[0m \u001b[0mA\u001b[0m\u001b[0;34m.\u001b[0m\u001b[0mT\u001b[0m \u001b[0;34m-\u001b[0m \u001b[0mP\u001b[0m \u001b[0;34m-\u001b[0m \u001b[0;34m(\u001b[0m\u001b[0mA\u001b[0m \u001b[0;34m@\u001b[0m \u001b[0mP\u001b[0m \u001b[0;34m@\u001b[0m \u001b[0mC\u001b[0m\u001b[0;34m.\u001b[0m\u001b[0mT\u001b[0m\u001b[0;34m)\u001b[0m \u001b[0;34m@\u001b[0m \u001b[0mla\u001b[0m\u001b[0;34m.\u001b[0m\u001b[0minv\u001b[0m\u001b[0;34m(\u001b[0m\u001b[0mR\u001b[0m \u001b[0;34m+\u001b[0m \u001b[0mC\u001b[0m \u001b[0;34m@\u001b[0m \u001b[0mP\u001b[0m \u001b[0;34m@\u001b[0m \u001b[0mC\u001b[0m\u001b[0;34m.\u001b[0m\u001b[0mT\u001b[0m\u001b[0;34m)\u001b[0m \u001b[0;34m@\u001b[0m \u001b[0;34m(\u001b[0m\u001b[0mC\u001b[0m \u001b[0;34m@\u001b[0m \u001b[0mP\u001b[0m \u001b[0;34m@\u001b[0m \u001b[0mA\u001b[0m\u001b[0;34m.\u001b[0m\u001b[0mT\u001b[0m\u001b[0;34m)\u001b[0m \u001b[0;34m+\u001b[0m \u001b[0mQ\u001b[0m \u001b[0;34m)\u001b[0m\u001b[0;34m\u001b[0m\u001b[0;34m\u001b[0m\u001b[0m\n\u001b[1;32m      3\u001b[0m \u001b[0;34m\u001b[0m\u001b[0m\n\u001b[1;32m      4\u001b[0m \u001b[0mL\u001b[0m \u001b[0;34m=\u001b[0m \u001b[0mP\u001b[0m \u001b[0;34m@\u001b[0m \u001b[0mC\u001b[0m\u001b[0;34m.\u001b[0m\u001b[0mT\u001b[0m \u001b[0;34m@\u001b[0m \u001b[0mla\u001b[0m\u001b[0;34m.\u001b[0m\u001b[0minv\u001b[0m\u001b[0;34m(\u001b[0m\u001b[0mC\u001b[0m \u001b[0;34m@\u001b[0m \u001b[0mP\u001b[0m \u001b[0;34m@\u001b[0m \u001b[0mC\u001b[0m\u001b[0;34m.\u001b[0m\u001b[0mT\u001b[0m \u001b[0;34m+\u001b[0m \u001b[0mR\u001b[0m\u001b[0;34m)\u001b[0m\u001b[0;34m\u001b[0m\u001b[0;34m\u001b[0m\u001b[0m\n\u001b[1;32m      5\u001b[0m \u001b[0;34m\u001b[0m\u001b[0m\n",
      "\u001b[0;32m~/.pyenv/versions/3.8.5/lib/python3.8/site-packages/scipy/linalg/_solvers.py\u001b[0m in \u001b[0;36msolve_discrete_are\u001b[0;34m(a, b, q, r, e, s, balanced)\u001b[0m\n\u001b[1;32m    729\u001b[0m \u001b[0;34m\u001b[0m\u001b[0m\n\u001b[1;32m    730\u001b[0m     \u001b[0;32mif\u001b[0m \u001b[0mnorm\u001b[0m\u001b[0;34m(\u001b[0m\u001b[0mu_sym\u001b[0m\u001b[0;34m,\u001b[0m \u001b[0;36m1\u001b[0m\u001b[0;34m)\u001b[0m \u001b[0;34m>\u001b[0m \u001b[0msym_threshold\u001b[0m\u001b[0;34m:\u001b[0m\u001b[0;34m\u001b[0m\u001b[0;34m\u001b[0m\u001b[0m\n\u001b[0;32m--> 731\u001b[0;31m         raise LinAlgError('The associated symplectic pencil has eigenvalues'\n\u001b[0m\u001b[1;32m    732\u001b[0m                           'too close to the unit circle')\n\u001b[1;32m    733\u001b[0m \u001b[0;34m\u001b[0m\u001b[0m\n",
      "\u001b[0;31mLinAlgError\u001b[0m: The associated symplectic pencil has eigenvaluestoo close to the unit circle"
     ]
    }
   ],
   "source": [
    "P = la.solve_discrete_are(A.T,C.T,Q,R)\n",
    "assert np.allclose( 0, A @ P @ A.T - P - (A @ P @ C.T) @ la.inv(R + C @ P @ C.T) @ (C @ P @ A.T) + Q )\n",
    "\n",
    "L = P @ C.T @ la.inv(C @ P @ C.T + R)\n",
    "\n",
    "LC = L @ C\n",
    "A_LC = A - LC\n",
    "\n",
    "#assert np.allclose( L, control.lqr(A.T,C.T,Q,R).T )"
   ]
  },
  {
   "cell_type": "code",
   "execution_count": 7,
   "metadata": {},
   "outputs": [],
   "source": [
    "def kf(x0,f):\n",
    "    x_ = [x0]\n",
    "    for b in np.arange(B):\n",
    "        x_.append(x_[-1] @ A_LC.T  + f[b] @ L.T)\n",
    "    return np.asarray(x_)"
   ]
  },
  {
   "cell_type": "code",
   "execution_count": 254,
   "metadata": {},
   "outputs": [],
   "source": [
    "if 1: # real data\n",
    "    B,N,T = f.shape # bins, neurons, trials\n",
    "    f = f + np.random.randn(B,N,T)\n",
    "    D = A.shape[0] # state dimension\n",
    "    x0 = np.random.randn(D,T) # random initial conditions\n",
    "    x0[4,:] = 1\n",
    "else: # synthetic (debug) data\n",
    "    B,N,T,D = 2,1,7,1\n",
    "    A_LC = np.array([[2]]); L = np.array([[3]])\n",
    "    f = np.random.randn(B,N,T)"
   ]
  },
  {
   "cell_type": "markdown",
   "metadata": {},
   "source": [
    "Create data arrays for states $X$ and firing rates $F$"
   ]
  },
  {
   "cell_type": "code",
   "execution_count": 255,
   "metadata": {},
   "outputs": [],
   "source": [
    "#x0 = np.eye(D)[-1]\n",
    "F = []; X = []\n",
    "for t in np.arange(T):\n",
    "    x0_ = x0[...,t].flatten()\n",
    "    f_ = f[...,t].flatten()\n",
    "    F.append(np.hstack((x0_,f_)))\n",
    "    X.append(kf(x0_,f[...,t]).flatten())\n",
    "F = np.asarray(F).T\n",
    "X = np.asarray(X).T"
   ]
  },
  {
   "cell_type": "markdown",
   "metadata": {},
   "source": [
    "Determine $K$ *a priori* (from Kalman filter matrices) such that $X = K F$ "
   ]
  },
  {
   "cell_type": "code",
   "execution_count": 256,
   "metadata": {},
   "outputs": [],
   "source": [
    "I = np.eye(D) # identity\n",
    "Z = np.zeros((D,D)) # zeros\n",
    "ZDN = np.zeros((D,N)) # zeros\n",
    "\n",
    "K = [ np.hstack([I] + [ZDN]*B) ]\n",
    "K += [ np.hstack([A_LC] + [L] + [ZDN]*(B-1)) ]\n",
    "\n",
    "for b in np.arange(B-1):\n",
    "    K.append( np.hstack([A_LC @ K[-1][:,:D+(b+1)*N]] + [L] + [ZDN]*(B-b-2) ) )\n",
    "\n",
    "K = np.vstack(K)"
   ]
  },
  {
   "cell_type": "markdown",
   "metadata": {},
   "source": [
    "Determine $K$ using linear least-squares in $X = K F$"
   ]
  },
  {
   "cell_type": "code",
   "execution_count": 266,
   "metadata": {},
   "outputs": [],
   "source": [
    "K_pinv = X @ la.pinv(F) # works even if F @ F.T isn't invertible\n",
    "K_direct = X @ F.T @ la.inv(F @ F.T) # faster but needs F @ F.T invertible\n",
    "assert np.allclose(K_direct, K_pinv) # same answer when F @ F.T invertible"
   ]
  },
  {
   "cell_type": "markdown",
   "metadata": {},
   "source": [
    "The $K$'s are identical and both perfectly reproduce the data"
   ]
  },
  {
   "cell_type": "code",
   "execution_count": 267,
   "metadata": {},
   "outputs": [],
   "source": [
    "assert np.allclose(K, K_pinv)\n",
    "assert np.allclose(X, K @ F)"
   ]
  },
  {
   "cell_type": "code",
   "execution_count": null,
   "metadata": {},
   "outputs": [],
   "source": []
  }
 ],
 "metadata": {
  "kernelspec": {
   "display_name": "Python 3",
   "language": "python",
   "name": "python3"
  },
  "language_info": {
   "codemirror_mode": {
    "name": "ipython",
    "version": 3
   },
   "file_extension": ".py",
   "mimetype": "text/x-python",
   "name": "python",
   "nbconvert_exporter": "python",
   "pygments_lexer": "ipython3",
   "version": "3.8.5"
  }
 },
 "nbformat": 4,
 "nbformat_minor": 4
}
