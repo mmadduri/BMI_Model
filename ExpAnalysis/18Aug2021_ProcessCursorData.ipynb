{
 "cells": [
  {
   "cell_type": "code",
   "execution_count": null,
   "metadata": {},
   "outputs": [],
   "source": [
    "# to use cd, etc\n",
    "import sys\n",
    "import os\n",
    "\n",
    "import numpy as np\n",
    "# for math work\n",
    "from numpy import linalg, matlib\n",
    "# save, import and load data\n",
    "from numpy import asarray, save, load\n",
    "\n",
    "# needed for some matrix manipulations\n",
    "import cvxpy as cp\n",
    "# import math \n",
    "\n",
    "import scipy\n",
    "# for curve fitting\n",
    "from scipy import optimize\n",
    "from scipy.io import loadmat  # this is the SciPy module that loads mat-files\n",
    "\n",
    "from sklearn.metrics import r2_score, mean_squared_error\n",
    "\n",
    "import mat73\n",
    "import pandas as pd\n",
    "\n",
    "import matplotlib.pyplot as plt\n",
    "# for plots\n",
    "import seaborn\n",
    "# set up seaborn for the plots\n",
    "seaborn.set()\n",
    "\n",
    "# suppress deprecation warnings\n",
    "import warnings\n",
    "import matplotlib.cbook\n",
    "warnings.filterwarnings(\"ignore\",category=matplotlib.cbook.mplDeprecation)\n",
    "\n",
    "# # # to save data plots\n",
    "# from matplotlib.backends.backend_pdf import PdfPages\n",
    "\n",
    "# from datetime import datetime\n",
    "import pickle"
   ]
  },
  {
   "cell_type": "markdown",
   "metadata": {},
   "source": [
    "### Set start and end days for session"
   ]
  },
  {
   "cell_type": "code",
   "execution_count": null,
   "metadata": {},
   "outputs": [],
   "source": [
    "sessStart = '072312'\n",
    "sessEnd = '080412'"
   ]
  },
  {
   "cell_type": "markdown",
   "metadata": {},
   "source": [
    "### Set up all paths"
   ]
  },
  {
   "cell_type": "code",
   "execution_count": null,
   "metadata": {},
   "outputs": [],
   "source": [
    "nDir = 'catNeuralDat_jeev' + sessStart + '_' + sessEnd + '_trE5_B100.mat'\n",
    "kinDir = 'catBehaviorDat_jeev' + sessStart + '_' + sessEnd + '.mat' #catBehaviorDat_jeev072312_080412\n",
    "decDir = 'decoderParams_jeev'+ sessStart + '_' + sessEnd + '.mat'\n",
    "pathDir = '/Volumes/GoogleDrive/Shared drives/aoLab/Data/bmiLearning_jeev/jeev' + sessStart + '_' + sessEnd\n",
    "os.chdir(pathDir)\n",
    "os.getcwd()"
   ]
  },
  {
   "cell_type": "code",
   "execution_count": null,
   "metadata": {},
   "outputs": [],
   "source": [
    "# nPath = pathDir + '/' + nDir\n",
    "# nDict = mat73.loadmat(nPath, use_attrdict=True)\n",
    "# nDict.keys()"
   ]
  },
  {
   "cell_type": "markdown",
   "metadata": {},
   "source": [
    "### Loading kinematic (cursor) data"
   ]
  },
  {
   "cell_type": "code",
   "execution_count": null,
   "metadata": {},
   "outputs": [],
   "source": [
    "kinPath = pathDir + '/' + kinDir\n",
    "kinPath"
   ]
  },
  {
   "cell_type": "code",
   "execution_count": null,
   "metadata": {},
   "outputs": [],
   "source": [
    "kinPath = pathDir + '/' + kinDir\n",
    "kinDict = mat73.loadmat(kinPath, use_attrdict=True)\n",
    "kinDict.keys()"
   ]
  },
  {
   "cell_type": "markdown",
   "metadata": {},
   "source": [
    "### Loading Decoder Data"
   ]
  },
  {
   "cell_type": "code",
   "execution_count": null,
   "metadata": {},
   "outputs": [],
   "source": [
    "# decPath = pathDir + '/' + decDir\n",
    "# decPath"
   ]
  },
  {
   "cell_type": "code",
   "execution_count": null,
   "metadata": {},
   "outputs": [],
   "source": [
    "# decPath = pathDir + '/' + decDir\n",
    "# decDict = mat73.loadmat(decPath, use_attrdict=True)\n",
    "# decDict.keys()"
   ]
  },
  {
   "cell_type": "markdown",
   "metadata": {},
   "source": [
    "### Process Cursor Data"
   ]
  },
  {
   "cell_type": "code",
   "execution_count": null,
   "metadata": {},
   "outputs": [],
   "source": [
    "#kinData is the kinematic data for the successful trials only\n",
    "kinData = np.array(kinDict['kinSegs'], dtype=object)"
   ]
  },
  {
   "cell_type": "markdown",
   "metadata": {},
   "source": [
    "### Save Data"
   ]
  },
  {
   "cell_type": "code",
   "execution_count": null,
   "metadata": {},
   "outputs": [],
   "source": [
    "# date = datetime.today().strftime('%Y_%m_%d')\n",
    "savepath = '/Users/mmadduri/Documents/PhD/ResearchMaterials/Code/BMI_Model/data/' + 'jeev' + sessStart + '_' + sessEnd + '/'\n",
    "# savepath\n",
    "\n",
    "try:\n",
    "    os.makedirs(savepath) # create directory [current_path]/feed/address\n",
    "except OSError:\n",
    "    pass # already exists"
   ]
  },
  {
   "cell_type": "code",
   "execution_count": null,
   "metadata": {},
   "outputs": [],
   "source": [
    "data = [kinData]\n",
    "with open(savepath + 'cursorData.pkl', 'wb') as outfile:\n",
    "    pickle.dump(data, outfile, pickle.HIGHEST_PROTOCOL)"
   ]
  },
  {
   "cell_type": "code",
   "execution_count": null,
   "metadata": {},
   "outputs": [],
   "source": []
  }
 ],
 "metadata": {
  "kernelspec": {
   "display_name": "Python 3",
   "language": "python",
   "name": "python3"
  },
  "language_info": {
   "codemirror_mode": {
    "name": "ipython",
    "version": 3
   },
   "file_extension": ".py",
   "mimetype": "text/x-python",
   "name": "python",
   "nbconvert_exporter": "python",
   "pygments_lexer": "ipython3",
   "version": "3.8.5"
  }
 },
 "nbformat": 4,
 "nbformat_minor": 4
}
