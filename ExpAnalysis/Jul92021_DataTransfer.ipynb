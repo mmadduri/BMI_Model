{
 "cells": [
  {
   "cell_type": "markdown",
   "metadata": {},
   "source": [
    "## AIM: To transfer data from Amy's data to python"
   ]
  },
  {
   "cell_type": "code",
   "execution_count": 79,
   "metadata": {},
   "outputs": [],
   "source": [
    "# to use cd, etc\n",
    "import sys\n",
    "import os\n",
    "\n",
    "import numpy as np\n",
    "# for math work\n",
    "from numpy import linalg, matlib\n",
    "# save, import and load data\n",
    "from numpy import asarray, save, load\n",
    "\n",
    "# needed for some matrix manipulations\n",
    "# import cvxpy as cp\n",
    "# import math \n",
    "\n",
    "import scipy\n",
    "# for curve fitting\n",
    "from scipy import optimize\n",
    "from scipy.io import loadmat  # this is the SciPy module that loads mat-files\n",
    "\n",
    "import mat73\n",
    "\n",
    "import pandas as pd\n",
    "\n",
    "import matplotlib.pyplot as plt\n",
    "# for plots\n",
    "import seaborn\n",
    "# set up seaborn for the plots\n",
    "seaborn.set()\n",
    "\n",
    "# suppress deprecation warnings\n",
    "import warnings\n",
    "import matplotlib.cbook\n",
    "warnings.filterwarnings(\"ignore\",category=matplotlib.cbook.mplDeprecation)\n",
    "\n",
    "# # to save data plots\n",
    "from matplotlib.backends.backend_pdf import PdfPages"
   ]
  },
  {
   "cell_type": "code",
   "execution_count": 80,
   "metadata": {},
   "outputs": [],
   "source": [
    "import matplotlib.pylab as pylab\n",
    "params = {'legend.fontsize': 'large',\n",
    "          'figure.figsize': (8, 5),\n",
    "         'axes.labelsize': 'x-large',\n",
    "         'axes.titlesize':'x-large',\n",
    "         'xtick.labelsize':'x-large',\n",
    "         'ytick.labelsize':'x-large'}\n",
    "pylab.rcParams.update(params)"
   ]
  },
  {
   "cell_type": "code",
   "execution_count": 81,
   "metadata": {},
   "outputs": [],
   "source": [
    "sessStart = '072312'\n",
    "sessEnd = '080412'"
   ]
  },
  {
   "cell_type": "code",
   "execution_count": 82,
   "metadata": {},
   "outputs": [
    {
     "data": {
      "text/plain": [
       "'/Volumes/GoogleDrive/Shared drives/aoLab/Data/bmiLearning_jeev/jeev072312_080412'"
      ]
     },
     "execution_count": 82,
     "metadata": {},
     "output_type": "execute_result"
    }
   ],
   "source": [
    "# decDir = 'decoderParams_jeev072312_080412.mat'\n",
    "# nDir is trial-aligned to the go cue and uses all the trial data\n",
    "# nDir = 'catNeuralDat_jeev072312_080412_trE5_B100.mat'\n",
    "sessDir = 'catNeuralDat_jeev' + sessStart + '_' + sessEnd + '_trE5_B100.mat'\n",
    "pathDir = '/Volumes/GoogleDrive/Shared drives/aoLab/Data/bmiLearning_jeev/jeev' + sessStart + '_' + sessEnd\n",
    "os.chdir(pathDir)\n",
    "os.getcwd()"
   ]
  },
  {
   "cell_type": "code",
   "execution_count": 83,
   "metadata": {},
   "outputs": [],
   "source": [
    "sess_path = pathDir + '/' + sessDir"
   ]
  },
  {
   "cell_type": "code",
   "execution_count": 84,
   "metadata": {},
   "outputs": [
    {
     "data": {
      "text/plain": [
       "dict_keys(['N_bmi', 'N_mc', 'N_norm_bmi', 'N_vfb', 'binvector', 'bmiDay', 'bmiDecoderInd', 'bmiDecoders', 'bmiSessions', 'bmiUnitInds', 'bmiUnitInds_all', 'bmiUnits', 'bmiUnits_all', 'day', 'days', 'mFRs', 'mcDay', 'mcSessions', 'params', 'sdFRs', 'sessID_bmi', 'sessID_mc', 'sessID_vfb', 'sessions', 'trEs_bmi', 'trEs_mc', 'trEs_vfb', 'trTs_bmi', 'trTs_mc', 'trTs_vfb', 'vfbDay', 'vfbSessions'])"
      ]
     },
     "execution_count": 84,
     "metadata": {},
     "output_type": "execute_result"
    }
   ],
   "source": [
    "sess_dict = mat73.loadmat(sess_path, use_attrdict=True)\n",
    "sess_dict.keys()"
   ]
  },
  {
   "cell_type": "code",
   "execution_count": 103,
   "metadata": {},
   "outputs": [
    {
     "data": {
      "text/plain": [
       "array([ 2., 70., 15.,  5.,  6.,  7.,  9., 11.])"
      ]
     },
     "execution_count": 103,
     "metadata": {},
     "output_type": "execute_result"
    }
   ],
   "source": [
    "sess_dict['trEs_bmi'][1]"
   ]
  },
  {
   "cell_type": "code",
   "execution_count": 86,
   "metadata": {},
   "outputs": [],
   "source": [
    "paramsDir = 'catBehaviorDat_jeev' + sessStart + '_' + sessEnd + '.mat'\n",
    "params_path = pathDir + '/' + paramsDir"
   ]
  },
  {
   "cell_type": "code",
   "execution_count": 87,
   "metadata": {},
   "outputs": [
    {
     "data": {
      "text/plain": [
       "dict_keys(['EPM', 'MD_sd', 'MD_w', 'ME_sd', 'ME_w', 'MS_sd', 'MS_w', 'MV_sd', 'MV_w', 'P', 'Plower', 'Psd', 'Pupper', 'RT_sd', 'RT_w', 'bmiDay', 'bmiDecoderInd', 'bmiDecoders', 'bmiSessions', 'bmiUnitInds', 'bmiUnitInds_all', 'bmiUnits', 'bmiUnits_all', 'day', 'days', 'epmTime', 'kinSegs', 'maxD_sd', 'maxD_w', 'mcDay', 'mcSessions', 'params', 'params1', 'rotKinSegs', 'segE', 'segT', 'sessID', 'sessID_epm', 'sessID_kin', 'sessType', 'sessions', 'stats', 'trTime', 'tr_e', 'tr_t'])"
      ]
     },
     "execution_count": 87,
     "metadata": {},
     "output_type": "execute_result"
    }
   ],
   "source": [
    "params_dict =  mat73.loadmat(params_path, use_attrdict=True)\n",
    "params_dict.keys()"
   ]
  },
  {
   "cell_type": "markdown",
   "metadata": {},
   "source": [
    "### Session Information"
   ]
  },
  {
   "cell_type": "code",
   "execution_count": 147,
   "metadata": {},
   "outputs": [
    {
     "data": {
      "text/plain": [
       "dict_keys(['EPM', 'MD_sd', 'MD_w', 'ME_sd', 'ME_w', 'MS_sd', 'MS_w', 'MV_sd', 'MV_w', 'P', 'Plower', 'Psd', 'Pupper', 'RT_sd', 'RT_w', 'bmiDay', 'bmiDecoderInd', 'bmiDecoders', 'bmiSessions', 'bmiUnitInds', 'bmiUnitInds_all', 'bmiUnits', 'bmiUnits_all', 'day', 'days', 'epmTime', 'kinSegs', 'maxD_sd', 'maxD_w', 'mcDay', 'mcSessions', 'params', 'params1', 'rotKinSegs', 'segE', 'segT', 'sessID', 'sessID_epm', 'sessID_kin', 'sessType', 'sessions', 'stats', 'trTime', 'tr_e', 'tr_t'])"
      ]
     },
     "execution_count": 147,
     "metadata": {},
     "output_type": "execute_result"
    }
   ],
   "source": [
    "params_dict.keys()"
   ]
  },
  {
   "cell_type": "code",
   "execution_count": 90,
   "metadata": {},
   "outputs": [
    {
     "data": {
      "text/plain": [
       "dict_keys(['bps', 'maxDev', 'maxSpeed', 'meanDev', 'mvmtErr', 'reachT', 'targDir', 'varDev'])"
      ]
     },
     "execution_count": 90,
     "metadata": {},
     "output_type": "execute_result"
    }
   ],
   "source": [
    "params_dict['stats'].keys()"
   ]
  },
  {
   "cell_type": "code",
   "execution_count": 148,
   "metadata": {},
   "outputs": [
    {
     "data": {
      "text/plain": [
       "array([[ 2., 70., 15., ..., 12.,  2., 70.],\n",
       "       [ 2., 70., 15., ...,  7.,  9., 11.],\n",
       "       [ 2., 64., 15., ..., 12.,  2., 64.],\n",
       "       ...,\n",
       "       [ 2., 71., 15., ...,  7.,  9., 11.],\n",
       "       [ 2., 66., 15., ...,  7.,  9., 11.],\n",
       "       [ 2., 64., 15., ...,  7.,  8.,  2.]])"
      ]
     },
     "execution_count": 148,
     "metadata": {},
     "output_type": "execute_result"
    }
   ],
   "source": [
    "params_dict['tr_e']"
   ]
  },
  {
   "cell_type": "code",
   "execution_count": 149,
   "metadata": {},
   "outputs": [
    {
     "data": {
      "text/plain": [
       "(9730,)"
      ]
     },
     "execution_count": 149,
     "metadata": {},
     "output_type": "execute_result"
    }
   ],
   "source": [
    "succIdx = np.where((params_dict['tr_e'][:, succCol] == 8) | (params_dict['tr_e'][:, succCol] == 9))[0]\n",
    "succIdx.shape\n",
    "# reachTime = params_dict['stats']['reachT']"
   ]
  },
  {
   "cell_type": "code",
   "execution_count": 150,
   "metadata": {
    "scrolled": true
   },
   "outputs": [
    {
     "data": {
      "text/plain": [
       "array([   1,    5,   14, ..., 9824, 9825, 9826])"
      ]
     },
     "execution_count": 150,
     "metadata": {},
     "output_type": "execute_result"
    }
   ],
   "source": [
    "succIdx"
   ]
  },
  {
   "cell_type": "code",
   "execution_count": 152,
   "metadata": {},
   "outputs": [
    {
     "data": {
      "text/plain": [
       "(9730,)"
      ]
     },
     "execution_count": 152,
     "metadata": {},
     "output_type": "execute_result"
    }
   ],
   "source": [
    "reachTime = params_dict['stats']['reachT'][succIdx-1]\n",
    "reachTime.shape"
   ]
  },
  {
   "cell_type": "code",
   "execution_count": 168,
   "metadata": {},
   "outputs": [
    {
     "data": {
      "text/plain": [
       "array([1., 1., 1., 2., 2., 2., 2., 2., 2., 2., 3., 3., 3., 4., 5., 5., 5.,\n",
       "       6., 7., 7., 7., 7., 7., 7., 7., 8., 8., 8., 8., 9.])"
      ]
     },
     "execution_count": 168,
     "metadata": {},
     "output_type": "execute_result"
    }
   ],
   "source": [
    "params_dict['bmiDecoderInd']"
   ]
  },
  {
   "cell_type": "code",
   "execution_count": 172,
   "metadata": {},
   "outputs": [
    {
     "data": {
      "text/plain": [
       "[<matplotlib.lines.Line2D at 0x12124e340>]"
      ]
     },
     "execution_count": 172,
     "metadata": {},
     "output_type": "execute_result"
    },
    {
     "data": {
      "image/png": "[encoded data removed]",
      "text/plain": [
       "<Figure size 576x360 with 1 Axes>"
      ]
     },
     "metadata": {},
     "output_type": "display_data"
    }
   ],
   "source": [
    "sessID_bmiOff = sess_dict['sessID_bmi'] - 1\n",
    "bmiDecTrial = sess_dict['bmiDecoderInd'][sessID_bmiOff.astype(int)]\n",
    "plt.plot(bmiDecTrial,'.')"
   ]
  },
  {
   "cell_type": "code",
   "execution_count": 173,
   "metadata": {},
   "outputs": [
    {
     "name": "stdout",
     "output_type": "stream",
     "text": [
      "1.0437545092497433\n"
     ]
    },
    {
     "data": {
      "image/png": "[encoded data removed]",
      "text/plain": [
       "<Figure size 576x360 with 1 Axes>"
      ]
     },
     "metadata": {},
     "output_type": "display_data"
    }
   ],
   "source": [
    "plt.plot(reachTime)\n",
    "plt.plot(bmiDecTrial,'r.')\n",
    "plt.xlabel(\"Trials\")\n",
    "plt.ylabel(\"Reach Time to Target (seconds)\")\n",
    "plt.title(\"Reach Time for successful trials\")\n",
    "print(np.mean(reachTime))\n"
   ]
  },
  {
   "cell_type": "code",
   "execution_count": 174,
   "metadata": {},
   "outputs": [
    {
     "data": {
      "text/plain": [
       "array([1., 1., 1., ..., 9., 9., 9.])"
      ]
     },
     "execution_count": 174,
     "metadata": {},
     "output_type": "execute_result"
    }
   ],
   "source": [
    "bmiDecTrial"
   ]
  },
  {
   "cell_type": "code",
   "execution_count": 165,
   "metadata": {},
   "outputs": [
    {
     "name": "stdout",
     "output_type": "stream",
     "text": [
      "0.7042342432729078\n"
     ]
    },
    {
     "data": {
      "image/png": "[encoded data removed]",
      "text/plain": [
       "<Figure size 576x360 with 1 Axes>"
      ]
     },
     "metadata": {},
     "output_type": "display_data"
    }
   ],
   "source": [
    "mvtErr = (params_dict['stats']['mvmtErr'][succIdx-1])[42:]\n",
    "plt.plot(mvtErr)\n",
    "plt.xlabel(\"Trials\")\n",
    "plt.ylabel(\"Movement Error to Target (cm)\")\n",
    "plt.title(\"Movement Error for successful trials\")\n",
    "print(np.mean(mvtErr))"
   ]
  },
  {
   "cell_type": "code",
   "execution_count": null,
   "metadata": {},
   "outputs": [],
   "source": []
  },
  {
   "cell_type": "markdown",
   "metadata": {},
   "source": [
    "### Target Position ($\\tau$)"
   ]
  },
  {
   "cell_type": "code",
   "execution_count": null,
   "metadata": {},
   "outputs": [],
   "source": []
  },
  {
   "cell_type": "markdown",
   "metadata": {},
   "source": [
    "### Cursor Position ($y$)"
   ]
  },
  {
   "cell_type": "code",
   "execution_count": null,
   "metadata": {},
   "outputs": [],
   "source": []
  },
  {
   "cell_type": "markdown",
   "metadata": {},
   "source": [
    "### Decoder Data ($K$)"
   ]
  },
  {
   "cell_type": "code",
   "execution_count": 11,
   "metadata": {},
   "outputs": [
    {
     "data": {
      "text/plain": [
       "30"
      ]
     },
     "execution_count": 11,
     "metadata": {},
     "output_type": "execute_result"
    }
   ],
   "source": [
    "# number of BMI sessions\n",
    "len(sess_dict['bmiSessions'])"
   ]
  },
  {
   "cell_type": "code",
   "execution_count": 12,
   "metadata": {},
   "outputs": [
    {
     "data": {
      "text/plain": [
       "['jeev072312c',\n",
       " 'jeev072312d',\n",
       " 'jeev072312e',\n",
       " 'jeev072312f',\n",
       " 'jeev072412c',\n",
       " 'jeev072412d',\n",
       " 'jeev072512c',\n",
       " 'jeev072512d',\n",
       " 'jeev072612c',\n",
       " 'jeev072612d',\n",
       " 'jeev072612e',\n",
       " 'jeev072712c',\n",
       " 'jeev072812c',\n",
       " 'jeev072812d',\n",
       " 'jeev072812e',\n",
       " 'jeev072912c',\n",
       " 'jeev073012c',\n",
       " 'jeev073012e',\n",
       " 'jeev073012f',\n",
       " 'jeev073112c',\n",
       " 'jeev073112e',\n",
       " 'jeev080112c',\n",
       " 'jeev080112d',\n",
       " 'jeev080212c',\n",
       " 'jeev080212e',\n",
       " 'jeev080212f',\n",
       " 'jeev080312c',\n",
       " 'jeev080412d',\n",
       " 'jeev080412f',\n",
       " 'jeev080412g']"
      ]
     },
     "execution_count": 12,
     "metadata": {},
     "output_type": "execute_result"
    }
   ],
   "source": [
    "sess_dict['bmiSessions']"
   ]
  },
  {
   "cell_type": "code",
   "execution_count": 13,
   "metadata": {},
   "outputs": [
    {
     "data": {
      "text/plain": [
       "array([1., 1., 1., 2., 2., 2., 2., 2., 2., 2., 3., 3., 3., 4., 5., 5., 5.,\n",
       "       6., 7., 7., 7., 7., 7., 7., 7., 8., 8., 8., 8., 9.])"
      ]
     },
     "execution_count": 13,
     "metadata": {},
     "output_type": "execute_result"
    }
   ],
   "source": [
    "# which decoder was used for which sessions\n",
    "sess_dict['bmiDecoderInd']"
   ]
  },
  {
   "cell_type": "code",
   "execution_count": 14,
   "metadata": {},
   "outputs": [
    {
     "data": {
      "text/plain": [
       "30"
      ]
     },
     "execution_count": 14,
     "metadata": {},
     "output_type": "execute_result"
    }
   ],
   "source": [
    "len(sess_dict['bmiDecoderInd'])"
   ]
  },
  {
   "cell_type": "code",
   "execution_count": 15,
   "metadata": {},
   "outputs": [
    {
     "data": {
      "text/plain": [
       "[['G:/data/\\\\jeev\\\\jeev072312\\\\jeev072312_VFB_Kawf_B100_NS5_NU16_Z1.mat'],\n",
       " ['G:/data/\\\\jeev\\\\jeev072312\\\\jeev072312_VFB_Kawf_B100_NS5_NU16_Z1_smoothbatch.mat'],\n",
       " ['G:/data/\\\\jeev\\\\jeev072612\\\\jeev072312_VFB_Kawf_B100_NS5_NU16_Z1_smoothbatch_smoothbatch.mat'],\n",
       " ['G:/data/\\\\jeev\\\\jeev072812\\\\jeev072312_VFB_Kawf_B100_NS5_NU16_Z1_smoothbatch_smoothbatch_swapUnits072812.mat'],\n",
       " ['G:/data/\\\\jeev\\\\jeev072812\\\\jeev072312_VFB_Kawf_B100_NS5_NU16_Z1_smoothbatch_smoothbatch_swapUnits072812_smoothbatch.mat'],\n",
       " ['G:/data/\\\\jeev\\\\jeev073012\\\\jeev072312_VFB_Kawf_B100_NS5_NU16_Z1_smoothbatch_smoothbatch_swapUnits072812_smoothbatch_swapUnits073012.mat'],\n",
       " ['G:/data/\\\\jeev\\\\jeev073012\\\\jeev072312_VFB_Kawf_B100_NS5_NU16_Z1_smoothbatch_smoothbatch_swapUnits072812_smoothbatch_swapUnits073012_smoothbatch.mat'],\n",
       " ['G:/data/\\\\jeev\\\\jeev080212\\\\jeev072312_VFB_Kawf_B100_NS5_NU16_Z1_smoothbatch_smoothbatch_swapUnits072812_smoothbatch_swapUnits073012_smoothbatch_smoothbatch.mat'],\n",
       " ['G:/data/\\\\jeev\\\\jeev080412\\\\jeev072312_VFB_Kawf_B100_NS5_NU16_Z1_smoothbatch_smoothbatch_swapUnits072812_smoothbatch_swapUnits073012_smoothbatch_smoothbatch_smoothbatch.mat']]"
      ]
     },
     "execution_count": 15,
     "metadata": {},
     "output_type": "execute_result"
    }
   ],
   "source": [
    "sess_dict['bmiDecoders']"
   ]
  },
  {
   "cell_type": "code",
   "execution_count": 16,
   "metadata": {},
   "outputs": [],
   "source": [
    "days = ['jeev072312', \n",
    "        'jeev072312', \n",
    "        'jeev072612', \n",
    "        'jeev072812', \n",
    "        'jeev072812', \n",
    "        'jeev073012', \n",
    "        'jeev073012', \n",
    "        'jeev080212', \n",
    "        'jeev080412']\n",
    "\n",
    "dec_names = ['jeev072312_VFB_Kawf_B100_NS5_NU16_Z1', \n",
    "             'jeev072312_VFB_Kawf_B100_NS5_NU16_Z1_smoothbatch', \n",
    "             'jeev072312_VFB_Kawf_B100_NS5_NU16_Z1_smoothbatch_smoothbatch',\n",
    "             'jeev072312_VFB_Kawf_B100_NS5_NU16_Z1_smoothbatch_smoothbatch_swapUnits072812',\n",
    "             'jeev072312_VFB_Kawf_B100_NS5_NU16_Z1_smoothbatch_smoothbatch_swapUnits072812_smoothbatch',\n",
    "             'jeev072312_VFB_Kawf_B100_NS5_NU16_Z1_smoothbatch_smoothbatch_swapUnits072812_smoothbatch_swapUnits073012',\n",
    "             'jeev072312_VFB_Kawf_B100_NS5_NU16_Z1_smoothbatch_smoothbatch_swapUnits072812_smoothbatch_swapUnits073012_smoothbatch',\n",
    "             'jeev072312_VFB_Kawf_B100_NS5_NU16_Z1_smoothbatch_smoothbatch_swapUnits072812_smoothbatch_swapUnits073012_smoothbatch_smoothbatch',\n",
    "             'jeev072312_VFB_Kawf_B100_NS5_NU16_Z1_smoothbatch_smoothbatch_swapUnits072812_smoothbatch_swapUnits073012_smoothbatch_smoothbatch_smoothbatch']\n",
    "\n",
    "dataPath = '/Volumes/GoogleDrive/Shared drives/aoLab/Data/bmiLearning_jeev/'"
   ]
  },
  {
   "cell_type": "code",
   "execution_count": null,
   "metadata": {},
   "outputs": [],
   "source": [
    "dec_data['']"
   ]
  },
  {
   "cell_type": "code",
   "execution_count": 59,
   "metadata": {},
   "outputs": [
    {
     "name": "stdout",
     "output_type": "stream",
     "text": [
      "dict_keys(['__header__', '__version__', '__globals__', 'decoder'])\n",
      "dict_keys(['__header__', '__version__', '__globals__', 'decoder', 'decoderOrig'])\n",
      "dict_keys(['__header__', '__version__', '__globals__', 'decoder', 'decoderOrig'])\n",
      "dict_keys(['__header__', '__version__', '__globals__', 'ans', 'decoder'])\n",
      "dict_keys(['__header__', '__version__', '__globals__', 'decoder', 'decoderOrig'])\n",
      "dict_keys(['__header__', '__version__', '__globals__', 'ans', 'mFR_45', 'sdFR_45', 'decoder', 'decoderOrig', 'id_123', 'a', 'b'])\n",
      "dict_keys(['__header__', '__version__', '__globals__', 'decoder', 'decoderOrig'])\n",
      "dict_keys(['__header__', '__version__', '__globals__', 'decoder', 'decoderOrig'])\n",
      "dict_keys(['__header__', '__version__', '__globals__', 'decoder', 'decoderOrig'])\n"
     ]
    }
   ],
   "source": [
    "decStart_df = {}\n",
    "decEnd_df = {}\n",
    "dec_idx = ['A', \n",
    "           'W', \n",
    "           'H', \n",
    "           'Q', \n",
    "           'bin', \n",
    "           'Nstates', \n",
    "           'states',\n",
    "           'predSig',\n",
    "           'predInds',\n",
    "           'handKin',\n",
    "           'offset',\n",
    "           'zscore',\n",
    "           'recV',\n",
    "           'mFR',\n",
    "           'sdFR',\n",
    "           'mFR_curr',\n",
    "           'sdFR_curr',\n",
    "           'track_A',\n",
    "           'track_W',\n",
    "           'track_H',\n",
    "           'track_Q',\n",
    "           'track_X',\n",
    "           'track_Y',\n",
    "           'events',\n",
    "           'event_times',\n",
    "           'elapsedTime',\n",
    "           'holdAtTarg',\n",
    "           'aimPos',\n",
    "           'batch_time',\n",
    "           'H_halflife',\n",
    "           'Q_halflife']\n",
    "           \n",
    "for idx, val in enumerate(dec_names):\n",
    "    path = dataPath + days[idx] + '/' + dec_names[idx] + '.mat'\n",
    "    dec_data = loadmat(path)\n",
    "    print(dec_data.keys())\n",
    "    if 'decoder' in dec_data:\n",
    "        decStart_df[str(idx+1)] = dec_data['decoder']    \n",
    "    if 'decoderOrig' in dec_data:\n",
    "        decEnd_df[str(idx+1)] = dec_data['decoderOrig']  "
   ]
  },
  {
   "cell_type": "code",
   "execution_count": 76,
   "metadata": {},
   "outputs": [
    {
     "name": "stdout",
     "output_type": "stream",
     "text": [
      "[array([[ 1.        ,  0.        ,  0.1       ,  0.        ,  0.        ],\n",
      "       [ 0.        ,  1.        ,  0.        ,  0.1       ,  0.        ],\n",
      "       [ 0.        ,  0.        ,  0.80205229, -0.13963611,  0.        ],\n",
      "       [ 0.        ,  0.        ,  0.05319552,  0.79553037,  0.        ],\n",
      "       [ 0.        ,  0.        ,  0.        ,  0.        ,  1.        ]])]\n",
      "[array([[ 1.        ,  0.        ,  0.1       ,  0.        ,  0.        ],\n",
      "       [ 0.        ,  1.        ,  0.        ,  0.1       ,  0.        ],\n",
      "       [ 0.        ,  0.        ,  0.80205229, -0.13963611,  0.        ],\n",
      "       [ 0.        ,  0.        ,  0.05319552,  0.79553037,  0.        ],\n",
      "       [ 0.        ,  0.        ,  0.        ,  0.        ,  1.        ]])]\n"
     ]
    }
   ],
   "source": [
    "print(decStart_df['1'][dec_idx[0]][0])\n",
    "print(decStart_df['1']['A'][0])"
   ]
  },
  {
   "cell_type": "code",
   "execution_count": null,
   "metadata": {},
   "outputs": [],
   "source": []
  },
  {
   "cell_type": "code",
   "execution_count": null,
   "metadata": {},
   "outputs": [],
   "source": []
  },
  {
   "cell_type": "code",
   "execution_count": null,
   "metadata": {},
   "outputs": [],
   "source": []
  },
  {
   "cell_type": "code",
   "execution_count": null,
   "metadata": {},
   "outputs": [],
   "source": []
  }
 ],
 "metadata": {
  "kernelspec": {
   "display_name": "Python 3",
   "language": "python",
   "name": "python3"
  },
  "language_info": {
   "codemirror_mode": {
    "name": "ipython",
    "version": 3
   },
   "file_extension": ".py",
   "mimetype": "text/x-python",
   "name": "python",
   "nbconvert_exporter": "python",
   "pygments_lexer": "ipython3",
   "version": "3.8.5"
  }
 },
 "nbformat": 4,
 "nbformat_minor": 4
}
