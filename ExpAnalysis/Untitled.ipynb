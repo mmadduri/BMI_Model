{
 "cells": [
  {
   "cell_type": "markdown",
   "metadata": {},
   "source": [
    "# Experimental Data Analysis\n",
    "\n",
    "Using Amy's Neuron 2014 data for analysis\n"
   ]
  },
  {
   "cell_type": "code",
   "execution_count": 1,
   "metadata": {},
   "outputs": [],
   "source": [
    "# to use cd, etc\n",
    "import sys\n",
    "import os\n",
    "\n",
    "import numpy as np\n",
    "from numpy import linalg, matlib\n",
    "# save, import and load data\n",
    "from numpy import asarray, save, load\n",
    "# needed for some matrix manipulations\n",
    "\n",
    "from scipy.io import loadmat  # this is the SciPy module that loads mat-files\n",
    "from datetime import datetime, date, time\n",
    "import pandas as pd\n",
    "\n",
    "import matplotlib.pyplot as plt\n",
    "# for plots\n",
    "import seaborn\n",
    "# set up seaborn for the plots\n",
    "seaborn.set()"
   ]
  },
  {
   "cell_type": "code",
   "execution_count": 4,
   "metadata": {},
   "outputs": [
    {
     "data": {
      "text/plain": [
       "'/Volumes/GoogleDrive/Shared drives/aoLab/Data/bmiLearning_jeev/jeev080412'"
      ]
     },
     "execution_count": 4,
     "metadata": {},
     "output_type": "execute_result"
    }
   ],
   "source": [
    "# select data - fill in\n",
    "\n",
    "# change directory to specified path\n",
    "pathDir = '/Volumes/GoogleDrive/Shared drives/aoLab/Data/bmiLearning_jeev'\n",
    "\n",
    "## example: Location: '.../Shared drives/aoLab/Data/bmiLearning_jeev/jeev080412/jeev080412a/tr_6/jeev080412a_tr_kin.mat\n",
    "dataSubj = 'jeev'\n",
    "dataDate = '080412'\n",
    "dataFile = '/jeev080412a/tr_6/jeev080412a_tr_kin.mat'\n",
    "\n",
    "pathData = pathDir + \"/\" + dataSubj + dataDate \n",
    "\n",
    "os.chdir(pathData)\n",
    "os.getcwd()"
   ]
  },
  {
   "cell_type": "code",
   "execution_count": null,
   "metadata": {},
   "outputs": [],
   "source": []
  },
  {
   "cell_type": "code",
   "execution_count": null,
   "metadata": {},
   "outputs": [],
   "source": [
    "\n",
    "mat = loadmat('measured_data.mat')  # load mat-file\n",
    "mdata = mat['measuredData']  # variable in mat file\n",
    "mdtype = mdata.dtype  # dtypes of structures are \"unsized objects\"\n",
    "# * SciPy reads in structures as structured NumPy arrays of dtype object\n",
    "# * The size of the array is the size of the structure array, not the number\n",
    "#   elements in any particular field. The shape defaults to 2-dimensional.\n",
    "# * For convenience make a dictionary of the data using the names from dtypes\n",
    "# * Since the structure has only one element, but is 2-D, index it at [0, 0]\n",
    "ndata = {n: mdata[n][0, 0] for n in mdtype.names}\n",
    "# Reconstruct the columns of the data table from just the time series\n",
    "# Use the number of intervals to test if a field is a column or metadata\n",
    "columns = [n for n, v in ndata.iteritems() if v.size == ndata['numIntervals']]\n",
    "# now make a data frame, setting the time stamps as the index\n",
    "df = pd.DataFrame(np.concatenate([ndata[c] for c in columns], axis=1),\n",
    "                  index=[datetime(*ts) for ts in ndata['timestamps']],\n",
    "                  columns=columns)"
   ]
  }
 ],
 "metadata": {
  "kernelspec": {
   "display_name": "Python 3",
   "language": "python",
   "name": "python3"
  },
  "language_info": {
   "codemirror_mode": {
    "name": "ipython",
    "version": 3
   },
   "file_extension": ".py",
   "mimetype": "text/x-python",
   "name": "python",
   "nbconvert_exporter": "python",
   "pygments_lexer": "ipython3",
   "version": "3.8.5"
  }
 },
 "nbformat": 4,
 "nbformat_minor": 4
}
