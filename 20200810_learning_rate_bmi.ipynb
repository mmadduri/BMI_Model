{
  "nbformat": 4,
  "nbformat_minor": 0,
  "metadata": {
    "colab": {
      "name": "20200810-learning-rate-bmi",
      "provenance": [],
      "collapsed_sections": [],
      "include_colab_link": true
    },
    "kernelspec": {
      "name": "python3",
      "display_name": "Python 3"
    }
  },
  "cells": [
    {
      "cell_type": "markdown",
      "metadata": {
        "id": "view-in-github",
        "colab_type": "text"
      },
      "source": [
        "<a href=\"https://colab.research.google.com/github/mmadduri/BMI_Model/blob/master/20200810_learning_rate_bmi.ipynb\" target=\"_parent\"><img src=\"https://colab.research.google.com/assets/colab-badge.svg\" alt=\"Open In Colab\"/></a>"
      ]
    },
    {
      "cell_type": "code",
      "metadata": {
        "id": "KQ8wbKlCsF8N",
        "colab_type": "code",
        "colab": {
          "base_uri": "https://localhost:8080/",
          "height": 34
        },
        "outputId": "5da73312-94f5-4747-acd5-108cd2264024"
      },
      "source": [
        "# \"magic\" commands, prefaced with \"%\", changes settings in the notebook\n",
        "\n",
        "# this ensures plots are embedded in notebook web page\n",
        "%matplotlib inline\n",
        "\n",
        "# pdb = Python debugger, so this command turns the debugger OFF\n",
        "%pdb off\n",
        "\n",
        "# numpy = numerical Python, implements arrays (/ matrices)\n",
        "import numpy as np\n",
        "# limit number of decimal places printed for floating-point numbers\n",
        "np.set_printoptions(precision=3)\n",
        "\n",
        "# scipy = scientific Python, implements operations on arrays / matrices\n",
        "import scipy as sp\n",
        "# linalg = linear algebra, implements eigenvalues, matrix inverse, etc\n",
        "from scipy import linalg as la\n",
        "# optimize = optimization, root finding, etc\n",
        "from scipy import optimize as op\n",
        "\n",
        "# produce matlab-style plots\n",
        "import matplotlib as mpl\n",
        "# increase font size on plots\n",
        "mpl.rc('font',**{'size':18})\n",
        "# use LaTeX to render symbols\n",
        "mpl.rc('text',usetex=False)\n",
        "# animation\n",
        "from matplotlib import animation as ani\n",
        "# Matlab-style plotting\n",
        "import matplotlib.pyplot as plt\n",
        "\n",
        "# symbolic computation, i.e. computer algebra (like Mathematica, Wolfram Alpha)\n",
        "import sympy as sym"
      ],
      "execution_count": null,
      "outputs": [
        {
          "output_type": "stream",
          "text": [
            "Automatic pdb calling has been turned OFF\n"
          ],
          "name": "stdout"
        }
      ]
    },
    {
      "cell_type": "code",
      "metadata": {
        "id": "nRu__4Mdr3wC",
        "colab_type": "code",
        "colab": {
          "base_uri": "https://localhost:8080/",
          "height": 34
        },
        "outputId": "6c1c137d-d65e-468d-e1c0-5b581f60c2d5"
      },
      "source": [
        "# test whether this is a Colaboratory or Jupyter notebook\n",
        "try:\n",
        "  import google.colab\n",
        "  COLAB = True\n",
        "  print('Colaboratory Notebook')\n",
        "except:\n",
        "  COLAB = False\n",
        "  print('Jupyter Notebook')\n",
        "\n",
        "# Colab notebook\n",
        "if COLAB:  \n",
        "  # render SymPy equations nicely in Colaboratory Notebook\n",
        "  def colab_latex_printer(exp,**options):\n",
        "    from google.colab.output._publish import javascript\n",
        "    url = \"https://cdnjs.cloudflare.com/ajax/libs/mathjax/2.7.3/latest.js?config=default\"\n",
        "    javascript(url=url)\n",
        "    return sym.printing.latex(exp,**options)\n",
        "  \n",
        "  sym.init_printing(use_latex=\"mathjax\",latex_printer=colab_latex_printer)\n",
        "\n",
        "# Jupyter notebook\n",
        "else:\n",
        "  init_printing(use_latex='mathjax')"
      ],
      "execution_count": null,
      "outputs": [
        {
          "output_type": "stream",
          "text": [
            "Colaboratory Notebook\n"
          ],
          "name": "stdout"
        }
      ]
    },
    {
      "cell_type": "code",
      "metadata": {
        "id": "hw0_7yDDadFh",
        "colab_type": "code",
        "colab": {}
      },
      "source": [
        "import sympy as sym\n",
        "from sympy import symbols, diff, Matrix, solve"
      ],
      "execution_count": null,
      "outputs": []
    },
    {
      "cell_type": "code",
      "metadata": {
        "id": "QAAYneYnanf3",
        "colab_type": "code",
        "colab": {
          "base_uri": "https://localhost:8080/",
          "height": 38
        },
        "outputId": "724aaff7-d6a8-44a8-e90d-a88148b6d941"
      },
      "source": [
        "k, w, tau, gam, gam_k, gam_w, sig_k, sig_w, sig, alpha = symbols(r'k w \\tau \\gamma \\gamma_k \\gamma_w \\sigma_k \\sigma_w \\sigma \\alpha')\n",
        "k,w,tau,gam,gam_k,gam_w,sig_k, sig_w, sig, alpha"
      ],
      "execution_count": null,
      "outputs": [
        {
          "output_type": "display_data",
          "data": {
            "text/html": [
              "<script src='https://cdnjs.cloudflare.com/ajax/libs/mathjax/2.7.3/latest.js?config=default'></script>"
            ],
            "text/plain": [
              "<IPython.core.display.HTML object>"
            ]
          },
          "metadata": {
            "tags": []
          }
        },
        {
          "output_type": "execute_result",
          "data": {
            "text/latex": "$$\\left ( k, \\quad w, \\quad \\tau, \\quad \\gamma, \\quad \\gamma_k, \\quad \\gamma_w, \\quad \\sigma_k, \\quad \\sigma_w, \\quad \\sigma, \\quad \\alpha\\right )$$",
            "text/plain": [
              "(k, w, \\tau, \\gamma, \\gammaₖ, \\gamma_w, \\sigmaₖ, \\sigma_w, \\sigma, \\alpha)"
            ]
          },
          "metadata": {
            "tags": []
          },
          "execution_count": 4
        }
      ]
    },
    {
      "cell_type": "code",
      "metadata": {
        "id": "iNYm0HBY1PNf",
        "colab_type": "code",
        "colab": {}
      },
      "source": [
        "sig,sig_k,sig_w = sym.symbols(r'\\sigma \\sigma_k \\sigma_w',nonnegative=True)"
      ],
      "execution_count": null,
      "outputs": []
    },
    {
      "cell_type": "code",
      "metadata": {
        "id": "bIBzMM43a9oL",
        "colab_type": "code",
        "colab": {}
      },
      "source": [
        "e_scl = ( ((tau**2)*(1 - k*w)**2) + (sig_w * w**2) + (sig_k*k**2)) / 2\n",
        "# sig_w and sig_k are penalty parameters\n",
        "# 1/2 term added to make the derivative simpler "
      ],
      "execution_count": null,
      "outputs": []
    },
    {
      "cell_type": "code",
      "metadata": {
        "id": "e9UNx0w1tegK",
        "colab_type": "code",
        "colab": {
          "base_uri": "https://localhost:8080/",
          "height": 41
        },
        "outputId": "73426adf-7076-4a55-8c47-d5dee0ee48f5"
      },
      "source": [
        "e_scl"
      ],
      "execution_count": null,
      "outputs": [
        {
          "output_type": "display_data",
          "data": {
            "text/html": [
              "<script src='https://cdnjs.cloudflare.com/ajax/libs/mathjax/2.7.3/latest.js?config=default'></script>"
            ],
            "text/plain": [
              "<IPython.core.display.HTML object>"
            ]
          },
          "metadata": {
            "tags": []
          }
        },
        {
          "output_type": "execute_result",
          "data": {
            "text/latex": "$$\\frac{\\sigma_k k^{2}}{2} + \\frac{\\sigma_w w^{2}}{2} + \\frac{\\tau^{2}}{2} \\left(- k w + 1\\right)^{2}$$",
            "text/plain": [
              "         2             2       2           2\n",
              "\\sigmaₖ⋅k    \\sigma_w⋅w    \\tau ⋅(-k⋅w + 1) \n",
              "────────── + ─────────── + ─────────────────\n",
              "    2             2                2        "
            ]
          },
          "metadata": {
            "tags": []
          },
          "execution_count": 7
        }
      ]
    },
    {
      "cell_type": "markdown",
      "metadata": {
        "id": "wMtAIagWGIC8",
        "colab_type": "text"
      },
      "source": [
        ""
      ]
    },
    {
      "cell_type": "code",
      "metadata": {
        "id": "DrRdJ9R4tlsD",
        "colab_type": "code",
        "colab": {}
      },
      "source": [
        "# First Derivative\n",
        "de_dk = diff(e_scl,k)\n",
        "de_dw = diff(e_scl, w)\n",
        "\n",
        "# Second Derivative\n",
        "de2_d2k = diff(de_dk, k)\n",
        "de2_dwdk = diff(de_dk, w)\n",
        "de2_d2w = diff(de_dw, w)\n",
        "de2_dkdw = diff(de_dw, k)"
      ],
      "execution_count": null,
      "outputs": []
    },
    {
      "cell_type": "code",
      "metadata": {
        "id": "u5QZKiZsi9Ub",
        "colab_type": "code",
        "colab": {
          "base_uri": "https://localhost:8080/",
          "height": 38
        },
        "outputId": "dfc88877-befc-414c-ef3b-4ddc42fa915b"
      },
      "source": [
        "de = [de_dk, de_dw]\n",
        "de"
      ],
      "execution_count": null,
      "outputs": [
        {
          "output_type": "display_data",
          "data": {
            "text/html": [
              "<script src='https://cdnjs.cloudflare.com/ajax/libs/mathjax/2.7.3/latest.js?config=default'></script>"
            ],
            "text/plain": [
              "<IPython.core.display.HTML object>"
            ]
          },
          "metadata": {
            "tags": []
          }
        },
        {
          "output_type": "execute_result",
          "data": {
            "text/latex": "$$\\left [ \\sigma_k k - \\tau^{2} w \\left(- k w + 1\\right), \\quad \\sigma_w w - \\tau^{2} k \\left(- k w + 1\\right)\\right ]$$",
            "text/plain": [
              "⎡                2                                2             ⎤\n",
              "⎣\\sigmaₖ⋅k - \\tau ⋅w⋅(-k⋅w + 1), \\sigma_w⋅w - \\tau ⋅k⋅(-k⋅w + 1)⎦"
            ]
          },
          "metadata": {
            "tags": []
          },
          "execution_count": 9
        }
      ]
    },
    {
      "cell_type": "markdown",
      "metadata": {
        "id": "Zyq9N5F-630p",
        "colab_type": "text"
      },
      "source": [
        "Continuous-time gradient descent has dynamics:\n",
        "\n",
        "$$ \\dot{x} = - De(x) = f(x), $$"
      ]
    },
    {
      "cell_type": "markdown",
      "metadata": {
        "id": "nET3YGRi7oOa",
        "colab_type": "text"
      },
      "source": [
        "So the Jacobian of the dynamics is determined by the Hessian of error $e$:\n",
        "\n",
        "$$ Df(x) = - D^2 e(x). $$\n",
        "\n",
        "At a minimum $x_0$, the eigenvalues of $D^2 e(x_0)$ are positive, so the eigenvalues of $Df(x_0)$ are negative.\n",
        "\n",
        "Note: The Hessian matrix of a function f is the Jacobian matrix of the gradient of the function: H(f(x)) = J(∇f(x)). (https://en.wikipedia.org/wiki/Hessian_matrix)\n",
        "\n"
      ]
    },
    {
      "cell_type": "code",
      "metadata": {
        "id": "o2f4c-ykt4lW",
        "colab_type": "code",
        "colab": {
          "base_uri": "https://localhost:8080/",
          "height": 58
        },
        "outputId": "9d31af9d-51cc-4c81-bc4f-8ffaef559a81"
      },
      "source": [
        "Gamma = sym.Matrix.diag([1,1])\n",
        "Gamma"
      ],
      "execution_count": null,
      "outputs": [
        {
          "output_type": "display_data",
          "data": {
            "text/html": [
              "<script src='https://cdnjs.cloudflare.com/ajax/libs/mathjax/2.7.3/latest.js?config=default'></script>"
            ],
            "text/plain": [
              "<IPython.core.display.HTML object>"
            ]
          },
          "metadata": {
            "tags": []
          }
        },
        {
          "output_type": "execute_result",
          "data": {
            "text/latex": "$$\\left[\\begin{matrix}1 & 0\\\\0 & 1\\end{matrix}\\right]$$",
            "text/plain": [
              "⎡1  0⎤\n",
              "⎢    ⎥\n",
              "⎣0  1⎦"
            ]
          },
          "metadata": {
            "tags": []
          },
          "execution_count": 10
        }
      ]
    },
    {
      "cell_type": "code",
      "metadata": {
        "id": "-etitFI-7AwS",
        "colab_type": "code",
        "colab": {
          "base_uri": "https://localhost:8080/",
          "height": 58
        },
        "outputId": "85c40d3f-8542-4bdf-dfd4-a97f634d4350"
      },
      "source": [
        "# sets f(x) = -De(x)\n",
        "f = -Gamma*sym.Matrix(de)\n",
        "f"
      ],
      "execution_count": null,
      "outputs": [
        {
          "output_type": "display_data",
          "data": {
            "text/html": [
              "<script src='https://cdnjs.cloudflare.com/ajax/libs/mathjax/2.7.3/latest.js?config=default'></script>"
            ],
            "text/plain": [
              "<IPython.core.display.HTML object>"
            ]
          },
          "metadata": {
            "tags": []
          }
        },
        {
          "output_type": "execute_result",
          "data": {
            "text/latex": "$$\\left[\\begin{matrix}- \\sigma_k k + \\tau^{2} w \\left(- k w + 1\\right)\\\\- \\sigma_w w + \\tau^{2} k \\left(- k w + 1\\right)\\end{matrix}\\right]$$",
            "text/plain": [
              "⎡                 2              ⎤\n",
              "⎢-\\sigmaₖ⋅k + \\tau ⋅w⋅(-k⋅w + 1) ⎥\n",
              "⎢                                ⎥\n",
              "⎢                  2             ⎥\n",
              "⎣-\\sigma_w⋅w + \\tau ⋅k⋅(-k⋅w + 1)⎦"
            ]
          },
          "metadata": {
            "tags": []
          },
          "execution_count": 11
        }
      ]
    },
    {
      "cell_type": "code",
      "metadata": {
        "id": "m7tTudAJ0jF6",
        "colab_type": "code",
        "colab": {}
      },
      "source": [
        "# substitutes tau = 1, k_sig = w_sig = sig\n",
        "# subs = {tau:1,sig_k:sig,sig_w:sig}\n",
        "subs = {sig_k:sig, sig_w:1}"
      ],
      "execution_count": null,
      "outputs": []
    },
    {
      "cell_type": "code",
      "metadata": {
        "id": "1IHUE0x-xy5r",
        "colab_type": "code",
        "colab": {
          "base_uri": "https://localhost:8080/",
          "height": 99
        },
        "outputId": "a3ed4c2b-e490-463f-cd82-8492279e0d55"
      },
      "source": [
        "# stationary points \n",
        "# these stationary points lead to points where e(k_0, w_0) is a minimum, maximum or saddle point\n",
        "# Note: without the penalty terms in the cost function, (0,0) becomes a saddle point as a stationary point\n",
        "sol = solve(de,[k,w]) # <-- find [k_0,w_0] that makes de(k_0,w_0) == [0,0]\n",
        "sol"
      ],
      "execution_count": null,
      "outputs": [
        {
          "output_type": "display_data",
          "data": {
            "text/html": [
              "<script src='https://cdnjs.cloudflare.com/ajax/libs/mathjax/2.7.3/latest.js?config=default'></script>"
            ],
            "text/plain": [
              "<IPython.core.display.HTML object>"
            ]
          },
          "metadata": {
            "tags": []
          }
        },
        {
          "output_type": "execute_result",
          "data": {
            "text/latex": "$$\\left [ \\left ( 0, \\quad 0\\right ), \\quad \\left ( - \\frac{\\sigma_w}{\\sigma_k \\tau^{2}} \\left(\\sigma_k + \\tau^{2} \\left(- \\frac{\\sqrt{\\sigma_k}}{\\sqrt{\\sigma_w}} - \\frac{\\sigma_k}{\\tau^{2}}\\right)\\right) \\sqrt{- \\frac{\\sqrt{\\sigma_k}}{\\sqrt{\\sigma_w}} - \\frac{\\sigma_k}{\\tau^{2}}}, \\quad - \\sqrt{- \\frac{\\sqrt{\\sigma_k}}{\\sqrt{\\sigma_w}} - \\frac{\\sigma_k}{\\tau^{2}}}\\right ), \\quad \\left ( \\frac{\\sigma_w}{\\sigma_k \\tau^{2}} \\left(\\sigma_k + \\tau^{2} \\left(- \\frac{\\sqrt{\\sigma_k}}{\\sqrt{\\sigma_w}} - \\frac{\\sigma_k}{\\tau^{2}}\\right)\\right) \\sqrt{- \\frac{\\sqrt{\\sigma_k}}{\\sqrt{\\sigma_w}} - \\frac{\\sigma_k}{\\tau^{2}}}, \\quad \\sqrt{- \\frac{\\sqrt{\\sigma_k}}{\\sqrt{\\sigma_w}} - \\frac{\\sigma_k}{\\tau^{2}}}\\right ), \\quad \\left ( - \\frac{\\sigma_w \\sqrt{\\frac{\\sqrt{\\sigma_k}}{\\sqrt{\\sigma_w}} - \\frac{\\sigma_k}{\\tau^{2}}}}{\\sigma_k \\tau^{2}} \\left(\\sigma_k + \\tau^{2} \\left(\\frac{\\sqrt{\\sigma_k}}{\\sqrt{\\sigma_w}} - \\frac{\\sigma_k}{\\tau^{2}}\\right)\\right), \\quad - \\sqrt{\\frac{\\sqrt{\\sigma_k}}{\\sqrt{\\sigma_w}} - \\frac{\\sigma_k}{\\tau^{2}}}\\right ), \\quad \\left ( \\frac{\\sigma_w \\sqrt{\\frac{\\sqrt{\\sigma_k}}{\\sqrt{\\sigma_w}} - \\frac{\\sigma_k}{\\tau^{2}}}}{\\sigma_k \\tau^{2}} \\left(\\sigma_k + \\tau^{2} \\left(\\frac{\\sqrt{\\sigma_k}}{\\sqrt{\\sigma_w}} - \\frac{\\sigma_k}{\\tau^{2}}\\right)\\right), \\quad \\sqrt{\\frac{\\sqrt{\\sigma_k}}{\\sqrt{\\sigma_w}} - \\frac{\\sigma_k}{\\tau^{2}}}\\right )\\right ]$$",
            "text/plain": [
              "⎡        ⎛                                                             _______\n",
              "⎢        ⎜          ⎛                ⎛    _________           ⎞⎞      ╱     __\n",
              "⎢        ⎜          ⎜              2 ⎜  ╲╱ \\sigmaₖ     \\sigmaₖ⎟⎟     ╱    ╲╱ \\\n",
              "⎢        ⎜-\\sigma_w⋅⎜\\sigmaₖ + \\tau ⋅⎜- ──────────── - ───────⎟⎟⋅   ╱   - ────\n",
              "⎢        ⎜          ⎜                ⎜    __________        2 ⎟⎟   ╱        __\n",
              "⎢        ⎜          ⎝                ⎝  ╲╱ \\sigma_w     \\tau  ⎠⎠ ╲╱       ╲╱ \\\n",
              "⎢(0, 0), ⎜────────────────────────────────────────────────────────────────────\n",
              "⎢        ⎜                                                 2                  \n",
              "⎣        ⎝                                     \\sigmaₖ⋅\\tau                   \n",
              "\n",
              "___________________                                    ⎞  ⎛                   \n",
              "_______                                                ⎟  ⎜         ⎛         \n",
              "sigmaₖ     \\sigmaₖ                                     ⎟  ⎜         ⎜         \n",
              "──────── - ───────           __________________________⎟  ⎜\\sigma_w⋅⎜\\sigmaₖ +\n",
              "________        2           ╱     _________            ⎟  ⎜         ⎜         \n",
              "sigma_w     \\tau           ╱    ╲╱ \\sigmaₖ     \\sigmaₖ ⎟  ⎜         ⎝         \n",
              "────────────────────, -   ╱   - ──────────── - ─────── ⎟, ⎜───────────────────\n",
              "                         ╱        __________        2  ⎟  ⎜                   \n",
              "                       ╲╱       ╲╱ \\sigma_w     \\tau   ⎠  ⎝                   \n",
              "\n",
              "                                         __________________________           \n",
              "       ⎛    _________           ⎞⎞      ╱     _________                       \n",
              "     2 ⎜  ╲╱ \\sigmaₖ     \\sigmaₖ⎟⎟     ╱    ╲╱ \\sigmaₖ     \\sigmaₖ            \n",
              " \\tau ⋅⎜- ──────────── - ───────⎟⎟⋅   ╱   - ──────────── - ───────         ___\n",
              "       ⎜    __________        2 ⎟⎟   ╱        __________        2         ╱   \n",
              "       ⎝  ╲╱ \\sigma_w     \\tau  ⎠⎠ ╲╱       ╲╱ \\sigma_w     \\tau         ╱    \n",
              "───────────────────────────────────────────────────────────────────,    ╱   - \n",
              "                             2                                         ╱      \n",
              "                 \\sigmaₖ⋅\\tau                                        ╲╱       \n",
              "\n",
              "                       ⎞  ⎛                                                   \n",
              "                       ⎟  ⎜          ⎛                ⎛  _________           ⎞\n",
              "                       ⎟  ⎜          ⎜              2 ⎜╲╱ \\sigmaₖ     \\sigmaₖ⎟\n",
              "_______________________⎟  ⎜-\\sigma_w⋅⎜\\sigmaₖ + \\tau ⋅⎜──────────── - ───────⎟\n",
              "  _________            ⎟  ⎜          ⎜                ⎜  __________        2 ⎟\n",
              "╲╱ \\sigmaₖ     \\sigmaₖ ⎟  ⎜          ⎝                ⎝╲╱ \\sigma_w     \\tau  ⎠\n",
              "──────────── - ─────── ⎟, ⎜───────────────────────────────────────────────────\n",
              "  __________        2  ⎟  ⎜                                               2   \n",
              "╲╱ \\sigma_w     \\tau   ⎠  ⎝                                   \\sigmaₖ⋅\\tau    \n",
              "\n",
              "        ________________________                                  ⎞  ⎛        \n",
              "⎞      ╱   _________                                              ⎟  ⎜        \n",
              "⎟     ╱  ╲╱ \\sigmaₖ     \\sigmaₖ                                   ⎟  ⎜        \n",
              "⎟⋅   ╱   ──────────── - ───────           ________________________⎟  ⎜\\sigma_w\n",
              "⎟   ╱      __________        2           ╱   _________            ⎟  ⎜        \n",
              "⎠ ╲╱     ╲╱ \\sigma_w     \\tau           ╱  ╲╱ \\sigmaₖ     \\sigmaₖ ⎟  ⎜        \n",
              "─────────────────────────────────, -   ╱   ──────────── - ─────── ⎟, ⎜────────\n",
              "                                      ╱      __________        2  ⎟  ⎜        \n",
              "                                    ╲╱     ╲╱ \\sigma_w     \\tau   ⎠  ⎝        \n",
              "\n",
              "                                                  ________________________    \n",
              " ⎛                ⎛  _________           ⎞⎞      ╱   _________                \n",
              " ⎜              2 ⎜╲╱ \\sigmaₖ     \\sigmaₖ⎟⎟     ╱  ╲╱ \\sigmaₖ     \\sigmaₖ     \n",
              "⋅⎜\\sigmaₖ + \\tau ⋅⎜──────────── - ───────⎟⎟⋅   ╱   ──────────── - ───────     \n",
              " ⎜                ⎜  __________        2 ⎟⎟   ╱      __________        2      \n",
              " ⎝                ⎝╲╱ \\sigma_w     \\tau  ⎠⎠ ╲╱     ╲╱ \\sigma_w     \\tau       \n",
              "──────────────────────────────────────────────────────────────────────────,   \n",
              "                                      2                                       \n",
              "                          \\sigmaₖ⋅\\tau                                      ╲╱\n",
              "\n",
              "                            ⎞⎤\n",
              "                            ⎟⎥\n",
              "                            ⎟⎥\n",
              "    ________________________⎟⎥\n",
              "   ╱   _________            ⎟⎥\n",
              "  ╱  ╲╱ \\sigmaₖ     \\sigmaₖ ⎟⎥\n",
              " ╱   ──────────── - ─────── ⎟⎥\n",
              "╱      __________        2  ⎟⎥\n",
              "     ╲╱ \\sigma_w     \\tau   ⎠⎦"
            ]
          },
          "metadata": {
            "tags": []
          },
          "execution_count": 13
        }
      ]
    },
    {
      "cell_type": "code",
      "metadata": {
        "id": "Mq1QJmI90-Ow",
        "colab_type": "code",
        "colab": {
          "base_uri": "https://localhost:8080/",
          "height": 79
        },
        "outputId": "e0292fa8-8539-41b6-fded-7cfe3766deb8"
      },
      "source": [
        "# substitutes subs for the fixed points\n",
        "# 2 are imaginary -- ignored\n",
        "# other 2 are real if the sigma < 1 -- sigma can't be too large\n",
        "# if sigma is too large, going back to (0, 0)\n",
        "[sym.simplify(sym.Matrix(_).subs(subs)) for _ in sol]"
      ],
      "execution_count": null,
      "outputs": [
        {
          "output_type": "display_data",
          "data": {
            "text/html": [
              "<script src='https://cdnjs.cloudflare.com/ajax/libs/mathjax/2.7.3/latest.js?config=default'></script>"
            ],
            "text/plain": [
              "<IPython.core.display.HTML object>"
            ]
          },
          "metadata": {
            "tags": []
          }
        },
        {
          "output_type": "execute_result",
          "data": {
            "text/latex": "$$\\left [ \\left[\\begin{matrix}0\\\\0\\end{matrix}\\right], \\quad \\left[\\begin{matrix}\\frac{1}{\\sqrt{\\sigma}} \\sqrt{- \\sqrt{\\sigma} - \\frac{\\sigma}{\\tau^{2}}}\\\\- \\sqrt{- \\sqrt{\\sigma} - \\frac{\\sigma}{\\tau^{2}}}\\end{matrix}\\right], \\quad \\left[\\begin{matrix}- \\frac{1}{\\sqrt{\\sigma}} \\sqrt{- \\sqrt{\\sigma} - \\frac{\\sigma}{\\tau^{2}}}\\\\\\sqrt{- \\sqrt{\\sigma} - \\frac{\\sigma}{\\tau^{2}}}\\end{matrix}\\right], \\quad \\left[\\begin{matrix}- \\frac{1}{\\sqrt{\\sigma}} \\sqrt{\\sqrt{\\sigma} - \\frac{\\sigma}{\\tau^{2}}}\\\\- \\sqrt{\\sqrt{\\sigma} - \\frac{\\sigma}{\\tau^{2}}}\\end{matrix}\\right], \\quad \\left[\\begin{matrix}\\frac{1}{\\sqrt{\\sigma}} \\sqrt{\\sqrt{\\sigma} - \\frac{\\sigma}{\\tau^{2}}}\\\\\\sqrt{\\sqrt{\\sigma} - \\frac{\\sigma}{\\tau^{2}}}\\end{matrix}\\right]\\right ]$$",
            "text/plain": [
              "⎡     ⎡     _______________________ ⎤  ⎡      _______________________ ⎤  ⎡    \n",
              "⎢     ⎢    ╱     ________   \\sigma  ⎥  ⎢     ╱     ________   \\sigma  ⎥  ⎢    \n",
              "⎢     ⎢   ╱  - ╲╱ \\sigma  - ──────  ⎥  ⎢-   ╱  - ╲╱ \\sigma  - ──────  ⎥  ⎢-   \n",
              "⎢     ⎢  ╱                      2   ⎥  ⎢   ╱                      2   ⎥  ⎢   ╱\n",
              "⎢     ⎢╲╱                   \\tau    ⎥  ⎢ ╲╱                   \\tau    ⎥  ⎢ ╲╱ \n",
              "⎢     ⎢──────────────────────────── ⎥  ⎢──────────────────────────────⎥  ⎢────\n",
              "⎢⎡0⎤  ⎢           ________          ⎥  ⎢            ________          ⎥  ⎢    \n",
              "⎢⎢ ⎥, ⎢         ╲╱ \\sigma           ⎥, ⎢          ╲╱ \\sigma           ⎥, ⎢    \n",
              "⎢⎣0⎦  ⎢                             ⎥  ⎢                              ⎥  ⎢    \n",
              "⎢     ⎢      _______________________⎥  ⎢      _______________________ ⎥  ⎢    \n",
              "⎢     ⎢     ╱     ________   \\sigma ⎥  ⎢     ╱     ________   \\sigma  ⎥  ⎢    \n",
              "⎢     ⎢-   ╱  - ╲╱ \\sigma  - ────── ⎥  ⎢    ╱  - ╲╱ \\sigma  - ──────  ⎥  ⎢-   \n",
              "⎢     ⎢   ╱                      2  ⎥  ⎢   ╱                      2   ⎥  ⎢   ╱\n",
              "⎣     ⎣ ╲╱                   \\tau   ⎦  ⎣ ╲╱                   \\tau    ⎦  ⎣ ╲╱ \n",
              "\n",
              "  _____________________ ⎤  ⎡     _____________________⎤⎤\n",
              " ╱   ________   \\sigma  ⎥  ⎢    ╱   ________   \\sigma ⎥⎥\n",
              "╱  ╲╱ \\sigma  - ──────  ⎥  ⎢   ╱  ╲╱ \\sigma  - ────── ⎥⎥\n",
              "                    2   ⎥  ⎢  ╱                    2  ⎥⎥\n",
              "                \\tau    ⎥  ⎢╲╱                 \\tau   ⎥⎥\n",
              "────────────────────────⎥  ⎢──────────────────────────⎥⎥\n",
              "       ________         ⎥  ⎢          ________        ⎥⎥\n",
              "     ╲╱ \\sigma          ⎥, ⎢        ╲╱ \\sigma         ⎥⎥\n",
              "                        ⎥  ⎢                          ⎥⎥\n",
              "  _____________________ ⎥  ⎢     _____________________⎥⎥\n",
              " ╱   ________   \\sigma  ⎥  ⎢    ╱   ________   \\sigma ⎥⎥\n",
              "╱  ╲╱ \\sigma  - ──────  ⎥  ⎢   ╱  ╲╱ \\sigma  - ────── ⎥⎥\n",
              "                    2   ⎥  ⎢  ╱                    2  ⎥⎥\n",
              "                \\tau    ⎦  ⎣╲╱                 \\tau   ⎦⎦"
            ]
          },
          "metadata": {
            "tags": []
          },
          "execution_count": 14
        }
      ]
    },
    {
      "cell_type": "code",
      "metadata": {
        "id": "CzxtPWovGoi3",
        "colab_type": "code",
        "colab": {
          "base_uri": "https://localhost:8080/",
          "height": 98
        },
        "outputId": "388ff6ac-c83d-4046-be41-173dd1aa1283"
      },
      "source": [
        "# Separating the substitutions -- this is if tau = 1 only \n",
        "[sym.simplify(sym.expand(sym.simplify(sym.Matrix(_).subs({tau:1})))) for _ in sol]"
      ],
      "execution_count": null,
      "outputs": [
        {
          "output_type": "display_data",
          "data": {
            "text/html": [
              "<script src='https://cdnjs.cloudflare.com/ajax/libs/mathjax/2.7.3/latest.js?config=default'></script>"
            ],
            "text/plain": [
              "<IPython.core.display.HTML object>"
            ]
          },
          "metadata": {
            "tags": []
          }
        },
        {
          "output_type": "execute_result",
          "data": {
            "text/latex": "$$\\left [ \\left[\\begin{matrix}0\\\\0\\end{matrix}\\right], \\quad \\left[\\begin{matrix}\\frac{\\sqrt[4]{\\sigma_w}}{\\sqrt{\\sigma_k}} \\sqrt{- \\sqrt{\\sigma_k} - \\sigma_k \\sqrt{\\sigma_w}}\\\\- \\sqrt{- \\frac{\\sqrt{\\sigma_k}}{\\sqrt{\\sigma_w}} - \\sigma_k}\\end{matrix}\\right], \\quad \\left[\\begin{matrix}- \\frac{i \\sqrt[4]{\\sigma_w}}{\\sqrt{\\sigma_k}} \\sqrt{\\sqrt{\\sigma_k} + \\sigma_k \\sqrt{\\sigma_w}}\\\\\\sqrt{- \\frac{\\sqrt{\\sigma_k}}{\\sqrt{\\sigma_w}} - \\sigma_k}\\end{matrix}\\right], \\quad \\left[\\begin{matrix}- \\frac{\\sqrt[4]{\\sigma_w}}{\\sqrt{\\sigma_k}} \\sqrt{\\sqrt{\\sigma_k} - \\sigma_k \\sqrt{\\sigma_w}}\\\\- \\sqrt{\\frac{\\sqrt{\\sigma_k}}{\\sqrt{\\sigma_w}} - \\sigma_k}\\end{matrix}\\right], \\quad \\left[\\begin{matrix}\\frac{\\sqrt[4]{\\sigma_w}}{\\sqrt{\\sigma_k}} \\sqrt{\\sqrt{\\sigma_k} - \\sigma_k \\sqrt{\\sigma_w}}\\\\\\sqrt{\\frac{\\sqrt{\\sigma_k}}{\\sqrt{\\sigma_w}} - \\sigma_k}\\end{matrix}\\right]\\right ]$$",
            "text/plain": [
              "⎡     ⎡                ______________________________________⎤  ⎡             \n",
              "⎢     ⎢4 __________   ╱     _________             __________ ⎥  ⎢   4 ________\n",
              "⎢     ⎢╲╱ \\sigma_w ⋅╲╱  - ╲╱ \\sigmaₖ  - \\sigmaₖ⋅╲╱ \\sigma_w  ⎥  ⎢-ⅈ⋅╲╱ \\sigma_\n",
              "⎢     ⎢──────────────────────────────────────────────────────⎥  ⎢─────────────\n",
              "⎢     ⎢                       _________                      ⎥  ⎢             \n",
              "⎢⎡0⎤  ⎢                     ╲╱ \\sigmaₖ                       ⎥  ⎢             \n",
              "⎢⎢ ⎥, ⎢                                                      ⎥, ⎢             \n",
              "⎢⎣0⎦  ⎢                 __________________________           ⎥  ⎢             \n",
              "⎢     ⎢                ╱     _________                       ⎥  ⎢             \n",
              "⎢     ⎢               ╱    ╲╱ \\sigmaₖ                        ⎥  ⎢             \n",
              "⎢     ⎢          -   ╱   - ──────────── - \\sigmaₖ            ⎥  ⎢             \n",
              "⎢     ⎢             ╱        __________                      ⎥  ⎢             \n",
              "⎣     ⎣           ╲╱       ╲╱ \\sigma_w                       ⎦  ⎣            ╲\n",
              "\n",
              "      ____________________________________ ⎤  ⎡                 ______________\n",
              "__   ╱   _________             __________  ⎥  ⎢ 4 __________   ╱   _________  \n",
              "w ⋅╲╱  ╲╱ \\sigmaₖ  + \\sigmaₖ⋅╲╱ \\sigma_w   ⎥  ⎢-╲╱ \\sigma_w ⋅╲╱  ╲╱ \\sigmaₖ  -\n",
              "───────────────────────────────────────────⎥  ⎢───────────────────────────────\n",
              "           _________                       ⎥  ⎢                       ________\n",
              "         ╲╱ \\sigmaₖ                        ⎥  ⎢                     ╲╱ \\sigmaₖ\n",
              "                                           ⎥, ⎢                               \n",
              "     __________________________            ⎥  ⎢                  _____________\n",
              "    ╱     _________                        ⎥  ⎢                 ╱   _________ \n",
              "   ╱    ╲╱ \\sigmaₖ                         ⎥  ⎢                ╱  ╲╱ \\sigmaₖ  \n",
              "  ╱   - ──────────── - \\sigmaₖ             ⎥  ⎢           -   ╱   ────────────\n",
              " ╱        __________                       ⎥  ⎢              ╱      __________\n",
              "╱       ╲╱ \\sigma_w                        ⎦  ⎣            ╲╱     ╲╱ \\sigma_w \n",
              "\n",
              "______________________ ⎤  ⎡                ___________________________________\n",
              "           __________  ⎥  ⎢4 __________   ╱   _________             __________\n",
              " \\sigmaₖ⋅╲╱ \\sigma_w   ⎥  ⎢╲╱ \\sigma_w ⋅╲╱  ╲╱ \\sigmaₖ  - \\sigmaₖ⋅╲╱ \\sigma_w \n",
              "───────────────────────⎥  ⎢───────────────────────────────────────────────────\n",
              "_                      ⎥  ⎢                      _________                    \n",
              "                       ⎥  ⎢                    ╲╱ \\sigmaₖ                     \n",
              "                       ⎥, ⎢                                                   \n",
              "___________            ⎥  ⎢                 ________________________          \n",
              "                       ⎥  ⎢                ╱   _________                      \n",
              "                       ⎥  ⎢               ╱  ╲╱ \\sigmaₖ                       \n",
              " - \\sigmaₖ             ⎥  ⎢              ╱   ──────────── - \\sigmaₖ           \n",
              "                       ⎥  ⎢             ╱      __________                     \n",
              "                       ⎦  ⎣           ╲╱     ╲╱ \\sigma_w                      \n",
              "\n",
              "_⎤⎤\n",
              " ⎥⎥\n",
              " ⎥⎥\n",
              "─⎥⎥\n",
              " ⎥⎥\n",
              " ⎥⎥\n",
              " ⎥⎥\n",
              " ⎥⎥\n",
              " ⎥⎥\n",
              " ⎥⎥\n",
              " ⎥⎥\n",
              " ⎥⎥\n",
              " ⎦⎦"
            ]
          },
          "metadata": {
            "tags": []
          },
          "execution_count": 40
        }
      ]
    },
    {
      "cell_type": "code",
      "metadata": {
        "id": "dFMai8jR2jr3",
        "colab_type": "code",
        "colab": {
          "base_uri": "https://localhost:8080/",
          "height": 58
        },
        "outputId": "d3c19af0-4007-4fe9-e5bb-5603795207dc"
      },
      "source": [
        "# expands de with the substitutions above\n",
        "sym.expand(sym.simplify(sym.Matrix(de).subs(subs)))"
      ],
      "execution_count": null,
      "outputs": [
        {
          "output_type": "display_data",
          "data": {
            "text/html": [
              "<script src='https://cdnjs.cloudflare.com/ajax/libs/mathjax/2.7.3/latest.js?config=default'></script>"
            ],
            "text/plain": [
              "<IPython.core.display.HTML object>"
            ]
          },
          "metadata": {
            "tags": []
          }
        },
        {
          "output_type": "execute_result",
          "data": {
            "text/latex": "$$\\left[\\begin{matrix}\\sigma k + \\tau^{2} k w^{2} - \\tau^{2} w\\\\\\sigma w + \\tau^{2} k^{2} w - \\tau^{2} k\\end{matrix}\\right]$$",
            "text/plain": [
              "⎡               2    2       2  ⎤\n",
              "⎢\\sigma⋅k + \\tau ⋅k⋅w  - \\tau ⋅w⎥\n",
              "⎢                               ⎥\n",
              "⎢               2  2         2  ⎥\n",
              "⎣\\sigma⋅w + \\tau ⋅k ⋅w - \\tau ⋅k⎦"
            ]
          },
          "metadata": {
            "tags": []
          },
          "execution_count": 41
        }
      ]
    },
    {
      "cell_type": "code",
      "metadata": {
        "id": "DVgjGehZ4WQJ",
        "colab_type": "code",
        "colab": {
          "base_uri": "https://localhost:8080/",
          "height": 38
        },
        "outputId": "742cb443-e604-4d86-ca15-e1b90d968707"
      },
      "source": [
        "# Looking at one of the solved fixed points\n",
        "k0,w0 = sym.simplify(sym.Matrix(sol[3]).subs(subs))\n",
        "x0 = {k:k0,w:w0}\n",
        "x0"
      ],
      "execution_count": null,
      "outputs": [
        {
          "output_type": "display_data",
          "data": {
            "text/html": [
              "<script src='https://cdnjs.cloudflare.com/ajax/libs/mathjax/2.7.3/latest.js?config=default'></script>"
            ],
            "text/plain": [
              "<IPython.core.display.HTML object>"
            ]
          },
          "metadata": {
            "tags": []
          }
        },
        {
          "output_type": "execute_result",
          "data": {
            "text/latex": "$$\\left \\{ k : - \\sqrt{- \\frac{\\sigma}{\\tau^{2}} + 1}, \\quad w : - \\sqrt{- \\frac{\\sigma}{\\tau^{2}} + 1}\\right \\}$$",
            "text/plain": [
              "⎧         ______________           ______________⎫\n",
              "⎪        ╱   \\sigma               ╱   \\sigma     ⎪\n",
              "⎨k: -   ╱  - ────── + 1 , w: -   ╱  - ────── + 1 ⎬\n",
              "⎪      ╱         2              ╱         2      ⎪\n",
              "⎩    ╲╱      \\tau             ╲╱      \\tau       ⎭"
            ]
          },
          "metadata": {
            "tags": []
          },
          "execution_count": 42
        }
      ]
    },
    {
      "cell_type": "code",
      "metadata": {
        "id": "Zgqi46iw7MZl",
        "colab_type": "code",
        "colab": {}
      },
      "source": [
        "H = sym.Matrix(de).jacobian([k,w])\n",
        "J = f.jacobian([k,w])"
      ],
      "execution_count": null,
      "outputs": []
    },
    {
      "cell_type": "code",
      "metadata": {
        "id": "oJY_GYlz4sZC",
        "colab_type": "code",
        "colab": {}
      },
      "source": [
        "H0 = H.subs(subs).subs(x0)\n",
        "J0 = J.subs(subs).subs(x0)"
      ],
      "execution_count": null,
      "outputs": []
    },
    {
      "cell_type": "code",
      "metadata": {
        "id": "TmmkP5z6VudK",
        "colab_type": "code",
        "colab": {
          "base_uri": "https://localhost:8080/",
          "height": 38
        },
        "outputId": "9506de7f-1718-416e-b09c-61cdba336fd8"
      },
      "source": [
        "J0.subs({sig:sym.Rational(1,2)}).eigenvals()\n",
        "J0.eigenvals()"
      ],
      "execution_count": null,
      "outputs": [
        {
          "output_type": "display_data",
          "data": {
            "text/html": [
              "<script src='https://cdnjs.cloudflare.com/ajax/libs/mathjax/2.7.3/latest.js?config=default'></script>"
            ],
            "text/plain": [
              "<IPython.core.display.HTML object>"
            ]
          },
          "metadata": {
            "tags": []
          }
        },
        {
          "output_type": "execute_result",
          "data": {
            "text/latex": "$$\\left \\{ - 2 \\sigma : 1, \\quad 2 \\sigma - 2 \\tau^{2} : 1\\right \\}$$",
            "text/plain": [
              "⎧                               2   ⎫\n",
              "⎨-2⋅\\sigma: 1, 2⋅\\sigma - 2⋅\\tau : 1⎬\n",
              "⎩                                   ⎭"
            ]
          },
          "metadata": {
            "tags": []
          },
          "execution_count": 45
        }
      ]
    },
    {
      "cell_type": "code",
      "metadata": {
        "id": "knZBnDQu8l8i",
        "colab_type": "code",
        "colab": {
          "base_uri": "https://localhost:8080/",
          "height": 38
        },
        "outputId": "cf802fc0-91ca-4956-d8c3-abd3553f849c"
      },
      "source": [
        "H0.eigenvals()"
      ],
      "execution_count": null,
      "outputs": [
        {
          "output_type": "display_data",
          "data": {
            "text/html": [
              "<script src='https://cdnjs.cloudflare.com/ajax/libs/mathjax/2.7.3/latest.js?config=default'></script>"
            ],
            "text/plain": [
              "<IPython.core.display.HTML object>"
            ]
          },
          "metadata": {
            "tags": []
          }
        },
        {
          "output_type": "execute_result",
          "data": {
            "text/latex": "$$\\left \\{ 2 \\sigma : 1, \\quad - 2 \\sigma + 2 \\tau^{2} : 1\\right \\}$$",
            "text/plain": [
              "⎧                               2   ⎫\n",
              "⎨2⋅\\sigma: 1, -2⋅\\sigma + 2⋅\\tau : 1⎬\n",
              "⎩                                   ⎭"
            ]
          },
          "metadata": {
            "tags": []
          },
          "execution_count": 46
        }
      ]
    },
    {
      "cell_type": "markdown",
      "metadata": {
        "id": "72HTS0-jA4wY",
        "colab_type": "text"
      },
      "source": [
        "When it comes to $J = Df(x_0)$, we care about whether all eigenvalues have negative real part,\n",
        "\n",
        "$$ \\forall \\lambda \\in \\operatorname{spec} Df(x_0) : \\operatorname{Real}\\lambda < 0, $$\n",
        "\n",
        "because we have the bound \n",
        "\n",
        "$$ \\| x(t) - x_0 \\| \\leq e^{\\overline{\\lambda} t} \\| x(0) - x_0 \\| $$\n",
        "\n",
        "where \n",
        "\n",
        "$$ \\overline{\\lambda} = \\max\\{\\operatorname{Real}\\lambda : \\lambda\\in \\operatorname{spec} Df(x_0)\\}. $$"
      ]
    },
    {
      "cell_type": "markdown",
      "metadata": {
        "id": "X5QdhY0z_QqA",
        "colab_type": "text"
      },
      "source": [
        "Continuous-time gradient descent has dynamics:\n",
        "\n",
        "$$ \\dot{x} = - De(x) = f(x), $$"
      ]
    },
    {
      "cell_type": "markdown",
      "metadata": {
        "id": "dS3bL7Jk_dQr",
        "colab_type": "text"
      },
      "source": [
        "So on time horizon $\\Delta > 0$, we have approximately\n",
        "\n",
        "$$ x(t + \\Delta) - x(t) \\approx \\Delta f(x(t)). $$"
      ]
    },
    {
      "cell_type": "markdown",
      "metadata": {
        "id": "lGq5Rb1x_Bob",
        "colab_type": "text"
      },
      "source": [
        "Discrete-time gradient descent has dynamics:\n",
        "\n",
        "$$ x^+ = x - \\Gamma De(x) = x + \\Gamma f(x) = F(x), $$"
      ]
    },
    {
      "cell_type": "markdown",
      "metadata": {
        "id": "smUdWy3MAHMp",
        "colab_type": "text"
      },
      "source": [
        "Note that if $x_0$ is stationary:\n",
        "\n",
        "$$ De(x_0) = 0 \\implies f(x_0) = 0 \\implies \\dot{x}_0 = 0 $$\n",
        "\n",
        "$$ De(x_0) = 0 \\implies F(x_0) = x_0 $$"
      ]
    },
    {
      "cell_type": "code",
      "metadata": {
        "id": "h95QAJyz9MAb",
        "colab_type": "code",
        "colab": {
          "base_uri": "https://localhost:8080/",
          "height": 58
        },
        "outputId": "bf690cd1-e47d-4a12-ca25-ed6c45c699c8"
      },
      "source": [
        "Gamma = sym.Matrix.diag([gam_k,gam_w])\n",
        "Gamma"
      ],
      "execution_count": null,
      "outputs": [
        {
          "output_type": "display_data",
          "data": {
            "text/html": [
              "<script src='https://cdnjs.cloudflare.com/ajax/libs/mathjax/2.7.3/latest.js?config=default'></script>"
            ],
            "text/plain": [
              "<IPython.core.display.HTML object>"
            ]
          },
          "metadata": {
            "tags": []
          }
        },
        {
          "output_type": "execute_result",
          "data": {
            "text/latex": "$$\\left[\\begin{matrix}\\gamma_k & 0\\\\0 & \\gamma_w\\end{matrix}\\right]$$",
            "text/plain": [
              "⎡\\gammaₖ     0    ⎤\n",
              "⎢                 ⎥\n",
              "⎣   0     \\gamma_w⎦"
            ]
          },
          "metadata": {
            "tags": []
          },
          "execution_count": 47
        }
      ]
    },
    {
      "cell_type": "code",
      "metadata": {
        "id": "Ify4LHNdyQkj",
        "colab_type": "code",
        "colab": {
          "base_uri": "https://localhost:8080/",
          "height": 58
        },
        "outputId": "152a2bba-7bb6-46a8-a79e-3318377bca53"
      },
      "source": [
        "# Set F as the matrix to describe the update to k+, w+\n",
        "F = sym.Matrix([k,w]) + Gamma * f.subs(subs)\n",
        "F"
      ],
      "execution_count": null,
      "outputs": [
        {
          "output_type": "display_data",
          "data": {
            "text/html": [
              "<script src='https://cdnjs.cloudflare.com/ajax/libs/mathjax/2.7.3/latest.js?config=default'></script>"
            ],
            "text/plain": [
              "<IPython.core.display.HTML object>"
            ]
          },
          "metadata": {
            "tags": []
          }
        },
        {
          "output_type": "execute_result",
          "data": {
            "text/latex": "$$\\left[\\begin{matrix}\\gamma_k \\left(- \\sigma k + \\tau^{2} w \\left(- k w + 1\\right)\\right) + k\\\\\\gamma_w \\left(- \\sigma w + \\tau^{2} k \\left(- k w + 1\\right)\\right) + w\\end{matrix}\\right]$$",
            "text/plain": [
              "⎡        ⎛                2             ⎞     ⎤\n",
              "⎢\\gammaₖ⋅⎝-\\sigma⋅k + \\tau ⋅w⋅(-k⋅w + 1)⎠ + k ⎥\n",
              "⎢                                             ⎥\n",
              "⎢         ⎛                2             ⎞    ⎥\n",
              "⎣\\gamma_w⋅⎝-\\sigma⋅w + \\tau ⋅k⋅(-k⋅w + 1)⎠ + w⎦"
            ]
          },
          "metadata": {
            "tags": []
          },
          "execution_count": 48
        }
      ]
    },
    {
      "cell_type": "code",
      "metadata": {
        "id": "RUHpscoy-Jv5",
        "colab_type": "code",
        "colab": {
          "base_uri": "https://localhost:8080/",
          "height": 58
        },
        "outputId": "d23e405c-ee4d-4c14-d281-9f5184b99bfd"
      },
      "source": [
        "# Discrete time, derivative of F\n",
        "DF = F.jacobian([k,w])\n",
        "DF"
      ],
      "execution_count": null,
      "outputs": [
        {
          "output_type": "display_data",
          "data": {
            "text/html": [
              "<script src='https://cdnjs.cloudflare.com/ajax/libs/mathjax/2.7.3/latest.js?config=default'></script>"
            ],
            "text/plain": [
              "<IPython.core.display.HTML object>"
            ]
          },
          "metadata": {
            "tags": []
          }
        },
        {
          "output_type": "execute_result",
          "data": {
            "text/latex": "$$\\left[\\begin{matrix}\\gamma_k \\left(- \\sigma - \\tau^{2} w^{2}\\right) + 1 & \\gamma_k \\left(- \\tau^{2} k w + \\tau^{2} \\left(- k w + 1\\right)\\right)\\\\\\gamma_w \\left(- \\tau^{2} k w + \\tau^{2} \\left(- k w + 1\\right)\\right) & \\gamma_w \\left(- \\sigma - \\tau^{2} k^{2}\\right) + 1\\end{matrix}\\right]$$",
            "text/plain": [
              "⎡            ⎛              2  2⎞                   ⎛      2           2      \n",
              "⎢    \\gammaₖ⋅⎝-\\sigma - \\tau ⋅w ⎠ + 1       \\gammaₖ⋅⎝- \\tau ⋅k⋅w + \\tau ⋅(-k⋅w\n",
              "⎢                                                                             \n",
              "⎢         ⎛      2           2           ⎞              ⎛              2  2⎞  \n",
              "⎣\\gamma_w⋅⎝- \\tau ⋅k⋅w + \\tau ⋅(-k⋅w + 1)⎠     \\gamma_w⋅⎝-\\sigma - \\tau ⋅k ⎠ +\n",
              "\n",
              "     ⎞⎤\n",
              " + 1)⎠⎥\n",
              "      ⎥\n",
              "      ⎥\n",
              " 1    ⎦"
            ]
          },
          "metadata": {
            "tags": []
          },
          "execution_count": 49
        }
      ]
    },
    {
      "cell_type": "code",
      "metadata": {
        "id": "WEAjrrwP-sAj",
        "colab_type": "code",
        "colab": {
          "base_uri": "https://localhost:8080/",
          "height": 67
        },
        "outputId": "bedcd072-2294-4038-f3a2-eb3d1a1c411d"
      },
      "source": [
        "# Sub in the stationary point for the eignenvalues\n",
        "DF.subs(x0).eigenvals()"
      ],
      "execution_count": null,
      "outputs": [
        {
          "output_type": "display_data",
          "data": {
            "text/html": [
              "<script src='https://cdnjs.cloudflare.com/ajax/libs/mathjax/2.7.3/latest.js?config=default'></script>"
            ],
            "text/plain": [
              "<IPython.core.display.HTML object>"
            ]
          },
          "metadata": {
            "tags": []
          }
        },
        {
          "output_type": "execute_result",
          "data": {
            "text/latex": "$$\\left \\{ - \\frac{\\gamma_k \\tau^{2}}{2} - \\frac{\\gamma_w \\tau^{2}}{2} - \\frac{1}{2} \\sqrt{\\gamma_k^{2} \\tau^{4} + 16 \\gamma_k \\gamma_w \\sigma^{2} - 16 \\gamma_k \\gamma_w \\sigma \\tau^{2} + 2 \\gamma_k \\gamma_w \\tau^{4} + \\gamma_w^{2} \\tau^{4}} + 1 : 1, \\quad - \\frac{\\gamma_k \\tau^{2}}{2} - \\frac{\\gamma_w \\tau^{2}}{2} + \\frac{1}{2} \\sqrt{\\gamma_k^{2} \\tau^{4} + 16 \\gamma_k \\gamma_w \\sigma^{2} - 16 \\gamma_k \\gamma_w \\sigma \\tau^{2} + 2 \\gamma_k \\gamma_w \\tau^{4} + \\gamma_w^{2} \\tau^{4}} + 1 : 1\\right \\}$$",
            "text/plain": [
              "⎧                                      _______________________________________\n",
              "⎪              2                2     ╱        2     4                        \n",
              "⎨  \\gammaₖ⋅\\tau    \\gamma_w⋅\\tau    ╲╱  \\gammaₖ ⋅\\tau  + 16⋅\\gammaₖ⋅\\gamma_w⋅\\\n",
              "⎪- ───────────── - ────────────── - ──────────────────────────────────────────\n",
              "⎩        2               2                                                    \n",
              "\n",
              "______________________________________________________________________________\n",
              "     2                                  2                          4          \n",
              "sigma  - 16⋅\\gammaₖ⋅\\gamma_w⋅\\sigma⋅\\tau  + 2⋅\\gammaₖ⋅\\gamma_w⋅\\tau  + \\gamma_\n",
              "──────────────────────────────────────────────────────────────────────────────\n",
              "                      2                                                       \n",
              "\n",
              "_________                                               ______________________\n",
              " 2     4                        2                2     ╱        2     4       \n",
              "w ⋅\\tau             \\gammaₖ⋅\\tau    \\gamma_w⋅\\tau    ╲╱  \\gammaₖ ⋅\\tau  + 16⋅\\\n",
              "───────── + 1: 1, - ───────────── - ────────────── + ─────────────────────────\n",
              "                          2               2                                   \n",
              "\n",
              "______________________________________________________________________________\n",
              "                      2                                  2                    \n",
              "gammaₖ⋅\\gamma_w⋅\\sigma  - 16⋅\\gammaₖ⋅\\gamma_w⋅\\sigma⋅\\tau  + 2⋅\\gammaₖ⋅\\gamma_\n",
              "──────────────────────────────────────────────────────────────────────────────\n",
              "                                       2                                      \n",
              "\n",
              "__________________________       ⎫\n",
              "      4           2     4        ⎪\n",
              "w⋅\\tau  + \\gamma_w ⋅\\tau         ⎬\n",
              "────────────────────────── + 1: 1⎪\n",
              "                                 ⎭"
            ]
          },
          "metadata": {
            "tags": []
          },
          "execution_count": 50
        }
      ]
    },
    {
      "cell_type": "markdown",
      "metadata": {
        "id": "HSj5chveArGE",
        "colab_type": "text"
      },
      "source": [
        "When it comes to $DF(x_0)$, we care about whether all eigenvalues have magnitude smaller than $1$,\n",
        "\n",
        "$$ \\forall \\lambda \\in \\operatorname{spec} DF(x_0) : |\\lambda| < 1, $$\n",
        "\n",
        "because we have the bound \n",
        "\n",
        "$$ \\| x(k) - x_0 \\| \\leq \\widetilde{\\lambda}^k \\| x(0) - x_0 \\| $$\n",
        "\n",
        "where \n",
        "\n",
        "$$ \\widetilde{\\lambda} = \\max\\{|\\lambda| : \\lambda\\in \\operatorname{spec} DF(x_0)\\}. $$"
      ]
    },
    {
      "cell_type": "code",
      "metadata": {
        "id": "LFVheObN95ij",
        "colab_type": "code",
        "colab": {
          "base_uri": "https://localhost:8080/",
          "height": 67
        },
        "outputId": "86e6f7a8-df91-4eb6-ebb4-a4943ac8b3b8"
      },
      "source": [
        "# substitution of sigma = 1/2\n",
        "# iterative gradient descent converges?\n",
        "# Two-Learner paper connection: learning rates can't be too large or small\n",
        "DF.subs(x0).subs({sig:sym.Rational(1,2), gam_k:gam, gam_w:gam}).eigenvals()\n",
        "DF.subs(x0).subs({sig:sym.Rational(1,2)}).eigenvals()"
      ],
      "execution_count": null,
      "outputs": [
        {
          "output_type": "display_data",
          "data": {
            "text/html": [
              "<script src='https://cdnjs.cloudflare.com/ajax/libs/mathjax/2.7.3/latest.js?config=default'></script>"
            ],
            "text/plain": [
              "<IPython.core.display.HTML object>"
            ]
          },
          "metadata": {
            "tags": []
          }
        },
        {
          "output_type": "execute_result",
          "data": {
            "text/latex": "$$\\left \\{ - \\frac{\\gamma_k \\tau^{2}}{2} - \\frac{\\gamma_w \\tau^{2}}{2} - \\frac{1}{2} \\sqrt{\\gamma_k^{2} \\tau^{4} + 2 \\gamma_k \\gamma_w \\tau^{4} - 8 \\gamma_k \\gamma_w \\tau^{2} + 4 \\gamma_k \\gamma_w + \\gamma_w^{2} \\tau^{4}} + 1 : 1, \\quad - \\frac{\\gamma_k \\tau^{2}}{2} - \\frac{\\gamma_w \\tau^{2}}{2} + \\frac{1}{2} \\sqrt{\\gamma_k^{2} \\tau^{4} + 2 \\gamma_k \\gamma_w \\tau^{4} - 8 \\gamma_k \\gamma_w \\tau^{2} + 4 \\gamma_k \\gamma_w + \\gamma_w^{2} \\tau^{4}} + 1 : 1\\right \\}$$",
            "text/plain": [
              "⎧                                      _______________________________________\n",
              "⎪              2                2     ╱        2     4                        \n",
              "⎨  \\gammaₖ⋅\\tau    \\gamma_w⋅\\tau    ╲╱  \\gammaₖ ⋅\\tau  + 2⋅\\gammaₖ⋅\\gamma_w⋅\\t\n",
              "⎪- ───────────── - ────────────── - ──────────────────────────────────────────\n",
              "⎩        2               2                                                    \n",
              "\n",
              "______________________________________________________________________        \n",
              "  4                          2                                2     4         \n",
              "au  - 8⋅\\gammaₖ⋅\\gamma_w⋅\\tau  + 4⋅\\gammaₖ⋅\\gamma_w + \\gamma_w ⋅\\tau          \n",
              "────────────────────────────────────────────────────────────────────── + 1: 1,\n",
              "             2                                                                \n",
              "\n",
              "                                       _______________________________________\n",
              "               2                2     ╱        2     4                        \n",
              "   \\gammaₖ⋅\\tau    \\gamma_w⋅\\tau    ╲╱  \\gammaₖ ⋅\\tau  + 2⋅\\gammaₖ⋅\\gamma_w⋅\\t\n",
              " - ───────────── - ────────────── + ──────────────────────────────────────────\n",
              "         2               2                                                    \n",
              "\n",
              "______________________________________________________________________       ⎫\n",
              "  4                          2                                2     4        ⎪\n",
              "au  - 8⋅\\gammaₖ⋅\\gamma_w⋅\\tau  + 4⋅\\gammaₖ⋅\\gamma_w + \\gamma_w ⋅\\tau         ⎬\n",
              "────────────────────────────────────────────────────────────────────── + 1: 1⎪\n",
              "             2                                                               ⎭"
            ]
          },
          "metadata": {
            "tags": []
          },
          "execution_count": 51
        }
      ]
    },
    {
      "cell_type": "code",
      "metadata": {
        "id": "Qmvt8WCow0rX",
        "colab_type": "code",
        "colab": {
          "base_uri": "https://localhost:8080/",
          "height": 67
        },
        "outputId": "e3751d6b-e6c9-4f43-a13b-bf48100c2e74"
      },
      "source": [
        "DF.subs(x0).eigenvals()"
      ],
      "execution_count": null,
      "outputs": [
        {
          "output_type": "display_data",
          "data": {
            "text/html": [
              "<script src='https://cdnjs.cloudflare.com/ajax/libs/mathjax/2.7.3/latest.js?config=default'></script>"
            ],
            "text/plain": [
              "<IPython.core.display.HTML object>"
            ]
          },
          "metadata": {
            "tags": []
          }
        },
        {
          "output_type": "execute_result",
          "data": {
            "text/latex": "$$\\left \\{ - \\frac{\\gamma_k \\tau^{2}}{2} - \\frac{\\gamma_w \\tau^{2}}{2} - \\frac{1}{2} \\sqrt{\\gamma_k^{2} \\tau^{4} + 16 \\gamma_k \\gamma_w \\sigma^{2} - 16 \\gamma_k \\gamma_w \\sigma \\tau^{2} + 2 \\gamma_k \\gamma_w \\tau^{4} + \\gamma_w^{2} \\tau^{4}} + 1 : 1, \\quad - \\frac{\\gamma_k \\tau^{2}}{2} - \\frac{\\gamma_w \\tau^{2}}{2} + \\frac{1}{2} \\sqrt{\\gamma_k^{2} \\tau^{4} + 16 \\gamma_k \\gamma_w \\sigma^{2} - 16 \\gamma_k \\gamma_w \\sigma \\tau^{2} + 2 \\gamma_k \\gamma_w \\tau^{4} + \\gamma_w^{2} \\tau^{4}} + 1 : 1\\right \\}$$",
            "text/plain": [
              "⎧                                      _______________________________________\n",
              "⎪              2                2     ╱        2     4                        \n",
              "⎨  \\gammaₖ⋅\\tau    \\gamma_w⋅\\tau    ╲╱  \\gammaₖ ⋅\\tau  + 16⋅\\gammaₖ⋅\\gamma_w⋅\\\n",
              "⎪- ───────────── - ────────────── - ──────────────────────────────────────────\n",
              "⎩        2               2                                                    \n",
              "\n",
              "______________________________________________________________________________\n",
              "     2                                  2                          4          \n",
              "sigma  - 16⋅\\gammaₖ⋅\\gamma_w⋅\\sigma⋅\\tau  + 2⋅\\gammaₖ⋅\\gamma_w⋅\\tau  + \\gamma_\n",
              "──────────────────────────────────────────────────────────────────────────────\n",
              "                      2                                                       \n",
              "\n",
              "_________                                               ______________________\n",
              " 2     4                        2                2     ╱        2     4       \n",
              "w ⋅\\tau             \\gammaₖ⋅\\tau    \\gamma_w⋅\\tau    ╲╱  \\gammaₖ ⋅\\tau  + 16⋅\\\n",
              "───────── + 1: 1, - ───────────── - ────────────── + ─────────────────────────\n",
              "                          2               2                                   \n",
              "\n",
              "______________________________________________________________________________\n",
              "                      2                                  2                    \n",
              "gammaₖ⋅\\gamma_w⋅\\sigma  - 16⋅\\gammaₖ⋅\\gamma_w⋅\\sigma⋅\\tau  + 2⋅\\gammaₖ⋅\\gamma_\n",
              "──────────────────────────────────────────────────────────────────────────────\n",
              "                                       2                                      \n",
              "\n",
              "__________________________       ⎫\n",
              "      4           2     4        ⎪\n",
              "w⋅\\tau  + \\gamma_w ⋅\\tau         ⎬\n",
              "────────────────────────── + 1: 1⎪\n",
              "                                 ⎭"
            ]
          },
          "metadata": {
            "tags": []
          },
          "execution_count": 60
        }
      ]
    },
    {
      "cell_type": "code",
      "metadata": {
        "id": "6eCs3WaUlLLs",
        "colab_type": "code",
        "colab": {
          "base_uri": "https://localhost:8080/",
          "height": 38
        },
        "outputId": "68ff7dc9-2bfb-4fcf-a479-e12e6b6c8d05"
      },
      "source": [
        "# As in the block of text above, the eigenvalue that has the larger value is the one to pay attention to\n",
        "# Take the log of ||KW - K_oW_o|| closer to the stationary point \n",
        "# Compare that with the t*log(eigenvalue) to get the convergence rate\n",
        "DF.subs(x0).subs({sig:sym.Rational(1,2), tau:1}).eigenvals()"
      ],
      "execution_count": null,
      "outputs": [
        {
          "output_type": "display_data",
          "data": {
            "text/html": [
              "<script src='https://cdnjs.cloudflare.com/ajax/libs/mathjax/2.7.3/latest.js?config=default'></script>"
            ],
            "text/plain": [
              "<IPython.core.display.HTML object>"
            ]
          },
          "metadata": {
            "tags": []
          }
        },
        {
          "output_type": "execute_result",
          "data": {
            "text/latex": "$$\\left \\{ - \\gamma_k + 1 : 1, \\quad - \\gamma_w + 1 : 1\\right \\}$$",
            "text/plain": [
              "{-\\gammaₖ + 1: 1, -\\gamma_w + 1: 1}"
            ]
          },
          "metadata": {
            "tags": []
          },
          "execution_count": 52
        }
      ]
    },
    {
      "cell_type": "code",
      "metadata": {
        "id": "6bzkujl7r7GK",
        "colab_type": "code",
        "colab": {}
      },
      "source": [
        ""
      ],
      "execution_count": null,
      "outputs": []
    },
    {
      "cell_type": "code",
      "metadata": {
        "id": "8T1FR9YNwzUG",
        "colab_type": "code",
        "colab": {
          "base_uri": "https://localhost:8080/",
          "height": 232
        },
        "outputId": "05500099-4b43-495c-f475-072f3418b407"
      },
      "source": [
        "F_num = sym.lambdify([k,w],F.subs({sig:sym.Rational(1,2),gam_k:2.001,gam_w:.9}))\n",
        "x = [np.random.randn(2)]\n",
        "for i in range(100):\n",
        "  x.append(F_num(*x[-1]).flatten())\n",
        "x = np.asarray(x)\n",
        "plt.plot(x)"
      ],
      "execution_count": null,
      "outputs": [
        {
          "output_type": "error",
          "ename": "NameError",
          "evalue": "ignored",
          "traceback": [
            "\u001b[0;31m---------------------------------------------------------------------------\u001b[0m",
            "\u001b[0;31mNameError\u001b[0m                                 Traceback (most recent call last)",
            "\u001b[0;32m<ipython-input-15-16512b42f3e2>\u001b[0m in \u001b[0;36m<module>\u001b[0;34m()\u001b[0m\n\u001b[0;32m----> 1\u001b[0;31m \u001b[0mF_num\u001b[0m \u001b[0;34m=\u001b[0m \u001b[0msym\u001b[0m\u001b[0;34m.\u001b[0m\u001b[0mlambdify\u001b[0m\u001b[0;34m(\u001b[0m\u001b[0;34m[\u001b[0m\u001b[0mk\u001b[0m\u001b[0;34m,\u001b[0m\u001b[0mw\u001b[0m\u001b[0;34m]\u001b[0m\u001b[0;34m,\u001b[0m\u001b[0mF\u001b[0m\u001b[0;34m.\u001b[0m\u001b[0msubs\u001b[0m\u001b[0;34m(\u001b[0m\u001b[0;34m{\u001b[0m\u001b[0msig\u001b[0m\u001b[0;34m:\u001b[0m\u001b[0msym\u001b[0m\u001b[0;34m.\u001b[0m\u001b[0mRational\u001b[0m\u001b[0;34m(\u001b[0m\u001b[0;36m1\u001b[0m\u001b[0;34m,\u001b[0m\u001b[0;36m2\u001b[0m\u001b[0;34m)\u001b[0m\u001b[0;34m,\u001b[0m\u001b[0mgam_k\u001b[0m\u001b[0;34m:\u001b[0m\u001b[0;36m2.001\u001b[0m\u001b[0;34m,\u001b[0m\u001b[0mgam_w\u001b[0m\u001b[0;34m:\u001b[0m\u001b[0;36m.9\u001b[0m\u001b[0;34m}\u001b[0m\u001b[0;34m)\u001b[0m\u001b[0;34m)\u001b[0m\u001b[0;34m\u001b[0m\u001b[0;34m\u001b[0m\u001b[0m\n\u001b[0m\u001b[1;32m      2\u001b[0m \u001b[0mx\u001b[0m \u001b[0;34m=\u001b[0m \u001b[0;34m[\u001b[0m\u001b[0mnp\u001b[0m\u001b[0;34m.\u001b[0m\u001b[0mrandom\u001b[0m\u001b[0;34m.\u001b[0m\u001b[0mrandn\u001b[0m\u001b[0;34m(\u001b[0m\u001b[0;36m2\u001b[0m\u001b[0;34m)\u001b[0m\u001b[0;34m]\u001b[0m\u001b[0;34m\u001b[0m\u001b[0;34m\u001b[0m\u001b[0m\n\u001b[1;32m      3\u001b[0m \u001b[0;32mfor\u001b[0m \u001b[0mi\u001b[0m \u001b[0;32min\u001b[0m \u001b[0mrange\u001b[0m\u001b[0;34m(\u001b[0m\u001b[0;36m100\u001b[0m\u001b[0;34m)\u001b[0m\u001b[0;34m:\u001b[0m\u001b[0;34m\u001b[0m\u001b[0;34m\u001b[0m\u001b[0m\n\u001b[1;32m      4\u001b[0m   \u001b[0mx\u001b[0m\u001b[0;34m.\u001b[0m\u001b[0mappend\u001b[0m\u001b[0;34m(\u001b[0m\u001b[0mF_num\u001b[0m\u001b[0;34m(\u001b[0m\u001b[0;34m*\u001b[0m\u001b[0mx\u001b[0m\u001b[0;34m[\u001b[0m\u001b[0;34m-\u001b[0m\u001b[0;36m1\u001b[0m\u001b[0;34m]\u001b[0m\u001b[0;34m)\u001b[0m\u001b[0;34m.\u001b[0m\u001b[0mflatten\u001b[0m\u001b[0;34m(\u001b[0m\u001b[0;34m)\u001b[0m\u001b[0;34m)\u001b[0m\u001b[0;34m\u001b[0m\u001b[0;34m\u001b[0m\u001b[0m\n\u001b[1;32m      5\u001b[0m \u001b[0mx\u001b[0m \u001b[0;34m=\u001b[0m \u001b[0mnp\u001b[0m\u001b[0;34m.\u001b[0m\u001b[0masarray\u001b[0m\u001b[0;34m(\u001b[0m\u001b[0mx\u001b[0m\u001b[0;34m)\u001b[0m\u001b[0;34m\u001b[0m\u001b[0;34m\u001b[0m\u001b[0m\n",
            "\u001b[0;31mNameError\u001b[0m: name 'F' is not defined"
          ]
        }
      ]
    },
    {
      "cell_type": "markdown",
      "metadata": {
        "id": "0LmVYdAx4ntp",
        "colab_type": "text"
      },
      "source": [
        "# ^^^ Sam messed this up"
      ]
    },
    {
      "cell_type": "markdown",
      "metadata": {
        "id": "JEHtDDCErGY8",
        "colab_type": "text"
      },
      "source": [
        "###Trying above as a vector"
      ]
    },
    {
      "cell_type": "code",
      "metadata": {
        "id": "mjJfqNPOrKiC",
        "colab_type": "code",
        "colab": {}
      },
      "source": [
        "from sympy import Identity,MatrixSymbol\n",
        "from sympy.abc import i, j, k, l, N\n",
        "W = MatrixSymbol(\"W\", N, 1)\n",
        "K = MatrixSymbol(\"K\", N, 1)\n",
        "I1 = Identity(1)"
      ],
      "execution_count": null,
      "outputs": []
    },
    {
      "cell_type": "code",
      "metadata": {
        "id": "TzZqj0g99zG5",
        "colab_type": "code",
        "colab": {}
      },
      "source": [
        "dcv_dK = -(tau**2)*(I1 - K.T*W)*W.T + sig_k*K.T\n",
        "dcv_dW = -(tau**2)*(I1 - K.T*W)*K.T + sig_w*W.T"
      ],
      "execution_count": null,
      "outputs": []
    },
    {
      "cell_type": "code",
      "metadata": {
        "id": "Qaavjmkj_VAG",
        "colab_type": "code",
        "colab": {
          "base_uri": "https://localhost:8080/",
          "height": 38
        },
        "outputId": "ec7305fc-e424-4faa-d072-2908fae1b0a2"
      },
      "source": [
        "[dcv_dK, dcv_dW]"
      ],
      "execution_count": null,
      "outputs": [
        {
          "output_type": "display_data",
          "data": {
            "text/html": [
              "<script src='https://cdnjs.cloudflare.com/ajax/libs/mathjax/2.7.3/latest.js?config=default'></script>"
            ],
            "text/plain": [
              "<IPython.core.display.HTML object>"
            ]
          },
          "metadata": {
            "tags": []
          }
        },
        {
          "output_type": "execute_result",
          "data": {
            "text/latex": "$$\\left [ \\sigma_k K^T + - \\tau^{2} \\left(\\mathbb{I} + -1 K^T W\\right) W^T, \\quad \\sigma_w W^T + - \\tau^{2} \\left(\\mathbb{I} + -1 K^T W\\right) K^T\\right ]$$",
            "text/plain": [
              "⎡         T        2 ⎛      T  ⎞  T            T        2 ⎛      T  ⎞  T⎤\n",
              "⎣\\sigmaₖ⋅K  + -\\tau ⋅⎝I + -K ⋅W⎠⋅W , \\sigma_w⋅W  + -\\tau ⋅⎝I + -K ⋅W⎠⋅K ⎦"
            ]
          },
          "metadata": {
            "tags": []
          },
          "execution_count": 11
        }
      ]
    },
    {
      "cell_type": "markdown",
      "metadata": {
        "id": "C6jl7OTXMu72",
        "colab_type": "text"
      },
      "source": [
        "can tell that K and W are co-linear at the stationary points, so can say W = alpha*K and can assume that sigma_k = sigma_w"
      ]
    },
    {
      "cell_type": "code",
      "metadata": {
        "id": "eGE0jixbMkub",
        "colab_type": "code",
        "colab": {}
      },
      "source": [
        "subs = {tau:1,sig_k:sig,sig_w:sig}\n"
      ],
      "execution_count": null,
      "outputs": []
    },
    {
      "cell_type": "code",
      "metadata": {
        "id": "OHE35EI2-Ywr",
        "colab_type": "code",
        "colab": {}
      },
      "source": [
        "dcv_dK = dcv_dK.subs(subs)\n",
        "dcv_dW = dcv_dW.subs(subs)"
      ],
      "execution_count": null,
      "outputs": []
    },
    {
      "cell_type": "code",
      "metadata": {
        "id": "7HgExrjh-ggq",
        "colab_type": "code",
        "colab": {
          "base_uri": "https://localhost:8080/",
          "height": 38
        },
        "outputId": "bc510ce6-6711-42ce-bed0-9136deab9f9e"
      },
      "source": [
        "[dcv_dK, dcv_dW]"
      ],
      "execution_count": null,
      "outputs": [
        {
          "output_type": "display_data",
          "data": {
            "text/html": [
              "<script src='https://cdnjs.cloudflare.com/ajax/libs/mathjax/2.7.3/latest.js?config=default'></script>"
            ],
            "text/plain": [
              "<IPython.core.display.HTML object>"
            ]
          },
          "metadata": {
            "tags": []
          }
        },
        {
          "output_type": "execute_result",
          "data": {
            "text/latex": "$$\\left [ \\sigma K^T + -1 \\left(\\mathbb{I} + -1 K^T W\\right) W^T, \\quad \\sigma W^T + -1 \\left(\\mathbb{I} + -1 K^T W\\right) K^T\\right ]$$",
            "text/plain": [
              "⎡        T    ⎛      T  ⎞  T          T    ⎛      T  ⎞  T⎤\n",
              "⎣\\sigma⋅K  + -⎝I + -K ⋅W⎠⋅W , \\sigma⋅W  + -⎝I + -K ⋅W⎠⋅K ⎦"
            ]
          },
          "metadata": {
            "tags": []
          },
          "execution_count": 17
        }
      ]
    },
    {
      "cell_type": "code",
      "metadata": {
        "id": "_a9O2w0O-7_N",
        "colab_type": "code",
        "colab": {}
      },
      "source": [
        "subs2 = {W:alpha*K}\n",
        "dcv_dK = dcv_dK.subs(subs).subs(subs2)\n",
        "dcv_dW = dcv_dW.subs(subs).subs(subs2)"
      ],
      "execution_count": null,
      "outputs": []
    },
    {
      "cell_type": "code",
      "metadata": {
        "id": "7BIEDJyhDf_c",
        "colab_type": "code",
        "colab": {
          "base_uri": "https://localhost:8080/",
          "height": 47
        },
        "outputId": "97e4b5a2-03ec-4275-b583-a35572f41be2"
      },
      "source": [
        "[dcv_dK, dcv_dW]"
      ],
      "execution_count": null,
      "outputs": [
        {
          "output_type": "display_data",
          "data": {
            "text/html": [
              "<script src='https://cdnjs.cloudflare.com/ajax/libs/mathjax/2.7.3/latest.js?config=default'></script>"
            ],
            "text/plain": [
              "<IPython.core.display.HTML object>"
            ]
          },
          "metadata": {
            "tags": []
          }
        },
        {
          "output_type": "execute_result",
          "data": {
            "text/latex": "$$\\left [ \\sigma K^T + -1 \\left(\\mathbb{I} + -1 K^T \\alpha K\\right) \\left(\\alpha K\\right)^T, \\quad \\sigma \\left(\\alpha K\\right)^T + -1 \\left(\\mathbb{I} + -1 K^T \\alpha K\\right) K^T\\right ]$$",
            "text/plain": [
              "⎡        T    ⎛      T         ⎞           T                   T    ⎛      T  \n",
              "⎣\\sigma⋅K  + -⎝I + -K ⋅\\alpha⋅K⎠⋅(\\alpha⋅K) , \\sigma⋅(\\alpha⋅K)  + -⎝I + -K ⋅\\\n",
              "\n",
              "       ⎞  T⎤\n",
              "alpha⋅K⎠⋅K ⎦"
            ]
          },
          "metadata": {
            "tags": []
          },
          "execution_count": 21
        }
      ]
    },
    {
      "cell_type": "markdown",
      "metadata": {
        "id": "gycvd5IREQKS",
        "colab_type": "text"
      },
      "source": [
        "Setting both derivatives to 0 to find stationary points"
      ]
    },
    {
      "cell_type": "code",
      "metadata": {
        "id": "-k0DsIwsEOEB",
        "colab_type": "code",
        "colab": {
          "base_uri": "https://localhost:8080/",
          "height": 37
        },
        "outputId": "98a126b0-31b1-44e7-a66a-c258976ee97d"
      },
      "source": [
        "dcv_dK \n",
        "sym.solve(dcv_dK, alpha)"
      ],
      "execution_count": null,
      "outputs": [
        {
          "output_type": "display_data",
          "data": {
            "text/html": [
              "<script src='https://cdnjs.cloudflare.com/ajax/libs/mathjax/2.7.3/latest.js?config=default'></script>"
            ],
            "text/plain": [
              "<IPython.core.display.HTML object>"
            ]
          },
          "metadata": {
            "tags": []
          }
        },
        {
          "output_type": "execute_result",
          "data": {
            "text/latex": "$$\\left [ \\right ]$$",
            "text/plain": [
              "[]"
            ]
          },
          "metadata": {
            "tags": []
          },
          "execution_count": 33
        }
      ]
    },
    {
      "cell_type": "markdown",
      "metadata": {
        "id": "XmCiWP_BrSyq",
        "colab_type": "text"
      },
      "source": [
        "### Scratch Work"
      ]
    },
    {
      "cell_type": "code",
      "metadata": {
        "id": "43f4PyaTvfK5",
        "colab_type": "code",
        "colab": {
          "base_uri": "https://localhost:8080/",
          "height": 38
        },
        "outputId": "04c27d04-018e-4e67-ecd7-59716dd0feaa"
      },
      "source": [
        "[[de2_d2k, de2_dwdk], [de2_dkdw, de2_d2w]]"
      ],
      "execution_count": null,
      "outputs": [
        {
          "output_type": "display_data",
          "data": {
            "text/html": [
              "<script src='https://cdnjs.cloudflare.com/ajax/libs/mathjax/2.7.3/latest.js?config=default'></script>"
            ],
            "text/plain": [
              "<IPython.core.display.HTML object>"
            ]
          },
          "metadata": {
            "tags": []
          }
        },
        {
          "output_type": "execute_result",
          "data": {
            "text/latex": "$$\\left [ \\left [ \\sigma_k + \\tau^{2} w^{2}, \\quad \\tau^{2} k w - \\tau^{2} \\left(- k w + 1\\right)\\right ], \\quad \\left [ \\tau^{2} k w - \\tau^{2} \\left(- k w + 1\\right), \\quad \\sigma_w + \\tau^{2} k^{2}\\right ]\\right ]$$",
            "text/plain": [
              "⎡⎡              2  2      2           2           ⎤  ⎡    2           2       \n",
              "⎣⎣\\sigmaₖ + \\tau ⋅w , \\tau ⋅k⋅w - \\tau ⋅(-k⋅w + 1)⎦, ⎣\\tau ⋅k⋅w - \\tau ⋅(-k⋅w \n",
              "\n",
              "                     2  2⎤⎤\n",
              "+ 1), \\sigma_w + \\tau ⋅k ⎦⎦"
            ]
          },
          "metadata": {
            "tags": []
          },
          "execution_count": 25
        }
      ]
    },
    {
      "cell_type": "code",
      "metadata": {
        "id": "sI5MJycVxsYu",
        "colab_type": "code",
        "colab": {}
      },
      "source": [
        ""
      ],
      "execution_count": null,
      "outputs": []
    },
    {
      "cell_type": "code",
      "metadata": {
        "id": "o6KToE-2sNxX",
        "colab_type": "code",
        "colab": {
          "base_uri": "https://localhost:8080/",
          "height": 58
        },
        "outputId": "ea00b3b6-03f5-41b6-a966-9a5d7e6e3bb2"
      },
      "source": [
        "# Jacobian Matrix\n",
        "Jcb_e_scl = Matrix([de_dk, de_dw]).jacobian([k,w])\n",
        "Jcb_e_scl"
      ],
      "execution_count": null,
      "outputs": [
        {
          "output_type": "display_data",
          "data": {
            "text/html": [
              "<script src='https://cdnjs.cloudflare.com/ajax/libs/mathjax/2.7.3/latest.js?config=default'></script>"
            ],
            "text/plain": [
              "<IPython.core.display.HTML object>"
            ]
          },
          "metadata": {
            "tags": []
          }
        },
        {
          "output_type": "execute_result",
          "data": {
            "text/latex": "$$\\left[\\begin{matrix}\\sigma_k + \\tau^{2} w^{2} & \\tau^{2} k w - \\tau^{2} \\left(- k w + 1\\right)\\\\\\tau^{2} k w - \\tau^{2} \\left(- k w + 1\\right) & \\sigma_w + \\tau^{2} k^{2}\\end{matrix}\\right]$$",
            "text/plain": [
              "⎡                   2  2           2           2           ⎤\n",
              "⎢     \\sigmaₖ + \\tau ⋅w        \\tau ⋅k⋅w - \\tau ⋅(-k⋅w + 1)⎥\n",
              "⎢                                                          ⎥\n",
              "⎢    2           2                                2  2     ⎥\n",
              "⎣\\tau ⋅k⋅w - \\tau ⋅(-k⋅w + 1)      \\sigma_w + \\tau ⋅k      ⎦"
            ]
          },
          "metadata": {
            "tags": []
          },
          "execution_count": 26
        }
      ]
    },
    {
      "cell_type": "code",
      "metadata": {
        "id": "aP0zceKKu0jc",
        "colab_type": "code",
        "colab": {
          "base_uri": "https://localhost:8080/",
          "height": 67
        },
        "outputId": "f2b806d7-023f-4865-9a18-7e53a3f9b398"
      },
      "source": [
        "# Evals of jacobian\n",
        "Jcb_e_scl.eigenvals()"
      ],
      "execution_count": null,
      "outputs": [
        {
          "output_type": "display_data",
          "data": {
            "text/html": [
              "<script src='https://cdnjs.cloudflare.com/ajax/libs/mathjax/2.7.3/latest.js?config=default'></script>"
            ],
            "text/plain": [
              "<IPython.core.display.HTML object>"
            ]
          },
          "metadata": {
            "tags": []
          }
        },
        {
          "output_type": "execute_result",
          "data": {
            "text/latex": "$$\\left \\{ \\frac{\\sigma_k}{2} + \\frac{\\sigma_w}{2} + \\frac{\\tau^{2} k^{2}}{2} + \\frac{\\tau^{2} w^{2}}{2} - \\frac{1}{2} \\sqrt{\\sigma_k^{2} - 2 \\sigma_k \\sigma_w - 2 \\sigma_k \\tau^{2} k^{2} + 2 \\sigma_k \\tau^{2} w^{2} + \\sigma_w^{2} + 2 \\sigma_w \\tau^{2} k^{2} - 2 \\sigma_w \\tau^{2} w^{2} + \\tau^{4} k^{4} + 14 \\tau^{4} k^{2} w^{2} - 16 \\tau^{4} k w + \\tau^{4} w^{4} + 4 \\tau^{4}} : 1, \\quad \\frac{\\sigma_k}{2} + \\frac{\\sigma_w}{2} + \\frac{\\tau^{2} k^{2}}{2} + \\frac{\\tau^{2} w^{2}}{2} + \\frac{1}{2} \\sqrt{\\sigma_k^{2} - 2 \\sigma_k \\sigma_w - 2 \\sigma_k \\tau^{2} k^{2} + 2 \\sigma_k \\tau^{2} w^{2} + \\sigma_w^{2} + 2 \\sigma_w \\tau^{2} k^{2} - 2 \\sigma_w \\tau^{2} w^{2} + \\tau^{4} k^{4} + 14 \\tau^{4} k^{2} w^{2} - 16 \\tau^{4} k w + \\tau^{4} w^{4} + 4 \\tau^{4}} : 1\\right \\}$$",
            "text/plain": [
              "⎧                                              _______________________________\n",
              "⎪                         2  2       2  2     ╱        2                      \n",
              "⎨\\sigmaₖ   \\sigma_w   \\tau ⋅k    \\tau ⋅w    ╲╱  \\sigmaₖ  - 2⋅\\sigmaₖ⋅\\sigma_w \n",
              "⎪─────── + ──────── + ──────── + ──────── - ──────────────────────────────────\n",
              "⎩   2         2          2          2                                         \n",
              "\n",
              "______________________________________________________________________________\n",
              "                2  2                 2  2           2                  2  2   \n",
              "- 2⋅\\sigmaₖ⋅\\tau ⋅k  + 2⋅\\sigmaₖ⋅\\tau ⋅w  + \\sigma_w  + 2⋅\\sigma_w⋅\\tau ⋅k  - \n",
              "──────────────────────────────────────────────────────────────────────────────\n",
              "                                                               2              \n",
              "\n",
              "______________________________________________________________________________\n",
              "               2  2       4  4          4  2  2          4           4  4     \n",
              "2⋅\\sigma_w⋅\\tau ⋅w  + \\tau ⋅k  + 14⋅\\tau ⋅k ⋅w  - 16⋅\\tau ⋅k⋅w + \\tau ⋅w  + 4⋅\n",
              "──────────────────────────────────────────────────────────────────────────────\n",
              "                                                                              \n",
              "\n",
              "______                                                   _____________________\n",
              "    4                               2  2       2  2     ╱        2            \n",
              "\\tau       \\sigmaₖ   \\sigma_w   \\tau ⋅k    \\tau ⋅w    ╲╱  \\sigmaₖ  - 2⋅\\sigmaₖ\n",
              "──────: 1, ─────── + ──────── + ──────── + ──────── + ────────────────────────\n",
              "              2         2          2          2                               \n",
              "\n",
              "______________________________________________________________________________\n",
              "                          2  2                 2  2           2               \n",
              "⋅\\sigma_w - 2⋅\\sigmaₖ⋅\\tau ⋅k  + 2⋅\\sigmaₖ⋅\\tau ⋅w  + \\sigma_w  + 2⋅\\sigma_w⋅\\\n",
              "──────────────────────────────────────────────────────────────────────────────\n",
              "                                                                         2    \n",
              "\n",
              "______________________________________________________________________________\n",
              "   2  2                  2  2       4  4          4  2  2          4          \n",
              "tau ⋅k  - 2⋅\\sigma_w⋅\\tau ⋅w  + \\tau ⋅k  + 14⋅\\tau ⋅k ⋅w  - 16⋅\\tau ⋅k⋅w + \\ta\n",
              "──────────────────────────────────────────────────────────────────────────────\n",
              "                                                                              \n",
              "\n",
              "________________   ⎫\n",
              " 4  4         4    ⎪\n",
              "u ⋅w  + 4⋅\\tau     ⎬\n",
              "────────────────: 1⎪\n",
              "                   ⎭"
            ]
          },
          "metadata": {
            "tags": []
          },
          "execution_count": 27
        }
      ]
    },
    {
      "cell_type": "code",
      "metadata": {
        "id": "GJYrvnGT8msR",
        "colab_type": "code",
        "colab": {
          "base_uri": "https://localhost:8080/",
          "height": 54
        },
        "outputId": "612a44f4-fcc3-48bb-e657-9647cb96cc60"
      },
      "source": [
        "Jcb_e_scl.eigenvals().keys()"
      ],
      "execution_count": null,
      "outputs": [
        {
          "output_type": "execute_result",
          "data": {
            "text/plain": [
              "dict_keys([\\sigma_k/2 + \\sigma_w/2 + \\tau**2*k**2/2 + \\tau**2*w**2/2 - sqrt(\\sigma_k**2 - 2*\\sigma_k*\\sigma_w - 2*\\sigma_k*\\tau**2*k**2 + 2*\\sigma_k*\\tau**2*w**2 + \\sigma_w**2 + 2*\\sigma_w*\\tau**2*k**2 - 2*\\sigma_w*\\tau**2*w**2 + \\tau**4*k**4 + 14*\\tau**4*k**2*w**2 - 16*\\tau**4*k*w + \\tau**4*w**4 + 4*\\tau**4)/2, \\sigma_k/2 + \\sigma_w/2 + \\tau**2*k**2/2 + \\tau**2*w**2/2 + sqrt(\\sigma_k**2 - 2*\\sigma_k*\\sigma_w - 2*\\sigma_k*\\tau**2*k**2 + 2*\\sigma_k*\\tau**2*w**2 + \\sigma_w**2 + 2*\\sigma_w*\\tau**2*k**2 - 2*\\sigma_w*\\tau**2*w**2 + \\tau**4*k**4 + 14*\\tau**4*k**2*w**2 - 16*\\tau**4*k*w + \\tau**4*w**4 + 4*\\tau**4)/2])"
            ]
          },
          "metadata": {
            "tags": []
          },
          "execution_count": 28
        }
      ]
    },
    {
      "cell_type": "code",
      "metadata": {
        "id": "4kPTboTGsnSX",
        "colab_type": "code",
        "colab": {
          "base_uri": "https://localhost:8080/",
          "height": 47
        },
        "outputId": "291e181d-4403-4ee8-aa7f-5c0783a7a101"
      },
      "source": [
        "sym.solve(diff(e_scl,k),k)"
      ],
      "execution_count": null,
      "outputs": [
        {
          "output_type": "display_data",
          "data": {
            "text/html": [
              "<script src='https://cdnjs.cloudflare.com/ajax/libs/mathjax/2.7.3/latest.js?config=default'></script>"
            ],
            "text/plain": [
              "<IPython.core.display.HTML object>"
            ]
          },
          "metadata": {
            "tags": []
          }
        },
        {
          "output_type": "execute_result",
          "data": {
            "text/latex": "$$\\left [ \\frac{\\tau^{2} w}{\\sigma_k + \\tau^{2} w^{2}}\\right ]$$",
            "text/plain": [
              "⎡         2        ⎤\n",
              "⎢     \\tau ⋅w      ⎥\n",
              "⎢──────────────────⎥\n",
              "⎢              2  2⎥\n",
              "⎣\\sigmaₖ + \\tau ⋅w ⎦"
            ]
          },
          "metadata": {
            "tags": []
          },
          "execution_count": 29
        }
      ]
    },
    {
      "cell_type": "markdown",
      "metadata": {
        "id": "vQUpldYGu2zZ",
        "colab_type": "text"
      },
      "source": [
        ""
      ]
    },
    {
      "cell_type": "code",
      "metadata": {
        "id": "PNGMdddCa-oa",
        "colab_type": "code",
        "colab": {
          "base_uri": "https://localhost:8080/",
          "height": 37
        },
        "outputId": "8232f5b9-50a3-4597-c48c-e614c2b4e49d"
      },
      "source": [
        "Matrix([[k, w],[-w, k]]).eigenvals()\n",
        "Matrix([[0, 1],[-2, 3]]).eigenvals()"
      ],
      "execution_count": null,
      "outputs": [
        {
          "output_type": "display_data",
          "data": {
            "text/html": [
              "<script src='https://cdnjs.cloudflare.com/ajax/libs/mathjax/2.7.3/latest.js?config=default'></script>"
            ],
            "text/plain": [
              "<IPython.core.display.HTML object>"
            ]
          },
          "metadata": {
            "tags": []
          }
        },
        {
          "output_type": "execute_result",
          "data": {
            "text/latex": "$$\\left \\{ 1 : 1, \\quad 2 : 1\\right \\}$$",
            "text/plain": [
              "{1: 1, 2: 1}"
            ]
          },
          "metadata": {
            "tags": []
          },
          "execution_count": 30
        }
      ]
    },
    {
      "cell_type": "code",
      "metadata": {
        "id": "yVlVSqd_qctK",
        "colab_type": "code",
        "colab": {}
      },
      "source": [
        ""
      ],
      "execution_count": null,
      "outputs": []
    },
    {
      "cell_type": "code",
      "metadata": {
        "id": "tnrsWfDSszqo",
        "colab_type": "code",
        "colab": {
          "base_uri": "https://localhost:8080/",
          "height": 99
        },
        "outputId": "29aee77c-a7e5-4423-83ac-4f7691d394e2"
      },
      "source": [
        "sol = sym.solve([diff(e_scl,k),diff(e_scl,w)],[k,w])\n",
        "sol"
      ],
      "execution_count": null,
      "outputs": [
        {
          "output_type": "display_data",
          "data": {
            "text/html": [
              "<script src='https://cdnjs.cloudflare.com/ajax/libs/mathjax/2.7.3/latest.js?config=default'></script>"
            ],
            "text/plain": [
              "<IPython.core.display.HTML object>"
            ]
          },
          "metadata": {
            "tags": []
          }
        },
        {
          "output_type": "execute_result",
          "data": {
            "text/latex": "$$\\left [ \\left ( 0, \\quad 0\\right ), \\quad \\left ( - \\frac{\\sigma_w}{\\sigma_k \\tau^{2}} \\left(\\sigma_k + \\tau^{2} \\left(- \\frac{\\sqrt{\\sigma_k}}{\\sqrt{\\sigma_w}} - \\frac{\\sigma_k}{\\tau^{2}}\\right)\\right) \\sqrt{- \\frac{\\sqrt{\\sigma_k}}{\\sqrt{\\sigma_w}} - \\frac{\\sigma_k}{\\tau^{2}}}, \\quad - \\sqrt{- \\frac{\\sqrt{\\sigma_k}}{\\sqrt{\\sigma_w}} - \\frac{\\sigma_k}{\\tau^{2}}}\\right ), \\quad \\left ( \\frac{\\sigma_w}{\\sigma_k \\tau^{2}} \\left(\\sigma_k + \\tau^{2} \\left(- \\frac{\\sqrt{\\sigma_k}}{\\sqrt{\\sigma_w}} - \\frac{\\sigma_k}{\\tau^{2}}\\right)\\right) \\sqrt{- \\frac{\\sqrt{\\sigma_k}}{\\sqrt{\\sigma_w}} - \\frac{\\sigma_k}{\\tau^{2}}}, \\quad \\sqrt{- \\frac{\\sqrt{\\sigma_k}}{\\sqrt{\\sigma_w}} - \\frac{\\sigma_k}{\\tau^{2}}}\\right ), \\quad \\left ( - \\frac{\\sigma_w \\sqrt{\\frac{\\sqrt{\\sigma_k}}{\\sqrt{\\sigma_w}} - \\frac{\\sigma_k}{\\tau^{2}}}}{\\sigma_k \\tau^{2}} \\left(\\sigma_k + \\tau^{2} \\left(\\frac{\\sqrt{\\sigma_k}}{\\sqrt{\\sigma_w}} - \\frac{\\sigma_k}{\\tau^{2}}\\right)\\right), \\quad - \\sqrt{\\frac{\\sqrt{\\sigma_k}}{\\sqrt{\\sigma_w}} - \\frac{\\sigma_k}{\\tau^{2}}}\\right ), \\quad \\left ( \\frac{\\sigma_w \\sqrt{\\frac{\\sqrt{\\sigma_k}}{\\sqrt{\\sigma_w}} - \\frac{\\sigma_k}{\\tau^{2}}}}{\\sigma_k \\tau^{2}} \\left(\\sigma_k + \\tau^{2} \\left(\\frac{\\sqrt{\\sigma_k}}{\\sqrt{\\sigma_w}} - \\frac{\\sigma_k}{\\tau^{2}}\\right)\\right), \\quad \\sqrt{\\frac{\\sqrt{\\sigma_k}}{\\sqrt{\\sigma_w}} - \\frac{\\sigma_k}{\\tau^{2}}}\\right )\\right ]$$",
            "text/plain": [
              "⎡        ⎛                                                             _______\n",
              "⎢        ⎜          ⎛                ⎛    _________           ⎞⎞      ╱     __\n",
              "⎢        ⎜          ⎜              2 ⎜  ╲╱ \\sigmaₖ     \\sigmaₖ⎟⎟     ╱    ╲╱ \\\n",
              "⎢        ⎜-\\sigma_w⋅⎜\\sigmaₖ + \\tau ⋅⎜- ──────────── - ───────⎟⎟⋅   ╱   - ────\n",
              "⎢        ⎜          ⎜                ⎜    __________        2 ⎟⎟   ╱        __\n",
              "⎢        ⎜          ⎝                ⎝  ╲╱ \\sigma_w     \\tau  ⎠⎠ ╲╱       ╲╱ \\\n",
              "⎢(0, 0), ⎜────────────────────────────────────────────────────────────────────\n",
              "⎢        ⎜                                                 2                  \n",
              "⎣        ⎝                                     \\sigmaₖ⋅\\tau                   \n",
              "\n",
              "___________________                                    ⎞  ⎛                   \n",
              "_______                                                ⎟  ⎜         ⎛         \n",
              "sigmaₖ     \\sigmaₖ                                     ⎟  ⎜         ⎜         \n",
              "──────── - ───────           __________________________⎟  ⎜\\sigma_w⋅⎜\\sigmaₖ +\n",
              "________        2           ╱     _________            ⎟  ⎜         ⎜         \n",
              "sigma_w     \\tau           ╱    ╲╱ \\sigmaₖ     \\sigmaₖ ⎟  ⎜         ⎝         \n",
              "────────────────────, -   ╱   - ──────────── - ─────── ⎟, ⎜───────────────────\n",
              "                         ╱        __________        2  ⎟  ⎜                   \n",
              "                       ╲╱       ╲╱ \\sigma_w     \\tau   ⎠  ⎝                   \n",
              "\n",
              "                                         __________________________           \n",
              "       ⎛    _________           ⎞⎞      ╱     _________                       \n",
              "     2 ⎜  ╲╱ \\sigmaₖ     \\sigmaₖ⎟⎟     ╱    ╲╱ \\sigmaₖ     \\sigmaₖ            \n",
              " \\tau ⋅⎜- ──────────── - ───────⎟⎟⋅   ╱   - ──────────── - ───────         ___\n",
              "       ⎜    __________        2 ⎟⎟   ╱        __________        2         ╱   \n",
              "       ⎝  ╲╱ \\sigma_w     \\tau  ⎠⎠ ╲╱       ╲╱ \\sigma_w     \\tau         ╱    \n",
              "───────────────────────────────────────────────────────────────────,    ╱   - \n",
              "                             2                                         ╱      \n",
              "                 \\sigmaₖ⋅\\tau                                        ╲╱       \n",
              "\n",
              "                       ⎞  ⎛                                                   \n",
              "                       ⎟  ⎜          ⎛                ⎛  _________           ⎞\n",
              "                       ⎟  ⎜          ⎜              2 ⎜╲╱ \\sigmaₖ     \\sigmaₖ⎟\n",
              "_______________________⎟  ⎜-\\sigma_w⋅⎜\\sigmaₖ + \\tau ⋅⎜──────────── - ───────⎟\n",
              "  _________            ⎟  ⎜          ⎜                ⎜  __________        2 ⎟\n",
              "╲╱ \\sigmaₖ     \\sigmaₖ ⎟  ⎜          ⎝                ⎝╲╱ \\sigma_w     \\tau  ⎠\n",
              "──────────── - ─────── ⎟, ⎜───────────────────────────────────────────────────\n",
              "  __________        2  ⎟  ⎜                                               2   \n",
              "╲╱ \\sigma_w     \\tau   ⎠  ⎝                                   \\sigmaₖ⋅\\tau    \n",
              "\n",
              "        ________________________                                  ⎞  ⎛        \n",
              "⎞      ╱   _________                                              ⎟  ⎜        \n",
              "⎟     ╱  ╲╱ \\sigmaₖ     \\sigmaₖ                                   ⎟  ⎜        \n",
              "⎟⋅   ╱   ──────────── - ───────           ________________________⎟  ⎜\\sigma_w\n",
              "⎟   ╱      __________        2           ╱   _________            ⎟  ⎜        \n",
              "⎠ ╲╱     ╲╱ \\sigma_w     \\tau           ╱  ╲╱ \\sigmaₖ     \\sigmaₖ ⎟  ⎜        \n",
              "─────────────────────────────────, -   ╱   ──────────── - ─────── ⎟, ⎜────────\n",
              "                                      ╱      __________        2  ⎟  ⎜        \n",
              "                                    ╲╱     ╲╱ \\sigma_w     \\tau   ⎠  ⎝        \n",
              "\n",
              "                                                  ________________________    \n",
              " ⎛                ⎛  _________           ⎞⎞      ╱   _________                \n",
              " ⎜              2 ⎜╲╱ \\sigmaₖ     \\sigmaₖ⎟⎟     ╱  ╲╱ \\sigmaₖ     \\sigmaₖ     \n",
              "⋅⎜\\sigmaₖ + \\tau ⋅⎜──────────── - ───────⎟⎟⋅   ╱   ──────────── - ───────     \n",
              " ⎜                ⎜  __________        2 ⎟⎟   ╱      __________        2      \n",
              " ⎝                ⎝╲╱ \\sigma_w     \\tau  ⎠⎠ ╲╱     ╲╱ \\sigma_w     \\tau       \n",
              "──────────────────────────────────────────────────────────────────────────,   \n",
              "                                      2                                       \n",
              "                          \\sigmaₖ⋅\\tau                                      ╲╱\n",
              "\n",
              "                            ⎞⎤\n",
              "                            ⎟⎥\n",
              "                            ⎟⎥\n",
              "    ________________________⎟⎥\n",
              "   ╱   _________            ⎟⎥\n",
              "  ╱  ╲╱ \\sigmaₖ     \\sigmaₖ ⎟⎥\n",
              " ╱   ──────────── - ─────── ⎟⎥\n",
              "╱      __________        2  ⎟⎥\n",
              "     ╲╱ \\sigma_w     \\tau   ⎠⎦"
            ]
          },
          "metadata": {
            "tags": []
          },
          "execution_count": 31
        }
      ]
    },
    {
      "cell_type": "code",
      "metadata": {
        "id": "x-aopJE8t5n9",
        "colab_type": "code",
        "colab": {
          "base_uri": "https://localhost:8080/",
          "height": 164
        },
        "outputId": "96f63dfa-fafb-4c9a-ca74-dfd5a9e86606"
      },
      "source": [
        "sol[k]"
      ],
      "execution_count": null,
      "outputs": [
        {
          "output_type": "error",
          "ename": "TypeError",
          "evalue": "ignored",
          "traceback": [
            "\u001b[0;31m---------------------------------------------------------------------------\u001b[0m",
            "\u001b[0;31mTypeError\u001b[0m                                 Traceback (most recent call last)",
            "\u001b[0;32m<ipython-input-32-891bb2e67099>\u001b[0m in \u001b[0;36m<module>\u001b[0;34m()\u001b[0m\n\u001b[0;32m----> 1\u001b[0;31m \u001b[0msol\u001b[0m\u001b[0;34m[\u001b[0m\u001b[0mk\u001b[0m\u001b[0;34m]\u001b[0m\u001b[0;34m\u001b[0m\u001b[0;34m\u001b[0m\u001b[0m\n\u001b[0m",
            "\u001b[0;31mTypeError\u001b[0m: list indices must be integers or slices, not Symbol"
          ]
        }
      ]
    },
    {
      "cell_type": "code",
      "metadata": {
        "id": "KkgwCxswt1qw",
        "colab_type": "code",
        "colab": {}
      },
      "source": [
        "e_scl.subs(sol)"
      ],
      "execution_count": null,
      "outputs": []
    },
    {
      "cell_type": "code",
      "metadata": {
        "id": "LL9f_MX0uY5i",
        "colab_type": "code",
        "colab": {}
      },
      "source": [
        "e_scl.subs({k:sol[k]})"
      ],
      "execution_count": null,
      "outputs": []
    },
    {
      "cell_type": "code",
      "metadata": {
        "id": "GxeZlHubucch",
        "colab_type": "code",
        "colab": {}
      },
      "source": [
        "e_scl.subs({sig_k:sig,sig_w:sig,tau:1})"
      ],
      "execution_count": null,
      "outputs": []
    },
    {
      "cell_type": "code",
      "metadata": {
        "id": "IS6D0Drku5tG",
        "colab_type": "code",
        "colab": {}
      },
      "source": [
        "sym.diff?"
      ],
      "execution_count": null,
      "outputs": []
    },
    {
      "cell_type": "code",
      "metadata": {
        "id": "ShWT9vTCbXzg",
        "colab_type": "code",
        "colab": {}
      },
      "source": [
        "import numpy as np\n",
        "import matplotlib.pyplot as plt\n",
        "\n",
        "def g_w(w,k):\n",
        "  return w - 0.001*w - 0.1*w*k\n",
        "def g_k(w,k):\n",
        "  return k - 0.01*k +0.1*w*k\n",
        "\n",
        "w0 = 1.\n",
        "k0 = .5\n",
        "max_iter = int(1E3)\n",
        "\n",
        "w_ = np.zeros(max_iter) \n",
        "k_ = np.zeros(max_iter) \n",
        "w_[0] = w0\n",
        "k_[0] = k0\n",
        "for t in range(max_iter-1):\n",
        "  k_[t+1] = g_k(w_[t],k_[t])\n",
        "  w_[t+1] = g_w(w_[t],k_[t])\n",
        "\n",
        "plt.plot(w_)\n",
        "plt.plot(k_)\n"
      ],
      "execution_count": null,
      "outputs": []
    },
    {
      "cell_type": "code",
      "metadata": {
        "id": "5l7D8NSHbp9y",
        "colab_type": "code",
        "colab": {}
      },
      "source": [
        "w_"
      ],
      "execution_count": null,
      "outputs": []
    },
    {
      "cell_type": "code",
      "metadata": {
        "id": "b28BdyC_brOd",
        "colab_type": "code",
        "colab": {}
      },
      "source": [
        ""
      ],
      "execution_count": null,
      "outputs": []
    }
  ]
}